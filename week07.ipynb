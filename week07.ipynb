{
 "cells": [
  {
   "cell_type": "markdown",
   "id": "0f122ad5",
   "metadata": {},
   "source": [
    "### 함수\n",
    "1. 정의\n",
    "2. 인수\n",
    "3. 호출방식"
   ]
  },
  {
   "cell_type": "markdown",
   "id": "ac78bd6a",
   "metadata": {},
   "source": [
    "#### 1. 정의\n",
    "- 코드의 덩어리, 코드의 묶음\n",
    "- 간편한 재사용을 위해 한 줄로 재사용 가능하다\n",
    "- 정의(define) 부분 + 호출(call) 부분\n",
    "    - 정의하기\n",
    "    def 함수이름 (매개변수 1, 2, 3, ...):\n",
    "        - 수행문1(매개변수 이용)\n",
    "        - 수행문2\n",
    "        ....\n",
    "        return 반환값\n",
    "    - 호출하기\n",
    "    함수이름 (인수1, 2, 3, ...)\n",
    "   \n",
    "- 2 * 2 = 4\n",
    "    - 1. 둘 다 없는\n",
    "    - 2. 둘다 있는\n",
    "    - 3. 매개변수만 있는\n",
    "    - 4. 반환값만 있는"
   ]
  },
  {
   "cell_type": "code",
   "execution_count": 3,
   "id": "904d8867",
   "metadata": {},
   "outputs": [],
   "source": [
    "# x = 매개변수, y = 반환값, x + 1 수행문\n",
    "\n",
    "def ex(x):\n",
    "    y = x + 1\n",
    "    return y\n",
    "\n",
    "# def ex(x):\n",
    "#    return x + 1 \n",
    "# 간단한 함수라면 이렇게 바로 return 하도록 해서 더욱 짧게 만들 수 있다."
   ]
  },
  {
   "cell_type": "code",
   "execution_count": 1,
   "id": "28c879de",
   "metadata": {},
   "outputs": [],
   "source": [
    "def ex(x): # 둘 다 있는 2번 케이스\n",
    "    y = x + 1\n",
    "    return y"
   ]
  },
  {
   "cell_type": "code",
   "execution_count": 4,
   "id": "5c52d299",
   "metadata": {},
   "outputs": [
    {
     "name": "stdout",
     "output_type": "stream",
     "text": [
      "quack\n"
     ]
    }
   ],
   "source": [
    "def make_a_sound(): #1번케이스 / 매개변수, 반환값 둘 다 없는\n",
    "    print('quack')\n",
    "    # return None\n",
    "    \n",
    "make_a_sound()\n",
    "# print는 되지만 어떤 변수로 받아서 사용할 수는 없다."
   ]
  },
  {
   "cell_type": "code",
   "execution_count": 11,
   "id": "b1769979",
   "metadata": {},
   "outputs": [
    {
     "name": "stdout",
     "output_type": "stream",
     "text": [
      "yay\n"
     ]
    }
   ],
   "source": [
    "def make_a_sound(sound): #3번케이스 # sound = 매개변수, yay = 인수\n",
    "    print(sound)\n",
    "    # return None\n",
    "yay = 'yay'    \n",
    "make_a_sound(yay)"
   ]
  },
  {
   "cell_type": "code",
   "execution_count": 7,
   "id": "0755201c",
   "metadata": {},
   "outputs": [
    {
     "name": "stdout",
     "output_type": "stream",
     "text": [
      "Splendid\n"
     ]
    }
   ],
   "source": [
    "# 4번 케이스\n",
    "def agree():\n",
    "    return True\n",
    "\n",
    "if agree():\n",
    "    print('Splendid')\n",
    "else:\n",
    "    print('unexpected')"
   ]
  },
  {
   "cell_type": "markdown",
   "id": "3e9b8368",
   "metadata": {},
   "source": [
    "- 이름 짓기\n",
    "    - 소문자만 사용한다\n",
    "    - 동작과 관련되어 있기 때문에 '동사 + 명사'의 형태 주로 쓴다\n",
    "    - i.e., 클래스는 명사 (예시:: def split_word(): 명사만으로 구성되지 않도록\n",
    "    - 줄임말 쓰지 말 것, 명확하게\n",
    "        - 예시: splt_wrd  (안됨)\n",
    "        - 보편적인 것은 가능: calculate -> calc \n",
    "- "
   ]
  },
  {
   "cell_type": "markdown",
   "id": "f30a405d",
   "metadata": {},
   "source": [
    "#### 2. 인수\n",
    "- 매개변수 vs. 인수\n",
    "    - 매개변수: 함수 내(인터페이스)에서 유효한 변수\n",
    "    - 인수: 실제 매개변수에 대입되는 변수\n",
    "    - 호출 시에 인수가 매개변수에 복제된다 (yay -> sound)\n",
    "- 위치 인수 positional argument\n",
    "    - 매개변수를 순서에 따라 복제한다\n",
    "- 키워드 인수 keyword argument\n",
    "    - 매개변수 키워드에 맞는 인수로 지정. 위치 달라도 된다\n",
    "- 디폴트 인수 default argument\n",
    "    - 매개변수를 정의할 때 값을 미리 지정해놓는 것\n",
    "    - "
   ]
  },
  {
   "cell_type": "code",
   "execution_count": 12,
   "id": "ff492f75",
   "metadata": {},
   "outputs": [
    {
     "name": "stdout",
     "output_type": "stream",
     "text": [
      "yay\n"
     ]
    }
   ],
   "source": [
    "def make_a_sound(sound): #3번케이스 # sound = 매개변수, yay = 인수\n",
    "    print(sound)\n",
    "    # 인수 yay가 sound에 대입이 된다\n",
    "yay = 'yay'    \n",
    "make_a_sound(yay)"
   ]
  },
  {
   "cell_type": "code",
   "execution_count": 13,
   "id": "653b94ee",
   "metadata": {},
   "outputs": [
    {
     "data": {
      "text/plain": [
       "'black'"
      ]
     },
     "execution_count": 13,
     "metadata": {},
     "output_type": "execute_result"
    }
   ],
   "source": [
    "def commentary(color):\n",
    "    if color == 'g':\n",
    "        return 'green'\n",
    "    else:\n",
    "        return 'black'\n",
    "\n",
    "color = 'white'\n",
    "commentary(color)"
   ]
  },
  {
   "cell_type": "code",
   "execution_count": 14,
   "id": "4ddc5be6",
   "metadata": {},
   "outputs": [
    {
     "name": "stdout",
     "output_type": "stream",
     "text": [
      "green\n",
      "black\n",
      "black\n"
     ]
    }
   ],
   "source": [
    "colors = ['g', 'b', 't']\n",
    "for color in colors:\n",
    "    print(commentary(color))"
   ]
  },
  {
   "cell_type": "code",
   "execution_count": 22,
   "id": "794816fc",
   "metadata": {},
   "outputs": [
    {
     "data": {
      "text/plain": [
       "{'wine': 'a', 'entree': 'b', 'dessert': 'c'}"
      ]
     },
     "execution_count": 22,
     "metadata": {},
     "output_type": "execute_result"
    }
   ],
   "source": [
    "# 위치 인수\n",
    "def menu(wine, entree, dessert):\n",
    "    return {'wine':wine, 'entree':entree, 'dessert':dessert}\n",
    "menu('a', 'b', 'c')"
   ]
  },
  {
   "cell_type": "code",
   "execution_count": 24,
   "id": "6a32e566",
   "metadata": {},
   "outputs": [
    {
     "data": {
      "text/plain": [
       "{'wine': 'c', 'entree': 'a', 'dessert': 'b'}"
      ]
     },
     "execution_count": 24,
     "metadata": {},
     "output_type": "execute_result"
    }
   ],
   "source": [
    "# 키워드 인수\n",
    "menu(entree='a', dessert='b', wine='c')"
   ]
  },
  {
   "cell_type": "code",
   "execution_count": 30,
   "id": "7325ebde",
   "metadata": {},
   "outputs": [
    {
     "data": {
      "text/plain": [
       "{'wine': 'rioja', 'entree': 'egg', 'dessert': 'strawberry'}"
      ]
     },
     "execution_count": 30,
     "metadata": {},
     "output_type": "execute_result"
    }
   ],
   "source": [
    "# 디폴트 인수\n",
    "def menu2(wine, entree, dessert='strawberry'): \n",
    "    # 뒤에는 정의되어있고 앞에는 안되어있는건 되지만 반대로 앞은 정의되고 뒤는 안되어있는 건 안됨\n",
    "    return {'wine':wine, 'entree':entree, 'dessert':dessert}\n",
    "\n",
    "menu2('rioja', 'egg')"
   ]
  },
  {
   "cell_type": "code",
   "execution_count": 32,
   "id": "6d0ee317",
   "metadata": {},
   "outputs": [
    {
     "data": {
      "text/plain": [
       "{'wine': 'rioja', 'entree': 'egg', 'dessert': 'kiwi'}"
      ]
     },
     "execution_count": 32,
     "metadata": {},
     "output_type": "execute_result"
    }
   ],
   "source": [
    "menu2('rioja', 'egg', 'kiwi') # 넣으면 넣은 값이 나오고 안 넣으면 정해져있는 값이 나온다"
   ]
  },
  {
   "cell_type": "markdown",
   "id": "60b892f9",
   "metadata": {},
   "source": [
    "#### 3. 호출방식\n",
    "- 정의 부분은 호출 시 실행된다.\n",
    "- 메모리에 저장되어 있다가 호출 시에 사용되는 방식\n",
    "- 매개변수 vs 인수 \n",
    "    - 참조에 의한 호출(call by reference)\n",
    "    - '매개변수 = 인수' 로 copy 되기 때문에 나타나는 문제점\n",
    "        - 자료형이 리스트처럼 가변 객체일 때 주소값을 공유하므로 값이 변한다."
   ]
  },
  {
   "cell_type": "code",
   "execution_count": 143,
   "id": "3e9225c1",
   "metadata": {},
   "outputs": [
    {
     "name": "stdout",
     "output_type": "stream",
     "text": [
      "2\n",
      "3\n",
      "1\n"
     ]
    },
    {
     "data": {
      "text/plain": [
       "8"
      ]
     },
     "execution_count": 143,
     "metadata": {},
     "output_type": "execute_result"
    }
   ],
   "source": [
    "def multiply(x, y): #매개변수 x y\n",
    "    print('1') #순서 알기 위함\n",
    "    return x * y\n",
    "print('2')\n",
    "i = 2 #인수1\n",
    "j = 4 #인수2\n",
    "print('3')\n",
    "multiply(i, j) # i = 2, j = 4,-> x = i, y = j -> copy"
   ]
  },
  {
   "cell_type": "code",
   "execution_count": 41,
   "id": "5c151d51",
   "metadata": {},
   "outputs": [
    {
     "name": "stdout",
     "output_type": "stream",
     "text": [
      "['a']\n",
      "['b']\n"
     ]
    }
   ],
   "source": [
    "def buggy(arg, result=[]): \n",
    "    result = []#리셋된다\n",
    "    result.append(arg)\n",
    "    print(result)\n",
    "    \n",
    "a, b = 'a', 'b'\n",
    "buggy(a) # 예상값 ['a']\n",
    "buggy(b) # 예상값 ['b'], but result = [] 안해줬을 시 ['a', 'b']"
   ]
  },
  {
   "cell_type": "code",
   "execution_count": 49,
   "id": "9ebaa650",
   "metadata": {},
   "outputs": [
    {
     "name": "stdout",
     "output_type": "stream",
     "text": [
      "None\n"
     ]
    }
   ],
   "source": [
    "thing = None\n",
    "if thing:\n",
    "    print('True')\n",
    "elif thing == False:\n",
    "    print('False')\n",
    "else:\n",
    "    print('None')\n",
    "# none 타입은 true, false도 아니고 그냥 'None'이다"
   ]
  },
  {
   "cell_type": "code",
   "execution_count": 60,
   "id": "347b62dd",
   "metadata": {},
   "outputs": [],
   "source": [
    "# 둘다 조건식으로 포함하는 함수로 변경하기\n",
    "def nonbuggy(arg, result=[]): # 정의된 함수는 라인 내부에서만 유효함\n",
    "    # 리스트가 없으면(매개변수에 result라는게 타입이 없으면) 빈 리스트 생성하고, 있으면 그거 쓰기\n",
    "    if result is None:\n",
    "        result = []\n",
    "    result.append(arg)\n",
    "    print(result)"
   ]
  },
  {
   "cell_type": "code",
   "execution_count": 61,
   "id": "44f092de",
   "metadata": {},
   "outputs": [
    {
     "name": "stdout",
     "output_type": "stream",
     "text": [
      "['c', 'a']\n",
      "['c', 'a', 'b']\n"
     ]
    }
   ],
   "source": [
    "def nonbuggy(arg, result=None): \n",
    "    if result is None:\n",
    "        result = []\n",
    "    result.append(arg)\n",
    "    print(result)\n",
    "empty = ['c']\n",
    "nonbuggy(a, empty)\n",
    "nonbuggy(b, empty)"
   ]
  },
  {
   "cell_type": "code",
   "execution_count": 63,
   "id": "39d0a365",
   "metadata": {
    "scrolled": true
   },
   "outputs": [
    {
     "name": "stdout",
     "output_type": "stream",
     "text": [
      "london\n",
      "london\n"
     ]
    }
   ],
   "source": [
    "def fx():\n",
    "    global city # 전역 변수: 함수 내 말고 전체에 적용되는 것 global\n",
    "    city = 'london' # 지역 변수\n",
    "    print(city)\n",
    "city = 'paris'\n",
    "fx() # city = london\n",
    "print(city)"
   ]
  },
  {
   "cell_type": "code",
   "execution_count": 75,
   "id": "56bfeea2",
   "metadata": {},
   "outputs": [
    {
     "data": {
      "text/plain": [
       "'Seoul'"
      ]
     },
     "execution_count": 75,
     "metadata": {},
     "output_type": "execute_result"
    }
   ],
   "source": [
    "city #이때까지는 london 이었음\n",
    "city = 'Seoul'\n",
    "city"
   ]
  },
  {
   "cell_type": "code",
   "execution_count": 67,
   "id": "1f3173bc",
   "metadata": {},
   "outputs": [
    {
     "name": "stdout",
     "output_type": "stream",
     "text": [
      "london\n"
     ]
    }
   ],
   "source": [
    "fx()"
   ]
  },
  {
   "cell_type": "code",
   "execution_count": 74,
   "id": "354148c0",
   "metadata": {},
   "outputs": [
    {
     "name": "stdout",
     "output_type": "stream",
     "text": [
      "word\n"
     ]
    }
   ],
   "source": [
    "# 질문 \n",
    "def make_a_sound1(sound):\n",
    "    print(sound)\n",
    "    \n",
    "# 위의 것과    \n",
    "    \n",
    "def make_a_sound2(sound):\n",
    "    return sound\n",
    "# 위의 것의 차이\n",
    "\n",
    "word = make_a_sound2('word')\n",
    "word #'word'\n",
    "word = make_a_sound1('word')\n",
    "word # word"
   ]
  },
  {
   "cell_type": "markdown",
   "id": "105be5a4",
   "metadata": {},
   "source": [
    "#### doc string\n",
    "- 함수 설명\n",
    "- 매개변수 타입, 의미, 함수 기능\n",
    "- \"\"\"\n",
    "    독스트링\n",
    "  \"\"\""
   ]
  },
  {
   "cell_type": "code",
   "execution_count": 76,
   "id": "783672ea",
   "metadata": {},
   "outputs": [],
   "source": [
    "def buggy(arg, result=[]): \n",
    "    \"\"\"\n",
    "    arg: str, 꽃 이름\n",
    "    result: list, ~~~~\n",
    "    꽃 이름을 리스트에 추가한다.\n",
    "    \"\"\"\n",
    "    if arg == thing:\n",
    "        new_list = []\n",
    "        new_list.append(arg)\n",
    "    else:\n",
    "        result.append(arg)"
   ]
  },
  {
   "cell_type": "code",
   "execution_count": 77,
   "id": "b00fa7d4",
   "metadata": {},
   "outputs": [
    {
     "name": "stdout",
     "output_type": "stream",
     "text": [
      "Help on function buggy in module __main__:\n",
      "\n",
      "buggy(arg, result=[])\n",
      "    arg: str, 꽃 이름\n",
      "    result: list, ~~~~\n",
      "    꽃 이름을 리스트에 추가한다.\n",
      "\n"
     ]
    }
   ],
   "source": [
    "# 독스트링 확인\n",
    "help(buggy)"
   ]
  },
  {
   "cell_type": "code",
   "execution_count": 79,
   "id": "d02b5c67",
   "metadata": {},
   "outputs": [
    {
     "data": {
      "text/plain": [
       "'\\n    arg: str, 꽃 이름\\n    result: list, ~~~~\\n    꽃 이름을 리스트에 추가한다.\\n    '"
      ]
     },
     "execution_count": 79,
     "metadata": {},
     "output_type": "execute_result"
    }
   ],
   "source": [
    "buggy.__doc__"
   ]
  },
  {
   "cell_type": "markdown",
   "id": "4a19fc0c",
   "metadata": {},
   "source": [
    "# 나이를 입력받아 태어난 연도 계산하기\n",
    "# 함수: 입력값=나이, 반환=연도\n",
    "# 나이 = input으로 받기"
   ]
  },
  {
   "cell_type": "code",
   "execution_count": 91,
   "id": "46c11a26",
   "metadata": {},
   "outputs": [
    {
     "name": "stdout",
     "output_type": "stream",
     "text": [
      "나이: 23\n"
     ]
    },
    {
     "data": {
      "text/plain": [
       "2000"
      ]
     },
     "execution_count": 91,
     "metadata": {},
     "output_type": "execute_result"
    }
   ],
   "source": [
    "def calc_year(age):\n",
    "    this_year = 2022\n",
    "    return this_year - age + 1\n",
    "age = int(input(\"나이: \"))\n",
    "calc_year(age)"
   ]
  },
  {
   "cell_type": "markdown",
   "id": "623195eb",
   "metadata": {},
   "source": [
    "### 브라운 정제하기\n",
    "1. 문장 분절\n",
    "2. 단어 분절\n",
    "    c. 문장부호 제거\n",
    "    d. 하이픈, 's 제거\n",
    "3. 위의 것을 함수로 만들어라\n"
   ]
  },
  {
   "cell_type": "code",
   "execution_count": 93,
   "id": "3c9a9070",
   "metadata": {},
   "outputs": [
    {
     "name": "stderr",
     "output_type": "stream",
     "text": [
      "[nltk_data] Downloading package brown to\n",
      "[nltk_data]     C:\\Users\\perod\\AppData\\Roaming\\nltk_data...\n",
      "[nltk_data]   Package brown is already up-to-date!\n"
     ]
    }
   ],
   "source": [
    "import string\n",
    "import nltk\n",
    "nltk.download('brown')\n",
    "brown = nltk.corpus.brown\n",
    "romance = brown.raw(categories='romance')[:5000]\n"
   ]
  },
  {
   "cell_type": "code",
   "execution_count": 94,
   "id": "fa8990b2",
   "metadata": {
    "scrolled": true
   },
   "outputs": [
    {
     "data": {
      "text/plain": [
       "\"\\n\\n\\tThey/ppss neither/cc liked/vbd nor/cc disliked/vbd the/at Old/jj-tl Man/nn-tl ./.\\nTo/in them/ppo he/pps could/md have/hv been/ben the/at broken/vbn bell/nn in/in the/at church/nn tower/nn which/wdt rang/vbd before/in and/cc after/in Mass/nn-tl ,/, and/cc at/in noon/nn ,/, and/cc at/in six/cd each/dt evening/nn --/-- its/pp$ tone/nn ,/, repetitive/jj ,/, monotonous/jj ,/, never/rb breaking/vbg the/at boredom/nn of/in the/at streets/nns ./.\\nThe/at Old/jj-tl Man/nn-tl was/bedz unimportant/jj ./.\\n\\n\\n\\tYet/rb if/cs he/pps were/bed not/* there/rb ,/, they/ppss would/md have/hv missed/vbn him/ppo ,/, as/cs they/ppss would/md have/hv missed/vbn the/at sounds/nns of/in bees/nns buzzing/vbg against/in the/at screen/nn door/nn in/in early/jj June/np ;/. ;/.\\nor/cc the/at smell/nn of/in thick/jj tomato/nn paste/nn --/-- the/at ripe/jj smell/nn that/wps was/bedz both/abx sweet/jj and/cc sour/jj --/-- rising/vbg up/rp from/in aluminum/nn trays/nns wrapped/vbn in/in fly-dotted/jj cheesecloth/nn ./.\\nOr/cc the/at surging/vbg whirling/vbg sounds/nns of/in bats/nns at/in night/nn ,/, when/wrb their/pp$ black/jj bodies/nns dived/vbd into/in the/at blackness/nn above/in and/cc below/in the/at amber/jj street/nn lights/nns ./.\\nOr/cc the/at bay/nn of/in female/nn dogs/nns in/in heat/nn ./.\\n\\n\\n\\tThey/ppss never/rb called/vbd him/ppo by/in name/nn ,/, although/cs he/pps had/hvd one/pn ./.\\nFilippo/np Rossi/np ,/, that's/dt+bez what/wdt he/pps was/bedz called/vbn in/in the/at old/jj country/nn ;/. ;/.\\nbut/cc here/rb he/pps was/bedz just/rb Signore/np or/cc the/at Old/jj-tl Man/nn-tl ./.\\nBut/cc this/dt was/bedz not/* unusual/jj ,/, because/cs youth/nn in/in these/dts quarters/nns was/bedz always/rb pushed/vbn at/in a/at distance/nn from/in its/pp$ elders/nns ./.\\nYouth/nn obeyed/vbd when/wrb commanded/vbn ./.\\nIt/pps went/vbd to/in church/nn on/in Sunday/nr and/cc one/cd Saturday/nr a/at month/nn went/vbd to/in confession/nn ./.\\nBut/cc youth/nn asked/vbd nothing/pn of/in its/pp$ parents/nns --/-- not/* a/at touch/nn of/in the/at hand/nn or/cc a/at kiss/nn given/vbn in/in passing/vbg ./.\\n\\n\\n\\tThe/at only/ap thing/nn unusual/jj about/in the/at Old/jj-tl Man/nn-tl had/hvd long/jj since/rb happened/vbn ./.\\nBut/cc the/at past/nn was/bedz dead/jj here/rb as/cs the/at present/jj was/bedz dead/jj ./.\\nOnce/cs the/at Old/jj-tl Man/nn-tl had/hvd had/hvn a/at wife/nn ./.\\nAnd/cc once/cs she/pps ,/, too/rb ,/, ignored/vbd him/ppo ./.\\nWith/in a/at tiny/jj fur-piece/nn wrapped/vbd around/in her/pp$ shoulders/nns ,/, she/pps wiggled/vbd her/pp$ satin-covered/jj buttocks/nns down/in the/at street/nn before/in him/ppo and/cc didn't/dod* stop/vb ./.\\nIn/in one/cd hand/nn she/pps clutched/vbd a/at hundred/cd dollar/nn bill/nn and/cc in/in the/at other/ap a/at straw/nn suitcase/nn ./.\\nThe/at way/nn she/pps strutted/vbd down/in the/at street/nn ,/, the/at Old/jj-tl Man/nn-tl would/md have/hv been/ben blind/jj not/* to/to have/hv noticed/vbn both/abx ./.\\nWithout/in looking/vbg at/in him/ppo ,/, without/in looking/vbg at/in anything/pn except/in Drexel/np-tl Street/nn-tl directly/rb in/in front/nn of/in her/ppo ,/, she/pps climbed/vbd up/rp into/in one/cd of/in those/dts orange/jj streetcars/nns ,/, rode/vbd away/rb in/in it/ppo ,/, and/cc never/rb came/vbd back/rb ./.\\n\\n\\n\\t``/`` But/cc she/pps shouldn't/md* have/hv come/vbn here/rb in/in the/at first/od place/nn ''/'' ,/, the/at women/nns had/hvd said/vbn ./.\\n\\n\\n\\t``/`` No/rb ,/, no/rb ./.\\nNot/* that/dt one/pn ./.\\nShe/pps thought/vbd she/pps was/bedz bigger/jjr than/cs we/ppss are/ber because/cs she/pps came/vbd from/in Torino/np ''/'' ./.\\n\\n\\n\\t``/`` Eh/uh ,/, Torino/np !/. !/.\\nShe/pps gave/vbd herself/ppl fancy/jj airs/nns !/. !/.\\nJust/rb because/cs she/pps had/hvd a/at part/nn on/in the/at stage/nn in/in the/at old/jj country/nn ,/, she/pps thought/vbd she/pps could/md carry/vb her/pp$ head/nn higher/rbr than/cs ours/pp$$ ''/'' ./.\\nThey/ppss had/hvd slapped/vbn their/pp$ thighs/nns ./.\\n\\n\\n\\t``/`` It's/pps+bez not/* for/in making/vbg pretty/jj speeches/nns about/in Dante/np those/dts actresses/nns get/vb paid/vbn so/ql good/rb ''/'' ./.\\n\\n\\n\\t``/`` Henh/uh ''/'' !/. !/.\\nCalloused/vbn fingers/nns ,/, caressed/vbn only/rb by/in the/at smoothness/nn of/in polished/vbn rosaries/nns ,/, had/hvd swayed/vbn excitedly/rb beneath/in puckered/vbn chins/nns where/wrb tiny/jj black/jj hairs/nns sprouted/vbd ,/, never/rb to/to be/be tweezed/vbn away/rb ./.\\nMauve-colored/jj mouths/nns that/wps had/hvd never/rb known/vbn anything/pn sweeter/jjr than/cs the/at taste/nn of/in new/jj wine/nn and/cc the/at passion/nn of/in man's/nn$ tongue/nn had/hvd not/* smiled/vbn ,/, but/cc had/hvd condemned/vbn again/rb and/cc again/rb ./.\\n``/`` Puttana/fw-nn ''/'' !/. !/.\\n\\n\\n\\tBut/cc if/cs the/at Old/jj-tl Man/nn-tl even/rb thought/vbd about/in his/pp$ wife/nn now/rb ,/, nobody/pn cared/vbd a/at fig/nn ./.\\nIt/pps was/bedz enough/ap for/in people/nns to/to know/vb that/cs at/in one/cd time/nn he/pps had/hvd looked/vbn down/in the/at street/nn at/in the/at f\""
      ]
     },
     "execution_count": 94,
     "metadata": {},
     "output_type": "execute_result"
    }
   ],
   "source": [
    "romance"
   ]
  },
  {
   "cell_type": "code",
   "execution_count": 145,
   "id": "89275251",
   "metadata": {},
   "outputs": [
    {
     "name": "stdout",
     "output_type": "stream",
     "text": [
      "[['They', 'neither', 'liked', 'nor', 'disliked', 'the', 'Old', 'Man'], ['To', 'them', 'he', 'could', 'have', 'been', 'the', 'broken', 'bell', 'in', 'the', 'church', 'tower', 'which', 'rang', 'before', 'and', 'after', 'Mass', 'and', 'at', 'noon', 'and', 'at', 'six', 'each', 'evening', 'its', 'tone', 'repetitive', 'monotonous', 'never', 'breaking', 'the', 'boredom', 'of', 'the', 'streets'], ['The', 'Old', 'Man', 'was', 'unimportant'], ['Yet', 'if', 'he', 'were', 'not', 'there', 'they', 'would', 'have', 'missed', 'him', 'as', 'they', 'would', 'have', 'missed', 'the', 'sounds', 'of', 'bees', 'buzzing', 'against', 'the', 'screen', 'door', 'in', 'early', 'June'], [], ['or', 'the', 'smell', 'of', 'thick', 'tomato', 'paste', 'the', 'ripe', 'smell', 'that', 'was', 'both', 'sweet', 'and', 'sour', 'rising', 'up', 'from', 'aluminum', 'trays', 'wrapped', 'in', 'fly-dotted', 'cheesecloth'], ['Or', 'the', 'surging', 'whirling', 'sounds', 'of', 'bats', 'at', 'night', 'when', 'their', 'black', 'bodies', 'dived', 'into', 'the', 'blackness', 'above', 'and', 'below', 'the', 'amber', 'street', 'lights'], ['Or', 'the', 'bay', 'of', 'female', 'dogs', 'in', 'heat'], ['They', 'never', 'called', 'him', 'by', 'name', 'although', 'he', 'had', 'one'], ['Filippo', 'Rossi', \"that's\", 'what', 'he', 'was', 'called', 'in', 'the', 'old', 'country'], [], ['but', 'here', 'he', 'was', 'just', 'Signore', 'or', 'the', 'Old', 'Man'], ['But', 'this', 'was', 'not', 'unusual', 'because', 'youth', 'in', 'these', 'quarters', 'was', 'always', 'pushed', 'at', 'a', 'distance', 'from', 'its', 'elders'], ['Youth', 'obeyed', 'when', 'commanded'], ['It', 'went', 'to', 'church', 'on', 'Sunday', 'and', 'one', 'Saturday', 'a', 'month', 'went', 'to', 'confession'], ['But', 'youth', 'asked', 'nothing', 'of', 'its', 'parents', 'not', 'a', 'touch', 'of', 'the', 'hand', 'or', 'a', 'kiss', 'given', 'in', 'passing'], ['The', 'only', 'thing', 'unusual', 'about', 'the', 'Old', 'Man', 'had', 'long', 'since', 'happened'], ['But', 'the', 'past', 'was', 'dead', 'here', 'as', 'the', 'present', 'was', 'dead'], ['Once', 'the', 'Old', 'Man', 'had', 'had', 'a', 'wife'], ['And', 'once', 'she', 'too', 'ignored', 'him'], ['With', 'a', 'tiny', 'fur-piece', 'wrapped', 'around', 'her', 'shoulders', 'she', 'wiggled', 'her', 'satin-covered', 'buttocks', 'down', 'the', 'street', 'before', 'him', 'and', \"didn't\", 'stop'], ['In', 'one', 'hand', 'she', 'clutched', 'a', 'hundred', 'dollar', 'bill', 'and', 'in', 'the', 'other', 'a', 'straw', 'suitcase'], ['The', 'way', 'she', 'strutted', 'down', 'the', 'street', 'the', 'Old', 'Man', 'would', 'have', 'been', 'blind', 'not', 'to', 'have', 'noticed', 'both'], ['Without', 'looking', 'at', 'him', 'without', 'looking', 'at', 'anything', 'except', 'Drexel', 'Street', 'directly', 'in', 'front', 'of', 'her', 'she', 'climbed', 'up', 'into', 'one', 'of', 'those', 'orange', 'streetcars', 'rode', 'away', 'in', 'it', 'and', 'never', 'came', 'back'], ['But', 'she', \"shouldn't\", 'have', 'come', 'here', 'in', 'the', 'first', 'place', 'the', 'women', 'had', 'said'], ['No', 'no'], ['Not', 'that', 'one'], ['She', 'thought', 'she', 'was', 'bigger', 'than', 'we', 'are', 'because', 'she', 'came', 'from', 'Torino'], ['Eh', 'Torino'], ['She', 'gave', 'herself', 'fancy', 'airs'], ['Just', 'because', 'she', 'had', 'a', 'part', 'on', 'the', 'stage', 'in', 'the', 'old', 'country', 'she', 'thought', 'she', 'could', 'carry', 'her', 'head', 'higher', 'than', 'ours'], ['They', 'had', 'slapped', 'their', 'thighs'], [\"It's\", 'not', 'for', 'making', 'pretty', 'speeches', 'about', 'Dante', 'those', 'actresses', 'get', 'paid', 'so', 'good'], ['Henh'], ['Calloused', 'fingers', 'caressed', 'only', 'by', 'the', 'smoothness', 'of', 'polished', 'rosaries', 'had', 'swayed', 'excitedly', 'beneath', 'puckered', 'chins', 'where', 'tiny', 'black', 'hairs', 'sprouted', 'never', 'to', 'be', 'tweezed', 'away'], ['Mauve-colored', 'mouths', 'that', 'had', 'never', 'known', 'anything', 'sweeter', 'than', 'the', 'taste', 'of', 'new', 'wine', 'and', 'the', 'passion', 'of', \"man's\", 'tongue', 'had', 'not', 'smiled', 'but', 'had', 'condemned', 'again', 'and', 'again'], ['Puttana'], ['But', 'if', 'the', 'Old', 'Man', 'even', 'thought', 'about', 'his', 'wife', 'now', 'nobody', 'cared', 'a', 'fig'], ['It', 'was', 'enough', 'for', 'people', 'to', 'know', 'that', 'at', 'one', 'time', 'he', 'had', 'looked', 'down', 'the', 'street', 'at', 'the', 'f']]\n"
     ]
    }
   ],
   "source": [
    "### 1. 문장 분절\n",
    "# [sent.replace('!', './.').strip() for sent in romance.split('./.')] # 먼저 느낌표를 온점으로 바꾼 후 온점 삭제\n",
    "sentences = [sent.strip() for sent in romance.split('/.')]\n",
    "sentences = [s for s in sentences if s != '!']\n",
    "            # sent.strip() = 공백 삭제   # '/.' -> 느낌표 처리 가능 (!를 문장에서 제외)\n",
    "    \n",
    "example = sentences[0]\n",
    "[word[:word.find('/')] if word[:word.find('/')] else word for word in example.split()]    \n",
    "    # POS 제거 한줄만\n",
    "    \n",
    "SLASH = '/'\n",
    "\n",
    "sentence_tokens = [[word[:word.find(SLASH)] \\\n",
    "     if word[:word.find(SLASH)] else word \\\n",
    "         for word in example.split()] for example in sentences]\n",
    "    # 전체문장 POS 제거 적용 # punctuation이면 버려라 \n",
    "\n",
    "#### 2. punctuations 제거\n",
    "punct = list(string.punctuation)\n",
    "my_punct = set([word for sent in sentence_tokens for word in sent if not word[0].isalnum() and word not in punct])\n",
    "sentence_tokens = [[word for word in sent if word not in punct] for sent in sentence_tokens]\n",
    "punct.extend(list(my_punct)) # punct 포함된 단어들도 걸러진다\n",
    "clean_sent_tokens = [[word for word in sent if word not in punct] for sent in sentence_tokens]\n",
    "print(clean_sent_tokens)"
   ]
  },
  {
   "cell_type": "code",
   "execution_count": 4,
   "id": "a74ca520",
   "metadata": {},
   "outputs": [],
   "source": [
    "# punctuation 골라내는 방법\n",
    "# fly-dotted의 '-', didn't의 '\\'' 살리면서 골라내기\n",
    "# word[0].isalnum() 사용\n",
    "\n",
    "#[[word for word in sent \n",
    "#  if word[0].isalnum() and word not in punct] \n",
    "# for sent in sentences_tokens][0]"
   ]
  },
  {
   "cell_type": "code",
   "execution_count": 106,
   "id": "19a3f8a1",
   "metadata": {},
   "outputs": [
    {
     "data": {
      "text/plain": [
       "['``/`` Eh/uh ,/, Torino/np !',\n",
       " 'She/pps gave/vbd herself/ppl fancy/jj airs/nns !',\n",
       " \"``/`` Henh/uh ''/'' !\",\n",
       " \"``/`` Puttana/fw-nn ''/'' !\"]"
      ]
     },
     "execution_count": 106,
     "metadata": {},
     "output_type": "execute_result"
    }
   ],
   "source": [
    "[s for s in sentences if '!' in s if s != '!']"
   ]
  },
  {
   "cell_type": "code",
   "execution_count": 110,
   "id": "f1ea459d",
   "metadata": {},
   "outputs": [
    {
     "data": {
      "text/plain": [
       "['They', 'neither', 'liked', 'nor', 'disliked', 'the', 'Old', 'Man', '.']"
      ]
     },
     "execution_count": 110,
     "metadata": {},
     "output_type": "execute_result"
    }
   ],
   "source": [
    "example = sentences[0]\n",
    "[word[:word.find('/')] if word[:word.find('/')] else word for word in example.split()]"
   ]
  },
  {
   "cell_type": "code",
   "execution_count": 140,
   "id": "8bd99aa7",
   "metadata": {},
   "outputs": [
    {
     "data": {
      "text/plain": [
       "('she', \"'s\")"
      ]
     },
     "execution_count": 140,
     "metadata": {},
     "output_type": "execute_result"
    }
   ],
   "source": [
    "# 하이픈 ex. fur-piece\n",
    "'fur-piece'.split('-') # extend\n",
    "\n",
    "#아퍼스트로피 's\n",
    "word = 'she\\'s'\n",
    "index = word.find('\\'')\n",
    "word[:index], word[index:]\n",
    "\n",
    "# word'word (해리포터 문제)\n",
    "    # 's, 'nt, 'd -> 조건1\n",
    "    # 나머지는 그냥 붙인다"
   ]
  },
  {
   "cell_type": "code",
   "execution_count": 141,
   "id": "a655af66",
   "metadata": {},
   "outputs": [
    {
     "ename": "SyntaxError",
     "evalue": "invalid syntax (Temp/ipykernel_14400/864727580.py, line 1)",
     "output_type": "error",
     "traceback": [
      "\u001b[1;36m  File \u001b[1;32m\"C:\\Users\\perod\\AppData\\Local\\Temp/ipykernel_14400/864727580.py\"\u001b[1;36m, line \u001b[1;32m1\u001b[0m\n\u001b[1;33m    for word\u001b[0m\n\u001b[1;37m            ^\u001b[0m\n\u001b[1;31mSyntaxError\u001b[0m\u001b[1;31m:\u001b[0m invalid syntax\n"
     ]
    }
   ],
   "source": [
    "for word\n",
    "    list_sent.extend()"
   ]
  },
  {
   "cell_type": "code",
   "execution_count": 6,
   "id": "da905f70",
   "metadata": {},
   "outputs": [
    {
     "ename": "SyntaxError",
     "evalue": "invalid syntax (Temp/ipykernel_19392/3171201626.py, line 8)",
     "output_type": "error",
     "traceback": [
      "\u001b[1;36m  File \u001b[1;32m\"C:\\Users\\perod\\AppData\\Local\\Temp/ipykernel_19392/3171201626.py\"\u001b[1;36m, line \u001b[1;32m8\u001b[0m\n\u001b[1;33m    print(tokenize_word(example))\u001b[0m\n\u001b[1;37m    ^\u001b[0m\n\u001b[1;31mSyntaxError\u001b[0m\u001b[1;31m:\u001b[0m invalid syntax\n"
     ]
    }
   ],
   "source": [
    "# 함수로: 문장이 들어왔을 때 POS 제거하고, punct 제거하고, 토큰 리스트로 반환한다\n",
    "def tokenize_word(text):\n",
    "    token_list = text\n",
    "    return token_list\n",
    "\n",
    "[word[:word.find('/')] if word[:word.find('/')] else word for word\n",
    "\n",
    "print(tokenize_word(example))"
   ]
  },
  {
   "cell_type": "code",
   "execution_count": null,
   "id": "3207b21f",
   "metadata": {},
   "outputs": [],
   "source": []
  }
 ],
 "metadata": {
  "kernelspec": {
   "display_name": "Python 3 (ipykernel)",
   "language": "python",
   "name": "python3"
  },
  "language_info": {
   "codemirror_mode": {
    "name": "ipython",
    "version": 3
   },
   "file_extension": ".py",
   "mimetype": "text/x-python",
   "name": "python",
   "nbconvert_exporter": "python",
   "pygments_lexer": "ipython3",
   "version": "3.9.7"
  }
 },
 "nbformat": 4,
 "nbformat_minor": 5
}
