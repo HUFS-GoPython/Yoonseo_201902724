{
 "cells": [
  {
   "cell_type": "markdown",
   "id": "9359848b",
   "metadata": {},
   "source": [
    "### 파일과 디렉터리\n",
    "- 디렉터리: 폴더의 다른 말. 파일이 논리적으로 묶인 단위\n",
    "- 파일: 컴퓨터를 실행하는 기본 단위\n",
    "    - 파일명 + 확장자\n",
    "    - 확장자: 파일의 쓰임을 구분하는 글자\n",
    "        - pdf, xlsx, txt, jpg, ...\n",
    "    - 종류: 바이너리 파일, 텍스트 파일\n",
    "        - 바이너리: 이진 정보로 되어있는 파일\n",
    "            - 내용을 확인할 수 없음\n",
    "            - 해당 확장자를 열 수 있는 프로그램이 필요함.\n",
    "        - 텍스트파일: 사람이 이해할 수 있는 문자열로 저장됨\n",
    "            - 메모장, html, py, ...\n",
    "            - 문자열로 변경 기준: 아스키코드, 유니코드 등\n",
    "            - 표준을 맞춰 저장하는 것 '인코딩'\n",
    "            - UTF-8, cp94 등\n"
   ]
  },
  {
   "cell_type": "markdown",
   "id": "8b3f405f",
   "metadata": {},
   "source": [
    "### 파일 열기\n",
    "- open(파일명, 모드)\n",
    "- 모드:\n",
    "    - r read 읽기 (default)\n",
    "    - w write 파일이 있으면 덮어쓰고 없으면 생성\n",
    "    - x 파일이 없을 때만 생성\n",
    "    - a append 파일이 존재할 때 마지막 라인에 추가\n",
    "    - b binary\n",
    "    - t text (default)\n",
    "    r+b = rb, r+t = rt"
   ]
  },
  {
   "cell_type": "code",
   "execution_count": 16,
   "id": "f9c24b1a",
   "metadata": {},
   "outputs": [
    {
     "data": {
      "text/plain": [
       "31"
      ]
     },
     "execution_count": 16,
     "metadata": {},
     "output_type": "execute_result"
    }
   ],
   "source": [
    "file = 'test.txt'\n",
    "f = open(file, 'w')\n",
    "f.write(\"hello world\\nI'm reading a book.\")"
   ]
  },
  {
   "cell_type": "markdown",
   "id": "2b5632e9",
   "metadata": {},
   "source": [
    "### 파일 읽기\n",
    "- read(): 전체를 하나의 srt\n",
    "- readline(): 한줄만 str\n",
    "- readlines(): 전체를 리스트로 각 줄이 한 str"
   ]
  },
  {
   "cell_type": "code",
   "execution_count": 5,
   "id": "78710d43",
   "metadata": {},
   "outputs": [
    {
     "data": {
      "text/plain": [
       "''"
      ]
     },
     "execution_count": 5,
     "metadata": {},
     "output_type": "execute_result"
    }
   ],
   "source": [
    "f.read(5) #몇개까지 읽을 건지 "
   ]
  },
  {
   "cell_type": "code",
   "execution_count": 17,
   "id": "c7ab8f50",
   "metadata": {},
   "outputs": [],
   "source": [
    "f.close()"
   ]
  },
  {
   "cell_type": "code",
   "execution_count": 19,
   "id": "89a846c5",
   "metadata": {},
   "outputs": [],
   "source": [
    "f = open(file, 'r')\n",
    "sents = f.readline()\n",
    "sents = [s.strip() for s in sents] #텍스트 정제\n",
    "f.close() # 닫았지만"
   ]
  },
  {
   "cell_type": "code",
   "execution_count": 20,
   "id": "50c53816",
   "metadata": {},
   "outputs": [
    {
     "data": {
      "text/plain": [
       "['h', 'e', 'l', 'l', 'o', '', 'w', 'o', 'r', 'l', 'd', '']"
      ]
     },
     "execution_count": 20,
     "metadata": {},
     "output_type": "execute_result"
    }
   ],
   "source": [
    "sents #이건 계속 유효"
   ]
  },
  {
   "cell_type": "markdown",
   "id": "e78178c9",
   "metadata": {},
   "source": [
    "### 파일 닫기\n",
    "- 파일 여는 즉시 닫기\n",
    "- 지원 해제"
   ]
  },
  {
   "cell_type": "code",
   "execution_count": 21,
   "id": "b4fe41bb",
   "metadata": {},
   "outputs": [],
   "source": [
    "with open(file, 'r') as f:\n",
    "    # open()이 적용 되는 블럭\n",
    "    content = f.read()\n",
    "# 들여쓰기 지우면 자동으로 파일이 닫힌다 \n"
   ]
  },
  {
   "cell_type": "code",
   "execution_count": 22,
   "id": "2620fe72",
   "metadata": {},
   "outputs": [
    {
     "data": {
      "text/plain": [
       "\"hello world\\nI'm reading a book.\""
      ]
     },
     "execution_count": 22,
     "metadata": {},
     "output_type": "execute_result"
    }
   ],
   "source": [
    "content"
   ]
  },
  {
   "cell_type": "code",
   "execution_count": null,
   "id": "f13cf01f",
   "metadata": {},
   "outputs": [],
   "source": [
    "# readline으로 파일 읽는데, while문으로 한 줄씩 읽기"
   ]
  },
  {
   "cell_type": "code",
   "execution_count": 38,
   "id": "b3090405",
   "metadata": {},
   "outputs": [
    {
     "data": {
      "text/plain": [
       "['hello world', \"I'm reading a book.\"]"
      ]
     },
     "execution_count": 38,
     "metadata": {},
     "output_type": "execute_result"
    }
   ],
   "source": [
    "k = []\n",
    "with open(file, 'r') as f:\n",
    "    while file:\n",
    "        line = f.readline()\n",
    "        if not line:\n",
    "            break\n",
    "        sent = line.strip()\n",
    "        k.append(sent)\n",
    "k"
   ]
  },
  {
   "cell_type": "code",
   "execution_count": 36,
   "id": "9d356c93",
   "metadata": {},
   "outputs": [
    {
     "data": {
      "text/plain": [
       "[]"
      ]
     },
     "execution_count": 36,
     "metadata": {},
     "output_type": "execute_result"
    }
   ],
   "source": [
    "line"
   ]
  },
  {
   "cell_type": "markdown",
   "id": "74a87d2c",
   "metadata": {},
   "source": [
    "### 경로가 달라질 떄\n",
    "- . : 현재 경로\n",
    "- .. : 상위 경로"
   ]
  },
  {
   "cell_type": "code",
   "execution_count": null,
   "id": "7b93e668",
   "metadata": {},
   "outputs": [],
   "source": [
    "file = './folder/test.txt'\n",
    "with open(file) as f:\n",
    "    print(f.read())"
   ]
  },
  {
   "cell_type": "markdown",
   "id": "60ca4af5",
   "metadata": {},
   "source": [
    "### 쓰기\n",
    "- 인코딩 조심"
   ]
  },
  {
   "cell_type": "code",
   "execution_count": 41,
   "id": "dd73a63d",
   "metadata": {},
   "outputs": [],
   "source": [
    "data = list(range(10))\n",
    "with open('test2.txt', 'w', encoding = 'utf-8') as f:\n",
    "    for i in range(10):\n",
    "        data = f'{i}번째 줄입니다.\\n'\n",
    "        f.write(data)"
   ]
  },
  {
   "cell_type": "code",
   "execution_count": 44,
   "id": "16ca8cb7",
   "metadata": {},
   "outputs": [],
   "source": [
    "file_out = open('test2.txt', 'a', encoding='utf-8')\n",
    "print('한 줄 추가했습니다.', file=file_out)\n",
    "file_out.close()"
   ]
  },
  {
   "cell_type": "code",
   "execution_count": 46,
   "id": "4744390d",
   "metadata": {},
   "outputs": [],
   "source": [
    "# 파이썬에서 폴더를 직접 만들어 추가하는 방법\n",
    "import os\n",
    "os.mkdir('abc') #make directory #없으면 만들고 있으면 해당 폴더 열기"
   ]
  },
  {
   "cell_type": "code",
   "execution_count": null,
   "id": "4b652ec6",
   "metadata": {},
   "outputs": [],
   "source": [
    "# 있는지 확인하기\n",
    "os.isdir('abc')"
   ]
  },
  {
   "cell_type": "code",
   "execution_count": 54,
   "id": "3561b1c9",
   "metadata": {},
   "outputs": [
    {
     "ename": "AttributeError",
     "evalue": "module 'os' has no attribute 'isdir'",
     "output_type": "error",
     "traceback": [
      "\u001b[1;31m---------------------------------------------------------------------------\u001b[0m",
      "\u001b[1;31mAttributeError\u001b[0m                            Traceback (most recent call last)",
      "\u001b[1;32m~\\AppData\\Local\\Temp/ipykernel_7700/4168463413.py\u001b[0m in \u001b[0;36m<module>\u001b[1;34m\u001b[0m\n\u001b[1;32m----> 1\u001b[1;33m \u001b[1;32mif\u001b[0m \u001b[1;32mnot\u001b[0m \u001b[0mos\u001b[0m\u001b[1;33m.\u001b[0m\u001b[0misdir\u001b[0m\u001b[1;33m(\u001b[0m\u001b[1;34m'abc'\u001b[0m\u001b[1;33m)\u001b[0m\u001b[1;33m:\u001b[0m\u001b[1;33m\u001b[0m\u001b[1;33m\u001b[0m\u001b[0m\n\u001b[0m\u001b[0;32m      2\u001b[0m     \u001b[0mos\u001b[0m\u001b[1;33m.\u001b[0m\u001b[0mmkdir\u001b[0m\u001b[1;33m(\u001b[0m\u001b[0mpath\u001b[0m\u001b[1;33m)\u001b[0m\u001b[1;33m\u001b[0m\u001b[1;33m\u001b[0m\u001b[0m\n\u001b[0;32m      3\u001b[0m \u001b[0mdir_name\u001b[0m \u001b[1;33m=\u001b[0m \u001b[0mos\u001b[0m\u001b[1;33m.\u001b[0m\u001b[0mpath\u001b[0m\u001b[1;33m.\u001b[0m\u001b[0mjoin\u001b[0m\u001b[1;33m(\u001b[0m\u001b[0mpath\u001b[0m\u001b[1;33m,\u001b[0m \u001b[1;34m'test2.txt'\u001b[0m\u001b[1;33m)\u001b[0m \u001b[1;31m#'./abc/test2.txt'\u001b[0m\u001b[1;33m\u001b[0m\u001b[1;33m\u001b[0m\u001b[0m\n\u001b[0;32m      4\u001b[0m \u001b[1;33m\u001b[0m\u001b[0m\n\u001b[0;32m      5\u001b[0m \u001b[1;31m#재확인\u001b[0m\u001b[1;33m\u001b[0m\u001b[1;33m\u001b[0m\u001b[0m\n",
      "\u001b[1;31mAttributeError\u001b[0m: module 'os' has no attribute 'isdir'"
     ]
    }
   ],
   "source": [
    "if not os.isdir('abc'):\n",
    "    os.mkdir(path)\n",
    "dir_name = os.path.join(path, 'test2.txt') #'./abc/test2.txt'\n",
    "\n",
    "#재확인\n",
    "if not os.path.exists(dir_name):\n",
    "    with open(dir_name, 'w') as f: #덮어쓰게 되는 위험 없음        \n",
    "        pass"
   ]
  },
  {
   "cell_type": "code",
   "execution_count": null,
   "id": "b8e772be",
   "metadata": {},
   "outputs": [],
   "source": [
    "os.remove(file_name)\n",
    "os.rmdir(dir_name) #폴더 삭제. #폴더 안에 파일이 있으면 폴더 삭제 불가\n",
    "import shutil\n",
    "shutil.rmtree(dir_name) #강제로 전부 삭제"
   ]
  },
  {
   "cell_type": "code",
   "execution_count": null,
   "id": "0b069259",
   "metadata": {},
   "outputs": [],
   "source": [
    "# foler 새로 만들어서\n",
    "# 파일에 내용 쓰기\n",
    "# 파일 열기"
   ]
  },
  {
   "cell_type": "code",
   "execution_count": 56,
   "id": "b8c55391",
   "metadata": {},
   "outputs": [],
   "source": [
    "os.getcwd()\n",
    "os.chdir('..')"
   ]
  },
  {
   "cell_type": "markdown",
   "id": "367916fe",
   "metadata": {},
   "source": [
    "### pickle\n",
    "- 객체를 파일로 저장하는 기능 제공\n",
    "- "
   ]
  },
  {
   "cell_type": "code",
   "execution_count": 59,
   "id": "d8c52c5e",
   "metadata": {},
   "outputs": [],
   "source": [
    "import pickle\n",
    "with open('test.pickle', 'wb') as f: #바이너리로 작성해야 함\n",
    "    pickle.dump(nums, f) #넘길 떄 dump"
   ]
  },
  {
   "cell_type": "code",
   "execution_count": 57,
   "id": "078cf15a",
   "metadata": {},
   "outputs": [
    {
     "data": {
      "text/plain": [
       "[0, 1, 2, 3, 4, 5, 6, 7, 8, 9]"
      ]
     },
     "execution_count": 57,
     "metadata": {},
     "output_type": "execute_result"
    }
   ],
   "source": [
    "nums = list(range(10))\n",
    "nums"
   ]
  },
  {
   "cell_type": "code",
   "execution_count": 60,
   "id": "2b745329",
   "metadata": {},
   "outputs": [],
   "source": [
    "with open('test.pickle', 'rb') as f:\n",
    "    number = pickle.load(f)"
   ]
  },
  {
   "cell_type": "code",
   "execution_count": 61,
   "id": "192c6597",
   "metadata": {},
   "outputs": [
    {
     "data": {
      "text/plain": [
       "[0, 1, 2, 3, 4, 5, 6, 7, 8, 9]"
      ]
     },
     "execution_count": 61,
     "metadata": {},
     "output_type": "execute_result"
    }
   ],
   "source": [
    "number"
   ]
  }
 ],
 "metadata": {
  "kernelspec": {
   "display_name": "Python 3 (ipykernel)",
   "language": "python",
   "name": "python3"
  },
  "language_info": {
   "codemirror_mode": {
    "name": "ipython",
    "version": 3
   },
   "file_extension": ".py",
   "mimetype": "text/x-python",
   "name": "python",
   "nbconvert_exporter": "python",
   "pygments_lexer": "ipython3",
   "version": "3.9.7"
  }
 },
 "nbformat": 4,
 "nbformat_minor": 5
}
