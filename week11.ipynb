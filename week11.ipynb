{
 "cells": [
  {
   "cell_type": "markdown",
   "id": "f3fcc211",
   "metadata": {},
   "source": [
    "### 객체 II\n",
    "- 상속 (inheritance)\n",
    "- 재사용할 때, A vs B\n",
    "      - A의 대부분을 쓰고 나머지를 추가하고 변경하고 싶을 때\n",
    "      - '부모'의 모든 속성을 그대로 가져와서 쓴다\n",
    "- 반복되는 부분을 가져온다. 물려받음\n",
    "- A <- B\n",
    "    - 부모, 슈퍼, 베이스\n",
    "    - 자식, 서브, derived\n"
   ]
  },
  {
   "cell_type": "code",
   "execution_count": 1,
   "id": "244b605c",
   "metadata": {},
   "outputs": [],
   "source": [
    "class Vehicle: # parent, super\n",
    "    def __init__(self, speed) :\n",
    "        self.speed = speed\n",
    "        \n",
    "    def go(self):\n",
    "        print(f'{self.speed}의 속도로 달린다.')\n",
    "\n",
    "# child # sub\n",
    "class Car(Vehicle): \n",
    "    pass"
   ]
  },
  {
   "cell_type": "code",
   "execution_count": 2,
   "id": "1e14e9ae",
   "metadata": {},
   "outputs": [],
   "source": [
    "car = Car('20km/h')"
   ]
  },
  {
   "cell_type": "code",
   "execution_count": 3,
   "id": "f977b939",
   "metadata": {},
   "outputs": [
    {
     "name": "stdout",
     "output_type": "stream",
     "text": [
      "20km/h의 속도로 달린다.\n"
     ]
    }
   ],
   "source": [
    "car.go()"
   ]
  },
  {
   "cell_type": "markdown",
   "id": "d8c23991",
   "metadata": {},
   "source": [
    "## 변수 추가, 변경"
   ]
  },
  {
   "cell_type": "code",
   "execution_count": 4,
   "id": "6deb97fd",
   "metadata": {},
   "outputs": [],
   "source": [
    "class Car(Vehicle): # child, sub\n",
    "    def __init__(self, speed, brand):\n",
    "        # speed = 부모로부터\n",
    "        super().__init__(speed) #()안에 있는게 부모로부터 선택적으로 가져올 것\n",
    "        # self.speed가 아닌이유: 부모꺼를 가져올 거니까\n",
    "        # Vehicle().speed\n",
    "        # brand == 자식\n",
    "        self.brand = brand # 아이의 고유한 특성이 됨"
   ]
  },
  {
   "cell_type": "code",
   "execution_count": 5,
   "id": "cee82426",
   "metadata": {},
   "outputs": [
    {
     "data": {
      "text/plain": [
       "'kia'"
      ]
     },
     "execution_count": 5,
     "metadata": {},
     "output_type": "execute_result"
    }
   ],
   "source": [
    "car2 = Car('20km/h', 'kia')\n",
    "car2.brand"
   ]
  },
  {
   "cell_type": "code",
   "execution_count": 7,
   "id": "fe30897f",
   "metadata": {},
   "outputs": [
    {
     "ename": "AttributeError",
     "evalue": "'Vehicle' object has no attribute 'brand'",
     "output_type": "error",
     "traceback": [
      "\u001b[1;31m---------------------------------------------------------------------------\u001b[0m",
      "\u001b[1;31mAttributeError\u001b[0m                            Traceback (most recent call last)",
      "\u001b[1;32m~\\AppData\\Local\\Temp/ipykernel_25200/2160001806.py\u001b[0m in \u001b[0;36m<module>\u001b[1;34m\u001b[0m\n\u001b[0;32m      1\u001b[0m \u001b[0mv\u001b[0m \u001b[1;33m=\u001b[0m \u001b[0mVehicle\u001b[0m\u001b[1;33m(\u001b[0m\u001b[1;34m'33km/h'\u001b[0m\u001b[1;33m)\u001b[0m\u001b[1;33m\u001b[0m\u001b[1;33m\u001b[0m\u001b[0m\n\u001b[1;32m----> 2\u001b[1;33m \u001b[0mv\u001b[0m\u001b[1;33m.\u001b[0m\u001b[0mbrand\u001b[0m \u001b[1;31m#부모는 브랜드가 없음 - > 오류\u001b[0m\u001b[1;33m\u001b[0m\u001b[1;33m\u001b[0m\u001b[0m\n\u001b[0m",
      "\u001b[1;31mAttributeError\u001b[0m: 'Vehicle' object has no attribute 'brand'"
     ]
    }
   ],
   "source": [
    "v = Vehicle('33km/h')\n",
    "v.brand #부모는 브랜드가 없음 - > 오류"
   ]
  },
  {
   "cell_type": "markdown",
   "id": "717aea7f",
   "metadata": {},
   "source": [
    "### 메소드 추가, 변경\n",
    "- override하면 부모의 메소드가 잊혀진다."
   ]
  },
  {
   "cell_type": "code",
   "execution_count": 12,
   "id": "b6c93805",
   "metadata": {},
   "outputs": [],
   "source": [
    "class Car(Vehicle): # child, sub\n",
    "    def __init__(self, speed, brand):\n",
    "        super().__init__(speed)\n",
    "        self.brand = brand # 나의 고유한 특성이 된다\n",
    "    \n",
    "    # 오버라이드: 재정의\n",
    "    def go(self):\n",
    "        super().go() #답\n",
    "        print(f'차종 {self.brand}의 속도 {self.speed}')\n",
    "    # Q. 부모의 go도 함께 가져가고 싶다면? -> 부모에 접근을 해라 super().~~\n",
    "    \n",
    "    # 메소드 추가\n",
    "    def stop():\n",
    "        pass"
   ]
  },
  {
   "cell_type": "code",
   "execution_count": 13,
   "id": "7d377afb",
   "metadata": {},
   "outputs": [
    {
     "name": "stdout",
     "output_type": "stream",
     "text": [
      "33km/h의 속도로 달린다.\n",
      "차종 mini의 속도 33km/h\n"
     ]
    }
   ],
   "source": [
    "car3 = Car('33km/h', 'mini')\n",
    "car3.go()"
   ]
  },
  {
   "cell_type": "markdown",
   "id": "acd71ee0",
   "metadata": {},
   "source": [
    "## 실습"
   ]
  },
  {
   "cell_type": "code",
   "execution_count": 26,
   "id": "7b39401c",
   "metadata": {},
   "outputs": [],
   "source": [
    "class Person:\n",
    "    def __init__(self, name):\n",
    "        self.name = name # 출력하면 pablo\n",
    "    def call(self):\n",
    "        print(f'{self.name}')\n",
    "    \n",
    "class Doctor(Person): # Dr. pablo\n",
    "    def __init__(self, name):\n",
    "        super().__init__(name)\n",
    "        self.name = 'Dr.' + name\n",
    "        # super().__init__('Dr.' + name)\n",
    "\n",
    "class Male(Person): # Mr. pablo\n",
    "    def __init__(self, name):\n",
    "        super().__init__(name)\n",
    "        self.name = 'Mr.' + name\n",
    "    \n",
    "class Female(Person): #Mrs. pablo\n",
    "    def __init__(self, name):\n",
    "        super().__init__(name)\n",
    "        self.name = 'Mrs.' + name"
   ]
  },
  {
   "cell_type": "code",
   "execution_count": 29,
   "id": "0de33728",
   "metadata": {},
   "outputs": [],
   "source": [
    "lee = Male('Pablo')"
   ]
  },
  {
   "cell_type": "code",
   "execution_count": 30,
   "id": "29770183",
   "metadata": {},
   "outputs": [
    {
     "data": {
      "text/plain": [
       "'Mr.Pablo'"
      ]
     },
     "execution_count": 30,
     "metadata": {},
     "output_type": "execute_result"
    }
   ],
   "source": [
    "lee.name"
   ]
  },
  {
   "cell_type": "markdown",
   "id": "c30a7766",
   "metadata": {},
   "source": [
    "### 다중상속\n",
    "- method resolution order (MRO)\n",
    "- Animal < - Horse\n",
    "        <- Donkey\n",
    "                <- Mule (Donkey > Horse)\n",
    "                <- Hinny (Horse > Donkey)"
   ]
  },
  {
   "cell_type": "code",
   "execution_count": 3,
   "id": "c6b477b9",
   "metadata": {},
   "outputs": [],
   "source": [
    "class Animal: # 할머니같은 존재\n",
    "    def says(self):\n",
    "        return '동물이 운다.'\n",
    "\n",
    "    \n",
    "# 자식\n",
    "class Horse(Animal):\n",
    "    def says(self):\n",
    "        # super().says() 이걸 안써주면 위의 '할머니'는 잊힘\n",
    "        return '히히힝'\n",
    "\n",
    "class Donkey(Animal):\n",
    "    def says(self):\n",
    "        return '히이호'\n",
    "\n",
    "# 따지자면 손주\n",
    "# 다중상속의 경우 가까운(더 관계가 큰) 부모 순서대로 써준다\n",
    "\n",
    "class Mule(Donkey, Horse): # 돈키, 말 둘 다 받아야 함\n",
    "    pass\n",
    "\n",
    "class Hinny(Horse, Donkey):\n",
    "    pass"
   ]
  },
  {
   "cell_type": "code",
   "execution_count": 4,
   "id": "5c91647f",
   "metadata": {},
   "outputs": [
    {
     "data": {
      "text/plain": [
       "'히이호'"
      ]
     },
     "execution_count": 4,
     "metadata": {},
     "output_type": "execute_result"
    }
   ],
   "source": [
    "m = Mule()\n",
    "m.says()"
   ]
  },
  {
   "cell_type": "code",
   "execution_count": 35,
   "id": "65079020",
   "metadata": {},
   "outputs": [
    {
     "data": {
      "text/plain": [
       "'히히힝'"
      ]
     },
     "execution_count": 35,
     "metadata": {},
     "output_type": "execute_result"
    }
   ],
   "source": [
    "Hinny().says()"
   ]
  },
  {
   "cell_type": "code",
   "execution_count": 5,
   "id": "8e9e566c",
   "metadata": {},
   "outputs": [
    {
     "data": {
      "text/plain": [
       "[__main__.Mule, __main__.Donkey, __main__.Horse, __main__.Animal, object]"
      ]
     },
     "execution_count": 5,
     "metadata": {},
     "output_type": "execute_result"
    }
   ],
   "source": [
    "Mule.mro() #뭐가 제일 가까운지 순서대로 출력"
   ]
  },
  {
   "cell_type": "markdown",
   "id": "4f630175",
   "metadata": {},
   "source": [
    "### 다형성"
   ]
  },
  {
   "cell_type": "code",
   "execution_count": 37,
   "id": "7c8129b0",
   "metadata": {},
   "outputs": [
    {
     "name": "stdout",
     "output_type": "stream",
     "text": [
      "히이호\n",
      "히이호\n",
      "동물이 운다.\n"
     ]
    }
   ],
   "source": [
    "for animal in [Mule(), Donkey(), Animal()]:\n",
    "    print(animal.says())"
   ]
  },
  {
   "cell_type": "markdown",
   "id": "a28b6be9",
   "metadata": {},
   "source": [
    "### 메소드 타입\n",
    "- 인스턴스 메소드\n",
    "    - self.가 첫 번째 인자\n",
    "    - 객체 생성 -> 사용 가능\n",
    "- 클래스 메소드\n",
    "    - 객체 생성하지 않아도 사용 가능, 클래스 자체이기 때문에 객체를 만들지 않아도 됨\n",
    "    - 클래스에 접근하는 메소드.\n",
    "    - @classmethod\n",
    "    - 예약어 : cls\n",
    "    - 함수(cls)가 첫 번째 인자\n",
    "    - 붕어빵이 아무리 많이 만들어져도 변하지 않는 기능\n",
    "\n",
    "- 정적 메소드\n",
    "    - 객체 생성하지 않고 접근 가능\n",
    "    - 클래스랑 전혀 상관이 없기 때문에 접근 가능한 것\n",
    "    - 내용, 기능이 비슷해서 클래스 내에 묶어둠\n",
    "- 추상 메소드\n",
    "    - 추상 클래스: abstract 이름만 존재하느 클래스\n",
    "    - 설계도 역할.\n",
    "    - 상속하는 자식클래스를 반드시 구현해야 하는 메소드를 정의한다.\n",
    "    - 예를 들어 Car에서 go랑 stop을 오버라이드 해야 함"
   ]
  },
  {
   "cell_type": "code",
   "execution_count": 38,
   "id": "501cf13a",
   "metadata": {},
   "outputs": [],
   "source": [
    "class A:\n",
    "    cnt = 0\n",
    "    \n",
    "    def move(self):\n",
    "        return cnt"
   ]
  },
  {
   "cell_type": "code",
   "execution_count": 40,
   "id": "9966a724",
   "metadata": {},
   "outputs": [
    {
     "ename": "NameError",
     "evalue": "name 'cnt' is not defined",
     "output_type": "error",
     "traceback": [
      "\u001b[1;31m---------------------------------------------------------------------------\u001b[0m",
      "\u001b[1;31mNameError\u001b[0m                                 Traceback (most recent call last)",
      "\u001b[1;32m~\\AppData\\Local\\Temp/ipykernel_25200/3489235704.py\u001b[0m in \u001b[0;36m<module>\u001b[1;34m\u001b[0m\n\u001b[1;32m----> 1\u001b[1;33m \u001b[0mA\u001b[0m\u001b[1;33m(\u001b[0m\u001b[1;33m)\u001b[0m\u001b[1;33m.\u001b[0m\u001b[0mmove\u001b[0m\u001b[1;33m(\u001b[0m\u001b[1;33m)\u001b[0m \u001b[1;31m# cnt를 알 수없다는 오류가 뜸\u001b[0m\u001b[1;33m\u001b[0m\u001b[1;33m\u001b[0m\u001b[0m\n\u001b[0m",
      "\u001b[1;32m~\\AppData\\Local\\Temp/ipykernel_25200/2823682185.py\u001b[0m in \u001b[0;36mmove\u001b[1;34m(self)\u001b[0m\n\u001b[0;32m      3\u001b[0m \u001b[1;33m\u001b[0m\u001b[0m\n\u001b[0;32m      4\u001b[0m     \u001b[1;32mdef\u001b[0m \u001b[0mmove\u001b[0m\u001b[1;33m(\u001b[0m\u001b[0mself\u001b[0m\u001b[1;33m)\u001b[0m\u001b[1;33m:\u001b[0m\u001b[1;33m\u001b[0m\u001b[1;33m\u001b[0m\u001b[0m\n\u001b[1;32m----> 5\u001b[1;33m         \u001b[1;32mreturn\u001b[0m \u001b[0mcnt\u001b[0m\u001b[1;33m\u001b[0m\u001b[1;33m\u001b[0m\u001b[0m\n\u001b[0m",
      "\u001b[1;31mNameError\u001b[0m: name 'cnt' is not defined"
     ]
    }
   ],
   "source": [
    "A().move() # cnt를 알 수없다는 오류가 뜸"
   ]
  },
  {
   "cell_type": "code",
   "execution_count": 41,
   "id": "242cb30e",
   "metadata": {},
   "outputs": [],
   "source": [
    "class A:\n",
    "    cnt = 0\n",
    "    \n",
    "    @classmethod\n",
    "    def move(cls):\n",
    "        return cls.cnt"
   ]
  },
  {
   "cell_type": "code",
   "execution_count": 42,
   "id": "5a76e31d",
   "metadata": {},
   "outputs": [
    {
     "data": {
      "text/plain": [
       "0"
      ]
     },
     "execution_count": 42,
     "metadata": {},
     "output_type": "execute_result"
    }
   ],
   "source": [
    "A().move()"
   ]
  },
  {
   "cell_type": "code",
   "execution_count": 43,
   "id": "fd7032d0",
   "metadata": {},
   "outputs": [
    {
     "data": {
      "text/plain": [
       "0"
      ]
     },
     "execution_count": 43,
     "metadata": {},
     "output_type": "execute_result"
    }
   ],
   "source": [
    "A.move()"
   ]
  },
  {
   "cell_type": "code",
   "execution_count": 49,
   "id": "f5e19cfc",
   "metadata": {},
   "outputs": [],
   "source": [
    "# 클래스에 접근한다:\n",
    "class Person:\n",
    "    def __init__(self, name, age):\n",
    "        self.name = name\n",
    "        self.age = age\n",
    "    \n",
    "    @classmethod\n",
    "    def tuple_object(cls, args): #cls = > Person\n",
    "        return cls(args[0], args[1]) # Person()이 구현되는 거랑 똑같다\n",
    "    \n",
    "name = 'kim'\n",
    "age = 24\n",
    "#p = Person(name, age)\n",
    "\n",
    "info = name, age\n",
    "p = Person.tuple_object(info) # p라는 객체를 생성한다"
   ]
  },
  {
   "cell_type": "code",
   "execution_count": 48,
   "id": "aa7dd2f3",
   "metadata": {},
   "outputs": [
    {
     "data": {
      "text/plain": [
       "'kim'"
      ]
     },
     "execution_count": 48,
     "metadata": {},
     "output_type": "execute_result"
    }
   ],
   "source": [
    "p.name"
   ]
  },
  {
   "cell_type": "code",
   "execution_count": 55,
   "id": "b021c9c9",
   "metadata": {},
   "outputs": [
    {
     "data": {
      "text/plain": [
       "'객체 수: 3'"
      ]
     },
     "execution_count": 55,
     "metadata": {},
     "output_type": "execute_result"
    }
   ],
   "source": [
    "class A:\n",
    "    cnt = 0\n",
    "    # cnt+=1 # 객체를 생성할 때 cnt가 올라가야 한다\n",
    "    def __init__(self):\n",
    "        A.cnt += 1\n",
    "    \n",
    "    @classmethod\n",
    "    def count(cls):\n",
    "        return f'객체 수: {cls.cnt}'\n",
    "    # 객체를 생성할 때 cnt가 올라가야 한다\n",
    "    \n",
    "    \n",
    "A()\n",
    "A()\n",
    "A()\n",
    "A.count()"
   ]
  },
  {
   "cell_type": "markdown",
   "id": "f6327c3d",
   "metadata": {},
   "source": [
    "붕어빵을 몇 개 찍어냈는지 알고 싶음\n",
    "\n",
    "A()\n",
    "\n",
    "A()\n",
    "\n",
    "A()\n",
    "\n",
    "A.count = 4가 되도록.\n",
    "\n",
    "객체에 접근하면 알 수 없음. 클래스에 접근해야 함"
   ]
  },
  {
   "cell_type": "code",
   "execution_count": 56,
   "id": "da9936a4",
   "metadata": {},
   "outputs": [],
   "source": [
    "# 정적 메소드\n",
    "\n",
    "class Coyote:\n",
    "    @staticmethod\n",
    "    def says(): # self를 안 씀. 객체랑도 상관 없으니까\n",
    "        print(\"hi\")"
   ]
  },
  {
   "cell_type": "code",
   "execution_count": 57,
   "id": "126b7392",
   "metadata": {},
   "outputs": [
    {
     "name": "stdout",
     "output_type": "stream",
     "text": [
      "hi\n"
     ]
    }
   ],
   "source": [
    "Coyote.says() #마치 딕셔너리에서 변수 저장하듯이"
   ]
  },
  {
   "cell_type": "code",
   "execution_count": 58,
   "id": "7c24134b",
   "metadata": {},
   "outputs": [],
   "source": [
    "# 추상 메소드\n",
    "from abc import *\n",
    "\n",
    "class Vehicle(metaclass=ABCMeta):\n",
    "    # 추상 클래스 설정하는 방법\n",
    "    speed = '속도'\n",
    "    \n",
    "    @abstractmethod\n",
    "    def go(self):\n",
    "        print('차량이 움직인다.')\n",
    "    \"\"\"\n",
    "    def stop(self):\n",
    "        pass\"\"\"\n",
    "    \n",
    "class Car(Vehicle):\n",
    "    # 여기서 그냥 pass 를 써버리면 오류. 위의 go를 반드시 써야 만들어진다.\n",
    "    def go(self):\n",
    "        print(\"\")"
   ]
  },
  {
   "cell_type": "code",
   "execution_count": 59,
   "id": "95e9d8fe",
   "metadata": {},
   "outputs": [
    {
     "data": {
      "text/plain": [
       "<__main__.Car at 0x26d41455c40>"
      ]
     },
     "execution_count": 59,
     "metadata": {},
     "output_type": "execute_result"
    }
   ],
   "source": [
    "Car()"
   ]
  },
  {
   "cell_type": "code",
   "execution_count": null,
   "id": "1bad4d5d",
   "metadata": {},
   "outputs": [],
   "source": []
  }
 ],
 "metadata": {
  "kernelspec": {
   "display_name": "Python 3 (ipykernel)",
   "language": "python",
   "name": "python3"
  },
  "language_info": {
   "codemirror_mode": {
    "name": "ipython",
    "version": 3
   },
   "file_extension": ".py",
   "mimetype": "text/x-python",
   "name": "python",
   "nbconvert_exporter": "python",
   "pygments_lexer": "ipython3",
   "version": "3.9.7"
  }
 },
 "nbformat": 4,
 "nbformat_minor": 5
}
