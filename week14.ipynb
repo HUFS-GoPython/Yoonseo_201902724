{
 "cells": [
  {
   "cell_type": "markdown",
   "id": "0e64aa1f",
   "metadata": {},
   "source": [
    "### 함수 II\n",
    "- 일급 객체\n",
    "- 중첩 함수\n",
    "- 익명 함수\n",
    "- 제너레이터\n",
    "- 재귀 함수"
   ]
  },
  {
   "cell_type": "markdown",
   "id": "953fdd56",
   "metadata": {},
   "source": [
    "#### 일급 객체\n",
    "- first class object(citizen)\n",
    "- 파이썬에서는 함수도 일급 객체다.\n",
    "- 일급 객체의 조건\n",
    "    - 함수의 인자로 전달된다.\n",
    "        def fx(func):\n",
    "    - 함수의 반환값이 된다.\n",
    "        def fx(func):\n",
    "            return func\n",
    "    - 수정, 할당이 된다.\n",
    "        var = fx()"
   ]
  },
  {
   "cell_type": "code",
   "execution_count": 1,
   "id": "f6832125",
   "metadata": {},
   "outputs": [
    {
     "name": "stdout",
     "output_type": "stream",
     "text": [
      "50\n"
     ]
    }
   ],
   "source": [
    "def answer():\n",
    "    print(50)\n",
    "\n",
    "def run_sth(func):\n",
    "    func() #실행\n",
    "\n",
    "run_sth(answer)"
   ]
  },
  {
   "cell_type": "code",
   "execution_count": 3,
   "id": "dd959888",
   "metadata": {},
   "outputs": [
    {
     "name": "stdout",
     "output_type": "stream",
     "text": [
      "19\n"
     ]
    }
   ],
   "source": [
    "def add_args(arg1, arg2):\n",
    "    print(arg1 + arg2)\n",
    "    \n",
    "def run_sth2(func, *args):\n",
    "    func(*args)\n",
    "    \n",
    "run_sth2(add_args, 7, 12)"
   ]
  },
  {
   "cell_type": "markdown",
   "id": "c0acd519",
   "metadata": {},
   "source": [
    "#### 중첩함수\n",
    "- 함수 내에서 또 다른 함수를 정의하는 것\n",
    "- 내부함수 캡슐화\n",
    "    - 메모리 절약 (외부함수를 지워도 내부함수는 작동 가능)\n",
    "    - 변수가 섞여서 불필요하게 충돌하는 것을 방지\n",
    "    - 목적에 맞게 변수를 그룹화할 수 있음. 관리/책임 명확히"
   ]
  },
  {
   "cell_type": "code",
   "execution_count": 3,
   "id": "5221e028",
   "metadata": {},
   "outputs": [],
   "source": [
    "def outer(a, b):\n",
    "    def inner(c, d): #중첩함수\n",
    "        return c + d\n",
    "    return inner(a, b)"
   ]
  },
  {
   "cell_type": "code",
   "execution_count": 4,
   "id": "cf5cfbb3",
   "metadata": {},
   "outputs": [
    {
     "data": {
      "text/plain": [
       "2"
      ]
     },
     "execution_count": 4,
     "metadata": {},
     "output_type": "execute_result"
    }
   ],
   "source": [
    "outer(1, 1)"
   ]
  },
  {
   "cell_type": "code",
   "execution_count": 6,
   "id": "c1516c1a",
   "metadata": {},
   "outputs": [
    {
     "ename": "NameError",
     "evalue": "name 'inner' is not defined",
     "output_type": "error",
     "traceback": [
      "\u001b[1;31m---------------------------------------------------------------------------\u001b[0m",
      "\u001b[1;31mNameError\u001b[0m                                 Traceback (most recent call last)",
      "\u001b[1;32m~\\AppData\\Local\\Temp/ipykernel_16676/561291284.py\u001b[0m in \u001b[0;36m<module>\u001b[1;34m\u001b[0m\n\u001b[1;32m----> 1\u001b[1;33m \u001b[0minner\u001b[0m\u001b[1;33m(\u001b[0m\u001b[1;36m1\u001b[0m\u001b[1;33m,\u001b[0m \u001b[1;36m1\u001b[0m\u001b[1;33m)\u001b[0m \u001b[1;31m#내부함수만 쓰는 것은 오류가 난다.\u001b[0m\u001b[1;33m\u001b[0m\u001b[1;33m\u001b[0m\u001b[0m\n\u001b[0m",
      "\u001b[1;31mNameError\u001b[0m: name 'inner' is not defined"
     ]
    }
   ],
   "source": [
    "inner(1, 1) #내부함수만 쓰는 것은 오류가 난다."
   ]
  },
  {
   "cell_type": "code",
   "execution_count": 5,
   "id": "51ece97d",
   "metadata": {},
   "outputs": [],
   "source": [
    "def to_do(memo):\n",
    "    def inner():\n",
    "        return f'오늘의 할 일: {memo}'\n",
    "    return inner #return func #일급객체의 성질\n",
    "\n",
    "a = to_do('깃허브 푸시하기') #일급객체의 성질 - 함수를 할당받을 수 있다\n",
    "b = to_do('시험범위 요점정리하기')"
   ]
  },
  {
   "cell_type": "markdown",
   "id": "3ca7c71e",
   "metadata": {},
   "source": [
    "- 외부함수의 인자를 참조할 수 있다.\n",
    "- 수정, 활용 불가\n",
    "- inner()에서 saying을 받지 않았어도 실행이 된다. (외부함수에 있으니까_"
   ]
  },
  {
   "cell_type": "code",
   "execution_count": 6,
   "id": "e73b2b80",
   "metadata": {},
   "outputs": [
    {
     "data": {
      "text/plain": [
       "<function __main__.to_do.<locals>.inner()>"
      ]
     },
     "execution_count": 6,
     "metadata": {},
     "output_type": "execute_result"
    }
   ],
   "source": [
    "a #실행 안한 상태"
   ]
  },
  {
   "cell_type": "code",
   "execution_count": 9,
   "id": "1f1eb217",
   "metadata": {},
   "outputs": [
    {
     "data": {
      "text/plain": [
       "'오늘의 할 일: 깃허브 푸시하기'"
      ]
     },
     "execution_count": 9,
     "metadata": {},
     "output_type": "execute_result"
    }
   ],
   "source": [
    "a() #실행"
   ]
  },
  {
   "cell_type": "code",
   "execution_count": 10,
   "id": "48322a11",
   "metadata": {},
   "outputs": [
    {
     "data": {
      "text/plain": [
       "'오늘의 할 일: 시험범위 요점정리하기'"
      ]
     },
     "execution_count": 10,
     "metadata": {},
     "output_type": "execute_result"
    }
   ],
   "source": [
    "b()"
   ]
  },
  {
   "cell_type": "markdown",
   "id": "ee3b85aa",
   "metadata": {},
   "source": [
    "#### 클로저 | closure\n",
    "- 조건\n",
    "    - 1. 중첩함수 일 것\n",
    "    - 2. 내부함수가 외부함수의 상태값을 참조할 것\n",
    "    - 3. 외부함수의 리턴값이 내부함수일 것\n",
    "- '외부함수의 상태값을 기억하는 함수' (호출 시 사용 가능)"
   ]
  },
  {
   "cell_type": "code",
   "execution_count": 14,
   "id": "dfa2a646",
   "metadata": {},
   "outputs": [],
   "source": [
    "def multiply(x):\n",
    "    def inner(y):\n",
    "        return x + y\n",
    "    return inner"
   ]
  },
  {
   "cell_type": "code",
   "execution_count": 15,
   "id": "d06e08d9",
   "metadata": {},
   "outputs": [],
   "source": [
    "m = multiply(5)\n",
    "n = multiply(6)"
   ]
  },
  {
   "cell_type": "code",
   "execution_count": 16,
   "id": "a6316f4d",
   "metadata": {},
   "outputs": [],
   "source": [
    "del(multiply) #외부함수 삭제"
   ]
  },
  {
   "cell_type": "code",
   "execution_count": 19,
   "id": "f54bd13e",
   "metadata": {},
   "outputs": [
    {
     "ename": "NameError",
     "evalue": "name 'multiply' is not defined",
     "output_type": "error",
     "traceback": [
      "\u001b[1;31m---------------------------------------------------------------------------\u001b[0m",
      "\u001b[1;31mNameError\u001b[0m                                 Traceback (most recent call last)",
      "\u001b[1;32m~\\AppData\\Local\\Temp/ipykernel_27556/2772391487.py\u001b[0m in \u001b[0;36m<module>\u001b[1;34m\u001b[0m\n\u001b[1;32m----> 1\u001b[1;33m \u001b[0mmultiply\u001b[0m \u001b[1;31m#외부함수삭제해도 m n은 돌아감\u001b[0m\u001b[1;33m\u001b[0m\u001b[1;33m\u001b[0m\u001b[0m\n\u001b[0m",
      "\u001b[1;31mNameError\u001b[0m: name 'multiply' is not defined"
     ]
    }
   ],
   "source": [
    "multiply #외부함수삭제해도 m n은 돌아감"
   ]
  },
  {
   "cell_type": "code",
   "execution_count": 18,
   "id": "cecd9c5d",
   "metadata": {},
   "outputs": [
    {
     "data": {
      "text/plain": [
       "(<function __main__.multiply.<locals>.inner(y)>,\n",
       " <function __main__.multiply.<locals>.inner(y)>)"
      ]
     },
     "execution_count": 18,
     "metadata": {},
     "output_type": "execute_result"
    }
   ],
   "source": [
    "m, n"
   ]
  },
  {
   "cell_type": "code",
   "execution_count": 21,
   "id": "4b5a3bc8",
   "metadata": {},
   "outputs": [
    {
     "data": {
      "text/plain": [
       "15"
      ]
     },
     "execution_count": 21,
     "metadata": {},
     "output_type": "execute_result"
    }
   ],
   "source": [
    "m(10)"
   ]
  },
  {
   "cell_type": "code",
   "execution_count": 24,
   "id": "c4c6d449",
   "metadata": {},
   "outputs": [],
   "source": [
    "#a = 1 # global\n",
    "def add(a, b):\n",
    "    #x = 2 #local\n",
    "    return a + b\n",
    "\n",
    "# 리턴값 * 리턴값\n",
    "def square(func):\n",
    "    def inner(a, b): #nonlocal\n",
    "        result = func(a, b)\n",
    "        return result * result\n",
    "    return inner\n",
    "\n",
    "#square(add) 했을 때 a, b에 4, 5라면 9*9가 되게"
   ]
  },
  {
   "cell_type": "code",
   "execution_count": 26,
   "id": "77060041",
   "metadata": {},
   "outputs": [
    {
     "data": {
      "text/plain": [
       "81"
      ]
     },
     "execution_count": 26,
     "metadata": {},
     "output_type": "execute_result"
    }
   ],
   "source": [
    "x = square(add)\n",
    "x(6, 3)"
   ]
  },
  {
   "cell_type": "markdown",
   "id": "dc30091e",
   "metadata": {},
   "source": [
    "#### 데코레이터             # 더 간편하게\n",
    "- 메인 함수에 또다른 함수를 취해 반환할 수 있게 함\n",
    "- 재사용성 높음\n",
    "- 가독성 직관성 좋음"
   ]
  },
  {
   "cell_type": "code",
   "execution_count": 91,
   "id": "8faed7b5",
   "metadata": {},
   "outputs": [
    {
     "data": {
      "text/plain": [
       "49"
      ]
     },
     "execution_count": 91,
     "metadata": {},
     "output_type": "execute_result"
    }
   ],
   "source": [
    "# 클로져는 데코레이터 가능\n",
    "@square\n",
    "def plus(a, b):\n",
    "    return a + b\n",
    "\n",
    "plus(4, 3) #스퀘어를 탄다"
   ]
  },
  {
   "cell_type": "markdown",
   "id": "4f7d12fe",
   "metadata": {},
   "source": [
    "#### scope | 범위\n",
    "- 전역: global\n",
    "- 지역: local\n",
    "- nonlocal"
   ]
  },
  {
   "cell_type": "code",
   "execution_count": 57,
   "id": "a69f5734",
   "metadata": {},
   "outputs": [],
   "source": [
    "a = 1 # global\n",
    "def add(a, b):\n",
    "    x = 2 #local\n",
    "    return a + b\n",
    "\n",
    "# 리턴값 * 리턴값\n",
    "def square(func):\n",
    "    def inner(a, b): #nonlocal\n",
    "        result = func(a, b)\n",
    "        return result * result\n",
    "    return inner"
   ]
  },
  {
   "cell_type": "code",
   "execution_count": 63,
   "id": "df4aca0e",
   "metadata": {},
   "outputs": [
    {
     "data": {
      "text/plain": [
       "10"
      ]
     },
     "execution_count": 63,
     "metadata": {},
     "output_type": "execute_result"
    }
   ],
   "source": [
    "a = 3 #global\n",
    "\n",
    "def outer(c): # c = 9\n",
    "    b = 5 #local\n",
    "    def inner():\n",
    "        # c= 9\n",
    "        #c = 999 #nonlocal, 위의 c와 다른 것\n",
    "        nonlocal c\n",
    "        c += 1\n",
    "        return c\n",
    "    return inner()\n",
    "\n",
    "outer(9)"
   ]
  },
  {
   "cell_type": "markdown",
   "id": "d1733def",
   "metadata": {},
   "source": [
    "#### 실습\n",
    "- fx1: speed, limit 입력받아서 속도가 제한속도를 위반하는지 t/f\n",
    "- fx2: 클로저, 초과할 경우 얼마나 초과하는지 프린트하는 함수\n",
    "- 실행은 데코레이터로"
   ]
  },
  {
   "cell_type": "code",
   "execution_count": 111,
   "id": "08ad7c3b",
   "metadata": {},
   "outputs": [],
   "source": [
    "# 내가 짠 코드 \n",
    "\n",
    "def speed_limit(speed, limit):\n",
    "    if speed <= limit:\n",
    "        return False\n",
    "    else:\n",
    "        return True\n",
    "\n",
    "\n",
    "def overspeed(func):\n",
    "    def inner(speed, limit):\n",
    "        if func(speed, limit):\n",
    "            return f'{speed - limit}km/h 초과했습니다.'\n",
    "    return inner\n",
    "\n",
    "@overspeed\n",
    "def speedcheck(speed, limit):\n",
    "    return speed > limit\n",
    "\n",
    "speedcheck(60, 80)"
   ]
  },
  {
   "cell_type": "code",
   "execution_count": 88,
   "id": "48eaf2ea",
   "metadata": {},
   "outputs": [],
   "source": [
    "x = overspeed(speed_limit)"
   ]
  },
  {
   "cell_type": "code",
   "execution_count": 97,
   "id": "9db7909c",
   "metadata": {},
   "outputs": [
    {
     "data": {
      "text/plain": [
       "'40km/h 초과했습니다.'"
      ]
     },
     "execution_count": 97,
     "metadata": {},
     "output_type": "execute_result"
    }
   ],
   "source": [
    "x(120, 80)"
   ]
  },
  {
   "cell_type": "code",
   "execution_count": 110,
   "id": "88078212",
   "metadata": {},
   "outputs": [
    {
     "data": {
      "text/plain": [
       "'초과: 20 km/h'"
      ]
     },
     "execution_count": 110,
     "metadata": {},
     "output_type": "execute_result"
    }
   ],
   "source": [
    "# 모범 답안\n",
    "\n",
    "def violate(func):\n",
    "    def inner(speed, limit):\n",
    "        if func(speed, limit): #이게 true면\n",
    "            return f'초과: {speed - limit} km/h'\n",
    "        else:\n",
    "            return '정상 속도'\n",
    "    return inner\n",
    "\n",
    "@violate\n",
    "def is_speeding(speed, limit):\n",
    "    return speed > limit\n",
    "\n",
    "is_speeding(100, 80)"
   ]
  },
  {
   "cell_type": "code",
   "execution_count": 94,
   "id": "ddd55be0",
   "metadata": {},
   "outputs": [
    {
     "data": {
      "text/plain": [
       "'40km/h 초과했습니다.'"
      ]
     },
     "execution_count": 94,
     "metadata": {},
     "output_type": "execute_result"
    }
   ],
   "source": [
    "speedcheck(120, 80)"
   ]
  },
  {
   "cell_type": "markdown",
   "id": "2ce074bc",
   "metadata": {},
   "source": [
    "### 익명함수 | lambda\n",
    "- 이름이 없다.\n",
    "\n",
    "    def is_speeding():\n",
    "        return\n",
    "\n",
    "- def, return\n",
    "- is_speeding\n",
    "- 단순한 용도의 함수가 필요할 경우 (일회용일 경우)\n",
    "- 잦은 사용은 권장되지 않음\n",
    "- lambda x: <x를 요리할 코드>\n"
   ]
  },
  {
   "cell_type": "code",
   "execution_count": 112,
   "id": "5dcc1d3d",
   "metadata": {},
   "outputs": [
    {
     "data": {
      "text/plain": [
       "3"
      ]
     },
     "execution_count": 112,
     "metadata": {},
     "output_type": "execute_result"
    }
   ],
   "source": [
    "def add_one(x):\n",
    "    return x + 1\n",
    "add_one(2)"
   ]
  },
  {
   "cell_type": "code",
   "execution_count": 114,
   "id": "6f054154",
   "metadata": {},
   "outputs": [
    {
     "data": {
      "text/plain": [
       "3"
      ]
     },
     "execution_count": 114,
     "metadata": {},
     "output_type": "execute_result"
    }
   ],
   "source": [
    "(lambda x: x + 1)(2)"
   ]
  },
  {
   "cell_type": "code",
   "execution_count": 115,
   "id": "a83c68ce",
   "metadata": {},
   "outputs": [
    {
     "data": {
      "text/plain": [
       "8"
      ]
     },
     "execution_count": 115,
     "metadata": {},
     "output_type": "execute_result"
    }
   ],
   "source": [
    "f = lambda x, y: x + y\n",
    "f(3, 5)"
   ]
  },
  {
   "cell_type": "markdown",
   "id": "797cb6df",
   "metadata": {},
   "source": [
    "# 실습\n",
    "- 단어가 들어왔을 때 첫 글자 대문자로 바꾸고 단어 끝에 !를 붙이도록 람다 만들기\n",
    "- hello -> Hello!"
   ]
  },
  {
   "cell_type": "code",
   "execution_count": 119,
   "id": "4b331090",
   "metadata": {},
   "outputs": [
    {
     "data": {
      "text/plain": [
       "'Hello!'"
      ]
     },
     "execution_count": 119,
     "metadata": {},
     "output_type": "execute_result"
    }
   ],
   "source": [
    "w = lambda x: x.capitalize() + '!'\n",
    "w('hello')"
   ]
  },
  {
   "cell_type": "markdown",
   "id": "d1ddff4f",
   "metadata": {},
   "source": [
    "## 제너레이터\n",
    "- return 대신 yield 사용\n",
    "- 시퀀스를 순회할 때 시퀀스를 생성하는 객체\n",
    "- 한 번 사용되고 사라짐 -> 메모리 효율이 좋다"
   ]
  },
  {
   "cell_type": "code",
   "execution_count": 133,
   "id": "438cbe15",
   "metadata": {},
   "outputs": [
    {
     "name": "stdout",
     "output_type": "stream",
     "text": [
      "0\n",
      "1\n",
      "2\n",
      "3\n",
      "4\n",
      "5\n",
      "6\n",
      "7\n",
      "8\n",
      "9\n"
     ]
    }
   ],
   "source": [
    "def print_number(num):\n",
    "    for i in range(num):\n",
    "        yield i\n",
    "        \n",
    "fx = print_number(10)\n",
    "for i in fx:\n",
    "    print(i)"
   ]
  },
  {
   "cell_type": "code",
   "execution_count": null,
   "id": "04636daa",
   "metadata": {},
   "outputs": [],
   "source": [
    "a = [1, 2, 3] # 1, 2, 3 하나씩 꺼낸다"
   ]
  },
  {
   "cell_type": "markdown",
   "id": "001b81de",
   "metadata": {},
   "source": [
    "### 실습\n",
    "range() 구현하기\n",
    "- 제너레이터 사용\n",
    "- def my_range(start, end, step):\n",
    "        yield\n",
    "    \n",
    "ranger = my_range(a, b, c)"
   ]
  },
  {
   "cell_type": "code",
   "execution_count": 30,
   "id": "07a41667",
   "metadata": {},
   "outputs": [],
   "source": [
    "def my_range(end, start=0, step=1):\n",
    "    i = start\n",
    "    while i < end:\n",
    "        yield i\n",
    "        i += step\n",
    "        \n",
    "ranger = my_range(6)"
   ]
  },
  {
   "cell_type": "code",
   "execution_count": 29,
   "id": "95a54d4f",
   "metadata": {},
   "outputs": [
    {
     "name": "stdout",
     "output_type": "stream",
     "text": [
      "0\n",
      "1\n",
      "2\n",
      "3\n",
      "4\n",
      "5\n"
     ]
    }
   ],
   "source": [
    "for i in ranger:\n",
    "    print(i)"
   ]
  },
  {
   "cell_type": "markdown",
   "id": "844cb97c",
   "metadata": {},
   "source": [
    "### 재귀함수\n",
    "- 너무 깊으면 오류 발생, runtime error\n",
    "- 자기 자신을 호출하는 함수\n",
    "- [[1, 2, 3], [[[1, 1]], 4, 5]] -> [1, 2, 3, 1, 1, 4, 5]"
   ]
  },
  {
   "cell_type": "code",
   "execution_count": 136,
   "id": "1727da10",
   "metadata": {},
   "outputs": [],
   "source": [
    "def flatten(sent):\n",
    "    for word in sent:\n",
    "        if isinstance(word, list): #리스트가 있으면\n",
    "            for sub_word in flatten(word):\n",
    "                yield sub_word\n",
    "        else: #리스트가 아니면\n",
    "            yield word"
   ]
  },
  {
   "cell_type": "code",
   "execution_count": 137,
   "id": "60f1a705",
   "metadata": {},
   "outputs": [
    {
     "data": {
      "text/plain": [
       "False"
      ]
     },
     "execution_count": 137,
     "metadata": {},
     "output_type": "execute_result"
    }
   ],
   "source": [
    "isinstance('h', int)"
   ]
  },
  {
   "cell_type": "code",
   "execution_count": 139,
   "id": "65b10ba5",
   "metadata": {},
   "outputs": [
    {
     "data": {
      "text/plain": [
       "<generator object flatten at 0x0000027D3F26B3C0>"
      ]
     },
     "execution_count": 139,
     "metadata": {},
     "output_type": "execute_result"
    }
   ],
   "source": [
    "a = [[1, 2, 3], [[[1, 1]], 4, 5]]\n",
    "flatten(a)"
   ]
  },
  {
   "cell_type": "code",
   "execution_count": 140,
   "id": "883790ce",
   "metadata": {},
   "outputs": [
    {
     "name": "stdout",
     "output_type": "stream",
     "text": [
      "1\n",
      "2\n",
      "3\n",
      "1\n",
      "1\n",
      "4\n",
      "5\n"
     ]
    }
   ],
   "source": [
    "for i in flatten(a):\n",
    "    print(i)"
   ]
  },
  {
   "cell_type": "markdown",
   "id": "9a3bb699",
   "metadata": {},
   "source": [
    "### 예외 처리 | exception handling\n",
    "- 처리를 함으로써 프로그램을 정상적으로 종료\n",
    "- 예외 발생 시, 사용자에게 알리고 조치 취함\n",
    "- 소프트랜딩"
   ]
  },
  {
   "cell_type": "markdown",
   "id": "5f547303",
   "metadata": {},
   "source": [
    "#### 예외 예시\n",
    "- 10 / 0\n",
    "- int('str')\n",
    "- hello += 1"
   ]
  },
  {
   "cell_type": "code",
   "execution_count": 142,
   "id": "90ff1901",
   "metadata": {},
   "outputs": [
    {
     "name": "stdout",
     "output_type": "stream",
     "text": [
      "0으로 나눌 수 없음\n"
     ]
    }
   ],
   "source": [
    "try:\n",
    "    #<에러 발생될 법한 코드 블럭>\n",
    "    10 / 0\n",
    "except ZeroDivisionError: #<에러타입>:\n",
    "    #<처리할 방법>\n",
    "    print('0으로 나눌 수 없음')"
   ]
  },
  {
   "cell_type": "code",
   "execution_count": 143,
   "id": "efbec4fb",
   "metadata": {},
   "outputs": [
    {
     "name": "stdout",
     "output_type": "stream",
     "text": [
      "error\n"
     ]
    }
   ],
   "source": [
    "try: # 여기서 쓰면\n",
    "    for i in range(10):\n",
    "        print(10 / i)\n",
    "except ZeroDivisionError:\n",
    "    print('error') # 0만 에러인 건데 전체가 그냥 끝나버림"
   ]
  },
  {
   "cell_type": "code",
   "execution_count": 144,
   "id": "6194e961",
   "metadata": {},
   "outputs": [
    {
     "name": "stdout",
     "output_type": "stream",
     "text": [
      "error\n",
      "10.0\n",
      "5.0\n",
      "3.3333333333333335\n",
      "2.5\n",
      "2.0\n",
      "1.6666666666666667\n",
      "1.4285714285714286\n",
      "1.25\n",
      "1.1111111111111112\n"
     ]
    }
   ],
   "source": [
    "for i in range(10):\n",
    "    try:\n",
    "        print(10 / i)\n",
    "    except ZeroDivisionError:\n",
    "        print('error')"
   ]
  },
  {
   "cell_type": "code",
   "execution_count": 149,
   "id": "ca7e3a83",
   "metadata": {},
   "outputs": [
    {
     "name": "stdout",
     "output_type": "stream",
     "text": [
      "인덱스 입력하세요: 8\n",
      "index error\n",
      "string index out of range\n",
      "인덱스 입력하세요: 2\n",
      "l\n",
      "인덱스 입력하세요: q\n"
     ]
    }
   ],
   "source": [
    "word = 'hello'\n",
    "while True:\n",
    "    index = input('인덱스 입력하세요: ')\n",
    "    if index == 'q':\n",
    "        break\n",
    "        \n",
    "    try:\n",
    "        print(word[int(index)])\n",
    "    except IndexError as e1:\n",
    "        print('index error')\n",
    "        print(e1)\n",
    "    except ValueError as e2:\n",
    "        print('type error')\n",
    "        print(e2)"
   ]
  },
  {
   "cell_type": "markdown",
   "id": "c75526e8",
   "metadata": {},
   "source": [
    "### 2. 예외 발생시키기\n",
    "- raise\n",
    "- assert\n",
    "- 프로그램 강제 종료"
   ]
  },
  {
   "cell_type": "code",
   "execution_count": 31,
   "id": "a5102623",
   "metadata": {},
   "outputs": [
    {
     "ename": "IndexError",
     "evalue": "강제종료",
     "output_type": "error",
     "traceback": [
      "\u001b[1;31m---------------------------------------------------------------------------\u001b[0m",
      "\u001b[1;31mIndexError\u001b[0m                                Traceback (most recent call last)",
      "\u001b[1;32m~\\AppData\\Local\\Temp/ipykernel_27556/1193795114.py\u001b[0m in \u001b[0;36m<module>\u001b[1;34m\u001b[0m\n\u001b[1;32m----> 1\u001b[1;33m \u001b[1;32mraise\u001b[0m \u001b[0mIndexError\u001b[0m\u001b[1;33m(\u001b[0m\u001b[1;34m'강제종료'\u001b[0m\u001b[1;33m)\u001b[0m\u001b[1;33m\u001b[0m\u001b[1;33m\u001b[0m\u001b[0m\n\u001b[0m",
      "\u001b[1;31mIndexError\u001b[0m: 강제종료"
     ]
    }
   ],
   "source": [
    "raise IndexError('강제종료')"
   ]
  },
  {
   "cell_type": "code",
   "execution_count": 153,
   "id": "fbcb9cf8",
   "metadata": {},
   "outputs": [
    {
     "name": "stdout",
     "output_type": "stream",
     "text": [
      "number>> d\n"
     ]
    },
    {
     "ename": "ValueError",
     "evalue": "숫자가 아닙니다.",
     "output_type": "error",
     "traceback": [
      "\u001b[1;31m---------------------------------------------------------------------------\u001b[0m",
      "\u001b[1;31mValueError\u001b[0m                                Traceback (most recent call last)",
      "\u001b[1;32m~\\AppData\\Local\\Temp/ipykernel_16676/2941626252.py\u001b[0m in \u001b[0;36m<module>\u001b[1;34m\u001b[0m\n\u001b[0;32m      2\u001b[0m     \u001b[0mnum\u001b[0m \u001b[1;33m=\u001b[0m \u001b[0minput\u001b[0m\u001b[1;33m(\u001b[0m\u001b[1;34m'number>> '\u001b[0m\u001b[1;33m)\u001b[0m\u001b[1;33m\u001b[0m\u001b[1;33m\u001b[0m\u001b[0m\n\u001b[0;32m      3\u001b[0m     \u001b[1;32mif\u001b[0m \u001b[1;32mnot\u001b[0m \u001b[0mnum\u001b[0m\u001b[1;33m.\u001b[0m\u001b[0misdigit\u001b[0m\u001b[1;33m(\u001b[0m\u001b[1;33m)\u001b[0m\u001b[1;33m:\u001b[0m\u001b[1;33m\u001b[0m\u001b[1;33m\u001b[0m\u001b[0m\n\u001b[1;32m----> 4\u001b[1;33m         \u001b[1;32mraise\u001b[0m \u001b[0mValueError\u001b[0m\u001b[1;33m(\u001b[0m\u001b[1;34m'숫자가 아닙니다.'\u001b[0m\u001b[1;33m)\u001b[0m\u001b[1;33m\u001b[0m\u001b[1;33m\u001b[0m\u001b[0m\n\u001b[0m\u001b[0;32m      5\u001b[0m     \u001b[1;32melse\u001b[0m\u001b[1;33m:\u001b[0m\u001b[1;33m\u001b[0m\u001b[1;33m\u001b[0m\u001b[0m\n\u001b[0;32m      6\u001b[0m         \u001b[0mprint\u001b[0m\u001b[1;33m(\u001b[0m\u001b[0mnum\u001b[0m\u001b[1;33m)\u001b[0m\u001b[1;33m\u001b[0m\u001b[1;33m\u001b[0m\u001b[0m\n",
      "\u001b[1;31mValueError\u001b[0m: 숫자가 아닙니다."
     ]
    }
   ],
   "source": [
    "while True:\n",
    "    num = input('number>> ')\n",
    "    if not num.isdigit():\n",
    "        raise ValueError('숫자가 아닙니다.')\n",
    "    else:\n",
    "        print(num)\n",
    "        break"
   ]
  },
  {
   "cell_type": "markdown",
   "id": "466faf6d",
   "metadata": {},
   "source": [
    "assert <참인 조건>, '예외 메시지'"
   ]
  },
  {
   "cell_type": "code",
   "execution_count": 35,
   "id": "7c96465a",
   "metadata": {},
   "outputs": [
    {
     "ename": "AssertionError",
     "evalue": "정수여야 합니다.",
     "output_type": "error",
     "traceback": [
      "\u001b[1;31m---------------------------------------------------------------------------\u001b[0m",
      "\u001b[1;31mAssertionError\u001b[0m                            Traceback (most recent call last)",
      "\u001b[1;32m~\\AppData\\Local\\Temp/ipykernel_27556/2732356121.py\u001b[0m in \u001b[0;36m<module>\u001b[1;34m\u001b[0m\n\u001b[0;32m      3\u001b[0m     \u001b[1;32mreturn\u001b[0m \u001b[0mbin\u001b[0m\u001b[1;33m(\u001b[0m\u001b[0mnum\u001b[0m\u001b[1;33m)\u001b[0m\u001b[1;33m\u001b[0m\u001b[1;33m\u001b[0m\u001b[0m\n\u001b[0;32m      4\u001b[0m \u001b[1;33m\u001b[0m\u001b[0m\n\u001b[1;32m----> 5\u001b[1;33m \u001b[0mget_binary\u001b[0m\u001b[1;33m(\u001b[0m\u001b[1;34m'ee'\u001b[0m\u001b[1;33m)\u001b[0m\u001b[1;33m\u001b[0m\u001b[1;33m\u001b[0m\u001b[0m\n\u001b[0m",
      "\u001b[1;32m~\\AppData\\Local\\Temp/ipykernel_27556/2732356121.py\u001b[0m in \u001b[0;36mget_binary\u001b[1;34m(num)\u001b[0m\n\u001b[0;32m      1\u001b[0m \u001b[1;32mdef\u001b[0m \u001b[0mget_binary\u001b[0m\u001b[1;33m(\u001b[0m\u001b[0mnum\u001b[0m\u001b[1;33m)\u001b[0m\u001b[1;33m:\u001b[0m\u001b[1;33m\u001b[0m\u001b[1;33m\u001b[0m\u001b[0m\n\u001b[1;32m----> 2\u001b[1;33m     \u001b[1;32massert\u001b[0m \u001b[0misinstance\u001b[0m\u001b[1;33m(\u001b[0m\u001b[0mnum\u001b[0m\u001b[1;33m,\u001b[0m \u001b[0mint\u001b[0m\u001b[1;33m)\u001b[0m\u001b[1;33m,\u001b[0m \u001b[1;34m'정수여야 합니다.'\u001b[0m \u001b[1;31m#체크하는 기능 #따옴표 안이 오류 발생 시 설명 부분\u001b[0m\u001b[1;33m\u001b[0m\u001b[1;33m\u001b[0m\u001b[0m\n\u001b[0m\u001b[0;32m      3\u001b[0m     \u001b[1;32mreturn\u001b[0m \u001b[0mbin\u001b[0m\u001b[1;33m(\u001b[0m\u001b[0mnum\u001b[0m\u001b[1;33m)\u001b[0m\u001b[1;33m\u001b[0m\u001b[1;33m\u001b[0m\u001b[0m\n\u001b[0;32m      4\u001b[0m \u001b[1;33m\u001b[0m\u001b[0m\n\u001b[0;32m      5\u001b[0m \u001b[0mget_binary\u001b[0m\u001b[1;33m(\u001b[0m\u001b[1;34m'ee'\u001b[0m\u001b[1;33m)\u001b[0m\u001b[1;33m\u001b[0m\u001b[1;33m\u001b[0m\u001b[0m\n",
      "\u001b[1;31mAssertionError\u001b[0m: 정수여야 합니다."
     ]
    }
   ],
   "source": [
    "def get_binary(num):\n",
    "    assert isinstance(num, int), '정수여야 합니다.' #체크하는 기능 #따옴표 안이 오류 발생 시 설명 부분\n",
    "    return bin(num)\n",
    "\n",
    "get_binary('ee')"
   ]
  },
  {
   "cell_type": "code",
   "execution_count": null,
   "id": "3908b265",
   "metadata": {},
   "outputs": [],
   "source": [
    "### 예외 정의하기\n",
    "- 사용자 정의 예외"
   ]
  },
  {
   "cell_type": "code",
   "execution_count": 37,
   "id": "87a7d874",
   "metadata": {},
   "outputs": [],
   "source": [
    "class MyException(Exception): #괄호안의 exception 상속 받아야 함\n",
    "    pass"
   ]
  },
  {
   "cell_type": "code",
   "execution_count": 38,
   "id": "d99bb112",
   "metadata": {},
   "outputs": [
    {
     "ename": "MyException",
     "evalue": "대문자 사용 불가",
     "output_type": "error",
     "traceback": [
      "\u001b[1;31m---------------------------------------------------------------------------\u001b[0m",
      "\u001b[1;31mMyException\u001b[0m                               Traceback (most recent call last)",
      "\u001b[1;32m~\\AppData\\Local\\Temp/ipykernel_27556/2332026968.py\u001b[0m in \u001b[0;36m<module>\u001b[1;34m\u001b[0m\n\u001b[0;32m      1\u001b[0m \u001b[1;32mfor\u001b[0m \u001b[0mword\u001b[0m \u001b[1;32min\u001b[0m \u001b[1;33m[\u001b[0m\u001b[1;34m'a'\u001b[0m\u001b[1;33m,\u001b[0m \u001b[1;34m'b'\u001b[0m\u001b[1;33m,\u001b[0m \u001b[1;34m'C'\u001b[0m\u001b[1;33m]\u001b[0m\u001b[1;33m:\u001b[0m\u001b[1;33m\u001b[0m\u001b[1;33m\u001b[0m\u001b[0m\n\u001b[0;32m      2\u001b[0m     \u001b[1;32mif\u001b[0m \u001b[0mword\u001b[0m\u001b[1;33m.\u001b[0m\u001b[0misupper\u001b[0m\u001b[1;33m(\u001b[0m\u001b[1;33m)\u001b[0m\u001b[1;33m:\u001b[0m\u001b[1;33m\u001b[0m\u001b[1;33m\u001b[0m\u001b[0m\n\u001b[1;32m----> 3\u001b[1;33m         \u001b[1;32mraise\u001b[0m \u001b[0mMyException\u001b[0m\u001b[1;33m(\u001b[0m\u001b[1;34m'대문자 사용 불가'\u001b[0m\u001b[1;33m)\u001b[0m\u001b[1;33m\u001b[0m\u001b[1;33m\u001b[0m\u001b[0m\n\u001b[0m",
      "\u001b[1;31mMyException\u001b[0m: 대문자 사용 불가"
     ]
    }
   ],
   "source": [
    "for word in ['a', 'b', 'C']:\n",
    "    if word.isupper():\n",
    "        raise MyException('대문자 사용 불가')"
   ]
  },
  {
   "cell_type": "code",
   "execution_count": 39,
   "id": "f276bbe8",
   "metadata": {},
   "outputs": [
    {
     "name": "stdout",
     "output_type": "stream",
     "text": [
      "a\n",
      "b\n"
     ]
    },
    {
     "ename": "UppercaseException",
     "evalue": "대문자 사용 불가능",
     "output_type": "error",
     "traceback": [
      "\u001b[1;31m---------------------------------------------------------------------------\u001b[0m",
      "\u001b[1;31mUppercaseException\u001b[0m                        Traceback (most recent call last)",
      "\u001b[1;32m~\\AppData\\Local\\Temp/ipykernel_27556/183368592.py\u001b[0m in \u001b[0;36m<module>\u001b[1;34m\u001b[0m\n\u001b[0;32m      5\u001b[0m \u001b[1;32mfor\u001b[0m \u001b[0mword\u001b[0m \u001b[1;32min\u001b[0m \u001b[1;33m[\u001b[0m\u001b[1;34m'a'\u001b[0m\u001b[1;33m,\u001b[0m \u001b[1;34m'b'\u001b[0m\u001b[1;33m,\u001b[0m \u001b[1;34m'C'\u001b[0m\u001b[1;33m]\u001b[0m\u001b[1;33m:\u001b[0m\u001b[1;33m\u001b[0m\u001b[1;33m\u001b[0m\u001b[0m\n\u001b[0;32m      6\u001b[0m     \u001b[1;32mif\u001b[0m \u001b[0mword\u001b[0m\u001b[1;33m.\u001b[0m\u001b[0misupper\u001b[0m\u001b[1;33m(\u001b[0m\u001b[1;33m)\u001b[0m\u001b[1;33m:\u001b[0m\u001b[1;33m\u001b[0m\u001b[1;33m\u001b[0m\u001b[0m\n\u001b[1;32m----> 7\u001b[1;33m         \u001b[1;32mraise\u001b[0m \u001b[0mUppercaseException\u001b[0m\u001b[1;33m\u001b[0m\u001b[1;33m\u001b[0m\u001b[0m\n\u001b[0m\u001b[0;32m      8\u001b[0m     \u001b[1;32melse\u001b[0m\u001b[1;33m:\u001b[0m\u001b[1;33m\u001b[0m\u001b[1;33m\u001b[0m\u001b[0m\n\u001b[0;32m      9\u001b[0m         \u001b[0mprint\u001b[0m\u001b[1;33m(\u001b[0m\u001b[0mword\u001b[0m\u001b[1;33m)\u001b[0m\u001b[1;33m\u001b[0m\u001b[1;33m\u001b[0m\u001b[0m\n",
      "\u001b[1;31mUppercaseException\u001b[0m: 대문자 사용 불가능"
     ]
    }
   ],
   "source": [
    "class UppercaseException(Exception):\n",
    "    def __init__(self):\n",
    "        super().__init__('대문자 사용 불가능')\n",
    "    \n",
    "for word in ['a', 'b', 'C']:\n",
    "    if word.isupper():\n",
    "        raise UppercaseException\n",
    "    else:\n",
    "        print(word)"
   ]
  },
  {
   "cell_type": "code",
   "execution_count": null,
   "id": "bcb73825",
   "metadata": {},
   "outputs": [],
   "source": []
  }
 ],
 "metadata": {
  "kernelspec": {
   "display_name": "Python 3 (ipykernel)",
   "language": "python",
   "name": "python3"
  },
  "language_info": {
   "codemirror_mode": {
    "name": "ipython",
    "version": 3
   },
   "file_extension": ".py",
   "mimetype": "text/x-python",
   "name": "python",
   "nbconvert_exporter": "python",
   "pygments_lexer": "ipython3",
   "version": "3.9.7"
  }
 },
 "nbformat": 4,
 "nbformat_minor": 5
}
