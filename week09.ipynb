{
 "cells": [
  {
   "cell_type": "markdown",
   "id": "398f8e88",
   "metadata": {},
   "source": [
    "### Dictionary\n",
    "- 영어 사전과 같은 구조로 생각하면 된다.\n",
    "    - 단어: 뜻\n",
    "    - 키: 값\n",
    "    - ':'으로 짝 지어져 있는 형태의 자료구조\n",
    "- 순서가 없다. => 인덱싱 불가능\n",
    "    - 키로 값을 찾는다.\n",
    "        - 이때, 키로 값을 찾기 때문에, 키는 중복되지 않는 고유한 값\n",
    "- 가변 타입으로 수정, 삭제, 추가가 가능하다.\n",
    "- 타입은 dict이다.\n",
    "- 형 변환은 dict()로 하면 된다.\n",
    "- 중괄호를 사용하며 {}, 콤마로 구분한다.\n",
    "- 중요 값에 다양한 자료구조가 올 수 있다.\n",
    "- 단순히 a:1 뿐만이 아니라, a:[1, 2, 3, 4]와 같이 리스트도 올 수 있다."
   ]
  },
  {
   "cell_type": "code",
   "execution_count": 1,
   "id": "c8dfb210",
   "metadata": {
    "scrolled": true
   },
   "outputs": [
    {
     "name": "stdout",
     "output_type": "stream",
     "text": [
      "<class 'dict'>\n",
      "<class 'set'>\n"
     ]
    }
   ],
   "source": [
    "# 빈 딕셔너리 선언\n",
    "empty = dict()\n",
    "empty_dict = {}\n",
    "print(type(empty_dict))\n",
    "\n",
    "# set와 다르다\n",
    "empty_set = set()\n",
    "print(type(empty_set))"
   ]
  },
  {
   "cell_type": "code",
   "execution_count": 2,
   "id": "c393d004",
   "metadata": {
    "scrolled": true
   },
   "outputs": [
    {
     "data": {
      "text/plain": [
       "({1, 2, 3}, {1: 'apple', 2: 'banana', 3: 'kiwi'})"
      ]
     },
     "execution_count": 2,
     "metadata": {},
     "output_type": "execute_result"
    }
   ],
   "source": [
    "# = set\n",
    "a = {1, 2, 3} \n",
    "\n",
    "# = dict\n",
    "b = {1:'apple', 2:'banana', 3:'kiwi'}\n",
    "\n",
    "a, b"
   ]
  },
  {
   "cell_type": "code",
   "execution_count": 3,
   "id": "8a8c939f",
   "metadata": {
    "scrolled": true
   },
   "outputs": [
    {
     "data": {
      "text/plain": [
       "{'apple': 'a', 'banana': 'b', 'kiwi': 'c'}"
      ]
     },
     "execution_count": 3,
     "metadata": {},
     "output_type": "execute_result"
    }
   ],
   "source": [
    "# 콜론:을 쓰지 않고 딕셔너리 만드는 \n",
    "c = {'':'', '':'', '':''}\n",
    "\n",
    "# 방법\n",
    "# 이 경우 키 값은 '' 안 해도 됨\n",
    "c = dict(apple='a', banana='b', kiwi='c')\n",
    "c"
   ]
  },
  {
   "cell_type": "markdown",
   "id": "a74b1a71",
   "metadata": {},
   "source": [
    "### 딕셔너리 실습1\n",
    "- 출석부로 딕셔너리 만들기\n",
    "- 이름, 학번, 학과 \n",
    "\n",
    "    james 202201 경제학과 \n",
    "    \n",
    "    laura 202203 스페인어과\n",
    "    \n",
    "    louis 202202 컴공과"
   ]
  },
  {
   "cell_type": "code",
   "execution_count": 4,
   "id": "ff6b067e",
   "metadata": {
    "scrolled": true
   },
   "outputs": [
    {
     "data": {
      "text/plain": [
       "{202201: ['james', '경제학과'],\n",
       " 202203: ['laura', '스페인어과'],\n",
       " 202202: ['louis', '컴공과']}"
      ]
     },
     "execution_count": 4,
     "metadata": {},
     "output_type": "execute_result"
    }
   ],
   "source": [
    "# 중복이 안 되는 것을 기준으로 key 할당\n",
    "# value 값에는 다양한 자료구조를 넣을 수 있음.\n",
    "# = 하나하나 활용하기 위해서!\n",
    "\n",
    "{202201:['james', '경제학과'], 202203:['laura', '스페인어과'], 202202:['louis', '컴공과']}"
   ]
  },
  {
   "cell_type": "markdown",
   "id": "3bf3e50d",
   "metadata": {},
   "source": [
    "### 형 변환\n",
    "- key, value 값이 쌍으로 있을 때 가능"
   ]
  },
  {
   "cell_type": "code",
   "execution_count": 5,
   "id": "0610f152",
   "metadata": {},
   "outputs": [
    {
     "data": {
      "text/plain": [
       "{1: 2, 2: 3, 3: 4}"
      ]
     },
     "execution_count": 5,
     "metadata": {},
     "output_type": "execute_result"
    }
   ],
   "source": [
    "# [] 안에 []가 쌍으로 존재할 때\n",
    "# 튜플()이어도 가능\n",
    "\n",
    "ex1 = [[1, 2], [2, 3], [3, 4]]\n",
    "dict(ex1)"
   ]
  },
  {
   "cell_type": "code",
   "execution_count": 6,
   "id": "c92e3736",
   "metadata": {},
   "outputs": [
    {
     "data": {
      "text/plain": [
       "{1: 3, 2: 3}"
      ]
     },
     "execution_count": 6,
     "metadata": {},
     "output_type": "execute_result"
    }
   ],
   "source": [
    "# 만약 key가 똑같다면, 마지막의 value를 할당\n",
    "\n",
    "ex2 = [[1, 2], [2, 3], [1, 3]]\n",
    "dict(ex2)\n"
   ]
  },
  {
   "cell_type": "code",
   "execution_count": 7,
   "id": "64d19ab9",
   "metadata": {},
   "outputs": [
    {
     "data": {
      "text/plain": [
       "{'a': 'b', 'b': 'c', 'c': 'd'}"
      ]
     },
     "execution_count": 7,
     "metadata": {},
     "output_type": "execute_result"
    }
   ],
   "source": [
    "# 문자열도 가능한데, 딱 두자리만 있어야 함. \n",
    "# 세 자리 이상이 되면 오류\n",
    "\n",
    "ex3 = ['ab', 'bc', 'cd']\n",
    "dict(ex3)"
   ]
  },
  {
   "cell_type": "markdown",
   "id": "4a2db168",
   "metadata": {},
   "source": [
    "### 항목 조회 & 변경 & 추가 & 삭제"
   ]
  },
  {
   "cell_type": "code",
   "execution_count": 8,
   "id": "302dcca5",
   "metadata": {},
   "outputs": [],
   "source": [
    "# 성과 이름이 담긴 딕셔너리\n",
    "\n",
    "pythons = { \n",
    "    'Chapman': 'Graham',\n",
    "    'Cleese': 'john',\n",
    "    'Idle': 'Eric',\n",
    "    'Jones': 'Terry',\n",
    "    'Palin':'Michael',\n",
    "}"
   ]
  },
  {
   "cell_type": "code",
   "execution_count": 9,
   "id": "35dd048b",
   "metadata": {},
   "outputs": [
    {
     "data": {
      "text/plain": [
       "'Eric'"
      ]
     },
     "execution_count": 9,
     "metadata": {},
     "output_type": "execute_result"
    }
   ],
   "source": [
    "# 조회(key로 value를 찾음)\n",
    "# 없는 값이면 예외가 생김\n",
    "pythons['Idle']"
   ]
  },
  {
   "cell_type": "code",
   "execution_count": 26,
   "id": "4e789c8f",
   "metadata": {},
   "outputs": [
    {
     "name": "stdout",
     "output_type": "stream",
     "text": [
      "True\n",
      "None\n",
      "0\n"
     ]
    }
   ],
   "source": [
    "# 오류가 뜨지 않도록 하는 방법\n",
    "\n",
    "# 1. 값이 있는지 없는지 확인한 다음에 하기\n",
    "print('Hwa' in pythons)\n",
    "\n",
    "# 2. get()\n",
    "# 있으면 값을 반환, 없으면 None을 반환\n",
    "print(pythons.get('Lee'))\n",
    "\n",
    "# 값이 없을 때 반환할 값을 자유롭게 설정 가능 (예: 0)\n",
    "print(pythons.get('Lee', 0))"
   ]
  },
  {
   "cell_type": "markdown",
   "id": "95c54816",
   "metadata": {},
   "source": [
    "### 전체 조회\n",
    "- keys()\n",
    "- values()\n",
    "- items()"
   ]
  },
  {
   "cell_type": "code",
   "execution_count": 18,
   "id": "dab98460",
   "metadata": {
    "scrolled": true
   },
   "outputs": [
    {
     "data": {
      "text/plain": [
       "dict_keys(['Chapman', 'Cleese', 'Idle', 'Jones', 'Palin', 'Hwa', 'Howard'])"
      ]
     },
     "execution_count": 18,
     "metadata": {},
     "output_type": "execute_result"
    }
   ],
   "source": [
    "pythons.keys()"
   ]
  },
  {
   "cell_type": "code",
   "execution_count": 19,
   "id": "caaed7a6",
   "metadata": {},
   "outputs": [
    {
     "data": {
      "text/plain": [
       "dict_values(['Graham', 'john', 'james', 'Terry', 'Michael', 'Chloe', 'Moe'])"
      ]
     },
     "execution_count": 19,
     "metadata": {},
     "output_type": "execute_result"
    }
   ],
   "source": [
    "pythons.values()"
   ]
  },
  {
   "cell_type": "code",
   "execution_count": 21,
   "id": "a198ff9e",
   "metadata": {},
   "outputs": [
    {
     "data": {
      "text/plain": [
       "dict_items([('Chapman', 'Graham'), ('Cleese', 'john'), ('Idle', 'james'), ('Jones', 'Terry'), ('Palin', 'Michael'), ('Hwa', 'Chloe'), ('Howard', 'Moe')])"
      ]
     },
     "execution_count": 21,
     "metadata": {},
     "output_type": "execute_result"
    }
   ],
   "source": [
    "# (키, 값) 튜플 형태로 한꺼번에 조회 => 순회할 때 많이 사용\n",
    "pythons.items() "
   ]
  },
  {
   "cell_type": "code",
   "execution_count": 23,
   "id": "37e66a2a",
   "metadata": {},
   "outputs": [
    {
     "name": "stdout",
     "output_type": "stream",
     "text": [
      "<class 'dict_keys'>\n",
      "['Chapman', 'Cleese', 'Idle', 'Jones', 'Palin', 'Hwa', 'Howard']\n"
     ]
    }
   ],
   "source": [
    "# 리스트로 형 변환 해주는 게 메모리를 효율적으로 사용하는 방법\n",
    "print(type(pythons.keys()))\n",
    "print(list(pythons.keys()))"
   ]
  },
  {
   "cell_type": "code",
   "execution_count": 24,
   "id": "d889e76d",
   "metadata": {
    "scrolled": true
   },
   "outputs": [
    {
     "name": "stdout",
     "output_type": "stream",
     "text": [
      "Chapman = Graham\n",
      "Cleese = john\n",
      "Idle = james\n",
      "Jones = Terry\n",
      "Palin = Michael\n",
      "Hwa = Chloe\n",
      "Howard = Moe\n",
      "\n"
     ]
    },
    {
     "data": {
      "text/plain": [
       "[('Chapman', 'Graham'),\n",
       " ('Cleese', 'john'),\n",
       " ('Idle', 'james'),\n",
       " ('Jones', 'Terry'),\n",
       " ('Palin', 'Michael'),\n",
       " ('Hwa', 'Chloe'),\n",
       " ('Howard', 'Moe')]"
      ]
     },
     "execution_count": 24,
     "metadata": {},
     "output_type": "execute_result"
    }
   ],
   "source": [
    "# item 순회\n",
    "for k, v, in pythons.items():\n",
    "    print(f'{k} = {v}')\n",
    "    \n",
    "print()\n",
    "    \n",
    "# 리스트 컴프리헨션\n",
    "[(k, v) for k, v in pythons.items()]"
   ]
  },
  {
   "cell_type": "code",
   "execution_count": 11,
   "id": "cab67882",
   "metadata": {},
   "outputs": [
    {
     "data": {
      "text/plain": [
       "{'Chapman': 'Graham',\n",
       " 'Cleese': 'john',\n",
       " 'Idle': 'james',\n",
       " 'Jones': 'Terry',\n",
       " 'Palin': 'Michael'}"
      ]
     },
     "execution_count": 11,
     "metadata": {},
     "output_type": "execute_result"
    }
   ],
   "source": [
    "# 변경(key를 찾아서 다른 value를 넣음)\n",
    "pythons['Idle'] = 'james'\n",
    "pythons"
   ]
  },
  {
   "cell_type": "code",
   "execution_count": 12,
   "id": "0ab19b21",
   "metadata": {},
   "outputs": [
    {
     "data": {
      "text/plain": [
       "{'Chapman': 'Graham',\n",
       " 'Cleese': 'john',\n",
       " 'Idle': 'james',\n",
       " 'Jones': 'Terry',\n",
       " 'Palin': 'Michael',\n",
       " 'Hwa': 'Chloe'}"
      ]
     },
     "execution_count": 12,
     "metadata": {},
     "output_type": "execute_result"
    }
   ],
   "source": [
    "# 추가(없는 값에 하면 추가 됨)\n",
    "pythons['Hwa'] = 'Chloe'\n",
    "pythons"
   ]
  },
  {
   "cell_type": "markdown",
   "id": "377e3955",
   "metadata": {},
   "source": [
    "### Q. for loop 이용해 animal : leg로 이뤄진 딕셔너리 만들기"
   ]
  },
  {
   "cell_type": "code",
   "execution_count": 28,
   "id": "74d8d196",
   "metadata": {},
   "outputs": [],
   "source": [
    "animal = 'cat snake monkey ant spider'.split()\n",
    "legs = 4, 0, 2, 4, 8"
   ]
  },
  {
   "cell_type": "code",
   "execution_count": 32,
   "id": "f9da3522",
   "metadata": {},
   "outputs": [
    {
     "name": "stdout",
     "output_type": "stream",
     "text": [
      "{'cat': 4, 'snake': 0, 'monkey': 2, 'ant': 4, 'spider': 8}\n"
     ]
    }
   ],
   "source": [
    "num_leg = {}\n",
    "for i in range(len(animal)):\n",
    "    num_leg[animal[i]] = legs[i]\n",
    "print(animals)"
   ]
  },
  {
   "cell_type": "code",
   "execution_count": 33,
   "id": "3db69c6b",
   "metadata": {},
   "outputs": [
    {
     "name": "stdout",
     "output_type": "stream",
     "text": [
      "{'cat': 4, 'snake': 0, 'monkey': 2, 'ant': 4, 'spider': 8}\n"
     ]
    }
   ],
   "source": [
    "animal_dict = {}\n",
    "for k, v in zip(animal, legs):\n",
    "    animal_dict[k] = v\n",
    "print(animal_dict)"
   ]
  },
  {
   "cell_type": "code",
   "execution_count": null,
   "id": "225b1d78",
   "metadata": {},
   "outputs": [],
   "source": [
    "new_phthons = {}\n",
    "dict([[k, legs(animal.index(k))] for k in animal])"
   ]
  },
  {
   "cell_type": "markdown",
   "id": "837c6277",
   "metadata": {},
   "source": [
    "#### Q. Pythons에서 성: 이름, 성 첫 글자만, 이름은 글자 개수로 이뤄진 튜플(성 이름) 리스트로 반환하기\n",
    "    - dict comprehension 쓰지 말기\n",
    "    \n",
    "    [(), ()] -> items()"
   ]
  },
  {
   "cell_type": "code",
   "execution_count": 35,
   "id": "402e1b0c",
   "metadata": {},
   "outputs": [
    {
     "data": {
      "text/plain": [
       "[('C', 6), ('C', 4), ('I', 5), ('J', 5), ('P', 7), ('H', 5), ('H', 3)]"
      ]
     },
     "execution_count": 35,
     "metadata": {},
     "output_type": "execute_result"
    }
   ],
   "source": [
    "# 1. 순회한다 2. 각 요소 변화\n",
    "[(key[0], len(value)) for key, value in pythons.items()] #정답"
   ]
  },
  {
   "cell_type": "markdown",
   "id": "35d10ab0",
   "metadata": {},
   "source": [
    "### 값 수정, 삭제, 복제, 비교"
   ]
  },
  {
   "cell_type": "code",
   "execution_count": 8,
   "id": "9ec26ca4",
   "metadata": {},
   "outputs": [
    {
     "data": {
      "text/plain": [
       "{'Chapman': 'Graham',\n",
       " 'Cleese': 'John',\n",
       " 'Idle': 'Eric',\n",
       " 'Jones': 'Terry',\n",
       " 'Palin': 'Michael',\n",
       " 'Hwa': 'Chioe'}"
      ]
     },
     "execution_count": 8,
     "metadata": {},
     "output_type": "execute_result"
    }
   ],
   "source": [
    "pythons"
   ]
  },
  {
   "cell_type": "code",
   "execution_count": 15,
   "id": "46908545",
   "metadata": {},
   "outputs": [
    {
     "data": {
      "text/plain": [
       "{'Marx': 'Groucho', 'Howard': 'Moe'}"
      ]
     },
     "execution_count": 15,
     "metadata": {},
     "output_type": "execute_result"
    }
   ],
   "source": [
    "others = {\n",
    "    'Marx': 'Groucho',\n",
    "    'Howard': 'Moe'\n",
    "}\n",
    "others"
   ]
  },
  {
   "cell_type": "code",
   "execution_count": 16,
   "id": "ce14cb28",
   "metadata": {},
   "outputs": [],
   "source": [
    "pythons.update(others) #딕셔너리 + 딕셔너리 합치기 # 여러 개를 추가하는 경우 update (병합)"
   ]
  },
  {
   "cell_type": "code",
   "execution_count": 11,
   "id": "e1fb6da9",
   "metadata": {},
   "outputs": [
    {
     "data": {
      "text/plain": [
       "{'Chapman': 'Graham',\n",
       " 'Cleese': 'John',\n",
       " 'Idle': 'Eric',\n",
       " 'Jones': 'Terry',\n",
       " 'Palin': 'Michael',\n",
       " 'Hwa': 'Chioe',\n",
       " 'Marx': 'Groucho',\n",
       " 'Howard': 'Moe'}"
      ]
     },
     "execution_count": 11,
     "metadata": {},
     "output_type": "execute_result"
    }
   ],
   "source": [
    "pythons"
   ]
  },
  {
   "cell_type": "code",
   "execution_count": 13,
   "id": "ba24f7ef",
   "metadata": {},
   "outputs": [
    {
     "data": {
      "text/plain": [
       "{'Marx': 'Groucho',\n",
       " 'Howard': 'Moe',\n",
       " 'Chapman': 'Graham',\n",
       " 'Cleese': 'John',\n",
       " 'Idle': 'Eric',\n",
       " 'Jones': 'Terry',\n",
       " 'Palin': 'Michael',\n",
       " 'Hwa': 'Chioe'}"
      ]
     },
     "execution_count": 13,
     "metadata": {},
     "output_type": "execute_result"
    }
   ],
   "source": [
    "# 파이썬 3에서만 있는 기능\n",
    "{**others, **pythons}"
   ]
  },
  {
   "cell_type": "code",
   "execution_count": 36,
   "id": "09cb1b8a",
   "metadata": {},
   "outputs": [
    {
     "data": {
      "text/plain": [
       "{'Chapman': 'Graham',\n",
       " 'Cleese': 'john',\n",
       " 'Idle': 'james',\n",
       " 'Jones': 'Terry',\n",
       " 'Palin': 'Michael',\n",
       " 'Howard': 'Moe'}"
      ]
     },
     "execution_count": 36,
     "metadata": {},
     "output_type": "execute_result"
    }
   ],
   "source": [
    " # 삭제 # 없는 요소를 삭제하려면 오류\n",
    "del pythons['Hwa']\n",
    "pythons"
   ]
  },
  {
   "cell_type": "code",
   "execution_count": 17,
   "id": "2a44b0e7",
   "metadata": {},
   "outputs": [
    {
     "data": {
      "text/plain": [
       "'Groucho'"
      ]
     },
     "execution_count": 17,
     "metadata": {},
     "output_type": "execute_result"
    }
   ],
   "source": [
    "pythons.pop('Marx') # 값을 반환한 뒤 삭제 됨"
   ]
  },
  {
   "cell_type": "code",
   "execution_count": 17,
   "id": "fc7f905d",
   "metadata": {},
   "outputs": [
    {
     "data": {
      "text/plain": [
       "0"
      ]
     },
     "execution_count": 17,
     "metadata": {},
     "output_type": "execute_result"
    }
   ],
   "source": [
    "pythons.pop('Lee', 0) #없는 요소면 0 반환"
   ]
  },
  {
   "cell_type": "code",
   "execution_count": 18,
   "id": "36d68eaf",
   "metadata": {},
   "outputs": [
    {
     "data": {
      "text/plain": [
       "{}"
      ]
     },
     "execution_count": 18,
     "metadata": {},
     "output_type": "execute_result"
    }
   ],
   "source": [
    "#전체삭제\n",
    "pythons.clear()\n",
    "pythons = {}\n",
    "pythons"
   ]
  },
  {
   "cell_type": "code",
   "execution_count": 25,
   "id": "158308ae",
   "metadata": {},
   "outputs": [
    {
     "data": {
      "text/plain": [
       "['Chapman', 'Cleese', 'Idle', 'Jones', 'Palin', 'Hwa', 'Howard']"
      ]
     },
     "execution_count": 25,
     "metadata": {},
     "output_type": "execute_result"
    }
   ],
   "source": [
    "# items()는 튜플의 형태 => 각각 인덱스로 접근이 가능\n",
    "\n",
    "# 0은 key 값, 1은 value 값\n",
    "[k[0] for k in pythons.items()] "
   ]
  },
  {
   "cell_type": "markdown",
   "id": "3fe75142",
   "metadata": {},
   "source": [
    "### 복제\n",
    "- 할당\n",
    "- 얕은 복사\n",
    "- 깊은 복사"
   ]
  },
  {
   "cell_type": "code",
   "execution_count": 37,
   "id": "f441a36f",
   "metadata": {},
   "outputs": [
    {
     "data": {
      "text/plain": [
       "({1: 45, 2: 2, 3: 3}, {1: 45, 2: 2, 3: 3})"
      ]
     },
     "execution_count": 37,
     "metadata": {},
     "output_type": "execute_result"
    }
   ],
   "source": [
    "a = {1:1, 2:2, 3:3}\n",
    "b = a # 할당\n",
    "a[1] = 45\n",
    "a, b"
   ]
  },
  {
   "cell_type": "code",
   "execution_count": 39,
   "id": "b22efffc",
   "metadata": {},
   "outputs": [
    {
     "data": {
      "text/plain": [
       "({1: 45, 2: 22, 3: 3}, {1: 45, 2: 22, 3: 3})"
      ]
     },
     "execution_count": 39,
     "metadata": {},
     "output_type": "execute_result"
    }
   ],
   "source": [
    "c = a.copy() #얕은 복사\n",
    "a[2] = 22\n",
    "a, c #값이 달라짐"
   ]
  },
  {
   "cell_type": "code",
   "execution_count": 40,
   "id": "3088f0ec",
   "metadata": {},
   "outputs": [
    {
     "data": {
      "text/plain": [
       "({1: [100, 2, 3], 2: [2, 3, 4]}, {1: [100, 2, 3], 2: [2, 3, 4]})"
      ]
     },
     "execution_count": 40,
     "metadata": {},
     "output_type": "execute_result"
    }
   ],
   "source": [
    "a = {1: [1, 2, 3], 2: [2, 3, 4]} # 가변객체 속 가변객체는 copy에서 제외된다\n",
    "d = a.copy()\n",
    "a[1][0] = 100\n",
    "a, d\n",
    "# 깊은 복사를 해야한다 "
   ]
  },
  {
   "cell_type": "code",
   "execution_count": 24,
   "id": "baa87e47",
   "metadata": {},
   "outputs": [
    {
     "data": {
      "text/plain": [
       "({1: [100, 999, 3], 2: [2, 3, 4]}, {1: [100, 999, 3], 2: [2, 3, 4]})"
      ]
     },
     "execution_count": 24,
     "metadata": {},
     "output_type": "execute_result"
    }
   ],
   "source": [
    "import copy\n",
    "e = copy.deepcopy(a) # 깊은 복사\n",
    "a[1][1] = 999\n",
    "a, e"
   ]
  },
  {
   "cell_type": "markdown",
   "id": "729c0075",
   "metadata": {},
   "source": [
    "#### 비교\n",
    "- '같다 or 다르다'만 가능하다"
   ]
  },
  {
   "cell_type": "code",
   "execution_count": 25,
   "id": "34aed19f",
   "metadata": {},
   "outputs": [
    {
     "data": {
      "text/plain": [
       "True"
      ]
     },
     "execution_count": 25,
     "metadata": {},
     "output_type": "execute_result"
    }
   ],
   "source": [
    "a != b"
   ]
  },
  {
   "cell_type": "markdown",
   "id": "4d5e96db",
   "metadata": {},
   "source": [
    "### Q4.\n",
    "1. 두 리스트로 하나의 딕셔너리 생성\n",
    "2. 명왕성 = pluto 추가하기\n",
    "3. '성'으로 끝나지 않는 키 삭제하기\n",
    "    ** del dict1['태양'] < 안됨\n",
    "4. sorted 이용해서 값 정렬하기 i) key, ii) value"
   ]
  },
  {
   "cell_type": "code",
   "execution_count": 42,
   "id": "761f0bc1",
   "metadata": {},
   "outputs": [],
   "source": [
    "solar_kor = '태양 수성 금성 지구 화성 목성 토성 천왕성 해왕성'.split()\n",
    "solar_eng = 'sun mercury venus earth mars jupiter saturn uranus neptune'.split()"
   ]
  },
  {
   "cell_type": "code",
   "execution_count": 43,
   "id": "a41a8b99",
   "metadata": {},
   "outputs": [],
   "source": [
    "# 혼자 해본 것... 2번까지밖에 못함\n",
    "solar = dict(zip(solar_kor, solar_eng))\n",
    "solar['명왕성'] = 'pluto'\n"
   ]
  },
  {
   "cell_type": "code",
   "execution_count": 56,
   "id": "c2482b6d",
   "metadata": {},
   "outputs": [
    {
     "data": {
      "text/plain": [
       "{'태양': 'sun',\n",
       " '수성': 'mercury',\n",
       " '금성': 'venus',\n",
       " '지구': 'earth',\n",
       " '화성': 'mars',\n",
       " '목성': 'jupiter',\n",
       " '토성': 'saturn',\n",
       " '천왕성': 'uranus',\n",
       " '해왕성': 'neptune'}"
      ]
     },
     "execution_count": 56,
     "metadata": {},
     "output_type": "execute_result"
    }
   ],
   "source": [
    "# 답\n",
    "system = {}\n",
    "for k, v in zip(solar_kor, solar_eng):\n",
    "    system[k] = v\n",
    "system"
   ]
  },
  {
   "cell_type": "code",
   "execution_count": 57,
   "id": "a2e7609e",
   "metadata": {},
   "outputs": [
    {
     "data": {
      "text/plain": [
       "{'태양': 'sun',\n",
       " '수성': 'mercury',\n",
       " '금성': 'venus',\n",
       " '지구': 'earth',\n",
       " '화성': 'mars',\n",
       " '목성': 'jupiter',\n",
       " '토성': 'saturn',\n",
       " '천왕성': 'uranus',\n",
       " '해왕성': 'neptune',\n",
       " '명왕성': 'pluto'}"
      ]
     },
     "execution_count": 57,
     "metadata": {},
     "output_type": "execute_result"
    }
   ],
   "source": [
    "system['명왕성'] = 'pluto'\n",
    "system"
   ]
  },
  {
   "cell_type": "code",
   "execution_count": 50,
   "id": "b7daf61e",
   "metadata": {},
   "outputs": [
    {
     "data": {
      "text/plain": [
       "{'수성': 'mercury',\n",
       " '금성': 'venus',\n",
       " '화성': 'mars',\n",
       " '목성': 'jupiter',\n",
       " '토성': 'saturn',\n",
       " '천왕성': 'uranus',\n",
       " '해왕성': 'neptune',\n",
       " '명왕성': 'pluto'}"
      ]
     },
     "execution_count": 50,
     "metadata": {},
     "output_type": "execute_result"
    }
   ],
   "source": [
    "dict([(k, system[k]) for k in system if k.endswith('성')])  # 답이 맞긴 하나 비효율적 - > 딕셔너리컴프리헨션으로"
   ]
  },
  {
   "cell_type": "code",
   "execution_count": 68,
   "id": "9a37bdeb",
   "metadata": {},
   "outputs": [
    {
     "data": {
      "text/plain": [
       "{'수성': 'mercury',\n",
       " '금성': 'venus',\n",
       " '화성': 'mars',\n",
       " '목성': 'jupiter',\n",
       " '토성': 'saturn',\n",
       " '천왕성': 'uranus',\n",
       " '해왕성': 'neptune',\n",
       " '명왕성': 'pluto'}"
      ]
     },
     "execution_count": 68,
     "metadata": {},
     "output_type": "execute_result"
    }
   ],
   "source": [
    "{k: v for k, v in system.items() if k.endswith('성')}"
   ]
  },
  {
   "cell_type": "markdown",
   "id": "f86141cc",
   "metadata": {},
   "source": [
    "### 딕셔너리 컴프리헨션"
   ]
  },
  {
   "cell_type": "code",
   "execution_count": 44,
   "id": "7565b914",
   "metadata": {},
   "outputs": [
    {
     "name": "stdout",
     "output_type": "stream",
     "text": [
      "room has the contents ballroom\n",
      "weapon has the contents lead pipe\n",
      "person has the contents Col. Mustard\n"
     ]
    }
   ],
   "source": [
    "accusation = {'room': 'ballroom', 'weapon': 'lead pipe', 'person': 'Col. Mustard'}\n",
    "\n",
    "for k, v in accusation.items():\n",
    "    print(f'{k} has the contents {v}')"
   ]
  },
  {
   "cell_type": "code",
   "execution_count": 47,
   "id": "b70c2a2f",
   "metadata": {},
   "outputs": [
    {
     "data": {
      "text/plain": [
       "{'a': 1, 'p': 2, 'l': 1, 'e': 1}"
      ]
     },
     "execution_count": 47,
     "metadata": {},
     "output_type": "execute_result"
    }
   ],
   "source": [
    "letter = 'apple'\n",
    "{ch: letter.count(ch) for ch in letter} # 형변환을 하지 않아도 된다 set(letter)로 하면 알파벳 순서 바뀜"
   ]
  },
  {
   "cell_type": "code",
   "execution_count": 49,
   "id": "2af722a2",
   "metadata": {},
   "outputs": [],
   "source": [
    "# 단어의 모음 세기\n",
    "vowels = 'aeiou'\n",
    "word = 'onomatopoeia'\n",
    "# word 순회\n",
    "# vowels"
   ]
  },
  {
   "cell_type": "code",
   "execution_count": 66,
   "id": "afc8796b",
   "metadata": {},
   "outputs": [
    {
     "data": {
      "text/plain": [
       "{'a': 2, 'e': 1, 'i': 1, 'o': 4}"
      ]
     },
     "execution_count": 66,
     "metadata": {},
     "output_type": "execute_result"
    }
   ],
   "source": [
    "{v: word.count(v) for v in vowels if v in word} #vowels = list(vowels)"
   ]
  },
  {
   "cell_type": "code",
   "execution_count": 51,
   "id": "0cc0fdf7",
   "metadata": {},
   "outputs": [
    {
     "data": {
      "text/plain": [
       "{'a': 2, 'i': 1, 'e': 1, 'o': 4}"
      ]
     },
     "execution_count": 51,
     "metadata": {},
     "output_type": "execute_result"
    }
   ],
   "source": [
    "{w: word.count(w) for w in set(word) if w in vowels}"
   ]
  },
  {
   "cell_type": "code",
   "execution_count": 72,
   "id": "d79a3ca1",
   "metadata": {},
   "outputs": [
    {
     "data": {
      "text/plain": [
       "['금성', '명왕성', '목성', '수성', '지구', '천왕성', '태양', '토성', '해왕성', '화성']"
      ]
     },
     "execution_count": 72,
     "metadata": {},
     "output_type": "execute_result"
    }
   ],
   "source": [
    "sorted(system) # 리스트로 바뀌어서 출력"
   ]
  },
  {
   "cell_type": "code",
   "execution_count": 53,
   "id": "f8af6029",
   "metadata": {},
   "outputs": [],
   "source": [
    "def fx(x):\n",
    "    return x[1]"
   ]
  },
  {
   "cell_type": "code",
   "execution_count": 58,
   "id": "e853632f",
   "metadata": {},
   "outputs": [
    {
     "data": {
      "text/plain": [
       "[('지구', 'earth'),\n",
       " ('목성', 'jupiter'),\n",
       " ('화성', 'mars'),\n",
       " ('수성', 'mercury'),\n",
       " ('해왕성', 'neptune'),\n",
       " ('명왕성', 'pluto'),\n",
       " ('토성', 'saturn'),\n",
       " ('태양', 'sun'),\n",
       " ('천왕성', 'uranus'),\n",
       " ('금성', 'venus')]"
      ]
     },
     "execution_count": 58,
     "metadata": {},
     "output_type": "execute_result"
    }
   ],
   "source": [
    "sorted(system.items(), key=fx)\n",
    "\n",
    "# fx(system.items()) ... system.items() 튜플의 [1] 을 기준으로 sort"
   ]
  },
  {
   "cell_type": "code",
   "execution_count": 59,
   "id": "b5ed477a",
   "metadata": {},
   "outputs": [
    {
     "data": {
      "text/plain": [
       "[('지구', 'earth'),\n",
       " ('목성', 'jupiter'),\n",
       " ('화성', 'mars'),\n",
       " ('수성', 'mercury'),\n",
       " ('해왕성', 'neptune'),\n",
       " ('명왕성', 'pluto'),\n",
       " ('토성', 'saturn'),\n",
       " ('태양', 'sun'),\n",
       " ('천왕성', 'uranus'),\n",
       " ('금성', 'venus')]"
      ]
     },
     "execution_count": 59,
     "metadata": {},
     "output_type": "execute_result"
    }
   ],
   "source": [
    "# lambda\n",
    "# lambda를 활용하면 위의 과정을 간략화할 수 있다.\n",
    "sorted(system.items(), key=lambda x: x[1])"
   ]
  },
  {
   "cell_type": "markdown",
   "id": "681dd5ac",
   "metadata": {},
   "source": [
    "### set\n",
    "- 중복이 없다\n",
    "- 집합 -> 교집합, 합집합, 차집합,..\n",
    "- 집합을 이용해야 할 때\n",
    "- bag, 인덱싱도 없다"
   ]
  },
  {
   "cell_type": "code",
   "execution_count": 82,
   "id": "f97ddbc1",
   "metadata": {},
   "outputs": [
    {
     "data": {
      "text/plain": [
       "set()"
      ]
     },
     "execution_count": 82,
     "metadata": {},
     "output_type": "execute_result"
    }
   ],
   "source": [
    "empty = set()\n",
    "empty"
   ]
  },
  {
   "cell_type": "code",
   "execution_count": 83,
   "id": "99ed4368",
   "metadata": {},
   "outputs": [
    {
     "data": {
      "text/plain": [
       "{1, 2, 3}"
      ]
     },
     "execution_count": 83,
     "metadata": {},
     "output_type": "execute_result"
    }
   ],
   "source": [
    "a = {1, 2, 3} # 값이 있을 땐 그냥 넣으면 된다\n",
    "a "
   ]
  },
  {
   "cell_type": "code",
   "execution_count": 84,
   "id": "05dbe7d5",
   "metadata": {},
   "outputs": [
    {
     "data": {
      "text/plain": [
       "{1, 2, 3}"
      ]
     },
     "execution_count": 84,
     "metadata": {},
     "output_type": "execute_result"
    }
   ],
   "source": [
    "a = set((1, 2, 3)) # 선언, 형 변환 (같은 개념)\n",
    "a"
   ]
  },
  {
   "cell_type": "code",
   "execution_count": 88,
   "id": "7f608450",
   "metadata": {},
   "outputs": [
    {
     "data": {
      "text/plain": [
       "{1, 2, 3, 4}"
      ]
     },
     "execution_count": 88,
     "metadata": {},
     "output_type": "execute_result"
    }
   ],
   "source": [
    "# 추가\n",
    "a.add(4)\n",
    "a"
   ]
  },
  {
   "cell_type": "code",
   "execution_count": 89,
   "id": "f6592042",
   "metadata": {},
   "outputs": [
    {
     "data": {
      "text/plain": [
       "{1, 2, 3}"
      ]
     },
     "execution_count": 89,
     "metadata": {},
     "output_type": "execute_result"
    }
   ],
   "source": [
    "# 삭제\n",
    "a.remove(4)\n",
    "a"
   ]
  },
  {
   "cell_type": "code",
   "execution_count": 60,
   "id": "8c06a13e",
   "metadata": {},
   "outputs": [
    {
     "name": "stdout",
     "output_type": "stream",
     "text": [
      "{2, 3}\n",
      "{1, 2, 3, 4}\n",
      "{1} {4}\n"
     ]
    }
   ],
   "source": [
    "a = {1, 2, 3}\n",
    "b = {2, 3, 4}\n",
    "\n",
    "# 교집합 | intersection\n",
    "a.intersection(b)\n",
    "print(a & b)\n",
    "# 합집합 | union\n",
    "a.union(b)\n",
    "print(a | b)\n",
    "# 차집합 | difference\n",
    "a.difference(b)\n",
    "print(a - b, b - a)"
   ]
  },
  {
   "cell_type": "code",
   "execution_count": 62,
   "id": "e4c38b53",
   "metadata": {},
   "outputs": [],
   "source": [
    "drinks = {\n",
    "    'martini': {'vodka', 'vermouth'},\n",
    "    'black russian': {'vodka', 'kahlua'},\n",
    "    'white russian': {'cream', 'kahlua', 'vodka'},\n",
    "    'manhattan': {'rye', 'vermouth', 'bitters'},\n",
    "    'screwdriver': {'orange juice', 'vodka'}\n",
    "}\n",
    "# vodka가 포함된 술 출력하기\n",
    "# 보드가는 있지만 크림, 베르무스는 없는 술 출력하기"
   ]
  },
  {
   "cell_type": "code",
   "execution_count": 104,
   "id": "a878da2d",
   "metadata": {},
   "outputs": [],
   "source": [
    "# dict([(k, drinks[k]) for k in drinks if 'vodka' in drinks[k] and 'vermouth' not in drinks[k]])"
   ]
  },
  {
   "cell_type": "code",
   "execution_count": 63,
   "id": "63153d06",
   "metadata": {
    "scrolled": true
   },
   "outputs": [
    {
     "name": "stdout",
     "output_type": "stream",
     "text": [
      "martini\n",
      "black russian\n",
      "white russian\n",
      "screwdriver\n"
     ]
    }
   ],
   "source": [
    "# 1\n",
    "for k, v in drinks.items():\n",
    "    if 'vodka' in v:\n",
    "        print(k)"
   ]
  },
  {
   "cell_type": "code",
   "execution_count": 108,
   "id": "f5f3bb00",
   "metadata": {},
   "outputs": [
    {
     "name": "stdout",
     "output_type": "stream",
     "text": [
      "black russian\n",
      "screwdriver\n"
     ]
    }
   ],
   "source": [
    "#2\n",
    "for k, v in drinks.items():\n",
    "    #if 'vodka' in v and not 'cream' in v and not 'vermouth' in v:\n",
    "    if 'vodka' in v and not ('cream' in v or 'vermouth' in v):\n",
    "        print(k)"
   ]
  },
  {
   "cell_type": "code",
   "execution_count": 111,
   "id": "b2af188e",
   "metadata": {},
   "outputs": [
    {
     "name": "stdout",
     "output_type": "stream",
     "text": [
      "black russian\n",
      "screwdriver\n"
     ]
    }
   ],
   "source": [
    "#set 활용해서 바꾸기\n",
    "element = {'cream', 'vermouth'}\n",
    "for k, v in drinks.items():\n",
    "    if 'vodka' in v and not (v & element):\n",
    "        print(k)"
   ]
  },
  {
   "cell_type": "markdown",
   "id": "78b11f76",
   "metadata": {},
   "source": [
    "####  set comprehension"
   ]
  },
  {
   "cell_type": "code",
   "execution_count": 113,
   "id": "e22888da",
   "metadata": {},
   "outputs": [
    {
     "data": {
      "text/plain": [
       "{0, 1, 2, 3, 4}"
      ]
     },
     "execution_count": 113,
     "metadata": {},
     "output_type": "execute_result"
    }
   ],
   "source": [
    "{s for s in range(5)}"
   ]
  },
  {
   "cell_type": "code",
   "execution_count": 114,
   "id": "19da004a",
   "metadata": {},
   "outputs": [
    {
     "data": {
      "text/plain": [
       "frozenset({1, 2})"
      ]
     },
     "execution_count": 114,
     "metadata": {},
     "output_type": "execute_result"
    }
   ],
   "source": [
    "# frozenset\n",
    "set([1, 2])\n",
    "frozenset([1, 2])"
   ]
  },
  {
   "cell_type": "markdown",
   "id": "303f1bb3",
   "metadata": {},
   "source": [
    "### Project\n",
    "- 팀 별로 한 개의 파일 제출\n",
    "- 태스크를 풀어서 수업 30분 동안 랜덤 코드 설명 시킬 것 (마이크) -> 분석하기. 코드를 이해했다는 걸 보여줄 수 있게\n",
    "- 제출: 수요일 자정까지\n",
    "- 구글링 복붙 하면 0점\n",
    "- 코드는 같이 짜되 발표준비는 따로"
   ]
  },
  {
   "cell_type": "code",
   "execution_count": 115,
   "id": "0e1cf706",
   "metadata": {},
   "outputs": [
    {
     "name": "stdout",
     "output_type": "stream",
     "text": [
      "Requirement already satisfied: pylint in c:\\users\\perod\\anaconda3\\lib\\site-packages (2.9.6)\n",
      "Requirement already satisfied: toml>=0.7.1 in c:\\users\\perod\\anaconda3\\lib\\site-packages (from pylint) (0.10.2)\n",
      "Requirement already satisfied: mccabe<0.7,>=0.6 in c:\\users\\perod\\anaconda3\\lib\\site-packages (from pylint) (0.6.1)\n",
      "Requirement already satisfied: isort<6,>=4.2.5 in c:\\users\\perod\\anaconda3\\lib\\site-packages (from pylint) (5.9.3)\n",
      "Requirement already satisfied: colorama in c:\\users\\perod\\anaconda3\\lib\\site-packages (from pylint) (0.4.4)\n",
      "Requirement already satisfied: astroid<2.7,>=2.6.5 in c:\\users\\perod\\anaconda3\\lib\\site-packages (from pylint) (2.6.6)\n",
      "Requirement already satisfied: lazy-object-proxy>=1.4.0 in c:\\users\\perod\\anaconda3\\lib\\site-packages (from astroid<2.7,>=2.6.5->pylint) (1.6.0)\n",
      "Requirement already satisfied: wrapt<1.13,>=1.11 in c:\\users\\perod\\anaconda3\\lib\\site-packages (from astroid<2.7,>=2.6.5->pylint) (1.12.1)\n",
      "Requirement already satisfied: setuptools>=20.0 in c:\\users\\perod\\anaconda3\\lib\\site-packages (from astroid<2.7,>=2.6.5->pylint) (58.0.4)\n",
      "************* Module example.py\n",
      "example.py:1:0: F0001: No module named example.py (fatal)\n",
      "Requirement already satisfied: pydocstyle in c:\\users\\perod\\anaconda3\\lib\\site-packages (6.1.1)\n",
      "Requirement already satisfied: snowballstemmer in c:\\users\\perod\\anaconda3\\lib\\site-packages (from pydocstyle) (2.1.0)\n"
     ]
    },
    {
     "name": "stderr",
     "output_type": "stream",
     "text": [
      "WARNING: Error in file example.py: [Errno 2] No such file or directory: 'example.py'\n"
     ]
    }
   ],
   "source": [
    "!pip install pylint\n",
    "!pylint example.py\n",
    "# 디버깅 코드. 오류 설명해줌 \n",
    "# 이것도 점수에 들어간다 (?)\n",
    "\n",
    "!pip install pydocstyle\n",
    "!pydocstyle example.py"
   ]
  },
  {
   "cell_type": "code",
   "execution_count": null,
   "id": "415cb504",
   "metadata": {},
   "outputs": [],
   "source": []
  }
 ],
 "metadata": {
  "kernelspec": {
   "display_name": "Python 3 (ipykernel)",
   "language": "python",
   "name": "python3"
  },
  "language_info": {
   "codemirror_mode": {
    "name": "ipython",
    "version": 3
   },
   "file_extension": ".py",
   "mimetype": "text/x-python",
   "name": "python",
   "nbconvert_exporter": "python",
   "pygments_lexer": "ipython3",
   "version": "3.9.7"
  }
 },
 "nbformat": 4,
 "nbformat_minor": 5
}
