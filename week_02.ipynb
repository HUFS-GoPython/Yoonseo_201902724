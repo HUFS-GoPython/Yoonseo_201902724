{
 "cells": [
  {
   "cell_type": "markdown",
   "id": "c1300ebf-cef8-4dd9-913c-2bf20ed1a154",
   "metadata": {
    "tags": []
   },
   "source": [
    "### Ch2. Variable\n",
    "- string\n",
    "- float\n",
    "- integer\n",
    "- boolean"
   ]
  },
  {
   "cell_type": "code",
   "execution_count": 1,
   "id": "de53b5f9-430b-4edb-9173-0b52dfb44597",
   "metadata": {},
   "outputs": [
    {
     "data": {
      "text/plain": [
       "2"
      ]
     },
     "execution_count": 1,
     "metadata": {},
     "output_type": "execute_result"
    }
   ],
   "source": [
    "# 여러 이름 동시에 할당\n",
    "two = deux = dos = 2 # dos -> deux -> two 역순으로 값이 할당\n",
    "two"
   ]
  },
  {
   "cell_type": "code",
   "execution_count": 2,
   "id": "6bce6ae5-d55f-4132-a0fe-e4d75cc1bd2a",
   "metadata": {},
   "outputs": [
    {
     "name": "stdout",
     "output_type": "stream",
     "text": [
      "4 2\n"
     ]
    }
   ],
   "source": [
    "# 불변객체 이므로 two만 바뀐다\n",
    "two = 4\n",
    "print(two, deux)"
   ]
  },
  {
   "cell_type": "code",
   "execution_count": 3,
   "id": "7d7b9efa-aac8-4533-a45a-22fe14a3f2ed",
   "metadata": {},
   "outputs": [
    {
     "data": {
      "text/plain": [
       "(1971983772048, 1971983771984)"
      ]
     },
     "execution_count": 3,
     "metadata": {},
     "output_type": "execute_result"
    }
   ],
   "source": [
    "id(two), id(deux)"
   ]
  },
  {
   "cell_type": "code",
   "execution_count": 2,
   "id": "bd07d604-fad1-4a4e-a286-cf82281713b2",
   "metadata": {},
   "outputs": [
    {
     "data": {
      "text/plain": [
       "([1, 2, 3], [1, 2, 3])"
      ]
     },
     "execution_count": 2,
     "metadata": {},
     "output_type": "execute_result"
    }
   ],
   "source": [
    "p = [1, 2, 3] #리스트는 가변객체\n",
    "q = p\n",
    "p, q"
   ]
  },
  {
   "cell_type": "code",
   "execution_count": 14,
   "id": "a92efebc-7f30-4826-86f5-1439b4f5c098",
   "metadata": {},
   "outputs": [
    {
     "data": {
      "text/plain": [
       "(1943747561216, 1943747561216)"
      ]
     },
     "execution_count": 14,
     "metadata": {},
     "output_type": "execute_result"
    }
   ],
   "source": [
    "id(p), id(q) # 변수가 저장된 메모리 주소 찾는 함수"
   ]
  },
  {
   "cell_type": "code",
   "execution_count": 3,
   "id": "7fab8b6d-d259-492b-bd00-1891af4c6e53",
   "metadata": {},
   "outputs": [
    {
     "data": {
      "text/plain": [
       "([9, 2, 3], [9, 2, 3])"
      ]
     },
     "execution_count": 3,
     "metadata": {},
     "output_type": "execute_result"
    }
   ],
   "source": [
    "p[0] = 9\n",
    "p, q\n",
    "# q의 값이 자동으로 바뀐다"
   ]
  },
  {
   "cell_type": "code",
   "execution_count": 4,
   "id": "6b9ff2f0-98a9-4a8c-9f0a-7ebf656a5f52",
   "metadata": {},
   "outputs": [
    {
     "data": {
      "text/plain": [
       "(1943747561216, 1943747561216)"
      ]
     },
     "execution_count": 4,
     "metadata": {},
     "output_type": "execute_result"
    }
   ],
   "source": [
    "id(p), id(q)"
   ]
  },
  {
   "cell_type": "markdown",
   "id": "8c94cac1-b404-4571-8a5e-d59eb4a07298",
   "metadata": {
    "jp-MarkdownHeadingCollapsed": true,
    "tags": []
   },
   "source": [
    "#### ID 함수\n",
    "- 변수에는 공간이 위치하는 '주소'가 있는데 id함수로 찾을 수 있다. \n",
    "- 주소는 때에 따라, 컴퓨터에 따라 다 달라진다. \n",
    "- 불변객체가 변하면 메모리 주소가 바뀐다.\n",
    "#### 좋은 변수명\n",
    "- 간결하고 명확한 이름\n",
    "- 의미가 담겨야 함\n",
    "- a, b, c. ... 너무 짧으니 지양\n",
    "- 코드에는 의미가 담기고 주석에는 의도가 담긴다.\n",
    "    - 예: the number of students\n",
    "    n < the_number_of_students < 'num_students'\n",
    "    - 카멜표기법: numStudents"
   ]
  },
  {
   "cell_type": "markdown",
   "id": "7f78d3f6-f53a-4091-90d3-e5832689f421",
   "metadata": {},
   "source": [
    "### 자료형 변형, 형 변환\n",
    "- 정수 → 실수, 실수 → 정수\n",
    "- str(<변환할 값>), int(), float(), bool()"
   ]
  },
  {
   "cell_type": "code",
   "execution_count": 7,
   "id": "44d167af-c911-4138-aa26-ac678c5c1344",
   "metadata": {},
   "outputs": [
    {
     "data": {
      "text/plain": [
       "True"
      ]
     },
     "execution_count": 7,
     "metadata": {},
     "output_type": "execute_result"
    }
   ],
   "source": [
    "a = 10\n",
    "# str\n",
    "str(a)\n",
    "\n",
    "# float\n",
    "float(a)\n",
    "\n",
    "# bool\n",
    "bool(a) # 어떤 값이 False로 변환이 되는지"
   ]
  },
  {
   "cell_type": "markdown",
   "id": "2f226920-56c2-44f0-aa9f-e340e60781bb",
   "metadata": {},
   "source": [
    "주의할 점 1: float -> int"
   ]
  },
  {
   "cell_type": "code",
   "execution_count": 5,
   "id": "6ed3aded-70a3-4ee8-941a-e0b0b2b84217",
   "metadata": {},
   "outputs": [
    {
     "data": {
      "text/plain": [
       "10"
      ]
     },
     "execution_count": 5,
     "metadata": {},
     "output_type": "execute_result"
    }
   ],
   "source": [
    "x = 10.7 # 소수점 내림\n",
    "int(x)"
   ]
  },
  {
   "cell_type": "code",
   "execution_count": 6,
   "id": "8dd9067a-ee17-43e0-a3a5-cce3d7351a8d",
   "metadata": {},
   "outputs": [
    {
     "name": "stdout",
     "output_type": "stream",
     "text": [
      "30\n",
      "29\n"
     ]
    }
   ],
   "source": [
    "y = 19.8\n",
    "\n",
    "print(int(x + y)) # 10.7 + 19.8을 int로 변환\n",
    "print(int(x) + int(y))"
   ]
  },
  {
   "cell_type": "markdown",
   "id": "a70b5155-663d-46a7-9fe4-129a3ba807b0",
   "metadata": {},
   "source": [
    "주의할 점 2: str -> int/float"
   ]
  },
  {
   "cell_type": "code",
   "execution_count": 12,
   "id": "7c425579-2cc5-48e3-9631-5183248b0675",
   "metadata": {},
   "outputs": [
    {
     "data": {
      "text/plain": [
       "(10, 10.0)"
      ]
     },
     "execution_count": 12,
     "metadata": {},
     "output_type": "execute_result"
    }
   ],
   "source": [
    "i = '10'\n",
    "int(i), float (i)"
   ]
  },
  {
   "cell_type": "code",
   "execution_count": 11,
   "id": "ec0fa8db-7141-431c-9592-6612ce4cc3cf",
   "metadata": {},
   "outputs": [
    {
     "ename": "ValueError",
     "evalue": "invalid literal for int() with base 10: '10.7'",
     "output_type": "error",
     "traceback": [
      "\u001b[1;31m---------------------------------------------------------------------------\u001b[0m",
      "\u001b[1;31mValueError\u001b[0m                                Traceback (most recent call last)",
      "\u001b[1;32m~\\AppData\\Local\\Temp/ipykernel_24336/1630938160.py\u001b[0m in \u001b[0;36m<module>\u001b[1;34m\u001b[0m\n\u001b[0;32m      1\u001b[0m \u001b[0mj\u001b[0m \u001b[1;33m=\u001b[0m \u001b[1;34m'10.7'\u001b[0m\u001b[1;33m\u001b[0m\u001b[1;33m\u001b[0m\u001b[0m\n\u001b[1;32m----> 2\u001b[1;33m \u001b[0mint\u001b[0m\u001b[1;33m(\u001b[0m\u001b[0mj\u001b[0m\u001b[1;33m)\u001b[0m\u001b[1;33m\u001b[0m\u001b[1;33m\u001b[0m\u001b[0m\n\u001b[0m",
      "\u001b[1;31mValueError\u001b[0m: invalid literal for int() with base 10: '10.7'"
     ]
    }
   ],
   "source": [
    "j = '10.7'\n",
    "int(j)"
   ]
  },
  {
   "cell_type": "markdown",
   "id": "9beb00f8-3bdb-4551-af59-137551e33d1c",
   "metadata": {},
   "source": [
    "### 꿀팁 print() "
   ]
  },
  {
   "cell_type": "code",
   "execution_count": 8,
   "id": "078cb484-b1e8-4f80-9dee-e94179d834ec",
   "metadata": {},
   "outputs": [
    {
     "name": "stdout",
     "output_type": "stream",
     "text": [
      "dogcatlion\n",
      "dog cat lion\n"
     ]
    }
   ],
   "source": [
    "dog = 'dog'\n",
    "cat = 'cat'\n",
    "lion = 'lion'\n",
    "\n",
    "print(dog + cat + lion) # space X\n",
    "print(dog, cat, lion) # space O,  \\n"
   ]
  },
  {
   "cell_type": "code",
   "execution_count": 9,
   "id": "7c92585d-b588-4ea4-b3ba-8a0fefb8c1de",
   "metadata": {},
   "outputs": [
    {
     "name": "stdout",
     "output_type": "stream",
     "text": [
      "dog cat lion\n",
      "dog/cat/lion\n",
      "\n",
      "EDL\n"
     ]
    }
   ],
   "source": [
    "print(dog, cat, lion, sep=' ', end='\\n') #default # sep의 디폴트는 띄어쓰기, eng의 디폴트는 개형\n",
    "print(dog, cat, lion, sep='/', end='\\n\\n')\n",
    "print('EDL')"
   ]
  },
  {
   "cell_type": "code",
   "execution_count": 9,
   "id": "e957f781-8b19-47ae-b92d-f0fde2d230f9",
   "metadata": {},
   "outputs": [
    {
     "name": "stdout",
     "output_type": "stream",
     "text": [
      "My favorite animal is dog .\n",
      "My favorite animal is dog.\n"
     ]
    }
   ],
   "source": [
    "#1.\n",
    "print(\"My favorite animal is\", dog, '.')\n",
    "#2.\n",
    "print(f\"My favorite animal is {dog}.\")"
   ]
  },
  {
   "cell_type": "markdown",
   "id": "0f0b624d-a1c8-48cb-bb15-1d23b026c62f",
   "metadata": {},
   "source": [
    "코드 줄이 짧을 때 ;(세미콜론)을 이용해 한 줄로 쓸 수 있다."
   ]
  },
  {
   "cell_type": "code",
   "execution_count": 10,
   "id": "6d5a048c-ffa7-4b6b-a3a9-face7eadad86",
   "metadata": {},
   "outputs": [
    {
     "name": "stdout",
     "output_type": "stream",
     "text": [
      "dog\n"
     ]
    }
   ],
   "source": [
    "dog = 'dog'; cat= 'cat'; lion = 'lion'\n",
    "print(dog)"
   ]
  },
  {
   "cell_type": "markdown",
   "id": "152bf6cb-0221-47ec-b746-b8eb2b1dce26",
   "metadata": {},
   "source": [
    "### 'input()' 함수\n",
    "- consol에서 사용자가 입력하는 값을 받을 수 있는 함수\n",
    "- 입력 받는 값은 문자열로 인식이 된다.\n",
    "- 입력 받은 값을 변수에 담아서 사용한다. 안 그러면 사라진다.\n",
    "- 숫자일 경우 형 변환한다."
   ]
  },
  {
   "cell_type": "code",
   "execution_count": 1,
   "id": "ef759e09-d983-4987-ba2b-d7944e3e666d",
   "metadata": {},
   "outputs": [
    {
     "name": "stdin",
     "output_type": "stream",
     "text": [
      "Hello? Hi\n"
     ]
    },
    {
     "data": {
      "text/plain": [
       "'Hi'"
      ]
     },
     "execution_count": 1,
     "metadata": {},
     "output_type": "execute_result"
    }
   ],
   "source": [
    "input(\"Hello?\")"
   ]
  },
  {
   "cell_type": "code",
   "execution_count": 2,
   "id": "d1b85605-913f-43eb-afd0-c7f17911a4e0",
   "metadata": {},
   "outputs": [
    {
     "name": "stdin",
     "output_type": "stream",
     "text": [
      "나이가 어떻게 되나요? 55\n"
     ]
    },
    {
     "data": {
      "text/plain": [
       "55"
      ]
     },
     "execution_count": 2,
     "metadata": {},
     "output_type": "execute_result"
    }
   ],
   "source": [
    "int(input('나이가 어떻게 되나요?'))"
   ]
  },
  {
   "cell_type": "markdown",
   "id": "96b135a0-55bf-46a6-8b69-db8e48fc7d61",
   "metadata": {},
   "source": [
    "- 변수에 할당하는 방법"
   ]
  },
  {
   "cell_type": "code",
   "execution_count": 10,
   "id": "ac3f7525-1c2a-4903-bdd1-f32e99495806",
   "metadata": {},
   "outputs": [
    {
     "name": "stdin",
     "output_type": "stream",
     "text": [
      "나이가 어떻게 되나요? 23\n"
     ]
    }
   ],
   "source": [
    "#1.\n",
    "age = int(input('나이가 어떻게 되나요?')) # 숫자로 형 변환"
   ]
  },
  {
   "cell_type": "code",
   "execution_count": 11,
   "id": "8326d650-f0dd-4853-8068-a28d919d8072",
   "metadata": {},
   "outputs": [
    {
     "data": {
      "text/plain": [
       "23"
      ]
     },
     "execution_count": 11,
     "metadata": {},
     "output_type": "execute_result"
    }
   ],
   "source": [
    "age"
   ]
  },
  {
   "cell_type": "code",
   "execution_count": 15,
   "id": "bd30c0f5-807c-4c5d-b4d0-a3c8c2bedc4f",
   "metadata": {},
   "outputs": [
    {
     "name": "stdout",
     "output_type": "stream",
     "text": [
      "나이가?\n"
     ]
    },
    {
     "name": "stdin",
     "output_type": "stream",
     "text": [
      " 13\n"
     ]
    }
   ],
   "source": [
    "#2.\n",
    "print(\"나이가?\")\n",
    "age = input() # 숫자로 입력해도 문자열로 인식"
   ]
  },
  {
   "cell_type": "code",
   "execution_count": 16,
   "id": "b74a5a98-087a-4514-a881-9114bd154538",
   "metadata": {},
   "outputs": [
    {
     "data": {
      "text/plain": [
       "'13'"
      ]
     },
     "execution_count": 16,
     "metadata": {},
     "output_type": "execute_result"
    }
   ],
   "source": [
    "age"
   ]
  },
  {
   "cell_type": "markdown",
   "id": "7e81c466-6280-4e6c-846d-7662ee02e37e",
   "metadata": {},
   "source": [
    "#### Quiz 1\n",
    "- 섭씨를 입력 받아서 화씨로 변환하기\n",
    "- '섭씨 * 1.8 +32 = 화씨'"
   ]
  },
  {
   "cell_type": "code",
   "execution_count": 13,
   "id": "018f8c2b-8dc7-4892-8cc2-26d6d30f518c",
   "metadata": {},
   "outputs": [
    {
     "name": "stdin",
     "output_type": "stream",
     "text": [
      "섭씨는? 11\n"
     ]
    }
   ],
   "source": [
    "celsius = input('섭씨는?')"
   ]
  },
  {
   "cell_type": "code",
   "execution_count": 18,
   "id": "9462e6c9-df5e-4317-992a-58b84f79295d",
   "metadata": {},
   "outputs": [
    {
     "name": "stdin",
     "output_type": "stream",
     "text": [
      "섭씨는? 36.5\n"
     ]
    },
    {
     "name": "stdout",
     "output_type": "stream",
     "text": [
      "화씨 = 97.7\n"
     ]
    }
   ],
   "source": [
    "celsius = float(input('섭씨는?'))\n",
    "Farenheit = celsius * 1.8 + 32\n",
    "print('화씨 =',Farenheit)"
   ]
  },
  {
   "cell_type": "markdown",
   "id": "7fafcdc8-3828-4b0c-b941-46fe907ac20c",
   "metadata": {},
   "source": [
    "#### Quiz 2\n",
    "- 택배 정보 입력 받고, 총 합계 계산하기\n",
    "- 출력값:\n",
    "    - '==택배 정보=='\n",
    "    - 수취인 성명:\n",
    "    - 수취인 주소:\n",
    "    - 배송비: 3000원\n",
    "    - 물건 비용: 원\n",
    "    - 총 합계: < 가격>원\n",
    "- 물건 비용 = 무게(g) * 5\n",
    "- 합계 = 배송비 + 물건 비용\n",
    "- 입력값: 이름, 주소, 무게"
   ]
  },
  {
   "cell_type": "code",
   "execution_count": 31,
   "id": "def1b6b5-4ecc-46a2-b054-a04fc6310094",
   "metadata": {},
   "outputs": [
    {
     "name": "stdin",
     "output_type": "stream",
     "text": [
      "수취인 성명 : 이윤서\n",
      "수취인 주소 : 서울특별시 동대문구\n",
      "무게(g) : 350\n"
     ]
    },
    {
     "name": "stdout",
     "output_type": "stream",
     "text": [
      "=== 택배 정보 ===\n",
      "수취인 성명 : 이윤서\n",
      "수취인 주소 : 서울특별시 동대문구\n",
      "배송비 : 3000원\n",
      "물건 비용 : 1750.0 원\n",
      "총 합계 : 4750.0 원\n"
     ]
    }
   ],
   "source": [
    "name = input('수취인 성명 :')\n",
    "address = input('수취인 주소 :')\n",
    "gram = float(input('무게(g) :'))\n",
    "cost = gram * 5\n",
    "total = cost + 3000\n",
    "\n",
    "print(\"=== 택배 정보 ===\")\n",
    "print(\"수취인 성명 :\", name)\n",
    "print(\"수취인 주소 :\", address)\n",
    "print(\"배송비 : 3000원\")\n",
    "print(\"물건 비용 :\", cost,\"원\")\n",
    "print(\"총 합계 :\", total,\"원\")"
   ]
  },
  {
   "cell_type": "markdown",
   "id": "5a6c0832-5bad-4268-a506-6ab811a5675d",
   "metadata": {},
   "source": [
    "### Ch03. Numbers"
   ]
  },
  {
   "cell_type": "markdown",
   "id": "8686a6ab-62f3-45f9-9f19-085c285f082c",
   "metadata": {},
   "source": [
    "#### boolean\n",
    "- 형 변환할 때 True, False인지 기억하라\n",
    "    - '', None, 0, .. 이 False\n",
    "- 조건식에서 많이 쓴다. 예: 만약 이 조건이 True라면, ..."
   ]
  },
  {
   "cell_type": "code",
   "execution_count": 1,
   "id": "06a809d9-a8ca-4dd9-b1bd-07012d102e8f",
   "metadata": {},
   "outputs": [
    {
     "data": {
      "text/plain": [
       "True"
      ]
     },
     "execution_count": 1,
     "metadata": {},
     "output_type": "execute_result"
    }
   ],
   "source": [
    "bool(1)"
   ]
  },
  {
   "cell_type": "code",
   "execution_count": 2,
   "id": "a8cf139b-6608-411d-a798-b35491cb3922",
   "metadata": {},
   "outputs": [
    {
     "data": {
      "text/plain": [
       "False"
      ]
     },
     "execution_count": 2,
     "metadata": {},
     "output_type": "execute_result"
    }
   ],
   "source": [
    "bool('')"
   ]
  },
  {
   "cell_type": "markdown",
   "id": "7a5ca70a-de80-4d68-987e-7e162853d350",
   "metadata": {},
   "source": [
    "#### integer\n",
    "- 소수점 없음\n",
    "- default 양수, 음수는 앞에 -를 붙인다.\n",
    "- 숫자 앞에는 0을 붙일 수 없다. 예: 05\n",
    "    - 예외적으로 0bxxx, => 다른 진수 표현법\n",
    "- 리터럴: 4\n",
    "- 공백이 많아도 무시가 된다.\n",
    "- 10,000dnjs -> 10, 000원 두 개로 인식 = > _ 언더바 사용\n",
    "    - 예: 10_000"
   ]
  },
  {
   "cell_type": "code",
   "execution_count": 3,
   "id": "4eb7064f-1690-46de-bad5-e96837b12c74",
   "metadata": {},
   "outputs": [
    {
     "data": {
      "text/plain": [
       "-1"
      ]
     },
     "execution_count": 3,
     "metadata": {},
     "output_type": "execute_result"
    }
   ],
   "source": [
    "a = -9\n",
    "8 + a"
   ]
  },
  {
   "cell_type": "code",
   "execution_count": 4,
   "id": "af46dc69-6fdb-42f7-ad9c-245f56bf1cea",
   "metadata": {},
   "outputs": [
    {
     "ename": "SyntaxError",
     "evalue": "leading zeros in decimal integer literals are not permitted; use an 0o prefix for octal integers (Temp/ipykernel_23104/2890110653.py, line 1)",
     "output_type": "error",
     "traceback": [
      "\u001b[1;36m  File \u001b[1;32m\"C:\\Users\\perod\\AppData\\Local\\Temp/ipykernel_23104/2890110653.py\"\u001b[1;36m, line \u001b[1;32m1\u001b[0m\n\u001b[1;33m    a = 09\u001b[0m\n\u001b[1;37m         ^\u001b[0m\n\u001b[1;31mSyntaxError\u001b[0m\u001b[1;31m:\u001b[0m leading zeros in decimal integer literals are not permitted; use an 0o prefix for octal integers\n"
     ]
    }
   ],
   "source": [
    "a = 09"
   ]
  },
  {
   "cell_type": "code",
   "execution_count": 17,
   "id": "378df00a-e56d-427b-953b-f7abaf4151c0",
   "metadata": {},
   "outputs": [
    {
     "data": {
      "text/plain": [
       "-6"
      ]
     },
     "execution_count": 17,
     "metadata": {},
     "output_type": "execute_result"
    }
   ],
   "source": [
    "-9 + 8             -5   # 띄어쓰기를 많이 해도 인식한다"
   ]
  },
  {
   "cell_type": "code",
   "execution_count": 6,
   "id": "55658b3f-5e18-47e9-97ee-2b6f25e2a9ab",
   "metadata": {},
   "outputs": [
    {
     "name": "stdout",
     "output_type": "stream",
     "text": [
      "10000\n"
     ]
    }
   ],
   "source": [
    "a = 10_000\n",
    "print(a)"
   ]
  },
  {
   "cell_type": "markdown",
   "id": "404181f0-e90c-470c-9229-2523007ec659",
   "metadata": {
    "tags": []
   },
   "source": [
    "#### 연산\n",
    "- 연산자|operator: *, -, +,...\n",
    "- 피연산자|operand: 4, 5, ...\n",
    "- 수식|expression"
   ]
  },
  {
   "cell_type": "code",
   "execution_count": 8,
   "id": "49fa3742-3c2e-4aa8-af9a-80a86fd67c63",
   "metadata": {},
   "outputs": [
    {
     "data": {
      "text/plain": [
       "262144"
      ]
     },
     "execution_count": 8,
     "metadata": {},
     "output_type": "execute_result"
    }
   ],
   "source": [
    "x = 4\n",
    "y = 9\n",
    "\n",
    "x + y\n",
    "x - y\n",
    "x * y\n",
    "x / y\n",
    "\n",
    "# 거듭제곱|exponential\n",
    "x ** y"
   ]
  },
  {
   "cell_type": "markdown",
   "id": "5b871114-2395-4acc-8308-b3da1962bc2d",
   "metadata": {},
   "source": [
    "나눗셈에서 주의할 사항"
   ]
  },
  {
   "cell_type": "code",
   "execution_count": 18,
   "id": "d3cb93ac-c445-4590-9a55-3b3da4ea24d8",
   "metadata": {},
   "outputs": [
    {
     "data": {
      "text/plain": [
       "(0.0, 10.7, 0.5404040404040403)"
      ]
     },
     "execution_count": 18,
     "metadata": {},
     "output_type": "execute_result"
    }
   ],
   "source": [
    "#1. division by zero => 주의 (y!=0)\n",
    "#2. 몫, 나머지\n",
    "x // y, x % y, x / y"
   ]
  },
  {
   "cell_type": "code",
   "execution_count": 10,
   "id": "377cab0d-ee37-4b36-b3da-8d3ada05cc43",
   "metadata": {},
   "outputs": [
    {
     "data": {
      "text/plain": [
       "(0, 4)"
      ]
     },
     "execution_count": 10,
     "metadata": {},
     "output_type": "execute_result"
    }
   ],
   "source": [
    "divmod(x, y)"
   ]
  },
  {
   "cell_type": "markdown",
   "id": "7a3a30d0-7cd3-4d95-94f7-4938ac1c35ca",
   "metadata": {},
   "source": [
    "#### 복합 대입연산자|compound assignment operator"
   ]
  },
  {
   "cell_type": "code",
   "execution_count": 12,
   "id": "f49dd761-e43f-4883-b6c2-6b73ddda847c",
   "metadata": {},
   "outputs": [
    {
     "name": "stdout",
     "output_type": "stream",
     "text": [
      "5\n"
     ]
    }
   ],
   "source": [
    "a = 5\n",
    "a - 3\n",
    "print(a)"
   ]
  },
  {
   "cell_type": "code",
   "execution_count": 16,
   "id": "7120af61-8c77-41e2-b948-c9f59cf8b252",
   "metadata": {},
   "outputs": [],
   "source": [
    "a = a - 3\n",
    "#1. a - 3을 계산\n",
    "#2. 임시변수 temp = a-3\n",
    "#3. a = a - 3\n",
    "a -= 3"
   ]
  },
  {
   "cell_type": "code",
   "execution_count": 14,
   "id": "e628e61c-a901-433b-8f24-b4988a89d34b",
   "metadata": {},
   "outputs": [],
   "source": [
    "a += 3\n",
    "a -= 3\n",
    "a *= 3\n",
    "a /= 3"
   ]
  },
  {
   "cell_type": "code",
   "execution_count": 19,
   "id": "a88a05a4-568d-49bc-b259-6f984ba02b91",
   "metadata": {},
   "outputs": [
    {
     "ename": "SyntaxError",
     "evalue": "invalid syntax (Temp/ipykernel_8788/1691408235.py, line 1)",
     "output_type": "error",
     "traceback": [
      "\u001b[1;36m  File \u001b[1;32m\"C:\\Users\\perod\\AppData\\Local\\Temp/ipykernel_8788/1691408235.py\"\u001b[1;36m, line \u001b[1;32m1\u001b[0m\n\u001b[1;33m    u = ? # 값 초기화 안하면 에러\u001b[0m\n\u001b[1;37m        ^\u001b[0m\n\u001b[1;31mSyntaxError\u001b[0m\u001b[1;31m:\u001b[0m invalid syntax\n"
     ]
    }
   ],
   "source": [
    "u = ? # 값 초기화 안하면 에러\n",
    "u = u + 1"
   ]
  },
  {
   "cell_type": "markdown",
   "id": "526facd0-5cd8-4ce2-ac40-6e97469eb25a",
   "metadata": {},
   "source": [
    "### Quiz 3.\n",
    "- 정수를 입력 받고 3의 배수인지 확인하세요.\n",
    "- = 홀수인지 확인하세요."
   ]
  },
  {
   "cell_type": "code",
   "execution_count": 17,
   "id": "2043db82-b203-4ba5-b027-2008cc5e255e",
   "metadata": {},
   "outputs": [
    {
     "name": "stdin",
     "output_type": "stream",
     "text": [
      "정수를 입력하세요 : 876543\n"
     ]
    },
    {
     "name": "stdout",
     "output_type": "stream",
     "text": [
      "3의 배수입니다\n",
      "홀수입니다\n"
     ]
    }
   ],
   "source": [
    "number = int(input('정수를 입력하세요 :'))\n",
    "if number % 3 == 0:\n",
    "    print('3의 배수입니다')\n",
    "else:\n",
    "    print('3의 배수가 아닙니다')\n",
    "if number % 2 == 0:\n",
    "    print('짝수입니다')\n",
    "else:\n",
    "    print('홀수입니다')"
   ]
  },
  {
   "cell_type": "markdown",
   "id": "ebedfc25-3297-4bf6-842f-c918d6c41efb",
   "metadata": {},
   "source": [
    "#### 지수 표현\n",
    "- e, E 둘 다 가능하다\n",
    "- 앞부분은 float, int\n",
    "- 뒷부분은 int만 온다.\n",
    "    - 양수면 0 앞으로\n",
    "    - 음수면 0 뒤로 (소수점)"
   ]
  },
  {
   "cell_type": "code",
   "execution_count": 19,
   "id": "a991b229-c303-4f6b-b174-5ff301524d98",
   "metadata": {},
   "outputs": [
    {
     "data": {
      "text/plain": [
       "1000000.0"
      ]
     },
     "execution_count": 19,
     "metadata": {},
     "output_type": "execute_result"
    }
   ],
   "source": [
    "1.0e6 # float"
   ]
  },
  {
   "cell_type": "code",
   "execution_count": 20,
   "id": "1d69541e-967c-4cef-924c-5ce0deab7ba4",
   "metadata": {},
   "outputs": [
    {
     "data": {
      "text/plain": [
       "0.000789"
      ]
     },
     "execution_count": 20,
     "metadata": {},
     "output_type": "execute_result"
    }
   ],
   "source": [
    "# 0.000789 => 지수표현\n",
    "789e-6\n",
    "7.89e-4\n",
    "#0.0789e"
   ]
  },
  {
   "cell_type": "markdown",
   "id": "af1107f9-a9e5-4df0-8524-5ed9f71c091c",
   "metadata": {
    "jp-MarkdownHeadingCollapsed": true,
    "tags": []
   },
   "source": [
    "### 조건문, if\n",
    "- code structure"
   ]
  },
  {
   "cell_type": "markdown",
   "id": "a30ff28b-ceda-4a1b-80bc-a758b5a5c036",
   "metadata": {},
   "source": [
    "### 코드 짜는 틀\n",
    "- 주석 다는 법\n",
    "    - 설명하는 부분\n",
    "    - 목적: 의도를 표현한다.\n",
    "    - '#' hash, sharp, ...\n",
    "    - 시작된 부분부터 그 라인에 끝까지가 주석\n",
    "    - 문자열 안에 들어있는 해시는 문자열로 인식\n",
    "    - \"\"\"<주석>\"\"\"\n",
    "- 라인 유지하기\n",
    "    - 들여쓰기, 디폴트 값 공백4개, 탭 1개\n",
    "    - 한 줄에 최대 80자 넘지 않게\n",
    "    - 백슬래시로 끊어준다 \\"
   ]
  },
  {
   "cell_type": "code",
   "execution_count": 2,
   "id": "a2adb923-7206-4012-a48e-838965dc379a",
   "metadata": {},
   "outputs": [],
   "source": [
    "a = 3 # 여기부터 라인 끝\n",
    "b = 2"
   ]
  },
  {
   "cell_type": "code",
   "execution_count": 4,
   "id": "101ef79e-f524-494e-a376-4831dfd53f82",
   "metadata": {},
   "outputs": [
    {
     "name": "stdout",
     "output_type": "stream",
     "text": [
      "hey ###\n"
     ]
    },
    {
     "data": {
      "text/plain": [
       "'\\n주석1\\n주석2\\n주석3\\n'"
      ]
     },
     "execution_count": 4,
     "metadata": {},
     "output_type": "execute_result"
    }
   ],
   "source": [
    "example = 'hey ###'\n",
    "print(example)\n",
    "\"\"\"\n",
    "주석1\n",
    "주석2\n",
    "주석3\n",
    "\"\"\""
   ]
  },
  {
   "cell_type": "code",
   "execution_count": 6,
   "id": "f2a28f4d-887c-462e-8333-b050525482f0",
   "metadata": {},
   "outputs": [
    {
     "ename": "SyntaxError",
     "evalue": "invalid syntax (Temp/ipykernel_18408/3701530689.py, line 1)",
     "output_type": "error",
     "traceback": [
      "\u001b[1;36m  File \u001b[1;32m\"C:\\Users\\perod\\AppData\\Local\\Temp/ipykernel_18408/3701530689.py\"\u001b[1;36m, line \u001b[1;32m1\u001b[0m\n\u001b[1;33m    if ....:\u001b[0m\n\u001b[1;37m           ^\u001b[0m\n\u001b[1;31mSyntaxError\u001b[0m\u001b[1;31m:\u001b[0m invalid syntax\n"
     ]
    }
   ],
   "source": [
    "if ....:\n",
    "    ###"
   ]
  },
  {
   "cell_type": "markdown",
   "id": "90039815-89bf-4018-a635-f0d8656037a2",
   "metadata": {},
   "source": [
    "- 조건 1개\n",
    "if <조건식>:\n",
    "    <실행할 코드>"
   ]
  },
  {
   "cell_type": "code",
   "execution_count": 7,
   "id": "b087411c-ecd7-4f3a-85ea-3a756d6a9c12",
   "metadata": {},
   "outputs": [
    {
     "name": "stdout",
     "output_type": "stream",
     "text": [
      "Yaay!\n"
     ]
    }
   ],
   "source": [
    "if 4 != 9:\n",
    "    print('Yaay!')"
   ]
  },
  {
   "cell_type": "markdown",
   "id": "614d2bce-b035-40ba-b41f-f80d26c0dfb3",
   "metadata": {},
   "source": [
    "- 조건 2개:\n",
    "    if <조건식1>:\n",
    "        <실행할 코드>\n",
    "    else:\n",
    "        <실행할 코드2>\n",
    "       "
   ]
  },
  {
   "cell_type": "code",
   "execution_count": 8,
   "id": "c2b4432e-bd4e-4953-9e10-356191b58d88",
   "metadata": {},
   "outputs": [
    {
     "name": "stdout",
     "output_type": "stream",
     "text": [
      "Hey!\n"
     ]
    }
   ],
   "source": [
    "if 4 == 9:\n",
    "    print('Yaay!')\n",
    "else:\n",
    "    print('Hey!')"
   ]
  },
  {
   "cell_type": "markdown",
   "id": "84684775-e948-4d7b-8ef8-18580dd5e313",
   "metadata": {},
   "source": [
    "- 조건 3개:\n",
    "    if <조건식1>:\n",
    "        <실행할 코드>\n",
    "    elif <조건식2>:\n",
    "        <실행할 코드2>\n",
    "    \n",
    "    .... else:\n",
    "        <실행할 코드3>"
   ]
  },
  {
   "cell_type": "markdown",
   "id": "76012674-251e-4152-a987-7d0cd7190312",
   "metadata": {},
   "source": [
    "#### 비교연산자\n",
    "- x < y, x <= y\n",
    "- x < y, x >= y\n",
    "- x == y (값)\n",
    "- x!= y (값)\n",
    "- x is y (값, 메모리주소 동일)\n",
    "- x is not y "
   ]
  },
  {
   "cell_type": "markdown",
   "id": "2c8bd320-8706-49cc-9621-8e9b7ea1995b",
   "metadata": {},
   "source": [
    "#### Quiz 1.\n",
    "- 학점 부여하기\n",
    "- 학점을 입력 받아서\n",
    "    - 90점 이상이면 A\n",
    "    - 80, B\n",
    "    - 70, C\n",
    "    - 그외, D\n",
    "\n",
    "- 변수 설정"
   ]
  },
  {
   "cell_type": "markdown",
   "id": "5004209e-5406-49ad-8dcb-9b70f267b2ba",
   "metadata": {},
   "source": [
    "#### Quiz 2.\n",
    "- 아이디와 비번 입력 받아서 둘 다 일치하면 로그인하기\n",
    "- 아이디, 비번 각자 정해놓기\n",
    "- 일치하지 않을 때에는 창의적으로 어떤 걸로 변환하기"
   ]
  },
  {
   "cell_type": "code",
   "execution_count": 13,
   "id": "dccc3cce-5970-41dc-812f-bcebad3e14cb",
   "metadata": {},
   "outputs": [
    {
     "name": "stdin",
     "output_type": "stream",
     "text": [
      " 98\n"
     ]
    },
    {
     "name": "stdout",
     "output_type": "stream",
     "text": [
      "=========학점 계산기=========\n",
      "A\n"
     ]
    }
   ],
   "source": [
    "score = int(input())\n",
    "\n",
    "print(\"=========학점 계산기=========\")\n",
    "\n",
    "if score >= 90:\n",
    "    print(\"A\")\n",
    "elif score >= 80:\n",
    "    print(\"B\")\n",
    "elif score >= 70:\n",
    "    print(\"C\")\n",
    "else:\n",
    "    print(\"D\")"
   ]
  },
  {
   "cell_type": "code",
   "execution_count": 17,
   "id": "6a477ad5-5eb5-4431-b256-d3ffef7e1360",
   "metadata": {},
   "outputs": [
    {
     "name": "stdin",
     "output_type": "stream",
     "text": [
      "아이디 : felicity\n",
      "비밀번호 : qwerty1\n"
     ]
    },
    {
     "name": "stdout",
     "output_type": "stream",
     "text": [
      "로그인 되었습니다.\n"
     ]
    }
   ],
   "source": [
    "ID_example = \"felicity\"\n",
    "password_example = \"qwerty1\"\n",
    "ID = input(\"아이디 :\")\n",
    "password = input(\"비밀번호 :\")\n",
    "\n",
    "if ID == ID_example and password == password_example:\n",
    "    print(\"로그인 되었습니다.\")\n",
    "else:\n",
    "    print(\"로그인에 실패하였습니다.\")"
   ]
  },
  {
   "cell_type": "markdown",
   "id": "98ecc471-5bdd-447a-b35a-7af0bbbbc1ba",
   "metadata": {},
   "source": [
    "#### 논리연산자\n",
    "- 여러 조건식을 비교할 때\n",
    "- 예: 10 < x < 20\n",
    "    - 파이썬에서만 가능한 표현\n",
    "if score > 90:\n",
    "elif score > 80:\n",
    "    - x > 10 혹은 x < 20\n",
    "    - '혹은' :\n",
    "        - and, & 둘 다 참일 때 True\n",
    "        - or , | 둘 중 하나만 참이어도 True\n",
    "        - not: 참 -> False, 거짓 -> True"
   ]
  },
  {
   "cell_type": "markdown",
   "id": "acf9a100-71f8-4b72-9a07-2149b8b2b95b",
   "metadata": {},
   "source": [
    "### Quiz 3.\n",
    "- Quiz 2 확장판\n",
    "- 결석 횟수를 받아서 점수가 80점 이상인데 결석이 2번 이상이면 F, 나머지는 점수대로"
   ]
  },
  {
   "cell_type": "code",
   "execution_count": 19,
   "id": "827de57d-649a-406f-905c-2b5e4026913d",
   "metadata": {},
   "outputs": [
    {
     "name": "stdin",
     "output_type": "stream",
     "text": [
      "점수 : 89\n",
      "결석 횟수 : 1\n"
     ]
    },
    {
     "name": "stdout",
     "output_type": "stream",
     "text": [
      "=========학점 계산기=========\n",
      "B\n"
     ]
    }
   ],
   "source": [
    "score = int(input(\"점수 :\"))\n",
    "absence = int(input(\"결석 횟수 :\"))\n",
    "\n",
    "print(\"=========학점 계산기=========\")\n",
    "\n",
    "if score >= 80:\n",
    "    if absence >= 2:\n",
    "        print(\"F\")\n",
    "    else: \n",
    "        if score >= 90:\n",
    "            print(\"A\")\n",
    "        elif score >= 80:\n",
    "            print(\"B\")\n",
    "else: \n",
    "    if score >= 70:\n",
    "        print(\"C\")\n",
    "    else:\n",
    "        print(\"D\")"
   ]
  }
 ],
 "metadata": {
  "kernelspec": {
   "display_name": "Python 3 (ipykernel)",
   "language": "python",
   "name": "python3"
  },
  "language_info": {
   "codemirror_mode": {
    "name": "ipython",
    "version": 3
   },
   "file_extension": ".py",
   "mimetype": "text/x-python",
   "name": "python",
   "nbconvert_exporter": "python",
   "pygments_lexer": "ipython3",
   "version": "3.9.7"
  }
 },
 "nbformat": 4,
 "nbformat_minor": 5
}
