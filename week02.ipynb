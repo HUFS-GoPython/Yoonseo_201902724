{
 "cells": [
  {
   "cell_type": "markdown",
   "id": "665814fd-5ae9-4477-9918-af7de3cce415",
   "metadata": {
    "tags": []
   },
   "source": [
    "### Ch2. Variable\n",
    "- string\n",
    "- float\n",
    "- integer\n",
    "- boolean"
   ]
  },
  {
   "cell_type": "code",
   "execution_count": 1,
   "id": "fb6f9060-f723-491d-b1f7-ce7d7fbf6cf9",
   "metadata": {},
   "outputs": [
    {
     "data": {
      "text/plain": [
       "2"
      ]
     },
     "execution_count": 1,
     "metadata": {},
     "output_type": "execute_result"
    }
   ],
   "source": [
    "# 여러 이름 동시에 할당\n",
    "two = deux = dos = 2 # dos -> deux -> two 역순으로 값이 할당\n",
    "two"
   ]
  },
  {
   "cell_type": "code",
   "execution_count": 2,
   "id": "e3e300c4-68da-44d3-b9c0-a2561fd53b26",
   "metadata": {},
   "outputs": [
    {
     "name": "stdout",
     "output_type": "stream",
     "text": [
      "4 2\n"
     ]
    }
   ],
   "source": [
    "# 불변객체 이므로 two만 바뀐다\n",
    "two = 4\n",
    "print(two, deux)"
   ]
  },
  {
   "cell_type": "code",
   "execution_count": 3,
   "id": "ab1ecef6-a945-4f98-9368-dfe4f30d1d28",
   "metadata": {},
   "outputs": [
    {
     "data": {
      "text/plain": [
       "(1971983772048, 1971983771984)"
      ]
     },
     "execution_count": 3,
     "metadata": {},
     "output_type": "execute_result"
    }
   ],
   "source": [
    "id(two), id(deux)"
   ]
  },
  {
   "cell_type": "code",
   "execution_count": 2,
   "id": "7ab9d239-67de-45db-966a-f555c221e0d4",
   "metadata": {},
   "outputs": [
    {
     "data": {
      "text/plain": [
       "([1, 2, 3], [1, 2, 3])"
      ]
     },
     "execution_count": 2,
     "metadata": {},
     "output_type": "execute_result"
    }
   ],
   "source": [
    "p = [1, 2, 3] #리스트는 가변객체\n",
    "q = p\n",
    "p, q"
   ]
  },
  {
   "cell_type": "code",
   "execution_count": 14,
   "id": "48f256b2-b852-458a-9f7a-71c5ffbad225",
   "metadata": {},
   "outputs": [
    {
     "data": {
      "text/plain": [
       "(1943747561216, 1943747561216)"
      ]
     },
     "execution_count": 14,
     "metadata": {},
     "output_type": "execute_result"
    }
   ],
   "source": [
    "id(p), id(q) # 변수가 저장된 메모리 주소 찾는 함수"
   ]
  },
  {
   "cell_type": "code",
   "execution_count": 3,
   "id": "a124f131-eb70-4773-a7cf-efbb34c8e5da",
   "metadata": {},
   "outputs": [
    {
     "data": {
      "text/plain": [
       "([9, 2, 3], [9, 2, 3])"
      ]
     },
     "execution_count": 3,
     "metadata": {},
     "output_type": "execute_result"
    }
   ],
   "source": [
    "p[0] = 9\n",
    "p, q\n",
    "# q의 값이 자동으로 바뀐다"
   ]
  },
  {
   "cell_type": "code",
   "execution_count": 4,
   "id": "0580586e-9c8e-461c-83b6-9acaca0c1e05",
   "metadata": {},
   "outputs": [
    {
     "data": {
      "text/plain": [
       "(1943747561216, 1943747561216)"
      ]
     },
     "execution_count": 4,
     "metadata": {},
     "output_type": "execute_result"
    }
   ],
   "source": [
    "id(p), id(q)"
   ]
  },
  {
   "cell_type": "markdown",
   "id": "265cdef8-c331-4d12-a05b-ca1689e00e60",
   "metadata": {
    "jp-MarkdownHeadingCollapsed": true,
    "tags": []
   },
   "source": [
    "#### ID 함수\n",
    "- 변수에는 공간이 위치하는 '주소'가 있는데 id함수로 찾을 수 있다. \n",
    "- 주소는 때에 따라, 컴퓨터에 따라 다 달라진다. \n",
    "- 불변객체가 변하면 메모리 주소가 바뀐다.\n",
    "#### 좋은 변수명\n",
    "- 간결하고 명확한 이름\n",
    "- 의미가 담겨야 함\n",
    "- a, b, c. ... 너무 짧으니 지양\n",
    "- 코드에는 의미가 담기고 주석에는 의도가 담긴다.\n",
    "    - 예: the number of students\n",
    "    n < the_number_of_students < 'num_students'\n",
    "    - 카멜표기법: numStudents"
   ]
  },
  {
   "cell_type": "markdown",
   "id": "25706301-6e7f-42a5-af19-27fb1cbf6db6",
   "metadata": {},
   "source": [
    "### 자료형 변형, 형 변환\n",
    "- 정수 → 실수, 실수 → 정수\n",
    "- str(<변환할 값>), int(), float(), bool()"
   ]
  },
  {
   "cell_type": "code",
   "execution_count": 7,
   "id": "4b76d05e-65b5-477a-836a-204206c34cd8",
   "metadata": {},
   "outputs": [
    {
     "data": {
      "text/plain": [
       "True"
      ]
     },
     "execution_count": 7,
     "metadata": {},
     "output_type": "execute_result"
    }
   ],
   "source": [
    "a = 10\n",
    "# str\n",
    "str(a)\n",
    "\n",
    "# float\n",
    "float(a)\n",
    "\n",
    "# bool\n",
    "bool(a) # 어떤 값이 False로 변환이 되는지"
   ]
  },
  {
   "cell_type": "markdown",
   "id": "ac90705f-dc70-478a-a7e2-b603c43ccc29",
   "metadata": {},
   "source": [
    "주의할 점 1: float -> int"
   ]
  },
  {
   "cell_type": "code",
   "execution_count": 5,
   "id": "3c7c0ea2-b88b-4417-97a5-9dac5691f896",
   "metadata": {},
   "outputs": [
    {
     "data": {
      "text/plain": [
       "10"
      ]
     },
     "execution_count": 5,
     "metadata": {},
     "output_type": "execute_result"
    }
   ],
   "source": [
    "x = 10.7 # 소수점 내림\n",
    "int(x)"
   ]
  },
  {
   "cell_type": "code",
   "execution_count": 6,
   "id": "7126606f-c35f-4465-a698-1652ab28bd1b",
   "metadata": {},
   "outputs": [
    {
     "name": "stdout",
     "output_type": "stream",
     "text": [
      "30\n",
      "29\n"
     ]
    }
   ],
   "source": [
    "y = 19.8\n",
    "\n",
    "print(int(x + y)) # 10.7 + 19.8을 int로 변환\n",
    "print(int(x) + int(y))"
   ]
  },
  {
   "cell_type": "markdown",
   "id": "86daf544-5773-4c6b-8081-15ed686969b0",
   "metadata": {},
   "source": [
    "주의할 점 2: str -> int/float"
   ]
  },
  {
   "cell_type": "code",
   "execution_count": 12,
   "id": "710ac977-41b1-40cf-9fd5-12d7988e4c8b",
   "metadata": {},
   "outputs": [
    {
     "data": {
      "text/plain": [
       "(10, 10.0)"
      ]
     },
     "execution_count": 12,
     "metadata": {},
     "output_type": "execute_result"
    }
   ],
   "source": [
    "i = '10'\n",
    "int(i), float (i)"
   ]
  },
  {
   "cell_type": "code",
   "execution_count": 11,
   "id": "68b4be65-fae1-4c6a-8637-f7654e67f347",
   "metadata": {},
   "outputs": [
    {
     "ename": "ValueError",
     "evalue": "invalid literal for int() with base 10: '10.7'",
     "output_type": "error",
     "traceback": [
      "\u001b[1;31m---------------------------------------------------------------------------\u001b[0m",
      "\u001b[1;31mValueError\u001b[0m                                Traceback (most recent call last)",
      "\u001b[1;32m~\\AppData\\Local\\Temp/ipykernel_24336/1630938160.py\u001b[0m in \u001b[0;36m<module>\u001b[1;34m\u001b[0m\n\u001b[0;32m      1\u001b[0m \u001b[0mj\u001b[0m \u001b[1;33m=\u001b[0m \u001b[1;34m'10.7'\u001b[0m\u001b[1;33m\u001b[0m\u001b[1;33m\u001b[0m\u001b[0m\n\u001b[1;32m----> 2\u001b[1;33m \u001b[0mint\u001b[0m\u001b[1;33m(\u001b[0m\u001b[0mj\u001b[0m\u001b[1;33m)\u001b[0m\u001b[1;33m\u001b[0m\u001b[1;33m\u001b[0m\u001b[0m\n\u001b[0m",
      "\u001b[1;31mValueError\u001b[0m: invalid literal for int() with base 10: '10.7'"
     ]
    }
   ],
   "source": [
    "j = '10.7'\n",
    "int(j)"
   ]
  },
  {
   "cell_type": "markdown",
   "id": "eb310fc8-0d66-4ab2-9750-b48a32418ef0",
   "metadata": {},
   "source": [
    "### 꿀팁 print() "
   ]
  },
  {
   "cell_type": "code",
   "execution_count": 8,
   "id": "34431fd3-fd5b-4c47-a525-631314e371c8",
   "metadata": {},
   "outputs": [
    {
     "name": "stdout",
     "output_type": "stream",
     "text": [
      "dogcatlion\n",
      "dog cat lion\n"
     ]
    }
   ],
   "source": [
    "dog = 'dog'\n",
    "cat = 'cat'\n",
    "lion = 'lion'\n",
    "\n",
    "print(dog + cat + lion) # space X\n",
    "print(dog, cat, lion) # space O,  \\n"
   ]
  },
  {
   "cell_type": "code",
   "execution_count": 9,
   "id": "0dbee315-d26a-4051-83c1-b52207a35cc1",
   "metadata": {},
   "outputs": [
    {
     "name": "stdout",
     "output_type": "stream",
     "text": [
      "dog cat lion\n",
      "dog/cat/lion\n",
      "\n",
      "EDL\n"
     ]
    }
   ],
   "source": [
    "print(dog, cat, lion, sep=' ', end='\\n') #default # sep의 디폴트는 띄어쓰기, eng의 디폴트는 개형\n",
    "print(dog, cat, lion, sep='/', end='\\n\\n')\n",
    "print('EDL')"
   ]
  },
  {
   "cell_type": "code",
   "execution_count": 9,
   "id": "8eb8d14c-fffe-4d2b-80d3-76a77710b52d",
   "metadata": {},
   "outputs": [
    {
     "name": "stdout",
     "output_type": "stream",
     "text": [
      "My favorite animal is dog .\n",
      "My favorite animal is dog.\n"
     ]
    }
   ],
   "source": [
    "#1.\n",
    "print(\"My favorite animal is\", dog, '.')\n",
    "#2.\n",
    "print(f\"My favorite animal is {dog}.\")"
   ]
  },
  {
   "cell_type": "markdown",
   "id": "89a84d7e-2d8d-4571-96a5-046ebab3d7be",
   "metadata": {},
   "source": [
    "코드 줄이 짧을 때 ;(세미콜론)을 이용해 한 줄로 쓸 수 있다."
   ]
  },
  {
   "cell_type": "code",
   "execution_count": 10,
   "id": "b3bce98a-3327-4fa2-9932-a1cec6f7ac47",
   "metadata": {},
   "outputs": [
    {
     "name": "stdout",
     "output_type": "stream",
     "text": [
      "dog\n"
     ]
    }
   ],
   "source": [
    "dog = 'dog'; cat= 'cat'; lion = 'lion'\n",
    "print(dog)"
   ]
  },
  {
   "cell_type": "markdown",
   "id": "f9f15b00-0b22-403d-8320-46d10866300a",
   "metadata": {},
   "source": [
    "### 'input()' 함수\n",
    "- consol에서 사용자가 입력하는 값을 받을 수 있는 함수\n",
    "- 입력 받는 값은 문자열로 인식이 된다.\n",
    "- 입력 받은 값을 변수에 담아서 사용한다. 안 그러면 사라진다.\n",
    "- 숫자일 경우 형 변환한다."
   ]
  },
  {
   "cell_type": "code",
   "execution_count": 1,
   "id": "2be1f828-3b82-490f-84ea-3c8e4bb0947e",
   "metadata": {},
   "outputs": [
    {
     "name": "stdin",
     "output_type": "stream",
     "text": [
      "Hello? Hi\n"
     ]
    },
    {
     "data": {
      "text/plain": [
       "'Hi'"
      ]
     },
     "execution_count": 1,
     "metadata": {},
     "output_type": "execute_result"
    }
   ],
   "source": [
    "input(\"Hello?\")"
   ]
  },
  {
   "cell_type": "code",
   "execution_count": 2,
   "id": "96b998ca-bdc5-45f9-9d0e-171f9155a633",
   "metadata": {},
   "outputs": [
    {
     "name": "stdin",
     "output_type": "stream",
     "text": [
      "나이가 어떻게 되나요? 55\n"
     ]
    },
    {
     "data": {
      "text/plain": [
       "55"
      ]
     },
     "execution_count": 2,
     "metadata": {},
     "output_type": "execute_result"
    }
   ],
   "source": [
    "int(input('나이가 어떻게 되나요?'))"
   ]
  },
  {
   "cell_type": "markdown",
   "id": "38ea92b6-0a17-4a14-80cd-345b70bc26fc",
   "metadata": {},
   "source": [
    "- 변수에 할당하는 방법"
   ]
  },
  {
   "cell_type": "code",
   "execution_count": 10,
   "id": "2f283469-5a5c-4fb0-9590-30bbb809acdb",
   "metadata": {},
   "outputs": [
    {
     "name": "stdin",
     "output_type": "stream",
     "text": [
      "나이가 어떻게 되나요? 23\n"
     ]
    }
   ],
   "source": [
    "#1.\n",
    "age = int(input('나이가 어떻게 되나요?')) # 숫자로 형 변환"
   ]
  },
  {
   "cell_type": "code",
   "execution_count": 11,
   "id": "843fbbd9-196d-412a-aeab-0b450121e8ee",
   "metadata": {},
   "outputs": [
    {
     "data": {
      "text/plain": [
       "23"
      ]
     },
     "execution_count": 11,
     "metadata": {},
     "output_type": "execute_result"
    }
   ],
   "source": [
    "age"
   ]
  },
  {
   "cell_type": "code",
   "execution_count": 15,
   "id": "a4dc36f6-b586-4a52-a471-97e831838188",
   "metadata": {},
   "outputs": [
    {
     "name": "stdout",
     "output_type": "stream",
     "text": [
      "나이가?\n"
     ]
    },
    {
     "name": "stdin",
     "output_type": "stream",
     "text": [
      " 13\n"
     ]
    }
   ],
   "source": [
    "#2.\n",
    "print(\"나이가?\")\n",
    "age = input() # 숫자로 입력해도 문자열로 인식"
   ]
  },
  {
   "cell_type": "code",
   "execution_count": 16,
   "id": "d3d3f4ab-4080-4dbb-9aea-0b1a3786ce72",
   "metadata": {},
   "outputs": [
    {
     "data": {
      "text/plain": [
       "'13'"
      ]
     },
     "execution_count": 16,
     "metadata": {},
     "output_type": "execute_result"
    }
   ],
   "source": [
    "age"
   ]
  },
  {
   "cell_type": "markdown",
   "id": "6959e03a-08be-44bd-ae07-367c2f052162",
   "metadata": {},
   "source": [
    "#### Quiz 1\n",
    "- 섭씨를 입력 받아서 화씨로 변환하기\n",
    "- '섭씨 * 1.8 +32 = 화씨'"
   ]
  },
  {
   "cell_type": "code",
   "execution_count": 13,
   "id": "d1f0fe14-900a-48a4-873b-58ddc89f5663",
   "metadata": {},
   "outputs": [
    {
     "name": "stdin",
     "output_type": "stream",
     "text": [
      "섭씨는? 11\n"
     ]
    }
   ],
   "source": [
    "celsius = input('섭씨는?')"
   ]
  },
  {
   "cell_type": "code",
   "execution_count": 18,
   "id": "4d67f4ee-bbe0-4091-b164-231d0fdd8b48",
   "metadata": {},
   "outputs": [
    {
     "name": "stdin",
     "output_type": "stream",
     "text": [
      "섭씨는? 36.5\n"
     ]
    },
    {
     "name": "stdout",
     "output_type": "stream",
     "text": [
      "화씨 = 97.7\n"
     ]
    }
   ],
   "source": [
    "celsius = float(input('섭씨는?'))\n",
    "Farenheit = celsius * 1.8 + 32\n",
    "print('화씨 =',Farenheit)"
   ]
  },
  {
   "cell_type": "markdown",
   "id": "d9fa80e0-8190-496b-a50c-92576d692dae",
   "metadata": {},
   "source": [
    "#### Quiz 2\n",
    "- 택배 정보 입력 받고, 총 합계 계산하기\n",
    "- 출력값:\n",
    "    - '==택배 정보=='\n",
    "    - 수취인 성명:\n",
    "    - 수취인 주소:\n",
    "    - 배송비: 3000원\n",
    "    - 물건 비용: 원\n",
    "    - 총 합계: < 가격>원\n",
    "- 물건 비용 = 무게(g) * 5\n",
    "- 합계 = 배송비 + 물건 비용\n",
    "- 입력값: 이름, 주소, 무게"
   ]
  },
  {
   "cell_type": "code",
   "execution_count": 31,
   "id": "40a6323b-e82f-494b-b60d-7e70c3f5705f",
   "metadata": {},
   "outputs": [
    {
     "name": "stdin",
     "output_type": "stream",
     "text": [
      "수취인 성명 : 이윤서\n",
      "수취인 주소 : 서울특별시 동대문구\n",
      "무게(g) : 350\n"
     ]
    },
    {
     "name": "stdout",
     "output_type": "stream",
     "text": [
      "=== 택배 정보 ===\n",
      "수취인 성명 : 이윤서\n",
      "수취인 주소 : 서울특별시 동대문구\n",
      "배송비 : 3000원\n",
      "물건 비용 : 1750.0 원\n",
      "총 합계 : 4750.0 원\n"
     ]
    }
   ],
   "source": [
    "name = input('수취인 성명 :')\n",
    "address = input('수취인 주소 :')\n",
    "gram = float(input('무게(g) :'))\n",
    "cost = gram * 5\n",
    "total = cost + 3000\n",
    "\n",
    "print(\"=== 택배 정보 ===\")\n",
    "print(\"수취인 성명 :\", name)\n",
    "print(\"수취인 주소 :\", address)\n",
    "print(\"배송비 : 3000원\")\n",
    "print(\"물건 비용 :\", cost,\"원\")\n",
    "print(\"총 합계 :\", total,\"원\")"
   ]
  },
  {
   "cell_type": "markdown",
   "id": "3689292c-ab53-498c-947e-4722f985307d",
   "metadata": {},
   "source": [
    "### Ch03. Numbers"
   ]
  },
  {
   "cell_type": "markdown",
   "id": "b1c5c0c6-3894-4a69-a60f-23915f4719dd",
   "metadata": {},
   "source": [
    "#### boolean\n",
    "- 형 변환할 때 True, False인지 기억하라\n",
    "    - '', None, 0, .. 이 False\n",
    "- 조건식에서 많이 쓴다. 예: 만약 이 조건이 True라면, ..."
   ]
  },
  {
   "cell_type": "code",
   "execution_count": 1,
   "id": "b2254ea2-4f7c-4a3b-83ba-4d3d041a7b7a",
   "metadata": {},
   "outputs": [
    {
     "data": {
      "text/plain": [
       "True"
      ]
     },
     "execution_count": 1,
     "metadata": {},
     "output_type": "execute_result"
    }
   ],
   "source": [
    "bool(1)"
   ]
  },
  {
   "cell_type": "code",
   "execution_count": 2,
   "id": "254521a5-645a-4faf-837c-4ba883e4d224",
   "metadata": {},
   "outputs": [
    {
     "data": {
      "text/plain": [
       "False"
      ]
     },
     "execution_count": 2,
     "metadata": {},
     "output_type": "execute_result"
    }
   ],
   "source": [
    "bool('')"
   ]
  },
  {
   "cell_type": "markdown",
   "id": "f153c06f-6159-4c77-9684-185535a39b49",
   "metadata": {},
   "source": [
    "#### integer\n",
    "- 소수점 없음\n",
    "- default 양수, 음수는 앞에 -를 붙인다.\n",
    "- 숫자 앞에는 0을 붙일 수 없다. 예: 05\n",
    "    - 예외적으로 0bxxx, => 다른 진수 표현법\n",
    "- 리터럴: 4\n",
    "- 공백이 많아도 무시가 된다.\n",
    "- 10,000dnjs -> 10, 000원 두 개로 인식 = > _ 언더바 사용\n",
    "    - 예: 10_000"
   ]
  },
  {
   "cell_type": "code",
   "execution_count": 3,
   "id": "fd03faf1-48f4-472f-919d-a477e32ab64f",
   "metadata": {},
   "outputs": [
    {
     "data": {
      "text/plain": [
       "-1"
      ]
     },
     "execution_count": 3,
     "metadata": {},
     "output_type": "execute_result"
    }
   ],
   "source": [
    "a = -9\n",
    "8 + a"
   ]
  },
  {
   "cell_type": "code",
   "execution_count": 4,
   "id": "5e0ac72c-7f48-4c93-8f4b-00db0bcfc4f7",
   "metadata": {},
   "outputs": [
    {
     "ename": "SyntaxError",
     "evalue": "leading zeros in decimal integer literals are not permitted; use an 0o prefix for octal integers (Temp/ipykernel_23104/2890110653.py, line 1)",
     "output_type": "error",
     "traceback": [
      "\u001b[1;36m  File \u001b[1;32m\"C:\\Users\\perod\\AppData\\Local\\Temp/ipykernel_23104/2890110653.py\"\u001b[1;36m, line \u001b[1;32m1\u001b[0m\n\u001b[1;33m    a = 09\u001b[0m\n\u001b[1;37m         ^\u001b[0m\n\u001b[1;31mSyntaxError\u001b[0m\u001b[1;31m:\u001b[0m leading zeros in decimal integer literals are not permitted; use an 0o prefix for octal integers\n"
     ]
    }
   ],
   "source": [
    "a = 09"
   ]
  },
  {
   "cell_type": "code",
   "execution_count": 17,
   "id": "03e371f5-8b5d-47bc-b92f-f3fd99ad39b2",
   "metadata": {},
   "outputs": [
    {
     "data": {
      "text/plain": [
       "-6"
      ]
     },
     "execution_count": 17,
     "metadata": {},
     "output_type": "execute_result"
    }
   ],
   "source": [
    "-9 + 8             -5   # 띄어쓰기를 많이 해도 인식한다"
   ]
  },
  {
   "cell_type": "code",
   "execution_count": 6,
   "id": "2bcf82e7-df4b-4c52-9909-b72ef35a5bce",
   "metadata": {},
   "outputs": [
    {
     "name": "stdout",
     "output_type": "stream",
     "text": [
      "10000\n"
     ]
    }
   ],
   "source": [
    "a = 10_000\n",
    "print(a)"
   ]
  },
  {
   "cell_type": "markdown",
   "id": "dcc52598-e746-47ae-b772-e7f66f28dd17",
   "metadata": {
    "tags": []
   },
   "source": [
    "#### 연산\n",
    "- 연산자|operator: *, -, +,...\n",
    "- 피연산자|operand: 4, 5, ...\n",
    "- 수식|expression"
   ]
  },
  {
   "cell_type": "code",
   "execution_count": 8,
   "id": "9cccdde8-3712-4ad0-8be4-2415466a8dd9",
   "metadata": {},
   "outputs": [
    {
     "data": {
      "text/plain": [
       "262144"
      ]
     },
     "execution_count": 8,
     "metadata": {},
     "output_type": "execute_result"
    }
   ],
   "source": [
    "x = 4\n",
    "y = 9\n",
    "\n",
    "x + y\n",
    "x - y\n",
    "x * y\n",
    "x / y\n",
    "\n",
    "# 거듭제곱|exponential\n",
    "x ** y"
   ]
  },
  {
   "cell_type": "markdown",
   "id": "96a52b0d-6286-48ce-b18d-b709f18a9687",
   "metadata": {},
   "source": [
    "나눗셈에서 주의할 사항"
   ]
  },
  {
   "cell_type": "code",
   "execution_count": 18,
   "id": "6b239067-62bc-4078-8c0e-0cb77e1e1295",
   "metadata": {},
   "outputs": [
    {
     "data": {
      "text/plain": [
       "(0.0, 10.7, 0.5404040404040403)"
      ]
     },
     "execution_count": 18,
     "metadata": {},
     "output_type": "execute_result"
    }
   ],
   "source": [
    "#1. division by zero => 주의 (y!=0)\n",
    "#2. 몫, 나머지\n",
    "x // y, x % y, x / y"
   ]
  },
  {
   "cell_type": "code",
   "execution_count": 10,
   "id": "046c9bba-ba73-491a-a393-adef71fcf4aa",
   "metadata": {},
   "outputs": [
    {
     "data": {
      "text/plain": [
       "(0, 4)"
      ]
     },
     "execution_count": 10,
     "metadata": {},
     "output_type": "execute_result"
    }
   ],
   "source": [
    "divmod(x, y)"
   ]
  },
  {
   "cell_type": "markdown",
   "id": "0e8711a9-1d56-49a3-b9b8-bd0e477c315a",
   "metadata": {},
   "source": [
    "#### 복합 대입연산자|compound assignment operator"
   ]
  },
  {
   "cell_type": "code",
   "execution_count": 12,
   "id": "2dafe74d-d639-4994-a606-ecba441003c5",
   "metadata": {},
   "outputs": [
    {
     "name": "stdout",
     "output_type": "stream",
     "text": [
      "5\n"
     ]
    }
   ],
   "source": [
    "a = 5\n",
    "a - 3\n",
    "print(a)"
   ]
  },
  {
   "cell_type": "code",
   "execution_count": 16,
   "id": "5a5fe441-9ac0-4c9e-bf85-a5bf00337fa8",
   "metadata": {},
   "outputs": [],
   "source": [
    "a = a - 3\n",
    "#1. a - 3을 계산\n",
    "#2. 임시변수 temp = a-3\n",
    "#3. a = a - 3\n",
    "a -= 3"
   ]
  },
  {
   "cell_type": "code",
   "execution_count": 14,
   "id": "b5a99d31-bffa-43b9-9c3f-7019f9d7be13",
   "metadata": {},
   "outputs": [],
   "source": [
    "a += 3\n",
    "a -= 3\n",
    "a *= 3\n",
    "a /= 3"
   ]
  },
  {
   "cell_type": "code",
   "execution_count": 19,
   "id": "74e0a73f-fd09-443d-950b-3787ba38acff",
   "metadata": {},
   "outputs": [
    {
     "ename": "SyntaxError",
     "evalue": "invalid syntax (Temp/ipykernel_8788/1691408235.py, line 1)",
     "output_type": "error",
     "traceback": [
      "\u001b[1;36m  File \u001b[1;32m\"C:\\Users\\perod\\AppData\\Local\\Temp/ipykernel_8788/1691408235.py\"\u001b[1;36m, line \u001b[1;32m1\u001b[0m\n\u001b[1;33m    u = ? # 값 초기화 안하면 에러\u001b[0m\n\u001b[1;37m        ^\u001b[0m\n\u001b[1;31mSyntaxError\u001b[0m\u001b[1;31m:\u001b[0m invalid syntax\n"
     ]
    }
   ],
   "source": [
    "u = ? # 값 초기화 안하면 에러\n",
    "u = u + 1"
   ]
  },
  {
   "cell_type": "markdown",
   "id": "9d58e26c-7dd1-496a-a758-1064c8ab63aa",
   "metadata": {},
   "source": [
    "### Quiz 3.\n",
    "- 정수를 입력 받고 3의 배수인지 확인하세요.\n",
    "- = 홀수인지 확인하세요."
   ]
  },
  {
   "cell_type": "code",
   "execution_count": 17,
   "id": "55a2f0c2-cf7a-44e3-8c9b-30fb10f6e020",
   "metadata": {},
   "outputs": [
    {
     "name": "stdin",
     "output_type": "stream",
     "text": [
      "정수를 입력하세요 : 876543\n"
     ]
    },
    {
     "name": "stdout",
     "output_type": "stream",
     "text": [
      "3의 배수입니다\n",
      "홀수입니다\n"
     ]
    }
   ],
   "source": [
    "number = int(input('정수를 입력하세요 :'))\n",
    "if number % 3 == 0:\n",
    "    print('3의 배수입니다')\n",
    "else:\n",
    "    print('3의 배수가 아닙니다')\n",
    "if number % 2 == 0:\n",
    "    print('짝수입니다')\n",
    "else:\n",
    "    print('홀수입니다')"
   ]
  },
  {
   "cell_type": "markdown",
   "id": "29c28638-6de4-4a49-9a30-2eeab2a73eb9",
   "metadata": {},
   "source": [
    "#### 지수 표현\n",
    "- e, E 둘 다 가능하다\n",
    "- 앞부분은 float, int\n",
    "- 뒷부분은 int만 온다.\n",
    "    - 양수면 0 앞으로\n",
    "    - 음수면 0 뒤로 (소수점)"
   ]
  },
  {
   "cell_type": "code",
   "execution_count": 19,
   "id": "d39ac307-ecd2-40d0-869a-17fa7e8bb1ba",
   "metadata": {},
   "outputs": [
    {
     "data": {
      "text/plain": [
       "1000000.0"
      ]
     },
     "execution_count": 19,
     "metadata": {},
     "output_type": "execute_result"
    }
   ],
   "source": [
    "1.0e6 # float"
   ]
  },
  {
   "cell_type": "code",
   "execution_count": 20,
   "id": "2c5e2449-db74-44b9-8bb9-335e01ece037",
   "metadata": {},
   "outputs": [
    {
     "data": {
      "text/plain": [
       "0.000789"
      ]
     },
     "execution_count": 20,
     "metadata": {},
     "output_type": "execute_result"
    }
   ],
   "source": [
    "# 0.000789 => 지수표현\n",
    "789e-6\n",
    "7.89e-4\n",
    "#0.0789e"
   ]
  },
  {
   "cell_type": "markdown",
   "id": "84a3b5ca-66aa-4edd-b8e6-67e6619f1121",
   "metadata": {
    "jp-MarkdownHeadingCollapsed": true,
    "tags": []
   },
   "source": [
    "### 조건문, if\n",
    "- code structure"
   ]
  },
  {
   "cell_type": "markdown",
   "id": "8ca478ee-c831-4437-bacb-758e8a0c2b75",
   "metadata": {},
   "source": [
    "### 코드 짜는 틀\n",
    "- 주석 다는 법\n",
    "    - 설명하는 부분\n",
    "    - 목적: 의도를 표현한다.\n",
    "    - '#' hash, sharp, ...\n",
    "    - 시작된 부분부터 그 라인에 끝까지가 주석\n",
    "    - 문자열 안에 들어있는 해시는 문자열로 인식\n",
    "    - \"\"\"<주석>\"\"\"\n",
    "- 라인 유지하기\n",
    "    - 들여쓰기, 디폴트 값 공백4개, 탭 1개\n",
    "    - 한 줄에 최대 80자 넘지 않게\n",
    "    - 백슬래시로 끊어준다 \\"
   ]
  },
  {
   "cell_type": "code",
   "execution_count": 2,
   "id": "345e908a-04ec-4c1b-8521-84a9dbd94daf",
   "metadata": {},
   "outputs": [],
   "source": [
    "a = 3 # 여기부터 라인 끝\n",
    "b = 2"
   ]
  },
  {
   "cell_type": "code",
   "execution_count": 4,
   "id": "e1ba7be8-022c-47c8-94d8-3ca8fe4e6dfb",
   "metadata": {},
   "outputs": [
    {
     "name": "stdout",
     "output_type": "stream",
     "text": [
      "hey ###\n"
     ]
    },
    {
     "data": {
      "text/plain": [
       "'\\n주석1\\n주석2\\n주석3\\n'"
      ]
     },
     "execution_count": 4,
     "metadata": {},
     "output_type": "execute_result"
    }
   ],
   "source": [
    "example = 'hey ###'\n",
    "print(example)\n",
    "\"\"\"\n",
    "주석1\n",
    "주석2\n",
    "주석3\n",
    "\"\"\""
   ]
  },
  {
   "cell_type": "code",
   "execution_count": 6,
   "id": "fc7ffa50-6d17-4c1f-9e1c-1ceac5eeab21",
   "metadata": {},
   "outputs": [
    {
     "ename": "SyntaxError",
     "evalue": "invalid syntax (Temp/ipykernel_18408/3701530689.py, line 1)",
     "output_type": "error",
     "traceback": [
      "\u001b[1;36m  File \u001b[1;32m\"C:\\Users\\perod\\AppData\\Local\\Temp/ipykernel_18408/3701530689.py\"\u001b[1;36m, line \u001b[1;32m1\u001b[0m\n\u001b[1;33m    if ....:\u001b[0m\n\u001b[1;37m           ^\u001b[0m\n\u001b[1;31mSyntaxError\u001b[0m\u001b[1;31m:\u001b[0m invalid syntax\n"
     ]
    }
   ],
   "source": [
    "if ....:\n",
    "    ###"
   ]
  },
  {
   "cell_type": "markdown",
   "id": "0c1ca0d7-069a-49df-992a-626192fd3da2",
   "metadata": {},
   "source": [
    "- 조건 1개\n",
    "if <조건식>:\n",
    "    <실행할 코드>"
   ]
  },
  {
   "cell_type": "code",
   "execution_count": 7,
   "id": "efa0030d-50b7-4514-8f1e-fcf8dcfcbdc8",
   "metadata": {},
   "outputs": [
    {
     "name": "stdout",
     "output_type": "stream",
     "text": [
      "Yaay!\n"
     ]
    }
   ],
   "source": [
    "if 4 != 9:\n",
    "    print('Yaay!')"
   ]
  },
  {
   "cell_type": "markdown",
   "id": "a692fb5e-c559-4c00-890f-c47f364de54f",
   "metadata": {},
   "source": [
    "- 조건 2개:\n",
    "    if <조건식1>:\n",
    "        <실행할 코드>\n",
    "    else:\n",
    "        <실행할 코드2>\n",
    "       "
   ]
  },
  {
   "cell_type": "code",
   "execution_count": 8,
   "id": "428afb5e-a7b1-4318-9b27-cd1dcef0044e",
   "metadata": {},
   "outputs": [
    {
     "name": "stdout",
     "output_type": "stream",
     "text": [
      "Hey!\n"
     ]
    }
   ],
   "source": [
    "if 4 == 9:\n",
    "    print('Yaay!')\n",
    "else:\n",
    "    print('Hey!')"
   ]
  },
  {
   "cell_type": "markdown",
   "id": "2abb6c87-f32e-4451-976e-20451fa9a0d6",
   "metadata": {},
   "source": [
    "- 조건 3개:\n",
    "    if <조건식1>:\n",
    "        <실행할 코드>\n",
    "    elif <조건식2>:\n",
    "        <실행할 코드2>\n",
    "    \n",
    "    .... else:\n",
    "        <실행할 코드3>"
   ]
  },
  {
   "cell_type": "markdown",
   "id": "50ed0d05-247d-45f3-8a8b-0db79c82c311",
   "metadata": {},
   "source": [
    "#### 비교연산자\n",
    "- x < y, x <= y\n",
    "- x < y, x >= y\n",
    "- x == y (값)\n",
    "- x!= y (값)\n",
    "- x is y (값, 메모리주소 동일)\n",
    "- x is not y "
   ]
  },
  {
   "cell_type": "markdown",
   "id": "148da3db-b157-44f9-8564-af1840d0e79b",
   "metadata": {},
   "source": [
    "#### Quiz 1.\n",
    "- 학점 부여하기\n",
    "- 학점을 입력 받아서\n",
    "    - 90점 이상이면 A\n",
    "    - 80, B\n",
    "    - 70, C\n",
    "    - 그외, D\n",
    "\n",
    "- 변수 설정"
   ]
  },
  {
   "cell_type": "markdown",
   "id": "ccfab2b2-3dc5-4b55-8976-5ceee00cd8fb",
   "metadata": {},
   "source": [
    "#### Quiz 2.\n",
    "- 아이디와 비번 입력 받아서 둘 다 일치하면 로그인하기\n",
    "- 아이디, 비번 각자 정해놓기\n",
    "- 일치하지 않을 때에는 창의적으로 어떤 걸로 변환하기"
   ]
  },
  {
   "cell_type": "code",
   "execution_count": 13,
   "id": "ebbee418-0fda-45eb-852c-9eaa56cfb6a0",
   "metadata": {},
   "outputs": [
    {
     "name": "stdin",
     "output_type": "stream",
     "text": [
      " 98\n"
     ]
    },
    {
     "name": "stdout",
     "output_type": "stream",
     "text": [
      "=========학점 계산기=========\n",
      "A\n"
     ]
    }
   ],
   "source": [
    "score = int(input())\n",
    "\n",
    "print(\"=========학점 계산기=========\")\n",
    "\n",
    "if score >= 90:\n",
    "    print(\"A\")\n",
    "elif score >= 80:\n",
    "    print(\"B\")\n",
    "elif score >= 70:\n",
    "    print(\"C\")\n",
    "else:\n",
    "    print(\"D\")"
   ]
  },
  {
   "cell_type": "code",
   "execution_count": 17,
   "id": "3a2c304b-e353-410a-98d8-a6494ba5b852",
   "metadata": {},
   "outputs": [
    {
     "name": "stdin",
     "output_type": "stream",
     "text": [
      "아이디 : felicity\n",
      "비밀번호 : qwerty1\n"
     ]
    },
    {
     "name": "stdout",
     "output_type": "stream",
     "text": [
      "로그인 되었습니다.\n"
     ]
    }
   ],
   "source": [
    "ID_example = \"felicity\"\n",
    "password_example = \"qwerty1\"\n",
    "ID = input(\"아이디 :\")\n",
    "password = input(\"비밀번호 :\")\n",
    "\n",
    "if ID == ID_example and password == password_example:\n",
    "    print(\"로그인 되었습니다.\")\n",
    "else:\n",
    "    print(\"로그인에 실패하였습니다.\")"
   ]
  },
  {
   "cell_type": "markdown",
   "id": "82edfb1b-863d-4a9d-bf98-ce39414c1711",
   "metadata": {},
   "source": [
    "#### 논리연산자\n",
    "- 여러 조건식을 비교할 때\n",
    "- 예: 10 < x < 20\n",
    "    - 파이썬에서만 가능한 표현\n",
    "if score > 90:\n",
    "elif score > 80:\n",
    "    - x > 10 혹은 x < 20\n",
    "    - '혹은' :\n",
    "        - and, & 둘 다 참일 때 True\n",
    "        - or , | 둘 중 하나만 참이어도 True\n",
    "        - not: 참 -> False, 거짓 -> True"
   ]
  },
  {
   "cell_type": "markdown",
   "id": "a433aba2-ee54-4f6b-813a-ac92da3676ae",
   "metadata": {},
   "source": [
    "### Quiz 3.\n",
    "- Quiz 2 확장판\n",
    "- 결석 횟수를 받아서 점수가 80점 이상인데 결석이 2번 이상이면 F, 나머지는 점수대로"
   ]
  },
  {
   "cell_type": "code",
   "execution_count": 19,
   "id": "15053f28-32c0-4978-b5a2-ad722c99184d",
   "metadata": {},
   "outputs": [
    {
     "name": "stdin",
     "output_type": "stream",
     "text": [
      "점수 : 89\n",
      "결석 횟수 : 1\n"
     ]
    },
    {
     "name": "stdout",
     "output_type": "stream",
     "text": [
      "=========학점 계산기=========\n",
      "B\n"
     ]
    }
   ],
   "source": [
    "score = int(input(\"점수 :\"))\n",
    "absence = int(input(\"결석 횟수 :\"))\n",
    "\n",
    "print(\"=========학점 계산기=========\")\n",
    "\n",
    "if score >= 80:\n",
    "    if absence >= 2:\n",
    "        print(\"F\")\n",
    "    else: \n",
    "        if score >= 90:\n",
    "            print(\"A\")\n",
    "        elif score >= 80:\n",
    "            print(\"B\")\n",
    "else: \n",
    "    if score >= 70:\n",
    "        print(\"C\")\n",
    "    else:\n",
    "        print(\"D\")"
   ]
  }
 ],
 "metadata": {
  "kernelspec": {
   "display_name": "Python 3 (ipykernel)",
   "language": "python",
   "name": "python3"
  },
  "language_info": {
   "codemirror_mode": {
    "name": "ipython",
    "version": 3
   },
   "file_extension": ".py",
   "mimetype": "text/x-python",
   "name": "python",
   "nbconvert_exporter": "python",
   "pygments_lexer": "ipython3",
   "version": "3.9.7"
  }
 },
 "nbformat": 4,
 "nbformat_minor": 5
}
