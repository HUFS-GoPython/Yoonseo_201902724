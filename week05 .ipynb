{
 "cells": [
  {
   "cell_type": "markdown",
   "id": "de97f4b9-5827-4415-9b4b-16c458bce9d2",
   "metadata": {
    "tags": []
   },
   "source": [
    "### 반복문\n",
    "- while, for loop\n",
    "\n",
    "#### while loop\n",
    "- 어떤 조건이 만족하는 동안 명령 블록 수행\n",
    "- if + for loop 의 형태\n",
    "- 해당 조건이 false가 되면 멈춘다. : 언제 멈추는지 그 시점을 정확히 파악해야 한다.\n",
    "\n",
    "#### for vs while\n",
    "- for : 반복 횟수가 정해짐, 정확함, 변하지 않음\n",
    "    - 예: 성적 산출\n",
    "- while: 횟수 정해지지 않음.(중요하지 않음) 어떤 조건을 만족시킬 때 빠져나오는가가 중요\n",
    "    - 예: 가위바위보에서 이겼을 때 끝낸다 등"
   ]
  },
  {
   "cell_type": "code",
   "execution_count": 1,
   "id": "a1670104-a656-4c10-b81e-b82e0bac1f87",
   "metadata": {},
   "outputs": [
    {
     "name": "stdout",
     "output_type": "stream",
     "text": [
      "0\n",
      "1\n",
      "2\n",
      "3\n",
      "4\n",
      "5\n",
      "6\n",
      "7\n",
      "8\n",
      "9\n"
     ]
    }
   ],
   "source": [
    "for i in range(10):\n",
    "    print(i)\n",
    "# 저번 시간 for loop 복습"
   ]
  },
  {
   "cell_type": "code",
   "execution_count": 1,
   "id": "6551e869-bdbe-4e67-85be-e28f36675db3",
   "metadata": {},
   "outputs": [
    {
     "name": "stdout",
     "output_type": "stream",
     "text": [
      "1\n",
      "2\n",
      "3\n"
     ]
    }
   ],
   "source": [
    "# while loop에선 변수 설정이 되어야 하고 그 변수가 변화해야 한다.\n",
    "j = 0\n",
    "while j < 3: # 0, 1, 2, False\n",
    "    j += 1\n",
    "    print(j) # 0, 1, 2\n",
    "    # j += 1 # 변화 1, 2, 3"
   ]
  },
  {
   "cell_type": "code",
   "execution_count": 4,
   "id": "98a7b23e-1254-4fe2-bf42-d6671b98a3cc",
   "metadata": {},
   "outputs": [
    {
     "data": {
      "text/plain": [
       "3"
      ]
     },
     "execution_count": 4,
     "metadata": {},
     "output_type": "execute_result"
    }
   ],
   "source": [
    "j # 3으로 할당되어 있을 것임"
   ]
  },
  {
   "cell_type": "code",
   "execution_count": 2,
   "id": "928c2cf7-23aa-43c1-aa18-128d30f1d495",
   "metadata": {},
   "outputs": [
    {
     "name": "stdout",
     "output_type": "stream",
     "text": [
      "a\n",
      "b\n",
      "c\n",
      "d\n"
     ]
    }
   ],
   "source": [
    "abcd = ['a', 'b', 'c', 'd']\n",
    "for ch in abcd:\n",
    "    print(ch)"
   ]
  },
  {
   "cell_type": "code",
   "execution_count": 3,
   "id": "eabe52ff-119d-4216-95aa-d0563a05da0e",
   "metadata": {},
   "outputs": [
    {
     "name": "stdout",
     "output_type": "stream",
     "text": [
      "a\n",
      "b\n",
      "c\n",
      "d\n"
     ]
    }
   ],
   "source": [
    "i = 0\n",
    "while i < len(abcd):\n",
    "    print(abcd[i])\n",
    "    i += 1"
   ]
  },
  {
   "cell_type": "markdown",
   "id": "e01c04be-d85b-407e-b85a-c89b20f0ff49",
   "metadata": {},
   "source": [
    "#### 반복문 제어\n",
    "- 되도록 지양한다. 의도치 않은 오류 발생 가능\n",
    "\n",
    "- break: 논리적으로 반복을 종료시킬 때\n",
    "- else : 어떤 조건이 완전히 끝났을 때 한번더 실행. break시에 실행 안됨.\n",
    "    - 어떤 지점에서 종료되었는지 확인할 때\n",
    "- continue: 특정 조건을 건너뛰고 다음 조건 실행"
   ]
  },
  {
   "cell_type": "code",
   "execution_count": 5,
   "id": "c2f017d3-ffe6-43ef-a999-a8dbf0012012",
   "metadata": {},
   "outputs": [
    {
     "name": "stdout",
     "output_type": "stream",
     "text": [
      "0\n",
      "1\n",
      "2\n",
      "3\n",
      "4\n",
      "5\n",
      "6\n"
     ]
    }
   ],
   "source": [
    "j = 0 # 초기화\n",
    "while j < 10:\n",
    "    print(j)\n",
    "    if j == 6: break\n",
    "    j += 1\n",
    "else:\n",
    "    print('ended') #중간에 끝나면 출력이 되지 않음. 어느 지점에서 종료되었는지 확인 가능."
   ]
  },
  {
   "cell_type": "code",
   "execution_count": 7,
   "id": "03c214a8-3d98-47e3-88de-68e3a55e6441",
   "metadata": {},
   "outputs": [
    {
     "name": "stdout",
     "output_type": "stream",
     "text": [
      "0\n",
      "1\n",
      "2\n",
      "3\n",
      "4\n",
      "5\n"
     ]
    }
   ],
   "source": [
    "for i in range(10):\n",
    "    if i == 6: break\n",
    "    print(i) # 6출력안됨"
   ]
  },
  {
   "cell_type": "code",
   "execution_count": 9,
   "id": "c2f196ba-f313-40e7-98f8-3f6a16435a60",
   "metadata": {},
   "outputs": [
    {
     "name": "stdout",
     "output_type": "stream",
     "text": [
      "0\n",
      "1\n",
      "2\n",
      "3\n",
      "4\n",
      "5\n",
      "7\n",
      "8\n",
      "9\n",
      "ended\n"
     ]
    }
   ],
   "source": [
    "for i in range(10):\n",
    "    if i == 6: continue\n",
    "    print(i) # 6 출력 안 됨\n",
    "else:\n",
    "    print('ended')"
   ]
  },
  {
   "cell_type": "markdown",
   "id": "b49a2d7e-f967-46e4-aad4-b399d057041d",
   "metadata": {},
   "source": [
    "### 구구단\n",
    "변수는 입력을 받아서 사용함.\n",
    "- 1. n단 출력\n",
    "- 2. 1-n단까지 출력\n",
    "    - n>10 인 경우 대비\n",
    "- 3. n, m 모두 입력 받아서 출력\n",
    "- 4. 프로그램화\n",
    "    - 메뉴: 1) n, 2) 1-n, 3) n-m단\n",
    "    - 메뉴에 없는 옵션 선택할 때\n",
    "- 5. print format 사용할 것"
   ]
  },
  {
   "cell_type": "code",
   "execution_count": null,
   "id": "f3eb473e",
   "metadata": {},
   "outputs": [],
   "source": [
    "while True:\n",
    "    menu = int(input('메뉴를 선택하세요. 1) n단 출력 2) 1단부터 n단 출력 3) n단부터 m 단출력: '))\n",
    "    if menu == 1 or menu == 2 or menu == 3:\n",
    "        break\n",
    "    else: \n",
    "        print('다른 메뉴를 선택해주세요')\n",
    "\n",
    "while True:\n",
    "    if (menu == 1) or (menu == 2):\n",
    "        dan = int(input('출력할 단을 입력하세요: '))   \n",
    "        if (dan < 1) or (dan > 10):\n",
    "            print('1-9의 숫자로 입력하세요')\n",
    "            continue    \n",
    "    if menu == 1:\n",
    "        print(f\"=== {dan}단 ===\")\n",
    "        for i in range(1, 10):\n",
    "            print(f\"{dan}*{i}={dan*i}\")\n",
    "        break\n",
    "    elif menu == 2:\n",
    "        for i in range(1, dan+1):\n",
    "            print(f\"=== {i}단 ===\")\n",
    "            for k in range(1, 10):\n",
    "                print(f'{i}*{k} = {i*k}')\n",
    "        break        \n",
    "    elif menu == 3:\n",
    "        start = int(input('시작하는 단을 입력하세요: '))\n",
    "        end = int(input('끝나는 단을 입력하세요: '))\n",
    "        if (start > end) or (start > 10) or (end > 10):\n",
    "            print('시작단이 끝단보다 크거나 입력값이 10보다 큽니다. 다시 입력하세요')\n",
    "            continue\n",
    "        for i in range(start, end+1):\n",
    "            print(f\"=== {i}단 ===\")\n",
    "            for k in range(1, 10):\n",
    "                print(f'{i}*{k} = {i*k}')\n",
    "        break        \n",
    "            "
   ]
  },
  {
   "cell_type": "code",
   "execution_count": 32,
   "id": "8c36447f-cb2b-4172-b4e9-b1d81792818e",
   "metadata": {},
   "outputs": [
    {
     "name": "stdout",
     "output_type": "stream",
     "text": [
      "*** Introductory Examples for the NLTK Book ***\n",
      "Loading text1, ..., text9 and sent1, ..., sent9\n",
      "Type the name of the text or sentence to view it.\n",
      "Type: 'texts()' or 'sents()' to list the materials.\n",
      "text1: Moby Dick by Herman Melville 1851\n",
      "text2: Sense and Sensibility by Jane Austen 1811\n",
      "text3: The Book of Genesis\n",
      "text4: Inaugural Address Corpus\n",
      "text5: Chat Corpus\n",
      "text6: Monty Python and the Holy Grail\n",
      "text7: Wall Street Journal\n",
      "text8: Personals Corpus\n",
      "text9: The Man Who Was Thursday by G . K . Chesterton 1908\n"
     ]
    },
    {
     "data": {
      "text/plain": [
       "True"
      ]
     },
     "execution_count": 32,
     "metadata": {},
     "output_type": "execute_result"
    }
   ],
   "source": [
    "import nltk\n",
    "from nltk.book import *\n",
    "nltk.download('book', quiet=True)"
   ]
  },
  {
   "cell_type": "code",
   "execution_count": null,
   "id": "40d7f38c",
   "metadata": {},
   "outputs": [],
   "source": [
    "# text1 ~ 9\n",
    "# text1 vs 'text1'\n",
    "# text1 ~ 9 string가져오기\n",
    "# string -> fx"
   ]
  },
  {
   "cell_type": "code",
   "execution_count": 35,
   "id": "03dd2a9d-98ff-43d9-ae27-2c21ee868a3f",
   "metadata": {},
   "outputs": [
    {
     "data": {
      "text/plain": [
       "[<Text: Moby Dick by Herman Melville 1851>,\n",
       " <Text: Sense and Sensibility by Jane Austen 1811>,\n",
       " <Text: The Book of Genesis>,\n",
       " <Text: Inaugural Address Corpus>,\n",
       " <Text: Chat Corpus>,\n",
       " <Text: Monty Python and the Holy Grail>,\n",
       " <Text: Wall Street Journal>,\n",
       " <Text: Personals Corpus>,\n",
       " <Text: The Man Who Was Thursday by G . K . Chesterton 1908>]"
      ]
     },
     "execution_count": 35,
     "metadata": {},
     "output_type": "execute_result"
    }
   ],
   "source": [
    "texts = [getattr(nltk.book, f'text{i}') for i in range(1, 10)]\n",
    "texts"
   ]
  },
  {
   "cell_type": "markdown",
   "id": "a06f96c6-dd28-4a87-95d7-43129f6bd07c",
   "metadata": {},
   "source": [
    "#### nltk corpus\n",
    "- 코퍼스 + 테마\n",
    "- 종류\n",
    "    - brown\n",
    "    - gutenberg\n",
    "    - inaugural\n",
    "- methods\n",
    "    - words() # tokens\n",
    "    - sents()\n",
    "    - raw()\n",
    "    - fileids()"
   ]
  },
  {
   "cell_type": "code",
   "execution_count": null,
   "id": "9f448f5c-17c1-48e4-b361-f9e85fa905d2",
   "metadata": {},
   "outputs": [],
   "source": [
    "from nltk.corpus import gutenberg\n",
    "nltk.download(['brown', 'gutenberg', 'inaugural'])"
   ]
  },
  {
   "cell_type": "code",
   "execution_count": 40,
   "id": "b2e3100c-9e83-4dd1-8871-1453c00569a5",
   "metadata": {},
   "outputs": [
    {
     "data": {
      "text/plain": [
       "['austen-emma.txt',\n",
       " 'austen-persuasion.txt',\n",
       " 'austen-sense.txt',\n",
       " 'bible-kjv.txt',\n",
       " 'blake-poems.txt',\n",
       " 'bryant-stories.txt',\n",
       " 'burgess-busterbrown.txt',\n",
       " 'carroll-alice.txt',\n",
       " 'chesterton-ball.txt',\n",
       " 'chesterton-brown.txt',\n",
       " 'chesterton-thursday.txt',\n",
       " 'edgeworth-parents.txt',\n",
       " 'melville-moby_dick.txt',\n",
       " 'milton-paradise.txt',\n",
       " 'shakespeare-caesar.txt',\n",
       " 'shakespeare-hamlet.txt',\n",
       " 'shakespeare-macbeth.txt',\n",
       " 'whitman-leaves.txt']"
      ]
     },
     "execution_count": 40,
     "metadata": {},
     "output_type": "execute_result"
    }
   ],
   "source": [
    "gutenberg.fileids()"
   ]
  },
  {
   "cell_type": "code",
   "execution_count": 41,
   "id": "4519311b-0d04-403e-b812-356bd60868a0",
   "metadata": {},
   "outputs": [
    {
     "data": {
      "text/plain": [
       "['[', 'Alice', \"'\", 's', 'Adventures', 'in', ...]"
      ]
     },
     "execution_count": 41,
     "metadata": {},
     "output_type": "execute_result"
    }
   ],
   "source": [
    "gutenberg.words(fileids=['carroll-alice.txt', 'austen-emma.txt'])"
   ]
  },
  {
   "cell_type": "code",
   "execution_count": null,
   "id": "33fc73b9",
   "metadata": {},
   "outputs": [],
   "source": [
    "### 각 파일마다 word, character, sents 개수 출력하기"
   ]
  },
  {
   "cell_type": "code",
   "execution_count": 43,
   "id": "9a79da3d-90a2-412d-9e1f-4b77c942171f",
   "metadata": {},
   "outputs": [
    {
     "name": "stdout",
     "output_type": "stream",
     "text": [
      "15\n",
      "21\n",
      "16\n",
      "13\n",
      "15\n",
      "18\n",
      "23\n",
      "17\n",
      "19\n",
      "20\n",
      "23\n",
      "21\n",
      "22\n",
      "19\n",
      "22\n",
      "22\n",
      "23\n",
      "18\n"
     ]
    }
   ],
   "source": [
    "letter = ['austen-emma.txt',\n",
    " 'austen-persuasion.txt',\n",
    " 'austen-sense.txt',\n",
    " 'bible-kjv.txt',\n",
    " 'blake-poems.txt',\n",
    " 'bryant-stories.txt',\n",
    " 'burgess-busterbrown.txt',\n",
    " 'carroll-alice.txt',\n",
    " 'chesterton-ball.txt',\n",
    " 'chesterton-brown.txt',\n",
    " 'chesterton-thursday.txt',\n",
    " 'edgeworth-parents.txt',\n",
    " 'melville-moby_dick.txt',\n",
    " 'milton-paradise.txt',\n",
    " 'shakespeare-caesar.txt',\n",
    " 'shakespeare-hamlet.txt',\n",
    " 'shakespeare-macbeth.txt',\n",
    " 'whitman-leaves.txt']\n",
    "for letter in letter:\n",
    "    print(len(letter))"
   ]
  },
  {
   "cell_type": "code",
   "execution_count": 55,
   "id": "1a041575-7f2c-4424-a505-ab9959b341ba",
   "metadata": {},
   "outputs": [
    {
     "data": {
      "text/plain": [
       "18"
      ]
     },
     "execution_count": 55,
     "metadata": {},
     "output_type": "execute_result"
    }
   ],
   "source": [
    "len([word for word in letter]) # 이거 아님"
   ]
  },
  {
   "cell_type": "code",
   "execution_count": null,
   "id": "7506d57d-a76c-4066-a27e-167a16cdc713",
   "metadata": {},
   "outputs": [],
   "source": [
    "lists = gutenberg.fileids()\n",
    "for i in lists:\n",
    "    words = gutenberg.words(fileids=[i])\n",
    "    char = gutenberg.raw(fileids=[i])\n",
    "    sent = gutenberg.sents(fileids=[i])   \n",
    "    print(f'{i} | 글자수: {len(char)}, 단어수: {len(words)}, 문장수: {len(sent)}')"
   ]
  },
  {
   "cell_type": "markdown",
   "id": "63feea8c-68ac-4fae-8046-7c8a52943b31",
   "metadata": {
    "tags": []
   },
   "source": [
    "### Gutenberg\n",
    " - * list comprehension\n",
    "- 1. shakespeare-caesar의 중복된 단어를 거르고 각 단어의 길이를 출력하시오.\n",
    "- 2. chesterton-thursday에서 길이가 4자 이하인 알파벳 중 ie를 포함하는 단어를 소문자로 출력하고, 개수를 세어라.\n",
    "- 3. bryant-stories에서 ch로 끝나는 단어를 출력하는데, 중복 없이, 첫글자(모두 소문자)와 끝 ch만 남기고 가운데 글자들은 모두 -로 가려라.\n",
    "    - 예: much -> m-ch"
   ]
  },
  {
   "cell_type": "code",
   "execution_count": 81,
   "id": "e30d124b-c5b2-4e17-83d6-81d3dfe597b9",
   "metadata": {},
   "outputs": [
    {
     "data": {
      "text/plain": [
       "[4, 6, 8, 9, 9, 4, 10, 4, 4, 7]"
      ]
     },
     "execution_count": 81,
     "metadata": {},
     "output_type": "execute_result"
    }
   ],
   "source": [
    "# 1번\n",
    "ex = [len(word.lower()) for word in set((gutenberg.words('shakespeare-caesar.txt')))]\n",
    "ex[:10]"
   ]
  },
  {
   "cell_type": "code",
   "execution_count": null,
   "id": "a125049a-a1c7-4068-b680-6b55f7482cab",
   "metadata": {},
   "outputs": [],
   "source": [
    "# 2번\n",
    "lists = [word.lower() for word in gutenberg.words('chesterton-thursday.txt') if len(word) <= 4 and 'ie' in word]\n",
    "print(lists, len(lists))"
   ]
  },
  {
   "cell_type": "code",
   "execution_count": null,
   "id": "8e1b1325",
   "metadata": {},
   "outputs": [],
   "source": [
    "# 3번\n",
    "[word.lower().replace(word[1:-2], '-'*len(word[1:-2])) for word in set((gutenberg.words('bryant-stories.txt'))) if word.endswith('ch')]"
   ]
  },
  {
   "cell_type": "markdown",
   "id": "dacfc372-89f0-45f2-9073-63f99046019c",
   "metadata": {},
   "source": [
    "Brown\n",
    "- categories()"
   ]
  },
  {
   "cell_type": "code",
   "execution_count": 82,
   "id": "c6e69d4d-45b9-460e-b1aa-e0962f63fd6c",
   "metadata": {},
   "outputs": [],
   "source": [
    "brown = nltk.corpus.brown"
   ]
  },
  {
   "cell_type": "code",
   "execution_count": 83,
   "id": "56b38e4d-66bb-4294-8644-66f0e8c14268",
   "metadata": {},
   "outputs": [
    {
     "data": {
      "text/plain": [
       "['adventure',\n",
       " 'belles_lettres',\n",
       " 'editorial',\n",
       " 'fiction',\n",
       " 'government',\n",
       " 'hobbies',\n",
       " 'humor',\n",
       " 'learned',\n",
       " 'lore',\n",
       " 'mystery',\n",
       " 'news',\n",
       " 'religion',\n",
       " 'reviews',\n",
       " 'romance',\n",
       " 'science_fiction']"
      ]
     },
     "execution_count": 83,
     "metadata": {},
     "output_type": "execute_result"
    }
   ],
   "source": [
    "brown.categories()"
   ]
  },
  {
   "cell_type": "code",
   "execution_count": null,
   "id": "8d1b1188-0f04-4261-9e11-d42130dc5535",
   "metadata": {},
   "outputs": [],
   "source": [
    "fdist = nltk.FreqDist([w.lower() for w in brown.words(categories = 'adventure')])\n",
    "# gutenberg와 다르게 categories를 반드시 써야 한다."
   ]
  },
  {
   "cell_type": "code",
   "execution_count": 89,
   "id": "97b8a815-35e2-4b12-8f25-d67ae73f294f",
   "metadata": {},
   "outputs": [
    {
     "data": {
      "text/plain": [
       "83"
      ]
     },
     "execution_count": 89,
     "metadata": {},
     "output_type": "execute_result"
    }
   ],
   "source": [
    "fdist['men']"
   ]
  },
  {
   "cell_type": "code",
   "execution_count": 90,
   "id": "12df5ad0-411f-4b17-9ce2-3fef8c032869",
   "metadata": {},
   "outputs": [
    {
     "name": "stdout",
     "output_type": "stream",
     "text": [
      "can 48\n",
      "could 154\n",
      "will 51\n",
      "would 194\n",
      "may 7\n",
      "might 59\n"
     ]
    }
   ],
   "source": [
    "# modal verbs\n",
    "modals = ['can', 'could', 'will', 'would', 'may', 'might']\n",
    "\n",
    "for verb in modals:\n",
    "    print(verb, fdist[verb])"
   ]
  },
  {
   "cell_type": "markdown",
   "id": "7fae5c75-bcfc-4efa-9052-b75a33f0f797",
   "metadata": {},
   "source": [
    "### conditional frequency distribution\n",
    "- 조건에 따른 fdist"
   ]
  },
  {
   "cell_type": "code",
   "execution_count": 93,
   "id": "f0b233b0-7e1d-410b-8f5c-0e824eae9b54",
   "metadata": {},
   "outputs": [],
   "source": [
    "cfd = nltk.ConditionalFreqDist(\n",
    "    # 각 장르에 따른 frequency distribution을 만든다.\n",
    "    (genre, word.lower())\n",
    "    for genre in brown.categories()\n",
    "    for word in brown.words(categories=genre)\n",
    ")"
   ]
  },
  {
   "cell_type": "code",
   "execution_count": 94,
   "id": "781e010d-5cb6-439c-9c18-8252dbf11206",
   "metadata": {},
   "outputs": [
    {
     "data": {
      "text/plain": [
       "36"
      ]
     },
     "execution_count": 94,
     "metadata": {},
     "output_type": "execute_result"
    }
   ],
   "source": [
    "cfd['romance']['love']"
   ]
  },
  {
   "cell_type": "code",
   "execution_count": null,
   "id": "a471f2e3-e7ab-48de-b526-302fface8e9e",
   "metadata": {},
   "outputs": [],
   "source": []
  }
 ],
 "metadata": {
  "kernelspec": {
   "display_name": "Python 3 (ipykernel)",
   "language": "python",
   "name": "python3"
  },
  "language_info": {
   "codemirror_mode": {
    "name": "ipython",
    "version": 3
   },
   "file_extension": ".py",
   "mimetype": "text/x-python",
   "name": "python",
   "nbconvert_exporter": "python",
   "pygments_lexer": "ipython3",
   "version": "3.9.7"
  }
 },
 "nbformat": 4,
 "nbformat_minor": 5
}
