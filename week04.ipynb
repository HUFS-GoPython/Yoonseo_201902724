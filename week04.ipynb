{
 "cells": [
  {
   "cell_type": "code",
   "execution_count": 1,
   "id": "b998831f-b0ac-4b0f-8ea0-13fdd26edf39",
   "metadata": {},
   "outputs": [
    {
     "name": "stdout",
     "output_type": "stream",
     "text": [
      "*** Introductory Examples for the NLTK Book ***\n",
      "Loading text1, ..., text9 and sent1, ..., sent9\n",
      "Type the name of the text or sentence to view it.\n",
      "Type: 'texts()' or 'sents()' to list the materials.\n",
      "text1: Moby Dick by Herman Melville 1851\n",
      "text2: Sense and Sensibility by Jane Austen 1811\n",
      "text3: The Book of Genesis\n",
      "text4: Inaugural Address Corpus\n",
      "text5: Chat Corpus\n",
      "text6: Monty Python and the Holy Grail\n",
      "text7: Wall Street Journal\n",
      "text8: Personals Corpus\n",
      "text9: The Man Who Was Thursday by G . K . Chesterton 1908\n"
     ]
    },
    {
     "data": {
      "text/plain": [
       "True"
      ]
     },
     "execution_count": 1,
     "metadata": {},
     "output_type": "execute_result"
    }
   ],
   "source": [
    "import nltk\n",
    "from nltk.book import *\n",
    "nltk.download('book', quiet=True)"
   ]
  },
  {
   "cell_type": "markdown",
   "id": "3d701f55-3a73-4fb4-bad1-e73ccdb59102",
   "metadata": {
    "tags": []
   },
   "source": [
    "#### 내장함수\n",
    "- 문자열1.도구(문자열2) <- 이렇게 쓰는 형식\n",
    "- list.method(문자열)\n",
    "\n",
    "- list.count(string):  #string이 나타나는 개수\n",
    "- .replace('A', 'B'): 문자열 중 A를 -> B로 변경\n",
    "- .strip(): 공백 등을 제거하는 기능\n",
    "    - lstrip, rstrip\n",
    "- .find(string): 오프셋을 반환\n",
    "    - lfind, rfind\n",
    "    - 공백 포함\n",
    "    - 1번째 값의 인덱스\n",
    "    - 만족하는 값이 없는 경우 -1 반환\n",
    "- .index(string)\n",
    "    - 문자열에 만족하는 값이 없는 경우 에러 발생"
   ]
  },
  {
   "cell_type": "code",
   "execution_count": 24,
   "id": "5a498a10-b4b7-4df7-ae3a-70f2305670ab",
   "metadata": {},
   "outputs": [
    {
     "data": {
      "text/plain": [
       "1661"
      ]
     },
     "execution_count": 24,
     "metadata": {},
     "output_type": "execute_result"
    }
   ],
   "source": [
    "text1.count('he')"
   ]
  },
  {
   "cell_type": "code",
   "execution_count": 25,
   "id": "0e07c03f-2cce-4998-927b-6bce7f38d2b6",
   "metadata": {},
   "outputs": [
    {
     "data": {
      "text/plain": [
       "'Word'"
      ]
     },
     "execution_count": 25,
     "metadata": {},
     "output_type": "execute_result"
    }
   ],
   "source": [
    "'word'.replace('w', 'W')"
   ]
  },
  {
   "cell_type": "code",
   "execution_count": 26,
   "id": "b011db91-e37a-47e6-8533-8e8d53545223",
   "metadata": {},
   "outputs": [
    {
     "data": {
      "text/plain": [
       "'    \\t   word'"
      ]
     },
     "execution_count": 26,
     "metadata": {},
     "output_type": "execute_result"
    }
   ],
   "source": [
    "'    \\t   word'.rstrip()"
   ]
  },
  {
   "cell_type": "code",
   "execution_count": 27,
   "id": "7eac03c9-b692-4734-b9c6-6a1e71162c56",
   "metadata": {},
   "outputs": [],
   "source": [
    "word = '    \\t   word'\n",
    "word = word.replace('w', 'ch').strip().replace('d', 'D')"
   ]
  },
  {
   "cell_type": "code",
   "execution_count": 28,
   "id": "181af161-c185-43bc-8ff7-e14fde62319b",
   "metadata": {},
   "outputs": [
    {
     "data": {
      "text/plain": [
       "'chorD'"
      ]
     },
     "execution_count": 28,
     "metadata": {},
     "output_type": "execute_result"
    }
   ],
   "source": [
    "word"
   ]
  },
  {
   "cell_type": "code",
   "execution_count": 13,
   "id": "02024627-dbc3-4d63-90e6-2e126e914c84",
   "metadata": {},
   "outputs": [
    {
     "data": {
      "text/plain": [
       "12"
      ]
     },
     "execution_count": 13,
     "metadata": {},
     "output_type": "execute_result"
    }
   ],
   "source": [
    "word2 = '    \\t   wordwwww'\n",
    "word2.find('www')  # 글자/단어 찾아서 처음 발견된 위치 index 반환"
   ]
  },
  {
   "cell_type": "code",
   "execution_count": 12,
   "id": "5e693051-0b5e-4ea6-826e-f277c8738237",
   "metadata": {},
   "outputs": [
    {
     "ename": "ValueError",
     "evalue": "substring not found",
     "output_type": "error",
     "traceback": [
      "\u001b[1;31m---------------------------------------------------------------------------\u001b[0m",
      "\u001b[1;31mValueError\u001b[0m                                Traceback (most recent call last)",
      "\u001b[1;32m~\\AppData\\Local\\Temp/ipykernel_3200/844020710.py\u001b[0m in \u001b[0;36m<module>\u001b[1;34m\u001b[0m\n\u001b[1;32m----> 1\u001b[1;33m \u001b[0mword2\u001b[0m\u001b[1;33m.\u001b[0m\u001b[0mindex\u001b[0m\u001b[1;33m(\u001b[0m\u001b[1;34m'x'\u001b[0m\u001b[1;33m)\u001b[0m\u001b[1;33m\u001b[0m\u001b[1;33m\u001b[0m\u001b[0m\n\u001b[0m",
      "\u001b[1;31mValueError\u001b[0m: substring not found"
     ]
    }
   ],
   "source": [
    "word2.index('x')"
   ]
  },
  {
   "cell_type": "markdown",
   "id": "94bfb658-e3e1-486f-8613-5e43375410b9",
   "metadata": {
    "tags": []
   },
   "source": [
    "#### nltk 내장 함수\n",
    "- list.method(var)\n",
    "- 자연어 처리와 관련된 함수들\n",
    "- concordance(): string의 앞뒤 문맥을 알 수 있음\n",
    "- simliar([리스트]): 문맥이 비슷한 단어들\n",
    "- common_context([리스트]): 주어진 문자열들이 공유하는 문맥\n",
    "- dispersion_plot([리스트]): 주어진 스트링들이 텍스트의 어느 위치에 나오는지 이미지로 보여줌\n"
   ]
  },
  {
   "cell_type": "code",
   "execution_count": 14,
   "id": "9a9e95a2-ad7b-4447-ac8a-2a8e4052052b",
   "metadata": {},
   "outputs": [
    {
     "name": "stdout",
     "output_type": "stream",
     "text": [
      "Displaying 25 of 1226 matches:\n",
      "s , and to teach them by what name a whale - fish is to be called in our tongue\n",
      "t which is not true .\" -- HACKLUYT \" WHALE . ... Sw . and Dan . HVAL . This ani\n",
      "ulted .\" -- WEBSTER ' S DICTIONARY \" WHALE . ... It is more immediately from th\n",
      "ISH . WAL , DUTCH . HWAL , SWEDISH . WHALE , ICELANDIC . WHALE , ENGLISH . BALE\n",
      "HWAL , SWEDISH . WHALE , ICELANDIC . WHALE , ENGLISH . BALEINE , FRENCH . BALLE\n",
      "least , take the higgledy - piggledy whale statements , however authentic , in \n",
      " dreadful gulf of this monster ' s ( whale ' s ) mouth , are immediately lost a\n",
      " patient Job .\" -- RABELAIS . \" This whale ' s liver was two cartloads .\" -- ST\n",
      " Touching that monstrous bulk of the whale or ork we have received nothing cert\n",
      " of oil will be extracted out of one whale .\" -- IBID . \" HISTORY OF LIFE AND D\n",
      "ise .\" -- KING HENRY . \" Very like a whale .\" -- HAMLET . \" Which to secure , n\n",
      "restless paine , Like as the wounded whale to shore flies thro ' the maine .\" -\n",
      ". OF SPERMA CETI AND THE SPERMA CETI WHALE . VIDE HIS V . E . \" Like Spencer ' \n",
      "t had been a sprat in the mouth of a whale .\" -- PILGRIM ' S PROGRESS . \" That \n",
      "EN ' S ANNUS MIRABILIS . \" While the whale is floating at the stern of the ship\n",
      "e ship called The Jonas - in - the - Whale . ... Some say the whale can ' t ope\n",
      " in - the - Whale . ... Some say the whale can ' t open his mouth , but that is\n",
      " masts to see whether they can see a whale , for the first discoverer has a duc\n",
      " for his pains . ... I was told of a whale taken near Shetland , that had above\n",
      "oneers told me that he caught once a whale in Spitzbergen that was white all ov\n",
      "2 , one eighty feet in length of the whale - bone kind came in , which ( as I w\n",
      "n master and kill this Sperma - ceti whale , for I could never hear of any of t\n",
      " . 1729 . \"... and the breath of the whale is frequendy attended with such an i\n",
      "ed with hoops and armed with ribs of whale .\" -- RAPE OF THE LOCK . \" If we com\n",
      "contemptible in the comparison . The whale is doubtless the largest animal in c\n"
     ]
    }
   ],
   "source": [
    "text1.concordance('whale')"
   ]
  },
  {
   "cell_type": "code",
   "execution_count": 31,
   "id": "e4b805d2-2b23-432d-9bbe-2ab41daf79e8",
   "metadata": {},
   "outputs": [
    {
     "name": "stdout",
     "output_type": "stream",
     "text": [
      "ship boat sea time captain world man deck pequod other whales air\n",
      "water head crew line thing side way body\n"
     ]
    }
   ],
   "source": [
    "text1.similar('whale')"
   ]
  },
  {
   "cell_type": "code",
   "execution_count": 32,
   "id": "d34628f3-83c6-4067-84e7-2e2adfa63aa8",
   "metadata": {},
   "outputs": [
    {
     "name": "stdout",
     "output_type": "stream",
     "text": [
      "am_glad a_pretty a_lucky is_pretty be_glad\n"
     ]
    }
   ],
   "source": [
    "text2.common_contexts(('monstrous', 'very'))"
   ]
  },
  {
   "cell_type": "code",
   "execution_count": 18,
   "id": "2ba982d3-eb73-4061-ae51-852f1a38b9e8",
   "metadata": {},
   "outputs": [
    {
     "data": {
      "image/png": "[encoded data removed]",
      "text/plain": [
       "<Figure size 432x288 with 1 Axes>"
      ]
     },
     "metadata": {
      "needs_background": "light"
     },
     "output_type": "display_data"
    }
   ],
   "source": [
    "from matplotlib import pyplot as plt\n",
    "text4.dispersion_plot(['citizens', 'America', 'freedom'])"
   ]
  },
  {
   "cell_type": "code",
   "execution_count": null,
   "id": "25e429be-9f7f-4d85-b830-0ab7c24e284a",
   "metadata": {},
   "outputs": [],
   "source": [
    "# pip install matplotlib"
   ]
  },
  {
   "cell_type": "markdown",
   "id": "0557e994-91ec-44aa-bdfe-6b3c0348edd7",
   "metadata": {},
   "source": [
    "### Frequency Distribution\n",
    "- 단어의 빈도수 활용할 수 있는 많은 메소드 제공\n",
    "- 인간 언어 -> 컴퓨터가 인식\n",
    "    - 전체 단어 수\n",
    "    - 특정 단어의 빈도수\n",
    "- FreqDist(text)"
   ]
  },
  {
   "cell_type": "code",
   "execution_count": 34,
   "id": "65d84a0f-8ec9-47f3-b7fc-0a437d4c08b3",
   "metadata": {},
   "outputs": [
    {
     "data": {
      "text/plain": [
       "FreqDist({',': 18713, 'the': 13721, '.': 6862, 'of': 6536, 'and': 6024, 'a': 4569, 'to': 4542, ';': 4072, 'in': 3916, 'that': 2982, ...})"
      ]
     },
     "execution_count": 34,
     "metadata": {},
     "output_type": "execute_result"
    }
   ],
   "source": [
    "fdist = FreqDist(text1)\n",
    "fdist # dictionary = key:value"
   ]
  },
  {
   "cell_type": "code",
   "execution_count": 35,
   "id": "1eaca11f-02be-4e0d-beee-04b3d5b46314",
   "metadata": {},
   "outputs": [
    {
     "data": {
      "text/plain": [
       "[(',', 18713),\n",
       " ('the', 13721),\n",
       " ('.', 6862),\n",
       " ('of', 6536),\n",
       " ('and', 6024),\n",
       " ('a', 4569),\n",
       " ('to', 4542),\n",
       " (';', 4072),\n",
       " ('in', 3916),\n",
       " ('that', 2982)]"
      ]
     },
     "execution_count": 35,
     "metadata": {},
     "output_type": "execute_result"
    }
   ],
   "source": [
    "fdist.most_common(10)"
   ]
  },
  {
   "cell_type": "code",
   "execution_count": 36,
   "id": "329355c9-8385-4409-82a1-6385fdc69718",
   "metadata": {},
   "outputs": [
    {
     "data": {
      "text/plain": [
       "(906, 906)"
      ]
     },
     "execution_count": 36,
     "metadata": {},
     "output_type": "execute_result"
    }
   ],
   "source": [
    "fdist['whale'], text1.count('whale')"
   ]
  },
  {
   "cell_type": "code",
   "execution_count": 37,
   "id": "118d4dc0-ad7e-4eb0-a81c-c5a735c40c0c",
   "metadata": {},
   "outputs": [
    {
     "data": {
      "text/plain": [
       "0.003473673313677301"
      ]
     },
     "execution_count": 37,
     "metadata": {},
     "output_type": "execute_result"
    }
   ],
   "source": [
    "fdist.freq('whale')"
   ]
  },
  {
   "cell_type": "code",
   "execution_count": 38,
   "id": "e79a8397-251a-49de-aa4d-d1911fa0ad09",
   "metadata": {},
   "outputs": [
    {
     "data": {
      "image/png": "[encoded data removed]",
      "text/plain": [
       "<Figure size 432x288 with 1 Axes>"
      ]
     },
     "metadata": {
      "needs_background": "light"
     },
     "output_type": "display_data"
    },
    {
     "data": {
      "text/plain": [
       "<AxesSubplot:xlabel='Samples', ylabel='Counts'>"
      ]
     },
     "execution_count": 38,
     "metadata": {},
     "output_type": "execute_result"
    }
   ],
   "source": [
    "fdist.plot(50, cumulative=False)"
   ]
  },
  {
   "cell_type": "code",
   "execution_count": 39,
   "id": "e06dca11-d80e-402b-80cb-23b6d13a257e",
   "metadata": {},
   "outputs": [
    {
     "data": {
      "text/plain": [
       "9002"
      ]
     },
     "execution_count": 39,
     "metadata": {},
     "output_type": "execute_result"
    }
   ],
   "source": [
    "# 1번 나타나는 단어들\n",
    "len(fdist.hapaxes()) # 중복 안됨, 대소문자 구분됨"
   ]
  },
  {
   "cell_type": "markdown",
   "id": "fe5e6f59-ef1d-4482-99d1-5dc586992649",
   "metadata": {},
   "source": [
    "#### 리스트 & 리스트 컴프리헨션\n",
    "- 리스트: 배열(array), 리스트(list)\n",
    "- 하나의 변수에 여러 값을 할당하는 자료형\n",
    "    - a = [1, 2, 3, 4]\n",
    "- 대괄호로 선언[]\n",
    "- 내부 요소들은 자료형이 달라도 됨\n",
    "    - a = [1, 2.9, True, 'hello']\n",
    "- 순서가 있음 = 인덱싱, 슬라이싱 가능\n",
    "- 빈 리스트 선언: list(),[]"
   ]
  },
  {
   "cell_type": "code",
   "execution_count": 40,
   "id": "45e3ab6f-f39f-4dc7-944c-bebc68a0a775",
   "metadata": {},
   "outputs": [
    {
     "data": {
      "text/plain": [
       "['hello', True, 1]"
      ]
     },
     "execution_count": 40,
     "metadata": {},
     "output_type": "execute_result"
    }
   ],
   "source": [
    "a = [1, True, 'hello']\n",
    "a[::-1]"
   ]
  },
  {
   "cell_type": "code",
   "execution_count": 19,
   "id": "d813ef67-5842-43b5-9676-89f55b146d3c",
   "metadata": {},
   "outputs": [],
   "source": [
    "b = []\n",
    "b = list()"
   ]
  },
  {
   "cell_type": "code",
   "execution_count": 21,
   "id": "af8329e0-4715-47ab-b325-cfee026c40ac",
   "metadata": {},
   "outputs": [],
   "source": [
    "drinks = ['rum', 'mojito', 'soju']"
   ]
  },
  {
   "cell_type": "code",
   "execution_count": 22,
   "id": "06888860-4af1-4d68-9854-b2bba5a0b9ed",
   "metadata": {},
   "outputs": [
    {
     "data": {
      "text/plain": [
       "'soju'"
      ]
     },
     "execution_count": 22,
     "metadata": {},
     "output_type": "execute_result"
    }
   ],
   "source": [
    "drinks[-1]"
   ]
  },
  {
   "cell_type": "code",
   "execution_count": 18,
   "id": "4557d326-5851-4594-a931-3d05bf63bdda",
   "metadata": {},
   "outputs": [
    {
     "data": {
      "text/plain": [
       "2"
      ]
     },
     "execution_count": 18,
     "metadata": {},
     "output_type": "execute_result"
    }
   ],
   "source": [
    "drinks.index('soju')"
   ]
  },
  {
   "cell_type": "markdown",
   "id": "c1c9980a-5ba6-4f85-8d04-6168298b204a",
   "metadata": {},
   "source": [
    "#### list comprehension\n",
    "- '지능형 리스트'로 번역됨\n",
    "- 주어진 리스트를 포함하는 새로운 리스트 형성\n",
    "- list + for_loop (반복문) 한 줄로 해결하는 방식\n",
    "- [A for A' in B]\n",
    "    - B에 있는 A'에서 A를 가진 리스트를 반환\n",
    "    - B: 기존의 리스트\n",
    "    - A' = B의 자료형태\n",
    "    - A = 출력값. 새로운 리스트의 요소들\n",
    "- 조건+ = [A for A' in B if <조건식> and <조건식2>,,,]"
   ]
  },
  {
   "cell_type": "code",
   "execution_count": 26,
   "id": "73666cd5-debc-414c-9cdf-4a8670ba0433",
   "metadata": {},
   "outputs": [
    {
     "data": {
      "text/plain": [
       "['r', 'm', 's']"
      ]
     },
     "execution_count": 26,
     "metadata": {},
     "output_type": "execute_result"
    }
   ],
   "source": [
    "[d[0] for d in drinks] #각각을 돌면서 하나만 빼서 담는다\n",
    "                    # 'r'um, 'm'ojito, 's'oju"
   ]
  },
  {
   "cell_type": "code",
   "execution_count": null,
   "id": "b122e578-85af-4d63-b5a3-0bc8b4a5f0a4",
   "metadata": {},
   "outputs": [],
   "source": [
    "# text1 알파벳 수가 10이상인 단어\n",
    "# [word for word in text1] # == text1.tokens\n",
    "[word for word in text1 if len(word) >= 10]"
   ]
  },
  {
   "cell_type": "code",
   "execution_count": 51,
   "id": "cc7b6a16-1b1b-4272-a626-7b4e600f9ce9",
   "metadata": {},
   "outputs": [
    {
     "data": {
      "text/plain": [
       "['sovereignty',\n",
       " 'sovereignty',\n",
       " 'sovereignty',\n",
       " 'sovereignty',\n",
       " 'sovereignty',\n",
       " 'sovereignty',\n",
       " 'sovereignty',\n",
       " 'sovereignty',\n",
       " 'sovereignty',\n",
       " 'sovereignties',\n",
       " 'sovereignties',\n",
       " 'sovereignty',\n",
       " 'sovereignties',\n",
       " 'sovereignty',\n",
       " 'sovereignty',\n",
       " 'sovereignty',\n",
       " 'sovereignty',\n",
       " 'sovereignty',\n",
       " 'sovereignty',\n",
       " 'sovereignty',\n",
       " 'sovereignty',\n",
       " 'sovereignty',\n",
       " 'sovereignty',\n",
       " 'sovereignty',\n",
       " 'sovereignty',\n",
       " 'sovereignty',\n",
       " 'sovereignties',\n",
       " 'sovereignty',\n",
       " 'Sovereignty',\n",
       " 'sovereignty',\n",
       " 'sovereignty']"
      ]
     },
     "execution_count": 51,
     "metadata": {},
     "output_type": "execute_result"
    }
   ],
   "source": [
    "# text4에서 'gnt'를 포함하는 단어 반환\n",
    "[word for word in text4 if 'gnt' in word]\n",
    "# 중복없애기 [word for word in set(text4) if 'gnt' in word]\n",
    "# 2번째 방법 set([word for word in text4 if 'gnt' in word])"
   ]
  },
  {
   "cell_type": "code",
   "execution_count": 29,
   "id": "848b2699-3cff-4f80-9d8b-7decef1ba81f",
   "metadata": {},
   "outputs": [
    {
     "data": {
      "text/plain": [
       "(3, 3)"
      ]
     },
     "execution_count": 29,
     "metadata": {},
     "output_type": "execute_result"
    }
   ],
   "source": [
    "a = [word for word in set(text4) if 'gnt' in word]\n",
    "    # the, The - > 연산\n",
    "b = set([word for word in text4 if 'gnt' in word])\n",
    "    # 연산 후 -> 중복 없애기\n",
    "len(a), len(b)"
   ]
  },
  {
   "cell_type": "code",
   "execution_count": 55,
   "id": "ffaf3bd4-0087-401a-97d1-e38043c76e5b",
   "metadata": {},
   "outputs": [
    {
     "data": {
      "text/plain": [
       "['sovereignty', 'sovereignties', 'Sovereignty']"
      ]
     },
     "execution_count": 55,
     "metadata": {},
     "output_type": "execute_result"
    }
   ],
   "source": [
    "a"
   ]
  },
  {
   "cell_type": "code",
   "execution_count": 56,
   "id": "7baf7d80-f4b9-4421-95f5-f424167dc1d8",
   "metadata": {},
   "outputs": [
    {
     "data": {
      "text/plain": [
       "{'Sovereignty', 'sovereignties', 'sovereignty'}"
      ]
     },
     "execution_count": 56,
     "metadata": {},
     "output_type": "execute_result"
    }
   ],
   "source": [
    "b"
   ]
  },
  {
   "cell_type": "code",
   "execution_count": 58,
   "id": "3a660000-1aea-42b3-9298-bb9292aa0ca3",
   "metadata": {},
   "outputs": [
    {
     "data": {
      "text/plain": [
       "(3, 2)"
      ]
     },
     "execution_count": 58,
     "metadata": {},
     "output_type": "execute_result"
    }
   ],
   "source": [
    "a = [word.lower() for word in set(text4) if 'gnt' in word]\n",
    "b =set([word.lower() for word in text4 if 'gnt' in word])\n",
    "len(a), len(b)"
   ]
  },
  {
   "cell_type": "code",
   "execution_count": 50,
   "id": "096f90f4-9eb3-430e-9942-2a0010c8d060",
   "metadata": {},
   "outputs": [
    {
     "data": {
      "text/plain": [
       "True"
      ]
     },
     "execution_count": 50,
     "metadata": {},
     "output_type": "execute_result"
    }
   ],
   "source": [
    "'gnt' in 'sovereignty'\n",
    "a = True\n"
   ]
  },
  {
   "cell_type": "code",
   "execution_count": 30,
   "id": "28565648-b420-4b0f-a585-d1ed1a7aac57",
   "metadata": {},
   "outputs": [
    {
     "name": "stdout",
     "output_type": "stream",
     "text": [
      "['sovereignty', 'sovereignty', 'sovereignties']\n",
      "{'sovereignties', 'sovereignty'}\n"
     ]
    }
   ],
   "source": [
    "print([word.lower() for word in set(text4) if 'gnt' in word])\n",
    "print(set([word.lower() for word in text4 if 'gnt' in word]))"
   ]
  },
  {
   "cell_type": "markdown",
   "id": "16946d00-f06c-4631-a6bd-61dd029de6d7",
   "metadata": {},
   "source": [
    "### 조건을 위한 함수: uncased, cased\n",
    "---------\n",
    "변환\n",
    "- 'the' != 'The' 같은 철자여도 대소문자를 구분해서 별개로 봄\n",
    "- .upper():대문자\n",
    "- .lower():소문자\n",
    "- .title()\n",
    "- .capitalize(): 첫번째 글자를 대문자로 바꾸기\n",
    "- .swapcase(): 대문자는 소문자로, 소문자는 대문자로 바꾸기\n",
    "------- \n",
    "형태체크\n",
    "- .isupper(): 모든 글자가 대문자인지 판별\n",
    "- .islower(): 모든 글자가 소문자인지 판별\n",
    "- .istitle(): 모든 단어가 '대문자 + 소문자' 구성인지 판별.\n",
    "    - It Is Dog (True)\n",
    "    - it is dog (False)\n",
    "    - It is Dog (False)\n",
    "- .endswith(), .startswith(), .isalpha(): ()로 끝나는지/ 시작하는지/ 알파벳인지"
   ]
  },
  {
   "cell_type": "code",
   "execution_count": 59,
   "id": "fa0e6908-d8f3-4155-b919-161d5cb9688d",
   "metadata": {},
   "outputs": [
    {
     "data": {
      "text/plain": [
       "False"
      ]
     },
     "execution_count": 59,
     "metadata": {},
     "output_type": "execute_result"
    }
   ],
   "source": [
    "','.isalpha()"
   ]
  },
  {
   "cell_type": "code",
   "execution_count": 31,
   "id": "4bdaa639-80a9-450e-b434-bad6dae88467",
   "metadata": {},
   "outputs": [
    {
     "data": {
      "text/plain": [
       "'WORD'"
      ]
     },
     "execution_count": 31,
     "metadata": {},
     "output_type": "execute_result"
    }
   ],
   "source": [
    "'word'.upper()"
   ]
  },
  {
   "cell_type": "code",
   "execution_count": 35,
   "id": "4e2cfee8-9f98-4f66-90f3-a68f72af68cf",
   "metadata": {},
   "outputs": [
    {
     "data": {
      "text/plain": [
       "True"
      ]
     },
     "execution_count": 35,
     "metadata": {},
     "output_type": "execute_result"
    }
   ],
   "source": [
    "'WORD'.isupper()"
   ]
  },
  {
   "cell_type": "code",
   "execution_count": 36,
   "id": "7a5c1d82-3115-48b5-8c6a-5c53ebb69949",
   "metadata": {},
   "outputs": [
    {
     "data": {
      "text/plain": [
       "'Word'"
      ]
     },
     "execution_count": 36,
     "metadata": {},
     "output_type": "execute_result"
    }
   ],
   "source": [
    "'word'.capitalize()"
   ]
  },
  {
   "cell_type": "code",
   "execution_count": 61,
   "id": "d8f2376f-8694-4f52-9c75-5969d97008cc",
   "metadata": {},
   "outputs": [
    {
     "data": {
      "text/plain": [
       "['uncomfortableness',\n",
       " 'comfortableness',\n",
       " 'intolerableness',\n",
       " 'immutableness',\n",
       " 'indomitableness',\n",
       " 'reasonableness',\n",
       " 'indispensableness',\n",
       " 'indomitableness',\n",
       " 'honourableness',\n",
       " 'palpableness']"
      ]
     },
     "execution_count": 61,
     "metadata": {},
     "output_type": "execute_result"
    }
   ],
   "source": [
    "# text1에서 'ableness'로 끝나는 단어 반환\n",
    "[word for word in text1 if word.endswith('ableness')]"
   ]
  },
  {
   "cell_type": "code",
   "execution_count": null,
   "id": "cc286b1a-4397-424a-97c1-d426a9990202",
   "metadata": {
    "tags": []
   },
   "outputs": [],
   "source": [
    "#### text3 대문자로 시작하는 단어들 중에 길이가 3 이상인 단어 \n",
    "##### -> 중복 없이 뽑기\n",
    "set([word for word in text3 if word[0].isupper() and len(word) >= 3])"
   ]
  },
  {
   "cell_type": "code",
   "execution_count": null,
   "id": "a62e689e-c608-4b62-9964-dd4027c0d959",
   "metadata": {},
   "outputs": [],
   "source": [
    "[word.upper() for word in set(text3) if word.istitle() and len(word) >= 3]\n",
    "# 거르고\n",
    "# god, God -> 걸러지지 않음\n",
    "# 결과 계산\n",
    "# GOD, GOD\n",
    "\n",
    "set([word.upper() for word in text3 if word.istitle() and len(word) >= 3])\n",
    "# 계산하고\n",
    "# 거름\n",
    "# GOD"
   ]
  },
  {
   "cell_type": "code",
   "execution_count": 77,
   "id": "735b9e07-3423-4d04-8f11-145354eb8e84",
   "metadata": {},
   "outputs": [
    {
     "ename": "SyntaxError",
     "evalue": "cannot assign to literal (Temp/ipykernel_9128/1666224724.py, line 2)",
     "output_type": "error",
     "traceback": [
      "\u001b[1;36m  File \u001b[1;32m\"C:\\Users\\perod\\AppData\\Local\\Temp/ipykernel_9128/1666224724.py\"\u001b[1;36m, line \u001b[1;32m2\u001b[0m\n\u001b[1;33m    ['apple'] => [5]\u001b[0m\n\u001b[1;37m     ^\u001b[0m\n\u001b[1;31mSyntaxError\u001b[0m\u001b[1;31m:\u001b[0m cannot assign to literal\n"
     ]
    }
   ],
   "source": [
    "# text4에서 1. 알파벳인 단어 중 2. 길이가 4개 이상이고, 3. 빈도수가 5이상인 단어의 길이 반환\n",
    "['apple'] => [5]"
   ]
  },
  {
   "cell_type": "code",
   "execution_count": 79,
   "id": "436f8dae-225a-4be6-ac25-bb373131a3ab",
   "metadata": {},
   "outputs": [
    {
     "ename": "SyntaxError",
     "evalue": "invalid syntax (Temp/ipykernel_9128/3471796562.py, line 2)",
     "output_type": "error",
     "traceback": [
      "\u001b[1;36m  File \u001b[1;32m\"C:\\Users\\perod\\AppData\\Local\\Temp/ipykernel_9128/3471796562.py\"\u001b[1;36m, line \u001b[1;32m2\u001b[0m\n\u001b[1;33m    fdist =\u001b[0m\n\u001b[1;37m            ^\u001b[0m\n\u001b[1;31mSyntaxError\u001b[0m\u001b[1;31m:\u001b[0m invalid syntax\n"
     ]
    }
   ],
   "source": [
    "fdist = FreqDist(text4)\n",
    "fdist = \n",
    "len([word for word in text4 if word.isalpha() and len(word) >= 4 and fdist(word) >= 5])"
   ]
  },
  {
   "cell_type": "code",
   "execution_count": null,
   "id": "1a42f130-0870-436d-b475-62e2d2c59cad",
   "metadata": {},
   "outputs": [],
   "source": [
    "[len(word) for word in text4 if word.isalpha() and (len(word) >= 4) and fdist[word] >= 5]"
   ]
  },
  {
   "cell_type": "markdown",
   "id": "d60e1f1c-37b5-478d-9ef0-27d995217d9a",
   "metadata": {},
   "source": [
    "### 리스트, 스트링\n",
    "- str.split(sep): 문자열을 리스트로, 구분자의 기본값은 공백\n",
    "- sep.join(list): 리스트를 문자열로, 리스트의 요소들 사이에는 구분자가 들어감."
   ]
  },
  {
   "cell_type": "markdown",
   "id": "ffe9e108-12d1-4266-b1b9-ffcd5d75d7c8",
   "metadata": {},
   "source": [
    "### 리스트, 스트링\n",
    "- split()\n",
    "- join()"
   ]
  },
  {
   "cell_type": "code",
   "execution_count": 39,
   "id": "cfb27786-9afc-4233-b106-eec382ee8ec8",
   "metadata": {},
   "outputs": [
    {
     "data": {
      "text/plain": [
       "['I', 'am', 'thirsty']"
      ]
     },
     "execution_count": 39,
     "metadata": {},
     "output_type": "execute_result"
    }
   ],
   "source": [
    "sentence = 'I am thirsty'\n",
    "#['I', 'am', 'thirsty'] # tokens\n",
    "\n",
    "sentence.split() # 공백을 기준으로 나눔"
   ]
  },
  {
   "cell_type": "code",
   "execution_count": 40,
   "id": "7bcd0887-a706-4998-bbad-52ac171e3aec",
   "metadata": {},
   "outputs": [
    {
     "data": {
      "text/plain": [
       "['I', ' am', ' thirsty']"
      ]
     },
     "execution_count": 40,
     "metadata": {},
     "output_type": "execute_result"
    }
   ],
   "source": [
    "sentence = 'I, am, thirsty'\n",
    "\n",
    "sentence.split(',') # , 를 기준으로 나눔"
   ]
  },
  {
   "cell_type": "code",
   "execution_count": 44,
   "id": "98fd7258-e302-49d6-8d27-cad2b3dda677",
   "metadata": {},
   "outputs": [
    {
     "data": {
      "text/plain": [
       "['I', 'am', 'thirsty']"
      ]
     },
     "execution_count": 44,
     "metadata": {},
     "output_type": "execute_result"
    }
   ],
   "source": [
    "# list comprehension를 통해 불필요한 여백 없애기\n",
    "example = [x.strip() for x in sentence.split(',')] # x는 임의의 변수명\n",
    "example"
   ]
  },
  {
   "cell_type": "code",
   "execution_count": 47,
   "id": "ac9f502a-279f-4139-846c-3faa60090c5c",
   "metadata": {},
   "outputs": [
    {
     "data": {
      "text/plain": [
       "'I am thirsty'"
      ]
     },
     "execution_count": 47,
     "metadata": {},
     "output_type": "execute_result"
    }
   ],
   "source": [
    "' '.join(example)"
   ]
  },
  {
   "cell_type": "code",
   "execution_count": 48,
   "id": "52aad760-a63e-4167-936f-f0d877909327",
   "metadata": {},
   "outputs": [
    {
     "data": {
      "text/plain": [
       "'I-am-thirsty'"
      ]
     },
     "execution_count": 48,
     "metadata": {},
     "output_type": "execute_result"
    }
   ],
   "source": [
    "'-'.join(example)"
   ]
  },
  {
   "cell_type": "markdown",
   "id": "446b1098-f69b-4211-9bf3-7fc6dbbbb1ea",
   "metadata": {},
   "source": [
    "### 반복문\n",
    "- [word for word in text1]\n",
    "- 자료구조를 순회할 때 사용\n",
    "- 정해진 동작을 반복적으로 수행할 때 내리는 명령어\n",
    "- 시작조건, 종료조건, 수행명령으로 구성\n",
    "- for 요소 in 반복범위: 수행명령\n",
    "- for, while\n",
    "- 들여쓰기, 블록 => 논리구조\n",
    "- 무한루프가 되지 않도록 주의"
   ]
  },
  {
   "cell_type": "code",
   "execution_count": 55,
   "id": "529b8dcc-9da4-4850-8bc1-c4420f32023d",
   "metadata": {},
   "outputs": [
    {
     "name": "stdout",
     "output_type": "stream",
     "text": [
      "[\n",
      "Moby\n",
      "Dick\n",
      "by\n",
      "Herman\n",
      "Melville\n",
      "1851\n",
      "]\n",
      "ETYMOLOGY\n",
      ".\n",
      "(\n",
      "Supplied\n",
      "by\n",
      "a\n",
      "Late\n",
      "Consumptive\n",
      "Usher\n",
      "to\n",
      "a\n"
     ]
    }
   ],
   "source": [
    "for word in text1[:19]:\n",
    "    print(word)"
   ]
  },
  {
   "cell_type": "code",
   "execution_count": 56,
   "id": "2900de5e-e3f6-4f9d-8853-1356dd864b36",
   "metadata": {},
   "outputs": [
    {
     "data": {
      "text/plain": [
       "['[',\n",
       " 'Moby',\n",
       " 'Dick',\n",
       " 'by',\n",
       " 'Herman',\n",
       " 'Melville',\n",
       " '1851',\n",
       " ']',\n",
       " 'ETYMOLOGY',\n",
       " '.',\n",
       " '(',\n",
       " 'Supplied',\n",
       " 'by',\n",
       " 'a',\n",
       " 'Late']"
      ]
     },
     "execution_count": 56,
     "metadata": {},
     "output_type": "execute_result"
    }
   ],
   "source": [
    "[word for word in text1[:15]]"
   ]
  },
  {
   "cell_type": "code",
   "execution_count": 70,
   "id": "ab6743c4-d068-46ab-8436-4a9582371604",
   "metadata": {},
   "outputs": [
    {
     "name": "stdout",
     "output_type": "stream",
     "text": [
      "a\n",
      "b\n",
      "c\n",
      "d\n",
      "e\n"
     ]
    }
   ],
   "source": [
    "alphabet = ['a','b','c','d','e']\n",
    "for pr in alphabet:\n",
    "    print(pr)"
   ]
  },
  {
   "cell_type": "code",
   "execution_count": 71,
   "id": "9b44d508-f2a3-476a-8b40-624cc882cd5b",
   "metadata": {},
   "outputs": [
    {
     "name": "stdout",
     "output_type": "stream",
     "text": [
      "0\n",
      "1\n",
      "2\n",
      "3\n",
      "4\n"
     ]
    }
   ],
   "source": [
    "# 숫자 반복: range(start, end, step)\n",
    "for i in range(5):\n",
    "    print(i)"
   ]
  },
  {
   "cell_type": "code",
   "execution_count": 72,
   "id": "893af874-1d1b-4a90-8a34-e5f09020a83b",
   "metadata": {},
   "outputs": [
    {
     "name": "stdout",
     "output_type": "stream",
     "text": [
      "260819\n",
      "141576\n",
      "44764\n",
      "152901\n",
      "45010\n",
      "16967\n",
      "100676\n",
      "4867\n",
      "69213\n"
     ]
    }
   ],
   "source": [
    "# text1-9 각 텍스트의 단어 수를 반환\n",
    "texts = [text1, text2, text3, text4, text5, text6, text7, text8, text9]\n",
    "for text in texts:\n",
    "    print(len(text))"
   ]
  },
  {
   "cell_type": "markdown",
   "id": "65995bea-b285-4ee5-b0a3-6a5b2298ae91",
   "metadata": {},
   "source": [
    "### 출력 포메팅\n",
    "- f\"\n",
    "    - f, F 둘다 가능\n",
    "- %, # 옛날 방식\n",
    "    - '....%d' %num\n",
    "- '....{}'.format(var)"
   ]
  },
  {
   "cell_type": "code",
   "execution_count": 73,
   "id": "99ce661b-0aca-4339-b261-13714d95e037",
   "metadata": {},
   "outputs": [],
   "source": [
    "name = 'Yoonseo'\n",
    "# print('My name is ###')\n",
    "age = 23"
   ]
  },
  {
   "cell_type": "code",
   "execution_count": 74,
   "id": "0d3de551-675c-43aa-9495-8a88ad3c33ad",
   "metadata": {},
   "outputs": [
    {
     "name": "stdout",
     "output_type": "stream",
     "text": [
      "My name is Yoonseo\n"
     ]
    }
   ],
   "source": [
    "print('My name is', name)"
   ]
  },
  {
   "cell_type": "code",
   "execution_count": 75,
   "id": "de2d255e-16ac-4fb5-9244-d5dd0f272a34",
   "metadata": {},
   "outputs": [
    {
     "name": "stdout",
     "output_type": "stream",
     "text": [
      "My name is Yoonseo\n"
     ]
    }
   ],
   "source": [
    "print(f\"My name is {name}\")"
   ]
  },
  {
   "cell_type": "code",
   "execution_count": 76,
   "id": "93fd8910-d2c4-4463-a331-b4d08b62cfed",
   "metadata": {},
   "outputs": [
    {
     "name": "stdout",
     "output_type": "stream",
     "text": [
      "My name is Yoonseo\n"
     ]
    }
   ],
   "source": [
    "print(\"My name is %s\" %name) # 옛날 방식"
   ]
  },
  {
   "cell_type": "code",
   "execution_count": 78,
   "id": "0a437d02-37a5-438e-871e-e8b2b05b15e6",
   "metadata": {},
   "outputs": [
    {
     "name": "stdout",
     "output_type": "stream",
     "text": [
      "My name is Yoonseo, and I am 23 years old.\n"
     ]
    }
   ],
   "source": [
    "print(f\"My name is {name}, and I am {age} years old.\")"
   ]
  },
  {
   "cell_type": "code",
   "execution_count": 79,
   "id": "3dbbbbe9-4664-42de-912f-ad05eb49556d",
   "metadata": {},
   "outputs": [
    {
     "name": "stdout",
     "output_type": "stream",
     "text": [
      "My name is Yoonseo, and I am 23 years old.\n"
     ]
    }
   ],
   "source": [
    "print(\"My name is %s, and I am %d years old.\" %(name, age))"
   ]
  },
  {
   "cell_type": "code",
   "execution_count": 81,
   "id": "bef3bfe3-1f96-4572-809a-974ef5320449",
   "metadata": {},
   "outputs": [
    {
     "name": "stdout",
     "output_type": "stream",
     "text": [
      "My name is Yoonseo, and I am 23 years old.\n"
     ]
    }
   ],
   "source": [
    "print(\"My name is {:6}, and I am {} years old.\".format(name, age))"
   ]
  },
  {
   "cell_type": "code",
   "execution_count": 82,
   "id": "5316516e-072e-414f-8e33-f736cb5f52f2",
   "metadata": {},
   "outputs": [
    {
     "name": "stdout",
     "output_type": "stream",
     "text": [
      "소수점 셋째 자리까지: 0.556\n"
     ]
    }
   ],
   "source": [
    "a = 0.555555\n",
    "print(\"소수점 셋째 자리까지: %.3f\" %a)"
   ]
  },
  {
   "cell_type": "code",
   "execution_count": 88,
   "id": "d6253011-1a0d-43da-b251-15943a2db12a",
   "metadata": {},
   "outputs": [
    {
     "data": {
      "text/plain": [
       "['I,', 'am,', 'thirsty']"
      ]
     },
     "execution_count": 88,
     "metadata": {},
     "output_type": "execute_result"
    }
   ],
   "source": [
    "sent = 'I, am, thirsty'\n",
    "# ['I', 'am', 'thirsty'] # tokens\n",
    "sent.split() # ()는 디폴트는 공백, ','도 가능 그러나 필요 없는 공백이 발생할 수 있음 -> strip()"
   ]
  },
  {
   "cell_type": "code",
   "execution_count": 86,
   "id": "caaf39ed-ff4b-429c-80c0-b411f83c7771",
   "metadata": {},
   "outputs": [
    {
     "data": {
      "text/plain": [
       "['I', 'am', 'thirsty']"
      ]
     },
     "execution_count": 86,
     "metadata": {},
     "output_type": "execute_result"
    }
   ],
   "source": [
    "sent.strip().split()\n",
    "# 불필요한 여백 없애기"
   ]
  },
  {
   "cell_type": "code",
   "execution_count": 90,
   "id": "8d11fa4d-f173-4ca4-b7a1-7e8a8191f8a8",
   "metadata": {},
   "outputs": [
    {
     "data": {
      "text/plain": [
       "['I', 'am', 'thirsty']"
      ]
     },
     "execution_count": 90,
     "metadata": {},
     "output_type": "execute_result"
    }
   ],
   "source": [
    "sent.replace(',','').split() # 정답이나 추천하지 않음"
   ]
  },
  {
   "cell_type": "code",
   "execution_count": 93,
   "id": "51c2eef3-a3f8-4adb-95f8-f7c43fe7da70",
   "metadata": {},
   "outputs": [
    {
     "data": {
      "text/plain": [
       "['I', ' am', ' thirsty']"
      ]
     },
     "execution_count": 93,
     "metadata": {},
     "output_type": "execute_result"
    }
   ],
   "source": [
    "# list comprehension\n",
    "tokens = sent.split(',')\n",
    "tokens"
   ]
  },
  {
   "cell_type": "code",
   "execution_count": 99,
   "id": "e6eebaa9-0b6b-4979-a634-adb97d12f0ff",
   "metadata": {},
   "outputs": [
    {
     "data": {
      "text/plain": [
       "['I', 'am', 'thirsty']"
      ]
     },
     "execution_count": 99,
     "metadata": {},
     "output_type": "execute_result"
    }
   ],
   "source": [
    "tokens = [word.strip() for word in tokens] # 정답\n",
    "tokens"
   ]
  },
  {
   "cell_type": "code",
   "execution_count": 100,
   "id": "4da36b14-8efb-479f-b120-33add032bc19",
   "metadata": {},
   "outputs": [
    {
     "data": {
      "text/plain": [
       "'I-am-thirsty'"
      ]
     },
     "execution_count": 100,
     "metadata": {},
     "output_type": "execute_result"
    }
   ],
   "source": [
    "' '.join(tokens)\n",
    "'-'.join(tokens)"
   ]
  },
  {
   "cell_type": "markdown",
   "id": "95b7e3d8-e655-4401-8367-5be52395e1f3",
   "metadata": {},
   "source": [
    "### Ch.6\n",
    "\n",
    "### 반복문\n",
    "- '[word for word in text1]'\n",
    "- 자료구조를 순회할 때 사용함.\n",
    "- 정해진 동작을 반복적으로 수행할 때 내리는 명령어\n",
    "- 시작조건, 종료조건, 수행명령으로 구성됨\n",
    "- for 요소 in 반복범위: 수행명령\n",
    "- for, while\n",
    "- 들여쓰기, 블록 -> 논리구조\n",
    "- 무한루프가 되지 않도록 주의"
   ]
  },
  {
   "cell_type": "code",
   "execution_count": 102,
   "id": "f3ca319a-50d2-43ec-8427-fa32d4b93873",
   "metadata": {},
   "outputs": [
    {
     "data": {
      "text/plain": [
       "True"
      ]
     },
     "execution_count": 102,
     "metadata": {},
     "output_type": "execute_result"
    }
   ],
   "source": [
    "import nltk\n",
    "from nltk.book import *\n",
    "nltk.download('book', quiet=True)"
   ]
  },
  {
   "cell_type": "code",
   "execution_count": 104,
   "id": "81f1749f-7b17-4dc9-a3f6-7278036251ae",
   "metadata": {},
   "outputs": [
    {
     "name": "stdout",
     "output_type": "stream",
     "text": [
      "[\n",
      "M\n",
      "D\n",
      "b\n",
      "H\n",
      "M\n",
      "1\n",
      "]\n",
      "E\n",
      ".\n"
     ]
    }
   ],
   "source": [
    "# [word for word in text1]\n",
    "for word in text1[:10]:\n",
    "    print(word[0])"
   ]
  },
  {
   "cell_type": "code",
   "execution_count": 105,
   "id": "fcbd8079-549b-4fd3-a82b-2ff4f89d8f55",
   "metadata": {},
   "outputs": [
    {
     "data": {
      "text/plain": [
       "['[',\n",
       " 'Moby',\n",
       " 'Dick',\n",
       " 'by',\n",
       " 'Herman',\n",
       " 'Melville',\n",
       " '1851',\n",
       " ']',\n",
       " 'ETYMOLOGY',\n",
       " '.']"
      ]
     },
     "execution_count": 105,
     "metadata": {},
     "output_type": "execute_result"
    }
   ],
   "source": [
    "[word for word in text1[:10]]"
   ]
  },
  {
   "cell_type": "code",
   "execution_count": 106,
   "id": "1e55f94f-b22b-4e48-b9ca-7310e057b8ad",
   "metadata": {},
   "outputs": [
    {
     "name": "stdout",
     "output_type": "stream",
     "text": [
      "a\n",
      "b\n",
      "c\n"
     ]
    }
   ],
   "source": [
    "alphabet = ['a', 'b', 'c']\n",
    "for w in alphabet:\n",
    "    print(w)"
   ]
  },
  {
   "cell_type": "code",
   "execution_count": 109,
   "id": "873181f4-d2c8-450b-b5a5-7ac8656760b3",
   "metadata": {},
   "outputs": [
    {
     "name": "stdout",
     "output_type": "stream",
     "text": [
      "1\n",
      "3\n",
      "5\n",
      "7\n",
      "9\n"
     ]
    }
   ],
   "source": [
    "# 숫자 반복: range()\n",
    "for i in range(1, 10, 2): # 1부터, 10까지, 하나 하고 하나 거너뛰고\n",
    "    print(i)"
   ]
  },
  {
   "cell_type": "code",
   "execution_count": 119,
   "id": "f971d27d-d0d7-4374-b0fa-59a76a7728bf",
   "metadata": {},
   "outputs": [
    {
     "name": "stdout",
     "output_type": "stream",
     "text": [
      "260819\n",
      "141576\n",
      "44764\n",
      "152901\n",
      "45010\n",
      "16967\n",
      "100676\n",
      "4867\n",
      "69213\n"
     ]
    }
   ],
   "source": [
    "# text1-9 각 텍스트의 단어 수를 반환\n",
    "# 10만, 20만, 24만...\n",
    "texts = [text1, text2, text3, text4, text5, text6, text7, text8, text9]\n",
    "for i in texts:\n",
    "    print(len(i))"
   ]
  },
  {
   "cell_type": "markdown",
   "id": "0a3cedc7-6077-45f8-bad7-a1f39601052d",
   "metadata": {},
   "source": [
    "### 출력 포매팅\n",
    "-1. f'str... {변수}' # 대소문자 구분 X \n",
    "-2. %\n",
    "-3. '...{}'.format(변수)"
   ]
  },
  {
   "cell_type": "code",
   "execution_count": 128,
   "id": "16f6f845-a34f-44dc-af92-e95694d489d7",
   "metadata": {},
   "outputs": [],
   "source": [
    "name = 'lee'\n",
    "age = 23"
   ]
  },
  {
   "cell_type": "code",
   "execution_count": 121,
   "id": "d593f7d8-86a7-400e-af93-ddaf81ba8ff3",
   "metadata": {},
   "outputs": [
    {
     "name": "stdout",
     "output_type": "stream",
     "text": [
      "My name is lee\n"
     ]
    }
   ],
   "source": [
    "print('My name is', name)"
   ]
  },
  {
   "cell_type": "code",
   "execution_count": 123,
   "id": "7d54542b-0a7f-45fc-bafc-46fd7ed3f49e",
   "metadata": {},
   "outputs": [
    {
     "name": "stdout",
     "output_type": "stream",
     "text": [
      "My name is lee\n"
     ]
    }
   ],
   "source": [
    "print(f'My name is {name}')"
   ]
  },
  {
   "cell_type": "code",
   "execution_count": 124,
   "id": "70851ada-73a6-490a-a6d6-c63b7ede96ee",
   "metadata": {},
   "outputs": [
    {
     "name": "stdout",
     "output_type": "stream",
     "text": [
      "My name is lee\n"
     ]
    }
   ],
   "source": [
    "print('My name is %s' %name)"
   ]
  },
  {
   "cell_type": "code",
   "execution_count": 125,
   "id": "09fdbad0-411c-486e-894f-c29034c09f6b",
   "metadata": {},
   "outputs": [
    {
     "name": "stdout",
     "output_type": "stream",
     "text": [
      "My name is lee\n"
     ]
    }
   ],
   "source": [
    "print('My name is {}'.format(name))"
   ]
  },
  {
   "cell_type": "code",
   "execution_count": 129,
   "id": "601babd4-6e11-4a89-ba7a-68e92e543009",
   "metadata": {},
   "outputs": [
    {
     "name": "stdout",
     "output_type": "stream",
     "text": [
      "My name is lee, and I am 23 years old.\n"
     ]
    }
   ],
   "source": [
    "print('My name is {}, and I am {} years old.'.format(name, age))\n",
    "      # {}가 두개 일때 포맷 뒤에 변수는 디폴트값이 적힌 순서대로 대입되지만 {}안에 0부터 순서를 넣으면\n",
    "      # 그 순서대로 대입됨"
   ]
  },
  {
   "cell_type": "code",
   "execution_count": null,
   "id": "39e841fa-556d-4722-bef0-d3af37fd9ee8",
   "metadata": {},
   "outputs": [],
   "source": [
    "a = "
   ]
  }
 ],
 "metadata": {
  "kernelspec": {
   "display_name": "Python 3 (ipykernel)",
   "language": "python",
   "name": "python3"
  },
  "language_info": {
   "codemirror_mode": {
    "name": "ipython",
    "version": 3
   },
   "file_extension": ".py",
   "mimetype": "text/x-python",
   "name": "python",
   "nbconvert_exporter": "python",
   "pygments_lexer": "ipython3",
   "version": "3.9.7"
  }
 },
 "nbformat": 4,
 "nbformat_minor": 5
}
