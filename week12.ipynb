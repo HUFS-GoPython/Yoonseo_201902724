{
 "cells": [
  {
   "cell_type": "code",
   "execution_count": 1,
   "id": "bd4ddea1",
   "metadata": {},
   "outputs": [
    {
     "ename": "NameError",
     "evalue": "name 'Store' is not defined",
     "output_type": "error",
     "traceback": [
      "\u001b[1;31m---------------------------------------------------------------------------\u001b[0m",
      "\u001b[1;31mNameError\u001b[0m                                 Traceback (most recent call last)",
      "\u001b[1;32m~\\AppData\\Local\\Temp/ipykernel_17528/3036897039.py\u001b[0m in \u001b[0;36m<module>\u001b[1;34m\u001b[0m\n\u001b[1;32m----> 1\u001b[1;33m \u001b[0mStore\u001b[0m\u001b[1;33m,\u001b[0m \u001b[0mItem\u001b[0m\u001b[1;33m,\u001b[0m \u001b[0mCustomer\u001b[0m\u001b[1;33m\u001b[0m\u001b[1;33m\u001b[0m\u001b[0m\n\u001b[0m",
      "\u001b[1;31mNameError\u001b[0m: name 'Store' is not defined"
     ]
    }
   ],
   "source": [
    "Store, Item, Customer"
   ]
  },
  {
   "cell_type": "code",
   "execution_count": null,
   "id": "a004bfe0",
   "metadata": {},
   "outputs": [],
   "source": [
    "class Store:\n",
    "    def __init__(customer):\n",
    "        self.customer = customer # Customer 타입 # has-a\n",
    "        self.item = item #\n",
    "        self.item_list = self.item.name, self.item.price\n",
    "        \n",
    "class Item:\n",
    "    name\n",
    "    cnt\n",
    "    price\n",
    "    \n",
    "    pas\n",
    "    \n",
    "class Seller:\n",
    "    "
   ]
  },
  {
   "cell_type": "markdown",
   "id": "e787b220",
   "metadata": {},
   "source": [
    "### 매직메소드\n",
    "- special method\n",
    "- __ \\<name> __\n",
    "- str, repr\n",
    "    "
   ]
  },
  {
   "cell_type": "code",
   "execution_count": 1,
   "id": "740adc9a",
   "metadata": {},
   "outputs": [],
   "source": [
    "class Customer:\n",
    "    def __init__(self, name):\n",
    "        self.name = name\n",
    "        \n",
    "    def __str__(self):\n",
    "        # print() 함수로 나온 출력값을 변경하는 것\n",
    "        return self.name\n",
    "    \n",
    "    def __repr__(self):\n",
    "        # 설정 안 하면 __str__ 동일함\n",
    "        # 인스턴스를 출력하는 방식 => 사용자가 이해하는 객체의 모습을 표현\n",
    "        return f'Customer({self.name})'\n",
    "\n",
    "c = Customer('kim')\n",
    "    "
   ]
  },
  {
   "cell_type": "code",
   "execution_count": 3,
   "id": "07182260",
   "metadata": {},
   "outputs": [
    {
     "name": "stdout",
     "output_type": "stream",
     "text": [
      "kim\n"
     ]
    }
   ],
   "source": [
    "print(c)"
   ]
  },
  {
   "cell_type": "code",
   "execution_count": 4,
   "id": "f8cbea0c",
   "metadata": {},
   "outputs": [
    {
     "data": {
      "text/plain": [
       "'Customer(kim)'"
      ]
     },
     "execution_count": 4,
     "metadata": {},
     "output_type": "execute_result"
    }
   ],
   "source": [
    "repr(c)"
   ]
  },
  {
   "cell_type": "code",
   "execution_count": 5,
   "id": "9d2e622e",
   "metadata": {},
   "outputs": [
    {
     "data": {
      "text/plain": [
       "'kim'"
      ]
     },
     "execution_count": 5,
     "metadata": {},
     "output_type": "execute_result"
    }
   ],
   "source": [
    "str(c)"
   ]
  },
  {
   "cell_type": "markdown",
   "id": "226fdb3b",
   "metadata": {},
   "source": [
    "## NamedTuple, DataClass\n",
    "- 객체보다 효율적임. 간단한 속성만 가진 클래스일 경우에 활용한다\n",
    "- 딕셔너리의 키처럼 사용 가능하다\n",
    "- 불변 객체"
   ]
  },
  {
   "cell_type": "code",
   "execution_count": 2,
   "id": "7958acae",
   "metadata": {},
   "outputs": [
    {
     "data": {
      "text/plain": [
       "('lee', 44)"
      ]
     },
     "execution_count": 2,
     "metadata": {},
     "output_type": "execute_result"
    }
   ],
   "source": [
    "from collections import namedtuple\n",
    "\n",
    "Customer = namedtuple('Customer', 'name age') #객체 끝\n",
    "a = Customer('lee', 44)\n",
    "a.name, a.age"
   ]
  },
  {
   "cell_type": "code",
   "execution_count": 3,
   "id": "ecaf0abe",
   "metadata": {},
   "outputs": [
    {
     "data": {
      "text/plain": [
       "('hong', 88)"
      ]
     },
     "execution_count": 3,
     "metadata": {},
     "output_type": "execute_result"
    }
   ],
   "source": [
    "from dataclasses import dataclass #파이썬 3.7이상에서 가능\n",
    "\n",
    "@dataclass\n",
    "class Customer2:\n",
    "    name: str\n",
    "    age: int\n",
    "        \n",
    "b = Customer2('hong', 88)\n",
    "b.name, b.age"
   ]
  },
  {
   "cell_type": "markdown",
   "id": "d61593ad",
   "metadata": {},
   "source": [
    "### 함수II\n",
    "- **\n",
    "- 일급객체\n",
    "- 내부함수, 클로저\n",
    "- 익명함수\n",
    "- 제너레이터\n",
    "- 재귀함수\n",
    "\n",
    "asterisk: *"
   ]
  },
  {
   "cell_type": "code",
   "execution_count": 5,
   "id": "ce2a5333",
   "metadata": {},
   "outputs": [
    {
     "name": "stdout",
     "output_type": "stream",
     "text": [
      "(1, 2, 3, 4, 5, 6)\n"
     ]
    }
   ],
   "source": [
    "def print_arg(*args): #여러개의 인자 -> 패킹\n",
    "    print(args)\n",
    "    # print(*args) 여기에도 별표 붙일 수 있음 (언패킹)\n",
    "print_arg(1, 2, 3, 4, 5, 6) #무한대로 가능    "
   ]
  },
  {
   "cell_type": "code",
   "execution_count": 7,
   "id": "1188cf7d",
   "metadata": {},
   "outputs": [
    {
     "name": "stdout",
     "output_type": "stream",
     "text": [
      "1 2\n",
      "optional\n"
     ]
    }
   ],
   "source": [
    "def print_more(num1, num2, *args):\n",
    "    print(num1, num2) #필수\n",
    "    print(*args,'optional') #필수 아님\n",
    "print_more(1, 2) # *args가 없음 -> 없어도 돌아감"
   ]
  },
  {
   "cell_type": "code",
   "execution_count": 9,
   "id": "273215f8",
   "metadata": {},
   "outputs": [
    {
     "name": "stdout",
     "output_type": "stream",
     "text": [
      "0 1 2 3 4 5 6 7 8 9\n"
     ]
    }
   ],
   "source": [
    "empty = list(range(10))\n",
    "print(*empty) # *을 붙이면 리스트로 반환하는 게 아니라, 각각 풀어서 출력"
   ]
  },
  {
   "cell_type": "code",
   "execution_count": 12,
   "id": "55b7b03e",
   "metadata": {},
   "outputs": [
    {
     "name": "stdout",
     "output_type": "stream",
     "text": [
      "(1, 3, 5)\n",
      "(2, 4, 6)\n"
     ]
    }
   ],
   "source": [
    "# 행렬, 테이블 데이터\n",
    "matrix = [\n",
    "    [1, 2],\n",
    "    [3, 4],\n",
    "    [5, 6]\n",
    "]\n",
    "\n",
    "# 1, 3, 4, 2, 4, 6 (열만 타고 싶다면)\n",
    "for item in zip(*matrix):\n",
    "    print(item)\n",
    "    \n",
    "# *의 기능은 리스트의 요소들을 하나하나의 원소로 인식하게 해준다."
   ]
  },
  {
   "cell_type": "code",
   "execution_count": 13,
   "id": "2f7dd486",
   "metadata": {},
   "outputs": [
    {
     "name": "stdout",
     "output_type": "stream",
     "text": [
      "(1, 3, 5)\n",
      "(2, 4, 6)\n"
     ]
    }
   ],
   "source": [
    "for item in zip([1, 2], [3, 4], [5, 6]):\n",
    "    print(item)"
   ]
  },
  {
   "cell_type": "code",
   "execution_count": 14,
   "id": "375dd318",
   "metadata": {},
   "outputs": [
    {
     "name": "stdout",
     "output_type": "stream",
     "text": [
      "0\n",
      "1\n",
      "2\n",
      "3\n"
     ]
    }
   ],
   "source": [
    "def print_data(data, *, start, end):\n",
    "    for item in data[start:end]:\n",
    "        print(item)\n",
    "        \n",
    "print_data(empty, start=0, end=4)\n",
    "#print_data(empty, 0, 1 ) # 오류"
   ]
  },
  {
   "cell_type": "markdown",
   "id": "e679812f",
   "metadata": {},
   "source": [
    "### kargs(key argument): **"
   ]
  },
  {
   "cell_type": "code",
   "execution_count": 19,
   "id": "9102b558",
   "metadata": {},
   "outputs": [
    {
     "name": "stdout",
     "output_type": "stream",
     "text": [
      "{'wine': 'crianza', 'drink': 'water'}\n"
     ]
    }
   ],
   "source": [
    "def print_kargs(**kargs): # 키: 값 => 딕셔너리로 반환\n",
    "    kargs['wine'] = 'crianza' # get()\n",
    "    print(kargs)\n",
    "    # 언패킹 기능이 없음: print(**kargs) 안됨\n",
    "\n",
    "print_kargs(wine='crianza', drink='water')"
   ]
  },
  {
   "cell_type": "code",
   "execution_count": 18,
   "id": "eb800f78",
   "metadata": {},
   "outputs": [
    {
     "name": "stdout",
     "output_type": "stream",
     "text": [
      "{'wine': 'cabernet', 'drink': 'water'}\n",
      "{'wine': 'crianza', 'drink': 'water'}\n",
      "{'wine': 'shiraz', 'drink': 'water'}\n"
     ]
    }
   ],
   "source": [
    "for wine in ['cabernet', 'crianza', 'shiraz']:\n",
    "    print_kargs(wine=wine, drink='water')"
   ]
  },
  {
   "cell_type": "code",
   "execution_count": 22,
   "id": "f0c682b6",
   "metadata": {},
   "outputs": [
    {
     "name": "stdout",
     "output_type": "stream",
     "text": [
      "1 2\n",
      "18\n",
      "{'num': 4}\n"
     ]
    }
   ],
   "source": [
    "# 하나 쓸 수도, 둘 다 쓸 수도 있음\n",
    "def print_all(num1, num2, *args, **kargs):\n",
    "    print(num1, num2)\n",
    "    print(sum(args))\n",
    "    print(kargs)\n",
    "    \n",
    "print_all(1, 2, 3, 4, 5, 6, num=4)"
   ]
  },
  {
   "cell_type": "code",
   "execution_count": 24,
   "id": "fa232a1f",
   "metadata": {},
   "outputs": [],
   "source": [
    "# 함수 이외, 딕셔너리 조인할 때\n",
    "\n",
    "a = {1: 'a', 2: 'b'}\n",
    "b = {2: 'c', 3: 'd'}\n",
    "c = {**a, **b}"
   ]
  },
  {
   "cell_type": "code",
   "execution_count": null,
   "id": "54060457",
   "metadata": {},
   "outputs": [],
   "source": []
  }
 ],
 "metadata": {
  "kernelspec": {
   "display_name": "Python 3 (ipykernel)",
   "language": "python",
   "name": "python3"
  },
  "language_info": {
   "codemirror_mode": {
    "name": "ipython",
    "version": 3
   },
   "file_extension": ".py",
   "mimetype": "text/x-python",
   "name": "python",
   "nbconvert_exporter": "python",
   "pygments_lexer": "ipython3",
   "version": "3.9.7"
  }
 },
 "nbformat": 4,
 "nbformat_minor": 5
}
