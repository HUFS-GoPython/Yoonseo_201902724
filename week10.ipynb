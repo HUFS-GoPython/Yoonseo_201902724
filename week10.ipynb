{
 "cells": [
  {
   "cell_type": "markdown",
   "id": "132e5dd5",
   "metadata": {},
   "source": [
    "### 객체와 클래스\n",
    "- object\n",
    "- 객체지향프로그래밍\n",
    "- 속성과 행동을 가지는 개념, '실체'가 있는 것.\n",
    "    - 예: 자동차, 사람, 강아지, 나무, ... thing (tangible)\n",
    "    - 속성: 브랜드, 나이, 색, 크기, 이름, 종, ..  == 변수\n",
    "    - 행동: 가다, 서다, 회전, 주차, 이동, 기다리다, ..  == 메소드(함수)\n",
    "- ex) 편의점: '고객이 편의점에서 과자를 샀다'\n",
    "    => 고객 => 사람           /   편의점, 과자 => 물건\n",
    "       - 이름, 돈             / - 재고, 수익 # 속성은 때에 따라서 없어도 된다\n",
    "       - 물건 사다, 돈 내다   / - 팔다, 수익 남기다 # 행동은 때에 따라선 없어도 된다\n",
    "    => 상호작용으로 코드를 구성하는 것\n"
   ]
  },
  {
   "cell_type": "markdown",
   "id": "fb7387ea",
   "metadata": {},
   "source": [
    "- 이름 지을 때, 첫글자 대문자\n",
    "- 카멜 표기법으로 = _로 연결 X\n",
    "\n",
    "- 정의부, 선언부로 구성\n",
    "    - 정의부 = 몰드\n",
    "    - 선언부 = 몰드에서 찍어낸 결과물"
   ]
  },
  {
   "cell_type": "code",
   "execution_count": 1,
   "id": "b6729158",
   "metadata": {},
   "outputs": [
    {
     "data": {
      "text/plain": [
       "<__main__.Car at 0x21b5fc23580>"
      ]
     },
     "execution_count": 1,
     "metadata": {},
     "output_type": "execute_result"
    }
   ],
   "source": [
    "# 정의부(definition)\n",
    "class Car: # 객체\n",
    "    pass\n",
    "# 선언부\n",
    "my_car = Car()\n",
    "my_car #instance"
   ]
  },
  {
   "cell_type": "code",
   "execution_count": 2,
   "id": "bf1f2655",
   "metadata": {},
   "outputs": [],
   "source": [
    "my_car.name = 'bmw'\n",
    "my_car.color = 'white'"
   ]
  },
  {
   "cell_type": "code",
   "execution_count": 4,
   "id": "1485cf82",
   "metadata": {},
   "outputs": [
    {
     "data": {
      "text/plain": [
       "'bmw'"
      ]
     },
     "execution_count": 4,
     "metadata": {},
     "output_type": "execute_result"
    }
   ],
   "source": [
    "my_car.name # 마치 튜플, 딕셔너리와 비슷"
   ]
  },
  {
   "cell_type": "code",
   "execution_count": 5,
   "id": "8cb27093",
   "metadata": {},
   "outputs": [],
   "source": [
    "class Car:\n",
    "    name = 'BMW'"
   ]
  },
  {
   "cell_type": "code",
   "execution_count": 6,
   "id": "3b9a039a",
   "metadata": {},
   "outputs": [],
   "source": [
    "your_car = Car()  # you_car의 name이 이미 BMW로 정해짐"
   ]
  },
  {
   "cell_type": "code",
   "execution_count": 7,
   "id": "5f66a2b5",
   "metadata": {},
   "outputs": [],
   "source": [
    "your_car.name = 'Kia' #따로 변경해줄 수 있음. 그러나 번거로움"
   ]
  },
  {
   "cell_type": "code",
   "execution_count": 11,
   "id": "61870f5b",
   "metadata": {},
   "outputs": [],
   "source": [
    "class Car:\n",
    "    def __init__(): #속성 초기화 함수, #객체를 만들 때 들어오는 값으로 이름을 그때그때 설정하고 싶다면\n",
    "        pass # 설정할 거면 pass 쓰지 말고 밑의 코드처럼"
   ]
  },
  {
   "cell_type": "code",
   "execution_count": 18,
   "id": "aa907896",
   "metadata": {},
   "outputs": [],
   "source": [
    "class Car:\n",
    "    def __init__(self, name): # 여기서 name은 input()과 비슷한 역할을 하게 됨\n",
    "        self.name = name"
   ]
  },
  {
   "cell_type": "code",
   "execution_count": 15,
   "id": "88772c45",
   "metadata": {},
   "outputs": [
    {
     "ename": "TypeError",
     "evalue": "__init__() missing 1 required positional argument: 'name'",
     "output_type": "error",
     "traceback": [
      "\u001b[1;31m---------------------------------------------------------------------------\u001b[0m",
      "\u001b[1;31mTypeError\u001b[0m                                 Traceback (most recent call last)",
      "\u001b[1;32m~\\AppData\\Local\\Temp/ipykernel_22084/2329187627.py\u001b[0m in \u001b[0;36m<module>\u001b[1;34m\u001b[0m\n\u001b[1;32m----> 1\u001b[1;33m \u001b[0mher_car\u001b[0m \u001b[1;33m=\u001b[0m \u001b[0mCar\u001b[0m\u001b[1;33m(\u001b[0m\u001b[1;33m)\u001b[0m \u001b[1;31m# 객체를 만들 때 그냥 안 넘어가고 예외 발생. 이름 정해줘야함\u001b[0m\u001b[1;33m\u001b[0m\u001b[1;33m\u001b[0m\u001b[0m\n\u001b[0m",
      "\u001b[1;31mTypeError\u001b[0m: __init__() missing 1 required positional argument: 'name'"
     ]
    }
   ],
   "source": [
    "her_car = Car() # 객체를 만들 때 그냥 안 넘어가고 예외 발생. 이름 정해줘야함"
   ]
  },
  {
   "cell_type": "code",
   "execution_count": 17,
   "id": "9aed35fb",
   "metadata": {},
   "outputs": [
    {
     "data": {
      "text/plain": [
       "'Hyundai'"
      ]
     },
     "execution_count": 17,
     "metadata": {},
     "output_type": "execute_result"
    }
   ],
   "source": [
    "her_car = Car(name='Hyundai')\n",
    "her_car.name"
   ]
  },
  {
   "cell_type": "code",
   "execution_count": 19,
   "id": "2920762a",
   "metadata": {
    "scrolled": true
   },
   "outputs": [
    {
     "data": {
      "text/plain": [
       "'Toyota'"
      ]
     },
     "execution_count": 19,
     "metadata": {},
     "output_type": "execute_result"
    }
   ],
   "source": [
    "car2 = Car('Toyota')\n",
    "car2.name"
   ]
  },
  {
   "cell_type": "code",
   "execution_count": 7,
   "id": "f020153a",
   "metadata": {},
   "outputs": [],
   "source": [
    "# 모델, 색 설정\n",
    "class Car:\n",
    "    def __init__(self, name, model, color):# 속성 초기화 함수 #이렇게 하면 Car를 만들때 항상 3개가 있어야한다\n",
    "        self.name = name\n",
    "        self.model = model\n",
    "        self.color = color\n",
    "    \n",
    "    def drive(self):\n",
    "        print('차가 갑니다.')\n",
    "        # 1. (차 이름)이 출발합니다. 로 바꾸기\n",
    "        \n",
    "    def stop(self):\n",
    "        print('차가 섭니다.')\n",
    "    \n",
    "    def change_color(self, color):\n",
    "        pass\n",
    "        # 2. gray로 바꾸기\n",
    "        \n",
    "        # 3. color를 받아서 그걸로 지정\n",
    "   \n",
    "    # 4. color값이 들어오면 그 값으로 설정, 아니면 'black'을 디폴트값으로\n",
    "    # 5. model을 생성할 때 안 넣어도 되게 설정하기        "
   ]
  },
  {
   "cell_type": "code",
   "execution_count": 8,
   "id": "bcaee13e",
   "metadata": {},
   "outputs": [],
   "source": [
    "# 모델, 색 설정\n",
    "class Car:\n",
    "    def __init__(self, name, model=None, color='black'): # 미리 디폴트값을 정해주면 모든 값을 일일이 쓰지 않아도 됨\n",
    "        self.name = name\n",
    "        self.model = model\n",
    "        self.color = color\n",
    "    \n",
    "    def drive(self):\n",
    "        # print('차가 갑니다.')\n",
    "        # 1. (차 이름)이 출발합니다. 로 바꾸기\n",
    "        print(f'{self.name}(이)가 출발합니다.')\n",
    "        # self.name vs name = 전체 객체의 과정을 거친 후 결과값 vs 내가 처음 설정한 값\n",
    "    def stop(self):\n",
    "        print('차가 섭니다.')\n",
    "    \n",
    "    def change_color(self, color):\n",
    "        # 2. gray로 바꾸기\n",
    "        self.color = 'gray'\n",
    "        \n",
    "        # 3. color를 받아서 그걸로 지정\n",
    "        self.color = color\n",
    "        \n",
    "    # 4. color값이 들어오면 그 값으로 설정, 아니면 'black'을 디폴트값으로\n",
    "        # 처음에 color='black'\n",
    "    \n",
    "    # 5. model을 생성할 때 안 넣어도 되게 설정하기\n",
    "        # 처음에 model=None\n",
    "    "
   ]
  },
  {
   "cell_type": "code",
   "execution_count": 9,
   "id": "981d8c2b",
   "metadata": {},
   "outputs": [],
   "source": [
    "the_car = Car('Samsung', 'SM7', 'silver')"
   ]
  },
  {
   "cell_type": "code",
   "execution_count": 10,
   "id": "9db7e695",
   "metadata": {},
   "outputs": [
    {
     "name": "stdout",
     "output_type": "stream",
     "text": [
      "black\n"
     ]
    }
   ],
   "source": [
    "a_car = Car('Bentz')\n",
    "print(a_car.color)"
   ]
  },
  {
   "cell_type": "code",
   "execution_count": 65,
   "id": "5bc927d8",
   "metadata": {},
   "outputs": [
    {
     "name": "stdout",
     "output_type": "stream",
     "text": [
      "Bentz(이)가 출발합니다.\n"
     ]
    }
   ],
   "source": [
    "a_car.drive()"
   ]
  },
  {
   "cell_type": "markdown",
   "id": "7d3008f5",
   "metadata": {},
   "source": [
    "### 캡슐화, 정보 은닉"
   ]
  },
  {
   "cell_type": "code",
   "execution_count": 66,
   "id": "3d1a7d29",
   "metadata": {},
   "outputs": [
    {
     "data": {
      "text/plain": [
       "'red'"
      ]
     },
     "execution_count": 66,
     "metadata": {},
     "output_type": "execute_result"
    }
   ],
   "source": [
    "class Fruit:\n",
    "    color = 'red' # 무슨 틀을 찍어도 red\n",
    "\n",
    "kiwi = Fruit()\n",
    "kiwi.color"
   ]
  },
  {
   "cell_type": "code",
   "execution_count": 67,
   "id": "786f174f",
   "metadata": {},
   "outputs": [
    {
     "data": {
      "text/plain": [
       "'black'"
      ]
     },
     "execution_count": 67,
     "metadata": {},
     "output_type": "execute_result"
    }
   ],
   "source": [
    "Fruit.color = 'black'\n",
    "apple = Fruit()\n",
    "apple.color"
   ]
  },
  {
   "cell_type": "markdown",
   "id": "60b5e577",
   "metadata": {},
   "source": [
    "### get, set\n",
    "- getter: 클래스 내 객체 변수 반환\n",
    "- setter: == 변수 설정"
   ]
  },
  {
   "cell_type": "code",
   "execution_count": 71,
   "id": "64be1aaa",
   "metadata": {},
   "outputs": [],
   "source": [
    "class Car:\n",
    "    def __init__(self, input_name):\n",
    "        self.name = input_name\n",
    "    \n",
    "    def get_name(self):\n",
    "        # 변수 반환\n",
    "        return self.name\n",
    "    \n",
    "    def set_name(self, input_name):\n",
    "        self.name = input_name\n",
    "\n",
    "c = Car('name1')"
   ]
  },
  {
   "cell_type": "code",
   "execution_count": 69,
   "id": "13807e29",
   "metadata": {},
   "outputs": [
    {
     "data": {
      "text/plain": [
       "'name1'"
      ]
     },
     "execution_count": 69,
     "metadata": {},
     "output_type": "execute_result"
    }
   ],
   "source": [
    "c.get_name()"
   ]
  },
  {
   "cell_type": "code",
   "execution_count": 72,
   "id": "b25955eb",
   "metadata": {},
   "outputs": [
    {
     "data": {
      "text/plain": [
       "'name2'"
      ]
     },
     "execution_count": 72,
     "metadata": {},
     "output_type": "execute_result"
    }
   ],
   "source": [
    "c.set_name('name2') # set가 있으면 바뀌었다는 걸 알 수 있다\n",
    "c.name"
   ]
  },
  {
   "cell_type": "code",
   "execution_count": 73,
   "id": "a7090e25",
   "metadata": {},
   "outputs": [
    {
     "data": {
      "text/plain": [
       "'name3'"
      ]
     },
     "execution_count": 73,
     "metadata": {},
     "output_type": "execute_result"
    }
   ],
   "source": [
    "c.name = 'name3'\n",
    "c.name"
   ]
  },
  {
   "cell_type": "code",
   "execution_count": 74,
   "id": "c402a8ca",
   "metadata": {},
   "outputs": [
    {
     "data": {
      "text/plain": [
       "'name_1'"
      ]
     },
     "execution_count": 74,
     "metadata": {},
     "output_type": "execute_result"
    }
   ],
   "source": [
    "#2. 변수를 밖에서 쉽게 바꾸지 못하도록 가리는 역할. 완전히는 아님.\n",
    "\n",
    "class Car:\n",
    "    def __init__(self, input_name):\n",
    "        self.hidden_name = input_name\n",
    "        \n",
    "    def get_name(self):\n",
    "        return self.hidden_name\n",
    "    \n",
    "    def set_name(self, input_name):\n",
    "        self.hidden_name = input_name\n",
    "        \n",
    "    name = property(get_name, set_name)\n",
    "    \n",
    "d = Car('name_1')\n",
    "d.name"
   ]
  },
  {
   "cell_type": "code",
   "execution_count": 75,
   "id": "8e93dc12",
   "metadata": {},
   "outputs": [],
   "source": [
    "# 간략하게\n",
    "class Car:\n",
    "    def __init__(self, input_name):\n",
    "        self.__name = input_name\n",
    "    # decorator\n",
    "    @property\n",
    "    def name(self):\n",
    "        return self.hidden_name\n",
    "    \n",
    "    @name.setter\n",
    "    def name(self, input_name):\n",
    "        self.__name = input_name\n",
    "        \n",
    "        # 언더바 __"
   ]
  },
  {
   "cell_type": "code",
   "execution_count": 76,
   "id": "0861ac4e",
   "metadata": {},
   "outputs": [
    {
     "ename": "AttributeError",
     "evalue": "'Car' object has no attribute '__name'",
     "output_type": "error",
     "traceback": [
      "\u001b[1;31m---------------------------------------------------------------------------\u001b[0m",
      "\u001b[1;31mAttributeError\u001b[0m                            Traceback (most recent call last)",
      "\u001b[1;32m~\\AppData\\Local\\Temp/ipykernel_22084/229484777.py\u001b[0m in \u001b[0;36m<module>\u001b[1;34m\u001b[0m\n\u001b[0;32m      1\u001b[0m \u001b[0mf\u001b[0m \u001b[1;33m=\u001b[0m \u001b[0mCar\u001b[0m\u001b[1;33m(\u001b[0m\u001b[1;34m'name b'\u001b[0m\u001b[1;33m)\u001b[0m\u001b[1;33m\u001b[0m\u001b[1;33m\u001b[0m\u001b[0m\n\u001b[1;32m----> 2\u001b[1;33m \u001b[0mf\u001b[0m\u001b[1;33m.\u001b[0m\u001b[0m__name\u001b[0m\u001b[1;33m\u001b[0m\u001b[1;33m\u001b[0m\u001b[0m\n\u001b[0m",
      "\u001b[1;31mAttributeError\u001b[0m: 'Car' object has no attribute '__name'"
     ]
    }
   ],
   "source": [
    "f = Car('name b')\n",
    "f.__name"
   ]
  },
  {
   "cell_type": "code",
   "execution_count": 77,
   "id": "dda3b3cd",
   "metadata": {},
   "outputs": [
    {
     "data": {
      "text/plain": [
       "10"
      ]
     },
     "execution_count": 77,
     "metadata": {},
     "output_type": "execute_result"
    }
   ],
   "source": [
    "class Circle:\n",
    "    def __init__(self, radius):\n",
    "        self.radius = radius\n",
    "    \n",
    "    @property\n",
    "    def parameter(self):\n",
    "        return self.radius * 2\n",
    "\n",
    "ex = Circle(5)\n",
    "ex.parameter"
   ]
  },
  {
   "cell_type": "code",
   "execution_count": 78,
   "id": "863c5108",
   "metadata": {},
   "outputs": [
    {
     "data": {
      "text/plain": [
       "38"
      ]
     },
     "execution_count": 78,
     "metadata": {},
     "output_type": "execute_result"
    }
   ],
   "source": [
    "ex.radius = 19\n",
    "ex.parameter"
   ]
  },
  {
   "cell_type": "markdown",
   "id": "a8676999",
   "metadata": {},
   "source": [
    "### 실습\n",
    "- 메모장, 메모 구현하기\n",
    "- 메모장\n",
    "    - 속성: 제목, 페이지번호, 메모\n",
    "    - 메모 추가하다, 삭제하다, 페이지번호 확인하다\n",
    "- 메모\n",
    "    - 속성: 글귀\n",
    "    - 행동: 쓰다, 지우다\n",
    "    \n",
    "- 사용:\n",
    "    - 메모를 쓴다\n",
    "    - 메모장에 추가\n",
    "    - 페이지 번호가 늘어난다\n",
    "    - 메모 삭제\n",
    "    - 페이지 번호 줄어든다\n",
    "    - 메모장에서 제목만 은닉시킨다\n"
   ]
  },
  {
   "cell_type": "code",
   "execution_count": 25,
   "id": "b8d2a3e6",
   "metadata": {},
   "outputs": [],
   "source": [
    "class NoteBook:\n",
    "    def __init__(self, title=None, page_num=0, memo=[]):\n",
    "        self.__title = title \n",
    "        self.page_num = page_num\n",
    "        self.memo = memo\n",
    "    \n",
    "    @property\n",
    "    def title(self): # 제목만 은닉\n",
    "        return self.__title\n",
    "\n",
    "    def add_note(self, memo): #메모 추가\n",
    "        self.memo.extend(memo)\n",
    "        self.page_num += 1 #페이지 번호 늘어난다\n",
    "    \n",
    "    def del_note(self, title): #메모 삭제\n",
    "        self.memo.remove(memo)\n",
    "        self.page_num -= 1 #페이지 번호 줄어든다\n",
    "        \n",
    "    def check_page_num(self): # 페이지 번호 확인\n",
    "        return self.page_num\n",
    "    \n",
    "class Memo:\n",
    "    def __init__(self, memo = []):\n",
    "        self.memo = memo\n",
    "    \n",
    "    def write(self, line): #메모장에 메모 쓰기\n",
    "        self.memo.append(line)\n",
    "        \n",
    "    def del_memo(self):\n",
    "        self.memo.remove(line)\n",
    "        \n",
    "    def print_memo(self):\n",
    "        for page_num, line in enumerate(self.memo):\n",
    "            print(f'Page No.{page_num}')\n",
    "            print(line)\n",
    "    \n",
    "# 사용\n",
    "line1 = '우리 모두 스스로가 원하는 리더가 됩시다'\n",
    "line2 = '모두가 함께 앞으로 나아가면 성공은 저절로 따라옵니다'\n",
    "line3 = '혼자서는 작은 한 방울이지만 함께 모이면 바다를 이룹니다'"
   ]
  },
  {
   "cell_type": "code",
   "execution_count": 11,
   "id": "f7177997",
   "metadata": {},
   "outputs": [
    {
     "name": "stdout",
     "output_type": "stream",
     "text": [
      "Page No.0\n",
      "우리 모두 스스로가 원하는 리더가 됩시다\n",
      "Page No.1\n",
      "모두가 함께 앞으로 나아가면 성공은 저절로 따라옵니다\n",
      "Page No.2\n",
      "혼자서는 작은 한 방울이지만 함께 모이면 바다를 이룹니다\n"
     ]
    }
   ],
   "source": [
    "# 메모 추가\n",
    "my_note = Memo()\n",
    "my_note.write(line1)   \n",
    "my_note.write(line2)\n",
    "my_note.write(line3)\n",
    "my_note.print_memo()"
   ]
  },
  {
   "cell_type": "code",
   "execution_count": null,
   "id": "c1c60628",
   "metadata": {},
   "outputs": [],
   "source": [
    "# 메모장에 추가\n",
    "my_book = NoteBook('my book')\n",
    "my_book.add_note(my_note)\n",
    "my_book.print_memo()\n",
    "\n",
    "# 페이지 번호 확인하기\n",
    "my_book.check_page_num()\n"
   ]
  }
 ],
 "metadata": {
  "kernelspec": {
   "display_name": "Python 3 (ipykernel)",
   "language": "python",
   "name": "python3"
  },
  "language_info": {
   "codemirror_mode": {
    "name": "ipython",
    "version": 3
   },
   "file_extension": ".py",
   "mimetype": "text/x-python",
   "name": "python",
   "nbconvert_exporter": "python",
   "pygments_lexer": "ipython3",
   "version": "3.9.7"
  }
 },
 "nbformat": 4,
 "nbformat_minor": 5
}
