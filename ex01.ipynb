{
 "cells": [
  {
   "cell_type": "markdown",
   "id": "d187fee2-c78b-45b6-9cec-df90e42f7b7a",
   "metadata": {
    "tags": []
   },
   "source": [
    "## 프로그래밍\n",
    "    - 프로그래밍 언어를 사용하여 프로그램을 개발하는 것\n",
    "    - 논리적인 사고를 가질 수 있다.\n",
    "    \n",
    "## programming Language?\n",
    "    - 프로그램을 개발할 때 사용하는 도구\n",
    "    - 인간이 원하는 것을 컴퓨터에게 명령할 때 사용하는 컴퓨터가 이해할 수 있는 언어\n",
    "\n",
    "## 파이썬?\n",
    "    - 쉽다. 간결하다.\n",
    "    - 라이브러리가 많다.\n",
    "  \n",
    "## Chapter 2. Data: Types, Values, Variables, and Names"
   ]
  },
  {
   "cell_type": "code",
   "execution_count": 16,
   "id": "6a7c4022-8497-4bc9-8d99-5f4841b89155",
   "metadata": {},
   "outputs": [
    {
     "data": {
      "text/plain": [
       "2"
      ]
     },
     "execution_count": 16,
     "metadata": {},
     "output_type": "execute_result"
    }
   ],
   "source": [
    "a = 2\n",
    "a"
   ]
  },
  {
   "cell_type": "code",
   "execution_count": 17,
   "id": "960912d8-d58f-43d6-a68c-70e8ef89050c",
   "metadata": {},
   "outputs": [
    {
     "data": {
      "text/plain": [
       "True"
      ]
     },
     "execution_count": 17,
     "metadata": {},
     "output_type": "execute_result"
    }
   ],
   "source": [
    "a == 2"
   ]
  },
  {
   "cell_type": "markdown",
   "id": "643fe396-ae22-4a39-852e-5b974be3b2b6",
   "metadata": {},
   "source": [
    "- 변수|variable: 특정 값을 저장하는 공간\n",
    "    a\n",
    "- 값|value\n",
    "    2\n",
    "- 할당하다|assaign: 변수에 값을 넣는 과정\n",
    "    \"2를 a에 넣었다.\"\n",
    "    \n",
    "    *** a는 2다. a == 2\n",
    "- 자료형|type: 데이터의 형태 a 데이터의 형태? integer (int 타입이다)"
   ]
  },
  {
   "cell_type": "code",
   "execution_count": 19,
   "id": "b097c310-d66a-4626-8585-dcbfcbe2bd74",
   "metadata": {},
   "outputs": [
    {
     "name": "stdout",
     "output_type": "stream",
     "text": [
      "2\n"
     ]
    }
   ],
   "source": [
    "print(a)"
   ]
  },
  {
   "cell_type": "code",
   "execution_count": 20,
   "id": "404a7e25-ee40-4fd3-9fed-9ef52f8395ca",
   "metadata": {},
   "outputs": [
    {
     "data": {
      "text/plain": [
       "2"
      ]
     },
     "execution_count": 20,
     "metadata": {},
     "output_type": "execute_result"
    }
   ],
   "source": [
    "a"
   ]
  },
  {
   "cell_type": "code",
   "execution_count": 21,
   "id": "1b9d46db-2dd5-48e0-83e3-d00710ecd7b1",
   "metadata": {},
   "outputs": [
    {
     "data": {
      "text/plain": [
       "int"
      ]
     },
     "execution_count": 21,
     "metadata": {},
     "output_type": "execute_result"
    }
   ],
   "source": [
    "# type\n",
    "type(a)"
   ]
  },
  {
   "cell_type": "code",
   "execution_count": 22,
   "id": "3ea71f9a-2d97-47f5-89c3-af2e34c03147",
   "metadata": {},
   "outputs": [
    {
     "data": {
      "text/plain": [
       "int"
      ]
     },
     "execution_count": 22,
     "metadata": {},
     "output_type": "execute_result"
    }
   ],
   "source": [
    "type(2)"
   ]
  },
  {
   "cell_type": "code",
   "execution_count": 23,
   "id": "c39ad9f2-1ed1-4d5d-825b-640df4a8fd65",
   "metadata": {},
   "outputs": [
    {
     "data": {
      "text/plain": [
       "bool"
      ]
     },
     "execution_count": 23,
     "metadata": {},
     "output_type": "execute_result"
    }
   ],
   "source": [
    "type(a == 2) # bool, boolean T/F"
   ]
  },
  {
   "cell_type": "markdown",
   "id": "81272ed9-0729-4f28-9689-ce5b2f9a694f",
   "metadata": {},
   "source": [
    "### Type\n",
    "- integer|정수: 1, 2, 3, .. (int)\n",
    "- floating point number|부동소수점: 1.0, 2.0, ..., 0.4 (float)\n",
    "- srting|문자열: \"1\", 'apple' (str)\n",
    "- boolean|불리언: True/False (bool)"
   ]
  },
  {
   "cell_type": "code",
   "execution_count": 26,
   "id": "3e023da1-70c9-423e-8271-e4413566ef3b",
   "metadata": {},
   "outputs": [
    {
     "data": {
      "text/plain": [
       "str"
      ]
     },
     "execution_count": 26,
     "metadata": {},
     "output_type": "execute_result"
    }
   ],
   "source": [
    "type(\"1\")"
   ]
  },
  {
   "cell_type": "code",
   "execution_count": 27,
   "id": "12261300-d09e-49f1-8753-67c1a455a991",
   "metadata": {},
   "outputs": [
    {
     "data": {
      "text/plain": [
       "str"
      ]
     },
     "execution_count": 27,
     "metadata": {},
     "output_type": "execute_result"
    }
   ],
   "source": [
    "type('apple')"
   ]
  },
  {
   "cell_type": "code",
   "execution_count": 44,
   "id": "3feeba55-48f2-4a13-8adc-cca300f42e80",
   "metadata": {},
   "outputs": [
    {
     "ename": "NameError",
     "evalue": "name 'apple' is not defined",
     "output_type": "error",
     "traceback": [
      "\u001b[1;31m---------------------------------------------------------------------------\u001b[0m",
      "\u001b[1;31mNameError\u001b[0m                                 Traceback (most recent call last)",
      "\u001b[1;32m~\\AppData\\Local\\Temp/ipykernel_19196/2423857472.py\u001b[0m in \u001b[0;36m<module>\u001b[1;34m\u001b[0m\n\u001b[1;32m----> 1\u001b[1;33m \u001b[0mtype\u001b[0m\u001b[1;33m(\u001b[0m\u001b[0mapple\u001b[0m\u001b[1;33m)\u001b[0m \u001b[1;31m#변수명\u001b[0m\u001b[1;33m\u001b[0m\u001b[1;33m\u001b[0m\u001b[0m\n\u001b[0m",
      "\u001b[1;31mNameError\u001b[0m: name 'apple' is not defined"
     ]
    }
   ],
   "source": [
    "type(apple) #변수명"
   ]
  },
  {
   "cell_type": "code",
   "execution_count": 45,
   "id": "c2df6c80-daca-4a5f-860d-fb74dc83a4aa",
   "metadata": {},
   "outputs": [
    {
     "data": {
      "text/plain": [
       "'kim'"
      ]
     },
     "execution_count": 45,
     "metadata": {},
     "output_type": "execute_result"
    }
   ],
   "source": [
    "name = 'kim'\n",
    "name"
   ]
  },
  {
   "cell_type": "code",
   "execution_count": 46,
   "id": "81f8bcb5-0210-4388-be67-18326284d29b",
   "metadata": {},
   "outputs": [
    {
     "name": "stdout",
     "output_type": "stream",
     "text": [
      "kim\n"
     ]
    }
   ],
   "source": [
    "print(name)"
   ]
  },
  {
   "cell_type": "code",
   "execution_count": 48,
   "id": "58c34ca5-119b-4f36-8f83-57cc6676c7a5",
   "metadata": {},
   "outputs": [
    {
     "name": "stdout",
     "output_type": "stream",
     "text": [
      "kim\n"
     ]
    }
   ],
   "source": [
    "print('kim')      "
   ]
  },
  {
   "cell_type": "markdown",
   "id": "a527448b-07e2-460e-b9ea-ab5d63467886",
   "metadata": {},
   "source": [
    "### 할당\n",
    "- = 이 기호를 사용한다.\n",
    "- 수학에서 '양변이 같다'라는 의미로 사용되지만, 프로그래밍에서는 '할당하다'라는 의미가 추가된다.\n",
    "- \"오른쪽의 값을 왼쪽에 할당한다\"\n",
    "- 1. 오른쪽에 있는 모든 것은 값을 가져야 한다. (초기화를 해야한다.)\n",
    "- 2. 같은 변수에 다른 값을 넣을 수 있다."
   ]
  },
  {
   "cell_type": "code",
   "execution_count": 50,
   "id": "e3fde5c8-fa11-435a-bf9b-5c4b3db318d5",
   "metadata": {},
   "outputs": [],
   "source": [
    "x = 4 # 초기화\n",
    "y = x + 3"
   ]
  },
  {
   "cell_type": "code",
   "execution_count": 51,
   "id": "2e0d8ab5-2ab1-40b0-9f38-023b402388d9",
   "metadata": {},
   "outputs": [
    {
     "data": {
      "text/plain": [
       "(4, 7)"
      ]
     },
     "execution_count": 51,
     "metadata": {},
     "output_type": "execute_result"
    }
   ],
   "source": [
    "x, y"
   ]
  },
  {
   "cell_type": "code",
   "execution_count": 52,
   "id": "2c4f9971-f0dc-4304-abdb-94911dd4f9bd",
   "metadata": {},
   "outputs": [],
   "source": [
    "name = 'kim'\n",
    "name = 'lee'\n",
    "name = 'park'\n",
    "name = 4"
   ]
  },
  {
   "cell_type": "code",
   "execution_count": 53,
   "id": "12c74c21-6115-4a4e-abb3-c7f4efbe08c6",
   "metadata": {},
   "outputs": [
    {
     "name": "stdout",
     "output_type": "stream",
     "text": [
      "4\n"
     ]
    }
   ],
   "source": [
    "print(name) # 변수명은 같은 걸 사용하지 않기. 같은 걸 사용해도 마지막에 할당한 것으로 적용."
   ]
  },
  {
   "cell_type": "code",
   "execution_count": 54,
   "id": "c411c39b-c24c-4c22-83fa-9e457b09da22",
   "metadata": {},
   "outputs": [],
   "source": [
    "text = 'abc'\n",
    "text = 'cde'"
   ]
  },
  {
   "cell_type": "markdown",
   "id": "d0ebcc36-b414-471c-815c-dad863f92b78",
   "metadata": {},
   "source": [
    "### 변수명 정하기\n",
    "- 나쁜 변수명: a, b, c, a1, b1, ..\n",
    "- 의미있는 이름으로 선언해야 한다.\n",
    "- 소문자, 대문자, 숫자, 언더바를 사용한다.\n",
    "    예: name, name2, my_name, Name, NAME\n"
   ]
  },
  {
   "cell_type": "code",
   "execution_count": 31,
   "id": "a0c27a3d-d244-4711-ba2e-eb34ba40aae4",
   "metadata": {},
   "outputs": [
    {
     "name": "stdout",
     "output_type": "stream",
     "text": [
      "juliette,Jessica,laura\n"
     ]
    }
   ],
   "source": [
    "name = 'juliette'\n",
    "name1 = 'Jessica'\n",
    "my_name = 'laura'\n",
    "\n",
    "print(name, name1, my_name, sep=',')"
   ]
  },
  {
   "cell_type": "markdown",
   "id": "8580ef32-0d7a-40e1-a8e0-3e03c296a8f1",
   "metadata": {},
   "source": [
    "- 안되는 것\n",
    "    - 숫자로 시작할 수 없다.\n",
    "        예: 22name, 22_name\n",
    "    - 예약어로 선언할 수 없다.\n",
    "        예: def, False, ..."
   ]
  },
  {
   "cell_type": "code",
   "execution_count": 34,
   "id": "1a9c84ad-d9b2-4cc9-8f57-5c14383991b4",
   "metadata": {},
   "outputs": [
    {
     "name": "stdout",
     "output_type": "stream",
     "text": [
      "\n",
      "Here is a list of the Python keywords.  Enter any keyword to get more help.\n",
      "\n",
      "False               break               for                 not\n",
      "None                class               from                or\n",
      "True                continue            global              pass\n",
      "__peg_parser__      def                 if                  raise\n",
      "and                 del                 import              return\n",
      "as                  elif                in                  try\n",
      "assert              else                is                  while\n",
      "async               except              lambda              with\n",
      "await               finally             nonlocal            yield\n",
      "\n"
     ]
    }
   ],
   "source": [
    "# if = 'kim'\n",
    "help(\"keywords\")"
   ]
  },
  {
   "cell_type": "markdown",
   "id": "12896b94-e16b-42d9-8a52-d702a7a6b783",
   "metadata": {},
   "source": [
    "- 조심할 것: 특별한 용도가 있기때문에\n",
    "    - 언더바로 시작하는 변수명: _name\n",
    "    - 더블 언더바로 시작하는 변수명: Name\n",
    "    - 전체 대문자: NAME"
   ]
  },
  {
   "cell_type": "code",
   "execution_count": 41,
   "id": "2e1b5103-b432-4a95-ac56-89b9814a8e74",
   "metadata": {},
   "outputs": [],
   "source": [
    "#  변수명은 대소문자 구분한다.\n",
    "num = 43\n",
    "Num = 44"
   ]
  },
  {
   "cell_type": "code",
   "execution_count": 42,
   "id": "a55c329b-4f05-4031-83dd-d204ffba46fe",
   "metadata": {},
   "outputs": [
    {
     "data": {
      "text/plain": [
       "False"
      ]
     },
     "execution_count": 42,
     "metadata": {},
     "output_type": "execute_result"
    }
   ],
   "source": [
    "num == Num"
   ]
  },
  {
   "cell_type": "code",
   "execution_count": 43,
   "id": "0486bd0d-8f1a-4cff-a886-affcb4c39325",
   "metadata": {},
   "outputs": [
    {
     "data": {
      "text/plain": [
       "False"
      ]
     },
     "execution_count": 43,
     "metadata": {},
     "output_type": "execute_result"
    }
   ],
   "source": [
    "num = 'number'\n",
    "Num = 'Number'\n",
    "\n",
    "num == Num"
   ]
  },
  {
   "cell_type": "code",
   "execution_count": 55,
   "id": "4301c81b-32f7-4bdf-85f6-f306719f3a82",
   "metadata": {},
   "outputs": [
    {
     "data": {
      "text/plain": [
       "True"
      ]
     },
     "execution_count": 55,
     "metadata": {},
     "output_type": "execute_result"
    }
   ],
   "source": [
    "num != Num"
   ]
  }
 ],
 "metadata": {
  "kernelspec": {
   "display_name": "Python 3 (ipykernel)",
   "language": "python",
   "name": "python3"
  },
  "language_info": {
   "codemirror_mode": {
    "name": "ipython",
    "version": 3
   },
   "file_extension": ".py",
   "mimetype": "text/x-python",
   "name": "python",
   "nbconvert_exporter": "python",
   "pygments_lexer": "ipython3",
   "version": "3.9.7"
  }
 },
 "nbformat": 4,
 "nbformat_minor": 5
}
