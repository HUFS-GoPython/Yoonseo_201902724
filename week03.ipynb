{
 "cells": [
  {
   "cell_type": "markdown",
   "id": "2861b8d9-a1e9-4b6f-a99b-fea3377274f4",
   "metadata": {
    "tags": []
   },
   "source": [
    "## 중첩조건문|nested conditional\n",
    "- if 블록 안에 또 if 블록이 만들어지는 경우\n",
    "    - 예: if...\n",
    "          if ...\n",
    "               if...\n",
    "- 구분은 들여쓰기로\n",
    "- 조건이 여러 개일 경우 사용\n",
    "- 하지만 지양할 것. 더 깔끔한 방향 모색"
   ]
  },
  {
   "cell_type": "code",
   "execution_count": 3,
   "id": "46a4c4be-8412-464b-9db9-f21e4bf755d9",
   "metadata": {},
   "outputs": [
    {
     "name": "stdout",
     "output_type": "stream",
     "text": [
      "Block B\n"
     ]
    }
   ],
   "source": [
    "x = 0\n",
    "y = 4\n",
    "if x == y:\n",
    "        print(\"Block A\")\n",
    "else:\n",
    "    if x < y:\n",
    "        print(\"Block B\")\n",
    "    else:\n",
    "        print(\"Block C\")"
   ]
  },
  {
   "cell_type": "code",
   "execution_count": null,
   "id": "502429ce-b087-448b-85ae-ec2c1f33f563",
   "metadata": {},
   "outputs": [],
   "source": [
    "x = 0\n",
    "y = 4\n",
    "if x == y:\n",
    "    print(\"Block A\")\n",
    "elif x < y:\n",
    "    print(\"Block B\")\n",
    "else:\n",
    "    print(\"Block C\")\n",
    "        \n",
    "# elif 로 변환 가능"
   ]
  },
  {
   "cell_type": "code",
   "execution_count": 2,
   "id": "ff5938fa-2d51-4d62-b57e-e526fc87bdb8",
   "metadata": {},
   "outputs": [
    {
     "name": "stdout",
     "output_type": "stream",
     "text": [
      "D\n"
     ]
    }
   ],
   "source": [
    "# 0 < x < 10\n",
    "if x > 0:\n",
    "    print('A')\n",
    "    if x < 10:\n",
    "        print('B')\n",
    "    else:\n",
    "        print('C')\n",
    "else:\n",
    "    print('D')"
   ]
  },
  {
   "cell_type": "code",
   "execution_count": null,
   "id": "1b62210d-6018-4d57-8dd6-ba24cbb960db",
   "metadata": {},
   "outputs": [],
   "source": [
    "# 방법 1\n",
    "if (x > 0) and (x < 10): #논리연산자 사용방법\n",
    "    print(\"Block A\")\n",
    "else:\n",
    "    print(\"Block B\")\n",
    "\n",
    "# 방법 2\n",
    "if 0 < x < 10: # 파이썬에서만 가능\n",
    "     print(\"Block A\")\n",
    "else: \n",
    "     print(\"Block B\")"
   ]
  },
  {
   "cell_type": "markdown",
   "id": "2de9f92c-0b71-49e5-94ad-d9ec0ce86b91",
   "metadata": {},
   "source": [
    "### 논리연산자\n",
    "- 비교연산 조건을 여러 번 사용하는 경우\n",
    "    - x > 0, x < 10\n",
    "- and, or, not\n",
    "    - A and B: A 그리고 B, A B 모두 참이어야 True\n",
    "    - A or B: A 혹은 B, 둘 중 하나만 참이어도 True(&)\n",
    "    - not A: A가 참이면 False, 거짓이면 True(~)"
   ]
  },
  {
   "cell_type": "markdown",
   "id": "2c2d51d6-774a-46dd-af00-9c7433ba4796",
   "metadata": {},
   "source": [
    "## True/False\n",
    "- A = True\n",
    "- '만약 A가 참이면...'"
   ]
  },
  {
   "cell_type": "code",
   "execution_count": null,
   "id": "a7a2da4d-280a-4d8a-9110-e6ed0132c221",
   "metadata": {},
   "outputs": [],
   "source": [
    "if a == True: #이거 아님\n",
    "    print()\n",
    "if a:\n",
    "    print() # 이렇게"
   ]
  },
  {
   "cell_type": "markdown",
   "id": "03a0efe9-a7e0-491a-acb9-7fd19d1d64af",
   "metadata": {},
   "source": [
    "### in\n",
    "- membership operator\n",
    "- 요소가 안에 포함되어 있는가\n",
    "- A in B = A가 B에 포함되어 있나\n",
    "- 한 변수에 여러 값을 비교"
   ]
  },
  {
   "cell_type": "code",
   "execution_count": 7,
   "id": "8840b59e-701d-4d6b-b7cf-d39400f33b32",
   "metadata": {},
   "outputs": [
    {
     "name": "stdout",
     "output_type": "stream",
     "text": [
      "자음\n"
     ]
    }
   ],
   "source": [
    "# ex1. 모음인지 아닌지 판단하라 (a e i o u)\n",
    "letter = 'k'\n",
    "if letter in ['a', 'e', 'i', 'o', 'u']:\n",
    "    print(\"모음\")\n",
    "else: print(\"자음\")\n",
    "        "
   ]
  },
  {
   "cell_type": "code",
   "execution_count": 12,
   "id": "3a99c604-1a23-401d-a1f4-b61cceb6a3a4",
   "metadata": {},
   "outputs": [
    {
     "name": "stdout",
     "output_type": "stream",
     "text": [
      "yes\n"
     ]
    }
   ],
   "source": [
    "# 단어에 모음이 있나 없나\n",
    "word = 'apple'\n",
    "# if ['a', 'e', 'i', 'o', 'u'] in word: # aieou가 전부 word 안에 있는지 판단\n",
    "\n",
    "if 'a' or 'e' or 'i' or 'o' or 'u' in word:\n",
    "    print('yes')\n",
    "else:\n",
    "    print('no')"
   ]
  },
  {
   "cell_type": "markdown",
   "id": "43a2f740-bbc5-401d-be0d-1f7ec76105eb",
   "metadata": {},
   "source": [
    "### 코끼리연산자\n",
    "- walrus operator\n",
    "- :=\n",
    "- 할당 + 테스트 동시에 하는 기능"
   ]
  },
  {
   "cell_type": "code",
   "execution_count": 14,
   "id": "06e1b31f-3657-417c-8435-127ca13dd06c",
   "metadata": {},
   "outputs": [
    {
     "data": {
      "text/plain": [
       "200"
      ]
     },
     "execution_count": 14,
     "metadata": {},
     "output_type": "execute_result"
    }
   ],
   "source": [
    "tweet_limit = 200\n",
    "tweet_string = 'blah' * 50 # 4 * 50 = 200\n",
    "len(tweet_string)"
   ]
  },
  {
   "cell_type": "code",
   "execution_count": 15,
   "id": "934e17be-0055-4bad-82b2-fa35979bd6aa",
   "metadata": {},
   "outputs": [
    {
     "name": "stdout",
     "output_type": "stream",
     "text": [
      "불가능하다\n"
     ]
    }
   ],
   "source": [
    "diff = tweet_limit - len(tweet_string)\n",
    "if diff > 0:\n",
    "    print(\"가능하다\")\n",
    "else:\n",
    "    print(\"불가능하다\")"
   ]
  },
  {
   "cell_type": "code",
   "execution_count": 16,
   "id": "48f87a3f-1b38-48c9-b997-ed70c7d17663",
   "metadata": {},
   "outputs": [
    {
     "name": "stdout",
     "output_type": "stream",
     "text": [
      "no\n"
     ]
    }
   ],
   "source": [
    "if diff := tweet_limit - len(tweet_string) > 0:\n",
    "    print('yes')\n",
    "else: print('no')\n"
   ]
  },
  {
   "cell_type": "markdown",
   "id": "4e1f3651-5b63-4b33-963f-50df9aa777b0",
   "metadata": {},
   "source": [
    "### 퀴즈 1\n",
    "- 윤년을 구해봅시다.\n",
    "    - 연도 입력받기\n",
    "    - 4로 나눠지면 윤년\n",
    "    - 100으로 나눠지면 안된다\n",
    "    - 400으로 나눠지면 윤년\n",
    "- 출력: '()년은 윤년입니다.'/'아닙니다.'"
   ]
  },
  {
   "cell_type": "code",
   "execution_count": 25,
   "id": "7d1f6446-5a5a-42ca-84a7-4856e60c3ff9",
   "metadata": {},
   "outputs": [
    {
     "name": "stdin",
     "output_type": "stream",
     "text": [
      "연도를 입력하세요 : 4000\n"
     ]
    },
    {
     "name": "stdout",
     "output_type": "stream",
     "text": [
      "4000 년은 윤년입니다\n"
     ]
    }
   ],
   "source": [
    "year = int(input('연도를 입력하세요 :'))\n",
    "if (year % 4 == 0 and year % 100 != 0) or (year % 400 == 0):\n",
    "    print(year, '년은 윤년입니다')\n",
    "else:\n",
    "    print(year, '년은 윤년이 아닙니다')"
   ]
  },
  {
   "cell_type": "markdown",
   "id": "fd649ab9-63e3-4189-b21c-205810d1aac5",
   "metadata": {},
   "source": [
    "## Ch 5.\n",
    "## String | 문자열\n",
    "- 시스템에서 가장 작은 단위, 하나의 캐릭터가 차지하는 바이트가 제일 작다\n",
    "- 불변적 immutable\n",
    "    - 예: jack -> jeck\n",
    "- ', \" 으로 선언한다.\n",
    "    - 예: \"25.5\"\n",
    "    - ''', \"\"\" 주석\n",
    "- 형변환은 str()\n",
    "\n",
    "### escape character | 이스케이프 문자\n",
    "- 특수한 형태의 문자열. 눈에 보이는 대로 인식되지 않는 문자\n",
    "- \\ + character\n",
    "- 예: \\n, \\t, \\b, \\', \\\", ...\n",
    "    - \\n : 줄바꿈, \\t : 탭, \\b : 백스페이스, \\' : 작은따옴표 표현\n",
    "    - 백슬래시를 입력하고싶으면 \\(백슬래시 두 번)\n",
    "    - \\n을 그대로 출력하고 싶을 때? :  r''"
   ]
  },
  {
   "cell_type": "code",
   "execution_count": 28,
   "id": "3c64b84f-6a6e-44c1-9d10-25223333fb01",
   "metadata": {},
   "outputs": [
    {
     "name": "stdout",
     "output_type": "stream",
     "text": [
      "hello\n",
      "world\n"
     ]
    }
   ],
   "source": [
    "sent = 'hello\\nworld'\n",
    "print(sent)"
   ]
  },
  {
   "cell_type": "code",
   "execution_count": 32,
   "id": "69da3d89-169d-4912-84dc-d8a8f6a18436",
   "metadata": {},
   "outputs": [
    {
     "name": "stdout",
     "output_type": "stream",
     "text": [
      "I'm a student.\n",
      "hello\\nworld\n",
      "hello\n",
      "world\n"
     ]
    }
   ],
   "source": [
    "print('I\\'m a student.')\n",
    "print(r'hello\\nworld')\n",
    "print('hello\\nworld')"
   ]
  },
  {
   "cell_type": "markdown",
   "id": "afc60c61-f76c-4c8e-8553-aae947e0ffbb",
   "metadata": {},
   "source": [
    "### 연산\n",
    "- concatenatation\n",
    "    - \"+\" : 공백 없이 결합하는 방법\n",
    "- 곱하기\n",
    "    - \"*5 : 복제"
   ]
  },
  {
   "cell_type": "code",
   "execution_count": 33,
   "id": "3afac915-b64a-40d5-abe5-5faf9cd5235a",
   "metadata": {},
   "outputs": [
    {
     "data": {
      "text/plain": [
       "'jackjack'"
      ]
     },
     "execution_count": 33,
     "metadata": {},
     "output_type": "execute_result"
    }
   ],
   "source": [
    "name = 'jack'\n",
    "name + name"
   ]
  },
  {
   "cell_type": "code",
   "execution_count": 34,
   "id": "e685fab3-a2dc-4199-8f7b-ff81bc10d72a",
   "metadata": {},
   "outputs": [
    {
     "data": {
      "text/plain": [
       "'jackjackjackjack'"
      ]
     },
     "execution_count": 34,
     "metadata": {},
     "output_type": "execute_result"
    }
   ],
   "source": [
    "name * 4"
   ]
  },
  {
   "cell_type": "code",
   "execution_count": 35,
   "id": "225415f0-b20a-4983-8014-c60f785cfaaf",
   "metadata": {},
   "outputs": [
    {
     "ename": "TypeError",
     "evalue": "'str' object does not support item assignment",
     "output_type": "error",
     "traceback": [
      "\u001b[1;31m---------------------------------------------------------------------------\u001b[0m",
      "\u001b[1;31mTypeError\u001b[0m                                 Traceback (most recent call last)",
      "\u001b[1;32m~\\AppData\\Local\\Temp/ipykernel_6272/1234381895.py\u001b[0m in \u001b[0;36m<module>\u001b[1;34m\u001b[0m\n\u001b[0;32m      1\u001b[0m \u001b[1;31m# immutable\u001b[0m\u001b[1;33m\u001b[0m\u001b[1;33m\u001b[0m\u001b[0m\n\u001b[1;32m----> 2\u001b[1;33m \u001b[0mname\u001b[0m\u001b[1;33m[\u001b[0m\u001b[1;36m1\u001b[0m\u001b[1;33m]\u001b[0m \u001b[1;33m=\u001b[0m \u001b[1;34m'e'\u001b[0m\u001b[1;33m\u001b[0m\u001b[1;33m\u001b[0m\u001b[0m\n\u001b[0m",
      "\u001b[1;31mTypeError\u001b[0m: 'str' object does not support item assignment"
     ]
    }
   ],
   "source": [
    "# immutable\n",
    "name[1] = 'e'"
   ]
  },
  {
   "cell_type": "markdown",
   "id": "bf9d7723-cf90-435a-a6d0-d9f3a78f1d64",
   "metadata": {},
   "source": [
    "#### 슬라이싱, 추출\n",
    "- 문자열의 일부분을 떼어내는 작업\n",
    "- 대괄호 사용, 그 안에 오프셋을 지칭\n",
    "- 오프셋은 0부터 시작한다.\n",
    " - ex) jack\n",
    "       0123\n",
    "      -4 -3 -2 -1\n",
    " - 음수도 가능함. 음수는 -1부터 시작\n",
    " - 오프셋은 [시작:끝:스텝] # step=1\n",
    " - 시작은 포함, 끝은 포함하지 않음(이상-미만)"
   ]
  },
  {
   "cell_type": "code",
   "execution_count": 41,
   "id": "bb995db4-3e08-4170-bb11-7ee3413d3415",
   "metadata": {},
   "outputs": [
    {
     "data": {
      "text/plain": [
       "'k'"
      ]
     },
     "execution_count": 41,
     "metadata": {},
     "output_type": "execute_result"
    }
   ],
   "source": [
    "name = 'jack'\n",
    "name[-1]"
   ]
  },
  {
   "cell_type": "code",
   "execution_count": 43,
   "id": "1141c13e-c58d-4418-86d0-06a82ab680c9",
   "metadata": {},
   "outputs": [
    {
     "data": {
      "text/plain": [
       "'hello\\nworld'"
      ]
     },
     "execution_count": 43,
     "metadata": {},
     "output_type": "execute_result"
    }
   ],
   "source": [
    "sent"
   ]
  },
  {
   "cell_type": "code",
   "execution_count": 45,
   "id": "2130a909-25e5-47ce-9483-a81b9165e04b",
   "metadata": {},
   "outputs": [
    {
     "data": {
      "text/plain": [
       "'l'"
      ]
     },
     "execution_count": 45,
     "metadata": {},
     "output_type": "execute_result"
    }
   ],
   "source": [
    "sent[3:4] # 3부터 시작해서 4까지인데 4는 포함하지 않으므로"
   ]
  },
  {
   "cell_type": "code",
   "execution_count": 48,
   "id": "9332d215-2de5-4e41-b07e-4113f304798e",
   "metadata": {},
   "outputs": [
    {
     "data": {
      "text/plain": [
       "'hello\\n'"
      ]
     },
     "execution_count": 48,
     "metadata": {},
     "output_type": "execute_result"
    }
   ],
   "source": [
    "# 처음부터 5까지 출력\n",
    "sent[:6]"
   ]
  },
  {
   "cell_type": "code",
   "execution_count": 61,
   "id": "da7a587e-3c40-4b6e-a52c-b1fdce784f75",
   "metadata": {},
   "outputs": [
    {
     "data": {
      "text/plain": [
       "'hlowrd'"
      ]
     },
     "execution_count": 61,
     "metadata": {},
     "output_type": "execute_result"
    }
   ],
   "source": [
    "# 처음부터 끝까지 2스텝씩 출력\n",
    "# sent[:12:2] # <h> e <l> l <o> ... 2스텝씩이면 번갈아가며\n",
    "# 정답\n",
    "sent[::2]"
   ]
  },
  {
   "cell_type": "code",
   "execution_count": 81,
   "id": "d24b8a3d-3ae1-4859-b5ae-5491793fb6ca",
   "metadata": {},
   "outputs": [
    {
     "data": {
      "text/plain": [
       "'dlrow\\nolleh'"
      ]
     },
     "execution_count": 81,
     "metadata": {},
     "output_type": "execute_result"
    }
   ],
   "source": [
    "# 모든 글자를 거꾸로 출력하세요\n",
    "sent[::-1]"
   ]
  },
  {
   "cell_type": "code",
   "execution_count": 84,
   "id": "8205b44b-8f72-4fe8-800e-e1c4d2bdf26f",
   "metadata": {},
   "outputs": [
    {
     "data": {
      "text/plain": [
       "'porsche'"
      ]
     },
     "execution_count": 84,
     "metadata": {},
     "output_type": "execute_result"
    }
   ],
   "source": [
    "cars = ['benz', 'kia', 'porsche']\n",
    "cars[2]"
   ]
  },
  {
   "cell_type": "markdown",
   "id": "9029085d-ba8c-430f-a969-4407f50ecf61",
   "metadata": {},
   "source": [
    "## NLTK"
   ]
  },
  {
   "cell_type": "markdown",
   "id": "a9fe8237-e420-484b-9f2b-80b3f97ffe9a",
   "metadata": {},
   "source": [
    "- natural language toolkit\n",
    "- 자연어 분석을 위해 교육용으로 배포된 패키지\n",
    "- 텍스트가 정제되어 있고, 내장된 함수, 기능들이 추가되어 있음\n",
    "    - 토크나이즈, 파싱, 태깅, ..."
   ]
  },
  {
   "cell_type": "code",
   "execution_count": 85,
   "id": "ddbd5e17-60c9-43c3-b0cc-d35ea8013797",
   "metadata": {},
   "outputs": [
    {
     "name": "stdout",
     "output_type": "stream",
     "text": [
      "Requirement already satisfied: nltk in c:\\users\\perod\\anaconda3\\lib\\site-packages (3.6.5)\n",
      "Requirement already satisfied: click in c:\\users\\perod\\anaconda3\\lib\\site-packages (from nltk) (8.0.3)\n",
      "Requirement already satisfied: joblib in c:\\users\\perod\\anaconda3\\lib\\site-packages (from nltk) (1.1.0)\n",
      "Requirement already satisfied: regex>=2021.8.3 in c:\\users\\perod\\anaconda3\\lib\\site-packages (from nltk) (2021.8.3)\n",
      "Requirement already satisfied: tqdm in c:\\users\\perod\\anaconda3\\lib\\site-packages (from nltk) (4.62.3)\n",
      "Requirement already satisfied: colorama in c:\\users\\perod\\anaconda3\\lib\\site-packages (from click->nltk) (0.4.4)\n"
     ]
    }
   ],
   "source": [
    "!pip install nltk"
   ]
  },
  {
   "cell_type": "code",
   "execution_count": 88,
   "id": "d96cf5f4-64e4-4333-a42c-4922a53255cb",
   "metadata": {},
   "outputs": [
    {
     "name": "stderr",
     "output_type": "stream",
     "text": [
      "[nltk_data] Downloading collection 'book'\n",
      "[nltk_data]    | \n",
      "[nltk_data]    | Downloading package abc to\n",
      "[nltk_data]    |     C:\\Users\\perod\\AppData\\Roaming\\nltk_data...\n",
      "[nltk_data]    |   Package abc is already up-to-date!\n",
      "[nltk_data]    | Downloading package brown to\n",
      "[nltk_data]    |     C:\\Users\\perod\\AppData\\Roaming\\nltk_data...\n",
      "[nltk_data]    |   Package brown is already up-to-date!\n",
      "[nltk_data]    | Downloading package chat80 to\n",
      "[nltk_data]    |     C:\\Users\\perod\\AppData\\Roaming\\nltk_data...\n",
      "[nltk_data]    |   Package chat80 is already up-to-date!\n",
      "[nltk_data]    | Downloading package cmudict to\n",
      "[nltk_data]    |     C:\\Users\\perod\\AppData\\Roaming\\nltk_data...\n",
      "[nltk_data]    |   Package cmudict is already up-to-date!\n",
      "[nltk_data]    | Downloading package conll2000 to\n",
      "[nltk_data]    |     C:\\Users\\perod\\AppData\\Roaming\\nltk_data...\n",
      "[nltk_data]    |   Package conll2000 is already up-to-date!\n",
      "[nltk_data]    | Downloading package conll2002 to\n",
      "[nltk_data]    |     C:\\Users\\perod\\AppData\\Roaming\\nltk_data...\n",
      "[nltk_data]    |   Package conll2002 is already up-to-date!\n",
      "[nltk_data]    | Downloading package dependency_treebank to\n",
      "[nltk_data]    |     C:\\Users\\perod\\AppData\\Roaming\\nltk_data...\n",
      "[nltk_data]    |   Package dependency_treebank is already up-to-date!\n",
      "[nltk_data]    | Downloading package genesis to\n",
      "[nltk_data]    |     C:\\Users\\perod\\AppData\\Roaming\\nltk_data...\n",
      "[nltk_data]    |   Package genesis is already up-to-date!\n",
      "[nltk_data]    | Downloading package gutenberg to\n",
      "[nltk_data]    |     C:\\Users\\perod\\AppData\\Roaming\\nltk_data...\n",
      "[nltk_data]    |   Package gutenberg is already up-to-date!\n",
      "[nltk_data]    | Downloading package ieer to\n",
      "[nltk_data]    |     C:\\Users\\perod\\AppData\\Roaming\\nltk_data...\n",
      "[nltk_data]    |   Package ieer is already up-to-date!\n",
      "[nltk_data]    | Downloading package inaugural to\n",
      "[nltk_data]    |     C:\\Users\\perod\\AppData\\Roaming\\nltk_data...\n",
      "[nltk_data]    |   Package inaugural is already up-to-date!\n",
      "[nltk_data]    | Downloading package movie_reviews to\n",
      "[nltk_data]    |     C:\\Users\\perod\\AppData\\Roaming\\nltk_data...\n",
      "[nltk_data]    |   Package movie_reviews is already up-to-date!\n",
      "[nltk_data]    | Downloading package nps_chat to\n",
      "[nltk_data]    |     C:\\Users\\perod\\AppData\\Roaming\\nltk_data...\n",
      "[nltk_data]    |   Package nps_chat is already up-to-date!\n",
      "[nltk_data]    | Downloading package names to\n",
      "[nltk_data]    |     C:\\Users\\perod\\AppData\\Roaming\\nltk_data...\n",
      "[nltk_data]    |   Package names is already up-to-date!\n",
      "[nltk_data]    | Downloading package ppattach to\n",
      "[nltk_data]    |     C:\\Users\\perod\\AppData\\Roaming\\nltk_data...\n",
      "[nltk_data]    |   Package ppattach is already up-to-date!\n",
      "[nltk_data]    | Downloading package reuters to\n",
      "[nltk_data]    |     C:\\Users\\perod\\AppData\\Roaming\\nltk_data...\n",
      "[nltk_data]    |   Package reuters is already up-to-date!\n",
      "[nltk_data]    | Downloading package senseval to\n",
      "[nltk_data]    |     C:\\Users\\perod\\AppData\\Roaming\\nltk_data...\n",
      "[nltk_data]    |   Package senseval is already up-to-date!\n",
      "[nltk_data]    | Downloading package state_union to\n",
      "[nltk_data]    |     C:\\Users\\perod\\AppData\\Roaming\\nltk_data...\n",
      "[nltk_data]    |   Package state_union is already up-to-date!\n",
      "[nltk_data]    | Downloading package stopwords to\n",
      "[nltk_data]    |     C:\\Users\\perod\\AppData\\Roaming\\nltk_data...\n",
      "[nltk_data]    |   Package stopwords is already up-to-date!\n",
      "[nltk_data]    | Downloading package swadesh to\n",
      "[nltk_data]    |     C:\\Users\\perod\\AppData\\Roaming\\nltk_data...\n",
      "[nltk_data]    |   Package swadesh is already up-to-date!\n",
      "[nltk_data]    | Downloading package timit to\n",
      "[nltk_data]    |     C:\\Users\\perod\\AppData\\Roaming\\nltk_data...\n",
      "[nltk_data]    |   Package timit is already up-to-date!\n",
      "[nltk_data]    | Downloading package treebank to\n",
      "[nltk_data]    |     C:\\Users\\perod\\AppData\\Roaming\\nltk_data...\n",
      "[nltk_data]    |   Package treebank is already up-to-date!\n",
      "[nltk_data]    | Downloading package toolbox to\n",
      "[nltk_data]    |     C:\\Users\\perod\\AppData\\Roaming\\nltk_data...\n",
      "[nltk_data]    |   Package toolbox is already up-to-date!\n",
      "[nltk_data]    | Downloading package udhr to\n",
      "[nltk_data]    |     C:\\Users\\perod\\AppData\\Roaming\\nltk_data...\n",
      "[nltk_data]    |   Package udhr is already up-to-date!\n",
      "[nltk_data]    | Downloading package udhr2 to\n",
      "[nltk_data]    |     C:\\Users\\perod\\AppData\\Roaming\\nltk_data...\n",
      "[nltk_data]    |   Package udhr2 is already up-to-date!\n",
      "[nltk_data]    | Downloading package unicode_samples to\n",
      "[nltk_data]    |     C:\\Users\\perod\\AppData\\Roaming\\nltk_data...\n",
      "[nltk_data]    |   Package unicode_samples is already up-to-date!\n",
      "[nltk_data]    | Downloading package webtext to\n",
      "[nltk_data]    |     C:\\Users\\perod\\AppData\\Roaming\\nltk_data...\n",
      "[nltk_data]    |   Package webtext is already up-to-date!\n",
      "[nltk_data]    | Downloading package wordnet to\n",
      "[nltk_data]    |     C:\\Users\\perod\\AppData\\Roaming\\nltk_data...\n",
      "[nltk_data]    |   Package wordnet is already up-to-date!\n",
      "[nltk_data]    | Downloading package wordnet_ic to\n",
      "[nltk_data]    |     C:\\Users\\perod\\AppData\\Roaming\\nltk_data...\n",
      "[nltk_data]    |   Package wordnet_ic is already up-to-date!\n",
      "[nltk_data]    | Downloading package words to\n",
      "[nltk_data]    |     C:\\Users\\perod\\AppData\\Roaming\\nltk_data...\n",
      "[nltk_data]    |   Package words is already up-to-date!\n",
      "[nltk_data]    | Downloading package maxent_treebank_pos_tagger to\n",
      "[nltk_data]    |     C:\\Users\\perod\\AppData\\Roaming\\nltk_data...\n",
      "[nltk_data]    |   Package maxent_treebank_pos_tagger is already up-\n",
      "[nltk_data]    |       to-date!\n",
      "[nltk_data]    | Downloading package maxent_ne_chunker to\n",
      "[nltk_data]    |     C:\\Users\\perod\\AppData\\Roaming\\nltk_data...\n",
      "[nltk_data]    |   Package maxent_ne_chunker is already up-to-date!\n",
      "[nltk_data]    | Downloading package universal_tagset to\n",
      "[nltk_data]    |     C:\\Users\\perod\\AppData\\Roaming\\nltk_data...\n",
      "[nltk_data]    |   Package universal_tagset is already up-to-date!\n",
      "[nltk_data]    | Downloading package punkt to\n",
      "[nltk_data]    |     C:\\Users\\perod\\AppData\\Roaming\\nltk_data...\n",
      "[nltk_data]    |   Package punkt is already up-to-date!\n",
      "[nltk_data]    | Downloading package book_grammars to\n",
      "[nltk_data]    |     C:\\Users\\perod\\AppData\\Roaming\\nltk_data...\n",
      "[nltk_data]    |   Package book_grammars is already up-to-date!\n",
      "[nltk_data]    | Downloading package city_database to\n",
      "[nltk_data]    |     C:\\Users\\perod\\AppData\\Roaming\\nltk_data...\n",
      "[nltk_data]    |   Package city_database is already up-to-date!\n",
      "[nltk_data]    | Downloading package tagsets to\n",
      "[nltk_data]    |     C:\\Users\\perod\\AppData\\Roaming\\nltk_data...\n",
      "[nltk_data]    |   Package tagsets is already up-to-date!\n",
      "[nltk_data]    | Downloading package panlex_swadesh to\n",
      "[nltk_data]    |     C:\\Users\\perod\\AppData\\Roaming\\nltk_data...\n",
      "[nltk_data]    |   Package panlex_swadesh is already up-to-date!\n",
      "[nltk_data]    | Downloading package averaged_perceptron_tagger to\n",
      "[nltk_data]    |     C:\\Users\\perod\\AppData\\Roaming\\nltk_data...\n",
      "[nltk_data]    |   Package averaged_perceptron_tagger is already up-\n",
      "[nltk_data]    |       to-date!\n",
      "[nltk_data]    | \n",
      "[nltk_data]  Done downloading collection book\n"
     ]
    },
    {
     "data": {
      "text/plain": [
       "True"
      ]
     },
     "execution_count": 88,
     "metadata": {},
     "output_type": "execute_result"
    }
   ],
   "source": [
    "import nltk # 불러오기\n",
    "nltk.download('book') # 부분적으로 다운받기"
   ]
  },
  {
   "cell_type": "code",
   "execution_count": 89,
   "id": "58cda419-06fa-4098-a002-f42f0ea2ed84",
   "metadata": {},
   "outputs": [
    {
     "name": "stdout",
     "output_type": "stream",
     "text": [
      "*** Introductory Examples for the NLTK Book ***\n",
      "Loading text1, ..., text9 and sent1, ..., sent9\n",
      "Type the name of the text or sentence to view it.\n",
      "Type: 'texts()' or 'sents()' to list the materials.\n",
      "text1: Moby Dick by Herman Melville 1851\n",
      "text2: Sense and Sensibility by Jane Austen 1811\n",
      "text3: The Book of Genesis\n",
      "text4: Inaugural Address Corpus\n",
      "text5: Chat Corpus\n",
      "text6: Monty Python and the Holy Grail\n",
      "text7: Wall Street Journal\n",
      "text8: Personals Corpus\n",
      "text9: The Man Who Was Thursday by G . K . Chesterton 1908\n"
     ]
    }
   ],
   "source": [
    "from nltk import book # 가져오기"
   ]
  },
  {
   "cell_type": "code",
   "execution_count": 94,
   "id": "6a7edf00-ed6b-4099-a15c-84af238ea2f5",
   "metadata": {},
   "outputs": [
    {
     "data": {
      "text/plain": [
       "['[',\n",
       " 'Moby',\n",
       " 'Dick',\n",
       " 'by',\n",
       " 'Herman',\n",
       " 'Melville',\n",
       " '1851',\n",
       " ']',\n",
       " 'ETYMOLOGY',\n",
       " '.']"
      ]
     },
     "execution_count": 94,
     "metadata": {},
     "output_type": "execute_result"
    }
   ],
   "source": [
    "moby = book.text1\n",
    "moby.tokens[:10] # 토큰(프로그래밍의 단어 단위)에 접근하는 방법\n",
    "# Hello world = 'Hello', 'world'\n",
    "# I'm not a coward -> I'm / I, 'm / I, am"
   ]
  },
  {
   "cell_type": "code",
   "execution_count": 95,
   "id": "9c02cc4c-5f47-4662-a159-c7bf8423345c",
   "metadata": {},
   "outputs": [
    {
     "data": {
      "text/plain": [
       "260819"
      ]
     },
     "execution_count": 95,
     "metadata": {},
     "output_type": "execute_result"
    }
   ],
   "source": [
    "# 1. 길이 세기\n",
    "len(moby) # 26만자"
   ]
  },
  {
   "cell_type": "code",
   "execution_count": 97,
   "id": "f33a3ed4-03df-4fa1-9986-938e93aaba2e",
   "metadata": {},
   "outputs": [
    {
     "data": {
      "text/plain": [
       "19317"
      ]
     },
     "execution_count": 97,
     "metadata": {},
     "output_type": "execute_result"
    }
   ],
   "source": [
    "#2. 중복 없이 단어 몇 개?\n",
    "len(set(moby))"
   ]
  },
  {
   "cell_type": "markdown",
   "id": "6ff88e74-8eca-4043-a241-962412d9285d",
   "metadata": {},
   "source": [
    "### - list\n",
    "    - ['a', 1, True]\n",
    "    - 순서가 있고\n",
    "    - 중복 허용\n",
    "    - list()\n",
    "### - set\n",
    "    - {'a', 2, True}\n",
    "    -순서 없고 중복 허용 안됨\n",
    "    - set()\n",
    "    - 수학의 집합 개념\n",
    "    - 인덱싱 안된다"
   ]
  },
  {
   "cell_type": "code",
   "execution_count": 3,
   "id": "dfac85c5-5a2d-487a-8389-ca8885797ba5",
   "metadata": {},
   "outputs": [
    {
     "data": {
      "text/plain": [
       "('kia', 'hyundai', 'renault', 'benz', 'benz', 'kia')"
      ]
     },
     "execution_count": 3,
     "metadata": {},
     "output_type": "execute_result"
    }
   ],
   "source": [
    "cars = ('kia', 'hyundai', 'renault', 'benz', 'benz', 'kia')\n",
    "cars"
   ]
  },
  {
   "cell_type": "code",
   "execution_count": 4,
   "id": "de910ebf-bd64-447d-9b44-ec8f513e3c5e",
   "metadata": {},
   "outputs": [
    {
     "data": {
      "text/plain": [
       "{'benz', 'hyundai', 'kia', 'renault'}"
      ]
     },
     "execution_count": 4,
     "metadata": {},
     "output_type": "execute_result"
    }
   ],
   "source": [
    "set(cars) # 중복은 빠져서 출력"
   ]
  },
  {
   "cell_type": "code",
   "execution_count": 101,
   "id": "53d06f73-bf09-40de-bc96-f766b99dc313",
   "metadata": {},
   "outputs": [
    {
     "data": {
      "text/plain": [
       "0.07406285585022564"
      ]
     },
     "execution_count": 101,
     "metadata": {},
     "output_type": "execute_result"
    }
   ],
   "source": [
    "# lexical diversity\n",
    "len(set(moby)) / len(moby)"
   ]
  },
  {
   "cell_type": "code",
   "execution_count": 102,
   "id": "f0009137-89c7-4dee-ad5e-0eef1c5ccbb8",
   "metadata": {},
   "outputs": [
    {
     "data": {
      "text/plain": [
       "['benz', 'benz', 'hyundai', 'kia', 'kia', 'renault']"
      ]
     },
     "execution_count": 102,
     "metadata": {},
     "output_type": "execute_result"
    }
   ],
   "source": [
    "# 정렬\n",
    "sorted(cars) # 알파벳 순"
   ]
  },
  {
   "cell_type": "code",
   "execution_count": 103,
   "id": "ba96629f-eec3-4153-b08a-b7e3001cbab8",
   "metadata": {},
   "outputs": [
    {
     "data": {
      "text/plain": [
       "['renault', 'kia', 'kia', 'hyundai', 'benz', 'benz']"
      ]
     },
     "execution_count": 103,
     "metadata": {},
     "output_type": "execute_result"
    }
   ],
   "source": [
    "sorted(cars, reverse=True) #역순정렬"
   ]
  },
  {
   "cell_type": "markdown",
   "id": "4353acdf-05ac-4680-bc39-4e6e8a6e7248",
   "metadata": {},
   "source": [
    "### 정렬순서: \n",
    "    - 문장부호 -> 숫자 -> 대문자 -> 소문자"
   ]
  },
  {
   "cell_type": "code",
   "execution_count": 108,
   "id": "f5d0cc5d-6e2c-44aa-896c-396f05d1304c",
   "metadata": {},
   "outputs": [
    {
     "data": {
      "text/plain": [
       "['.',\n",
       " '1851',\n",
       " 'Dick',\n",
       " 'ETYMOLOGY',\n",
       " 'Herman',\n",
       " 'Melville',\n",
       " 'Moby',\n",
       " '[',\n",
       " ']',\n",
       " 'by']"
      ]
     },
     "execution_count": 108,
     "metadata": {},
     "output_type": "execute_result"
    }
   ],
   "source": [
    "sorted(moby[:10]) # moby 1. 단어 열개 먼저 뽑은 후 2. 중복 없애고 3. 정렬"
   ]
  },
  {
   "cell_type": "code",
   "execution_count": 109,
   "id": "fba50fa1-04a0-4774-bee2-137076c98a06",
   "metadata": {},
   "outputs": [
    {
     "data": {
      "text/plain": [
       "['!', '!', '!', '!', '!', '!', '!', '!', '!', '!']"
      ]
     },
     "execution_count": 109,
     "metadata": {},
     "output_type": "execute_result"
    }
   ],
   "source": [
    "sorted(moby)[:10] # 1. 정렬을 먼저 하고 2. 10개 뽑기"
   ]
  },
  {
   "cell_type": "markdown",
   "id": "a3e1e8e0-6306-4ffd-9536-16d6abed133f",
   "metadata": {},
   "source": [
    "### Quiz 1\n",
    "- text 6 가져와서 토큰을 변수에 담고\n",
    "- 중복 없는 set로 저장하고 내림차순 정렬\n",
    "    - 앞에서 10개 단어 출력\n",
    "    - 단어에 z가 있으면 대문자로 바꾸기\n",
    "    - z가 없는데 4자 이상이면 끝 글자로 대문자로 바꾸기"
   ]
  },
  {
   "cell_type": "code",
   "execution_count": 9,
   "id": "d6cd94a4-6833-4b16-bee1-404f5d53045e",
   "metadata": {},
   "outputs": [],
   "source": [
    "from nltk import book"
   ]
  },
  {
   "cell_type": "code",
   "execution_count": 8,
   "id": "eb829894-7bc3-4322-a243-a12b8cecd03b",
   "metadata": {},
   "outputs": [
    {
     "name": "stdout",
     "output_type": "stream",
     "text": [
      "['Zoosh', 'Zoop', 'Zoo', 'Zone', 'Zhiv', 'yourselF', 'yourS', 'youR', 'younG', 'you']\n"
     ]
    }
   ],
   "source": [
    "monty = sorted(set(book.text6), reverse=True)[:10]\n",
    "\n",
    "for i in range(len(monty)):\n",
    "    if 'z' in monty[i]:\n",
    "        monty[i] = monty[i].replace('z', 'Z')\n",
    "\n",
    "    elif len(monty[i]) >= 4:\n",
    "        monty[i] = monty[i][:-1] + monty[i][-1].upper()\n",
    "\n",
    "print(monty)"
   ]
  },
  {
   "cell_type": "markdown",
   "id": "b745de73-f529-41f5-9ab7-3c3d931a89e5",
   "metadata": {},
   "source": [
    "### Quiz 2\n",
    "- 주민번호, 휴대폰 번호, 이메일 주소 입력 받기\n",
    "- 주민번호, 휴대폰번호는 숫자만 입력받는다 (- 없이)\n",
    "- 이메일주소는 아이디만 (@ 없이)\n",
    "    - 1. \"당신은 {}년 {}월 {}일 출생의 {남성/여성}입니다.\"\n",
    "    - 2. 휴대폰 번호: 000-0000-0000\n",
    "    - 3. 이메일 주소: xxxx@gmail.com"
   ]
  },
  {
   "cell_type": "code",
   "execution_count": 1,
   "id": "cca3ed18-ba6b-4e1b-bdcf-9d558887cbfd",
   "metadata": {},
   "outputs": [
    {
     "name": "stdin",
     "output_type": "stream",
     "text": [
      "주민등록번호(숫자만 입력하세요) : 0004124777811\n",
      "전화번호(숫자만 입력하세요) : 01082825353\n",
      "이메일주소(아이디만 입력하세요) : qwerty\n"
     ]
    },
    {
     "name": "stdout",
     "output_type": "stream",
     "text": [
      "1. 당신은 2000년 04월 12일 출생의 여성입니다\n",
      "2. 휴대폰 번호: 010-8282-5353\n",
      "3. 이메일 주소: qwerty@gmail.com\n"
     ]
    }
   ],
   "source": [
    "# Quiz 2\n",
    "\n",
    "identity = (input('주민등록번호(숫자만 입력하세요) :'))\n",
    "mobile = (input('전화번호(숫자만 입력하세요) :'))\n",
    "email = (input('이메일주소(아이디만 입력하세요) :'))\n",
    "\n",
    "birth_month = identity[2:4]\n",
    "birth_day = identity[4:6]\n",
    "birth_year = identity[:2]\n",
    "\n",
    "if identity[6] == '2' or '4':\n",
    "    gender = '여성'\n",
    "else:\n",
    "    gender = '남성'\n",
    "\n",
    "if identity[6] in '12': birth_year = '19' + birth_year\n",
    "elif identity[6] in '34': birth_year = '20' + birth_year\n",
    "\n",
    "print(f\"1. 당신은 {birth_year}년 {birth_month}월 {birth_day}일 출생의 {gender}입니다\")\n",
    "print(f\"2. 휴대폰 번호: {mobile[:3]}-{mobile[3:7]}-{mobile[7:]}\")\n",
    "print(f\"3. 이메일 주소: {email}@gmail.com\")"
   ]
  }
 ],
 "metadata": {
  "kernelspec": {
   "display_name": "Python 3 (ipykernel)",
   "language": "python",
   "name": "python3"
  },
  "language_info": {
   "codemirror_mode": {
    "name": "ipython",
    "version": 3
   },
   "file_extension": ".py",
   "mimetype": "text/x-python",
   "name": "python",
   "nbconvert_exporter": "python",
   "pygments_lexer": "ipython3",
   "version": "3.9.7"
  }
 },
 "nbformat": 4,
 "nbformat_minor": 5
}
